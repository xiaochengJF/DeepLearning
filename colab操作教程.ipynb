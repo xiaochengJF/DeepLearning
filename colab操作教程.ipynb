{
  "nbformat": 4,
  "nbformat_minor": 0,
  "metadata": {
    "colab": {
      "name": "colab操作教程",
      "provenance": [],
      "include_colab_link": true
    },
    "kernelspec": {
      "name": "python3",
      "display_name": "Python 3"
    },
    "accelerator": "TPU"
  },
  "cells": [
    {
      "cell_type": "markdown",
      "metadata": {
        "id": "view-in-github",
        "colab_type": "text"
      },
      "source": [
        "<a href=\"https://colab.research.google.com/github/xiaochengJF/DeepLearning/blob/master/colab%E6%93%8D%E4%BD%9C%E6%95%99%E7%A8%8B.ipynb\" target=\"_parent\"><img src=\"https://colab.research.google.com/assets/colab-badge.svg\" alt=\"Open In Colab\"/></a>"
      ]
    },
    {
      "cell_type": "markdown",
      "metadata": {
        "id": "El-cN-cKK5ff",
        "colab_type": "text"
      },
      "source": [
        "# 访问谷歌云盘"
      ]
    },
    {
      "cell_type": "markdown",
      "metadata": {
        "id": "sOuQd83zLBnv",
        "colab_type": "text"
      },
      "source": [
        "## 绑定"
      ]
    },
    {
      "cell_type": "code",
      "metadata": {
        "id": "W0xvgmaEdiQ6",
        "colab_type": "code",
        "colab": {}
      },
      "source": [
        "from google.colab import drive\n",
        "\n",
        "drive.mount('/content/gdrive/My Drive/DL-GPU/DeepLearning/Course 2 - Week 3/')"
      ],
      "execution_count": null,
      "outputs": []
    },
    {
      "cell_type": "markdown",
      "metadata": {
        "id": "ex_v1P5-i3QQ",
        "colab_type": "text"
      },
      "source": [
        "访问谷歌云盘文件"
      ]
    },
    {
      "cell_type": "code",
      "metadata": {
        "id": "JIeKF-s-dTTQ",
        "colab_type": "code",
        "colab": {
          "base_uri": "https://localhost:8080/",
          "height": 53
        },
        "outputId": "8cd1e83c-08f2-4d6f-eea9-b3f3485dffc4"
      },
      "source": [
        "ls"
      ],
      "execution_count": null,
      "outputs": [
        {
          "output_type": "stream",
          "text": [
            "\u001b[0m\u001b[01;34mdatasets\u001b[0m/    init_utils.py  reg_utils.py  Untitled0.ipynb\n",
            "gc_utils.py  \u001b[01;34m__pycache__\u001b[0m/   Untitled\n"
          ],
          "name": "stdout"
        }
      ]
    },
    {
      "cell_type": "markdown",
      "metadata": {
        "id": "2GLeMMXNLGp-",
        "colab_type": "text"
      },
      "source": [
        "# 使用TensorBoard"
      ]
    },
    {
      "cell_type": "code",
      "metadata": {
        "id": "TDD1RCrcek73",
        "colab_type": "code",
        "colab": {}
      },
      "source": [
        "try:\n",
        "  # %tensorflow_version only exists in Colab.\n",
        "  %tensorflow_version 2.x\n",
        "except Exception:\n",
        "  pass\n",
        "\n",
        "# Load the TensorBoard notebook extension\n",
        "%load_ext tensorboard"
      ],
      "execution_count": null,
      "outputs": []
    },
    {
      "cell_type": "code",
      "metadata": {
        "id": "-mQhp6pufqpg",
        "colab_type": "code",
        "colab": {}
      },
      "source": [
        "import tensorflow as tf\n",
        "import datetime\n",
        "\n",
        "mnist = tf.keras.datasets.mnist\n",
        "\n",
        "(x_train, y_train),(x_test, y_test) = mnist.load_data()\n",
        "x_train, x_test = x_train / 255.0, x_test / 255.0\n",
        "\n",
        "def create_model():\n",
        "  return tf.keras.models.Sequential([\n",
        "    tf.keras.layers.Flatten(input_shape=(28, 28)),\n",
        "    tf.keras.layers.Dense(512, activation='relu'),\n",
        "    tf.keras.layers.Dropout(0.2),\n",
        "    tf.keras.layers.Dense(10, activation='softmax')\n",
        "  ])\n",
        "\n",
        "\n",
        "model = create_model()\n",
        "model.compile(optimizer='adam',\n",
        "              loss='sparse_categorical_crossentropy',\n",
        "              metrics=['accuracy'])\n",
        "\n",
        "log_dir=\"logs/fit/\" + datetime.datetime.now().strftime(\"%Y%m%d-%H%M%S\")\n",
        "tensorboard_callback = tf.keras.callbacks.TensorBoard(log_dir=log_dir, histogram_freq=1)\n",
        "\n",
        "model.fit(x=x_train, \n",
        "          y=y_train, \n",
        "          epochs=5, \n",
        "          validation_data=(x_test, y_test), \n",
        "          callbacks=[tensorboard_callback])"
      ],
      "execution_count": null,
      "outputs": []
    },
    {
      "cell_type": "code",
      "metadata": {
        "id": "4g0dUvirMr4y",
        "colab_type": "code",
        "colab": {}
      },
      "source": [
        "%tensorboard --logdir logs/fit"
      ],
      "execution_count": null,
      "outputs": []
    },
    {
      "cell_type": "markdown",
      "metadata": {
        "id": "yXfHGbTdP5Yw",
        "colab_type": "text"
      },
      "source": [
        "## 注释"
      ]
    },
    {
      "cell_type": "code",
      "metadata": {
        "id": "TIKvj-aGP9st",
        "colab_type": "code",
        "cellView": "form",
        "colab": {}
      },
      "source": [
        "#@title 标题\n",
        "boolvar = False  #@param {type:\"boolean\"}\n",
        "#@markdown 这里是注释\n",
        "bar = 44  #@param {type:\"slider\", min:0, max:1000, step:1}"
      ],
      "execution_count": null,
      "outputs": []
    }
  ]
}