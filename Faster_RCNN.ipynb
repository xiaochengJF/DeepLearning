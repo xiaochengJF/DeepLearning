{
  "nbformat": 4,
  "nbformat_minor": 0,
  "metadata": {
    "colab": {
      "name": "Faster-RCNN.ipynb",
      "provenance": [],
      "collapsed_sections": [],
      "include_colab_link": true
    },
    "kernelspec": {
      "name": "python3",
      "display_name": "Python 3"
    },
    "accelerator": "GPU"
  },
  "cells": [
    {
      "cell_type": "markdown",
      "metadata": {
        "id": "view-in-github",
        "colab_type": "text"
      },
      "source": [
        "<a href=\"https://colab.research.google.com/github/xiaochengJF/DeepLearning/blob/master/Faster_RCNN.ipynb\" target=\"_parent\"><img src=\"https://colab.research.google.com/assets/colab-badge.svg\" alt=\"Open In Colab\"/></a>"
      ]
    },
    {
      "cell_type": "markdown",
      "metadata": {
        "id": "2MF2Suorb2s7",
        "colab_type": "text"
      },
      "source": [
        "# <font face=STCAIYUN size=10 color=purple>构建Faster RCNN</font>\n",
        "<font face=楷体 color=skyblue>\n",
        "\n",
        "- Region Proposal network (RPN)  \n",
        "- RPN loss functions  \n",
        "- Region of Interest Pooling (ROI)  \n",
        "- ROI loss functions\n",
        "</font>\n",
        "\n",
        "**<font face=楷体 color=skyblue size=5>训练Faster RCNN时通常的数据流</font>**\n",
        "\n",
        "<font face=楷体>1、从图像中提取特征  \n",
        "2、产生anchor目标  \n",
        "3、RPN网络中得到位置和目标预测分值  \n",
        "4、取前N个坐标及其目标得分即建议层  \n",
        "5、传递前N个坐标通过Fast R-CNN网络，生成4中建议的每个位置的位置和cls预测  \n",
        "6、对4中建议的每个坐标生成建议目标  \n",
        "7、采用2,3计算rpn_cls_loss和rpn_reg_loss  \n",
        "8、采用5,6计算roi_cls_loss和roi_reg_loss  \n",
        "</font>  \n",
        "<font face=楷体 size=5 color=green>绿色链接：</font>  \n",
        "【1】[Guide to build Faster RCNN in PyTorch](https://medium.com/@fractaldle/guide-to-build-faster-rcnn-in-pytorch-95b10c273439)"
      ]
    },
    {
      "cell_type": "markdown",
      "metadata": {
        "id": "GhVGR8LPdE3R",
        "colab_type": "text"
      },
      "source": [
        "<font face=楷体 color=skyblue>定义一张图像、两个bbox及其标签</font>"
      ]
    },
    {
      "cell_type": "code",
      "metadata": {
        "id": "4N1cMxogn1ua",
        "colab_type": "code",
        "colab": {}
      },
      "source": [
        "import torch\n",
        "image = torch.zeros((1, 3, 800, 800)).float()\n",
        "\n",
        "bbox = torch.FloatTensor([[20, 30, 400, 500], [300, 400, 500, 600]]) # [y1, x1, y2, x2] format\n",
        "labels = torch.LongTensor([6, 8]) # 0 represents background\n",
        "sub_sample = 16"
      ],
      "execution_count": 0,
      "outputs": []
    },
    {
      "cell_type": "markdown",
      "metadata": {
        "id": "XWIHh_Y73n6G",
        "colab_type": "text"
      },
      "source": [
        "<font face=楷体 color=skyblue>生成一个dummy image并且设置volatile为False</font>\n",
        "\n"
      ]
    },
    {
      "cell_type": "code",
      "metadata": {
        "id": "Tk7AeHlHS_vt",
        "colab_type": "code",
        "outputId": "f8b6fec7-9306-4b7a-cff9-a7fada3e0bb0",
        "colab": {
          "base_uri": "https://localhost:8080/",
          "height": 35
        }
      },
      "source": [
        "import torchvision\n",
        "dummy_img = torch.zeros((1, 3, 800, 800)).float()\n",
        "print(dummy_img.shape)\n",
        "#Out: torch.Size([1, 3, 800, 800])"
      ],
      "execution_count": 2,
      "outputs": [
        {
          "output_type": "stream",
          "text": [
            "torch.Size([1, 3, 800, 800])\n"
          ],
          "name": "stdout"
        }
      ]
    },
    {
      "cell_type": "markdown",
      "metadata": {
        "id": "pApvQWCh4oJc",
        "colab_type": "text"
      },
      "source": [
        "<font face=楷体 color=skyblue>列出VGG16的所有层</font>"
      ]
    },
    {
      "cell_type": "code",
      "metadata": {
        "id": "yCcqJz0lTCjt",
        "colab_type": "code",
        "outputId": "9be6e638-f127-4a89-ec3a-b9c0f5dc115f",
        "colab": {
          "base_uri": "https://localhost:8080/",
          "height": 568
        }
      },
      "source": [
        "# model = torchvision.models.vgg16(pretrained=True)\n",
        "model = torchvision.models.vgg16(pretrained=False)\n",
        "fe = list(model.features)\n",
        "# print(fe) # length is 15\n",
        "for layer in fe:\n",
        "    print (layer)"
      ],
      "execution_count": 3,
      "outputs": [
        {
          "output_type": "stream",
          "text": [
            "Conv2d(3, 64, kernel_size=(3, 3), stride=(1, 1), padding=(1, 1))\n",
            "ReLU(inplace=True)\n",
            "Conv2d(64, 64, kernel_size=(3, 3), stride=(1, 1), padding=(1, 1))\n",
            "ReLU(inplace=True)\n",
            "MaxPool2d(kernel_size=2, stride=2, padding=0, dilation=1, ceil_mode=False)\n",
            "Conv2d(64, 128, kernel_size=(3, 3), stride=(1, 1), padding=(1, 1))\n",
            "ReLU(inplace=True)\n",
            "Conv2d(128, 128, kernel_size=(3, 3), stride=(1, 1), padding=(1, 1))\n",
            "ReLU(inplace=True)\n",
            "MaxPool2d(kernel_size=2, stride=2, padding=0, dilation=1, ceil_mode=False)\n",
            "Conv2d(128, 256, kernel_size=(3, 3), stride=(1, 1), padding=(1, 1))\n",
            "ReLU(inplace=True)\n",
            "Conv2d(256, 256, kernel_size=(3, 3), stride=(1, 1), padding=(1, 1))\n",
            "ReLU(inplace=True)\n",
            "Conv2d(256, 256, kernel_size=(3, 3), stride=(1, 1), padding=(1, 1))\n",
            "ReLU(inplace=True)\n",
            "MaxPool2d(kernel_size=2, stride=2, padding=0, dilation=1, ceil_mode=False)\n",
            "Conv2d(256, 512, kernel_size=(3, 3), stride=(1, 1), padding=(1, 1))\n",
            "ReLU(inplace=True)\n",
            "Conv2d(512, 512, kernel_size=(3, 3), stride=(1, 1), padding=(1, 1))\n",
            "ReLU(inplace=True)\n",
            "Conv2d(512, 512, kernel_size=(3, 3), stride=(1, 1), padding=(1, 1))\n",
            "ReLU(inplace=True)\n",
            "MaxPool2d(kernel_size=2, stride=2, padding=0, dilation=1, ceil_mode=False)\n",
            "Conv2d(512, 512, kernel_size=(3, 3), stride=(1, 1), padding=(1, 1))\n",
            "ReLU(inplace=True)\n",
            "Conv2d(512, 512, kernel_size=(3, 3), stride=(1, 1), padding=(1, 1))\n",
            "ReLU(inplace=True)\n",
            "Conv2d(512, 512, kernel_size=(3, 3), stride=(1, 1), padding=(1, 1))\n",
            "ReLU(inplace=True)\n",
            "MaxPool2d(kernel_size=2, stride=2, padding=0, dilation=1, ceil_mode=False)\n"
          ],
          "name": "stdout"
        }
      ]
    },
    {
      "cell_type": "markdown",
      "metadata": {
        "id": "5lFie3NZ4zP2",
        "colab_type": "text"
      },
      "source": [
        "<font face=楷体 color=skyblue>将图像喂给网络，确定得到相应的输出尺寸</font>"
      ]
    },
    {
      "cell_type": "code",
      "metadata": {
        "id": "FVXE5KCITE8R",
        "colab_type": "code",
        "outputId": "5a874a86-7d44-4d81-c658-eb0b3538004b",
        "colab": {
          "base_uri": "https://localhost:8080/",
          "height": 52
        }
      },
      "source": [
        "req_features = []\n",
        "k = dummy_img.clone()\n",
        "for i in fe:\n",
        "    k = i(k)\n",
        "    if k.size()[2] < 800//16:\n",
        "        break\n",
        "    req_features.append(i)\n",
        "    out_channels = k.size()[1]\n",
        "print(len(req_features)) #30\n",
        "print(out_channels) # 512"
      ],
      "execution_count": 4,
      "outputs": [
        {
          "output_type": "stream",
          "text": [
            "30\n",
            "512\n"
          ],
          "name": "stdout"
        }
      ]
    },
    {
      "cell_type": "markdown",
      "metadata": {
        "id": "frk664ZF5kG5",
        "colab_type": "text"
      },
      "source": [
        "<font face=楷体 color=skyblue>将list转换为Sequential module</font>"
      ]
    },
    {
      "cell_type": "code",
      "metadata": {
        "id": "2CHH7IXETLZv",
        "colab_type": "code",
        "colab": {}
      },
      "source": [
        "faster_rcnn_fe_extractor = torch.nn.Sequential(*req_features)"
      ],
      "execution_count": 0,
      "outputs": []
    },
    {
      "cell_type": "markdown",
      "metadata": {
        "id": "betsGKcr5z1x",
        "colab_type": "text"
      },
      "source": [
        "<font face=楷体 color=skyblue>用构建好的VGG16网络提取特征图</font>"
      ]
    },
    {
      "cell_type": "code",
      "metadata": {
        "id": "0Lo6CllBTa7H",
        "colab_type": "code",
        "outputId": "fd68d7cc-bb67-4c91-a6fd-30fc9ccab56a",
        "colab": {
          "base_uri": "https://localhost:8080/",
          "height": 35
        }
      },
      "source": [
        "out_map = faster_rcnn_fe_extractor(image)\n",
        "print(out_map.size())"
      ],
      "execution_count": 6,
      "outputs": [
        {
          "output_type": "stream",
          "text": [
            "torch.Size([1, 512, 50, 50])\n"
          ],
          "name": "stdout"
        }
      ]
    },
    {
      "cell_type": "markdown",
      "metadata": {
        "id": "g78lFac06K-3",
        "colab_type": "text"
      },
      "source": [
        "## Anchor boxes\n",
        "<font face=楷体>\n",
        "\n",
        "- 在所有feature map的坐标上生成Anchor\n",
        "- 对每个目标分配标签及坐标（相对于anchor）\n",
        "- 在feature map坐标生成Anchor  \n",
        "\n",
        "采用anchor_scales=[8，16，32] ratio=[0.5，1，2] subsampling=16\n",
        "</font>"
      ]
    },
    {
      "cell_type": "markdown",
      "metadata": {
        "id": "v5wVFjHR78ax",
        "colab_type": "text"
      },
      "source": [
        "<font face=楷体 color=skyblue>feature map的一个像素位置生成9个anchor boxes，每个像素对应输入图像中的16*16像素</font>"
      ]
    },
    {
      "cell_type": "code",
      "metadata": {
        "id": "BYCgkuxDKVjF",
        "colab_type": "code",
        "outputId": "42414332-4040-4e47-da7d-baef585b8a6f",
        "colab": {
          "base_uri": "https://localhost:8080/",
          "height": 177
        }
      },
      "source": [
        "import numpy as np\n",
        "ratios = [0.5, 1, 2]\n",
        "anchor_scales = [8, 16, 32]\n",
        "\n",
        "anchor_base = np.zeros((len(ratios) * len(anchor_scales), 4), dtype=np.float32)\n",
        "\n",
        "print(anchor_base)"
      ],
      "execution_count": 7,
      "outputs": [
        {
          "output_type": "stream",
          "text": [
            "[[0. 0. 0. 0.]\n",
            " [0. 0. 0. 0.]\n",
            " [0. 0. 0. 0.]\n",
            " [0. 0. 0. 0.]\n",
            " [0. 0. 0. 0.]\n",
            " [0. 0. 0. 0.]\n",
            " [0. 0. 0. 0.]\n",
            " [0. 0. 0. 0.]\n",
            " [0. 0. 0. 0.]]\n"
          ],
          "name": "stdout"
        }
      ]
    },
    {
      "cell_type": "code",
      "metadata": {
        "id": "hCsQyUHHMVw7",
        "colab_type": "code",
        "outputId": "4d3a38da-84ad-4caa-c5ef-e32498665213",
        "colab": {
          "base_uri": "https://localhost:8080/",
          "height": 195
        }
      },
      "source": [
        "ctr_y = sub_sample / 2.\n",
        "ctr_x = sub_sample / 2.\n",
        "print(ctr_y, ctr_x)\n",
        "\n",
        "for i in range(len(ratios)):\n",
        " for j in range(len(anchor_scales)):\n",
        "   h = sub_sample * anchor_scales[j] * np.sqrt(ratios[i])    # 输出的feature map的每个像素对应图像中的16*16像素\n",
        "   w = sub_sample * anchor_scales[j] * np.sqrt(1./ ratios[i])  # ration决定了anchor的长宽比例(同面积)\n",
        "\n",
        "   index = i * len(anchor_scales) + j\n",
        "\n",
        "   anchor_base[index, 0] = ctr_y - h / 2.\n",
        "   anchor_base[index, 1] = ctr_x - w / 2.\n",
        "   anchor_base[index, 2] = ctr_y + h / 2.\n",
        "   anchor_base[index, 3] = ctr_x + w / 2.\n",
        "print(anchor_base)"
      ],
      "execution_count": 8,
      "outputs": [
        {
          "output_type": "stream",
          "text": [
            "8.0 8.0\n",
            "[[ -37.254833  -82.50967    53.254833   98.50967 ]\n",
            " [ -82.50967  -173.01933    98.50967   189.01933 ]\n",
            " [-173.01933  -354.03867   189.01933   370.03867 ]\n",
            " [ -56.        -56.         72.         72.      ]\n",
            " [-120.       -120.        136.        136.      ]\n",
            " [-248.       -248.        264.        264.      ]\n",
            " [ -82.50967   -37.254833   98.50967    53.254833]\n",
            " [-173.01933   -82.50967   189.01933    98.50967 ]\n",
            " [-354.03867  -173.01933   370.03867   189.01933 ]]\n"
          ],
          "name": "stdout"
        }
      ]
    },
    {
      "cell_type": "markdown",
      "metadata": {
        "id": "B9WZhhRTbGSA",
        "colab_type": "text"
      },
      "source": [
        "<font face=楷体 color=skyblue>feature map的每一个像素位置都要生成9个anchor boxes，每个像素对应输入图像中的16*16像素</font>"
      ]
    },
    {
      "cell_type": "code",
      "metadata": {
        "id": "gTw56ZpwNCJG",
        "colab_type": "code",
        "outputId": "e17da770-cffb-471b-c77c-f2ff7ee70f2e",
        "colab": {
          "base_uri": "https://localhost:8080/",
          "height": 70
        }
      },
      "source": [
        "fe_size = (800//16)\n",
        "ctr_x = np.arange(16, (fe_size+1) * 16, 16)\n",
        "ctr_y = np.arange(16, (fe_size+1) * 16, 16)\n",
        "print (ctr_x)"
      ],
      "execution_count": 9,
      "outputs": [
        {
          "output_type": "stream",
          "text": [
            "[ 16  32  48  64  80  96 112 128 144 160 176 192 208 224 240 256 272 288\n",
            " 304 320 336 352 368 384 400 416 432 448 464 480 496 512 528 544 560 576\n",
            " 592 608 624 640 656 672 688 704 720 736 752 768 784 800]\n"
          ],
          "name": "stdout"
        }
      ]
    },
    {
      "cell_type": "markdown",
      "metadata": {
        "id": "AlkvqR4Adi57",
        "colab_type": "text"
      },
      "source": [
        "<font face=楷体 color=skyblue>将feature map每个像素位置作为锚点并映射回输入图像中</font>"
      ]
    },
    {
      "cell_type": "code",
      "metadata": {
        "id": "FI3PdJs5OaaI",
        "colab_type": "code",
        "colab": {}
      },
      "source": [
        "index = 0\n",
        "ctr  = np.zeros(shape=(len(ctr_x)*len(ctr_y),2))\n",
        "for x in range(len(ctr_x)):\n",
        "   for y in range(len(ctr_y)):\n",
        "       ctr[index, 1] = ctr_x[x] - 8  # 前面生成中心点位置偏移了8个像素点\n",
        "       ctr[index, 0] = ctr_y[y] - 8\n",
        "       index +=1"
      ],
      "execution_count": 0,
      "outputs": []
    },
    {
      "cell_type": "code",
      "metadata": {
        "id": "MRMZoB4yWfGI",
        "colab_type": "code",
        "outputId": "b958565a-88bb-4f7e-a504-48d1aabd264f",
        "colab": {
          "base_uri": "https://localhost:8080/",
          "height": 35
        }
      },
      "source": [
        "anchors = np.zeros(shape=(fe_size * fe_size * 9, 4))  # 共有2500个锚点，每个锚点9个框，每个框4个参数\n",
        "index = 0\n",
        "for c in ctr:\n",
        " ctr_y, ctr_x = c\n",
        " for i in range(len(ratios)):\n",
        "   for j in range(len(anchor_scales)):\n",
        "     h = sub_sample * anchor_scales[j] * np.sqrt(ratios[i])\n",
        "     w = sub_sample * anchor_scales[j] * np.sqrt(1./ ratios[i])\n",
        "     anchors[index, 0] = ctr_y - h / 2.\n",
        "     anchors[index, 1] = ctr_x - w / 2.\n",
        "     anchors[index, 2] = ctr_y + h / 2.\n",
        "     anchors[index, 3] = ctr_x + w / 2.\n",
        "     index += 1\n",
        "print(anchors.shape)\n",
        "#Out: [22500, 4]"
      ],
      "execution_count": 11,
      "outputs": [
        {
          "output_type": "stream",
          "text": [
            "(22500, 4)\n"
          ],
          "name": "stdout"
        }
      ]
    },
    {
      "cell_type": "markdown",
      "metadata": {
        "id": "h1bWvWvxdJLY",
        "colab_type": "text"
      },
      "source": [
        "<font face=楷体 color=skyblue size=5>给anchor分配标签和位置</font>  \n",
        "<font face=楷体>\n",
        "a)与ground-truth-box IoU最大的anchor标记为正标签  \n",
        "b)与ground-truth-box IoU大于0.7的anchor标记为正标签  \n",
        "c)与ground-truth-box IoU小于0.3的anchor标记为负标签  \n",
        "d)其余anchor既不是正样本的也不是负样本，对训练没有帮助  \n",
        "<font color=red>注意：</font>单个ground-truth对象可以为多个anchor分配正标签  \n",
        "</font>\n",
        "<font face=楷体 color=skyblue>通过如下方式对anchor boxes分配标签和位置：</font>   \n",
        "<font face=楷体>\n",
        "1、找到有效的anchor boxes的索引，并且生成索引数组，生成标签数组其形状索引数组填充-1（无效anchor boxes，对应上文说的处在边框外的anchor boxes）。  \n",
        "2、检查是否满足以上a、b、c条件中的一条，并相应填写标签。如果是正anchor box(标签为1)，注意哪个ground-truth目标可以得到这个结果。  \n",
        "3、计算与anchor box相关的ground-truth的位置(loc)。  \n",
        "4、通过为所有无效的anchor box填充-1和为所有有效锚箱计算的值来重新组织所有anchor box。  \n",
        "5、输出应该是(N, 1)数组的标签和带有(N, 4)数组的locs。  \n",
        "6、找到所有有效anchor boxes的索引：\n",
        "</font>"
      ]
    },
    {
      "cell_type": "code",
      "metadata": {
        "id": "9yzP6Xs2OAQn",
        "colab_type": "code",
        "colab": {}
      },
      "source": [
        "bbox = np.asarray([[20, 30, 400, 500], [300, 400, 500, 600]], dtype=np.float32) # [y1, x1, y2, x2] format\n",
        "labels = np.asarray([6, 8], dtype=np.int8) # 0 represents background "
      ],
      "execution_count": 0,
      "outputs": []
    },
    {
      "cell_type": "markdown",
      "metadata": {
        "id": "W_VLt6dD6R31",
        "colab_type": "text"
      },
      "source": [
        "<font face=楷体>去除坐标出界的边框，保留图片内的框</font>"
      ]
    },
    {
      "cell_type": "code",
      "metadata": {
        "id": "TjpMFy5qOE2w",
        "colab_type": "code",
        "outputId": "da7fed42-913e-4641-b169-f872d331fc4c",
        "colab": {
          "base_uri": "https://localhost:8080/",
          "height": 35
        }
      },
      "source": [
        "inside_index = np.where(\n",
        "       (anchors[:, 0] >= 0) &\n",
        "       (anchors[:, 1] >= 0) &\n",
        "       (anchors[:, 2] <= 800) &\n",
        "       (anchors[:, 3] <= 800)\n",
        "   )[0]\n",
        "print(inside_index.shape)\n",
        "#Out: (8940,)"
      ],
      "execution_count": 13,
      "outputs": [
        {
          "output_type": "stream",
          "text": [
            "(8940,)\n"
          ],
          "name": "stdout"
        }
      ]
    },
    {
      "cell_type": "markdown",
      "metadata": {
        "id": "i0nv-ugX6eV0",
        "colab_type": "text"
      },
      "source": [
        "<font face=楷体>初始化标签为-1</font>"
      ]
    },
    {
      "cell_type": "code",
      "metadata": {
        "id": "iPuDM6_RSzdg",
        "colab_type": "code",
        "outputId": "1831b5cf-ccc8-43e1-fecf-1e1ac61d2bb0",
        "colab": {
          "base_uri": "https://localhost:8080/",
          "height": 35
        }
      },
      "source": [
        "label = np.empty((len(inside_index), ), dtype=np.int32)\n",
        "label.fill(-1)\n",
        "print(label.shape)\n",
        "#Out = (8940, )"
      ],
      "execution_count": 14,
      "outputs": [
        {
          "output_type": "stream",
          "text": [
            "(8940,)\n"
          ],
          "name": "stdout"
        }
      ]
    },
    {
      "cell_type": "markdown",
      "metadata": {
        "id": "ZqCIyc3k62cL",
        "colab_type": "text"
      },
      "source": [
        "<font face=楷体>获取有效anchor（图片内anchor）坐标</font>"
      ]
    },
    {
      "cell_type": "code",
      "metadata": {
        "id": "YfBg94s0TJ4Z",
        "colab_type": "code",
        "outputId": "61462a9f-0e13-4b12-c59a-06009b0abe76",
        "colab": {
          "base_uri": "https://localhost:8080/",
          "height": 35
        }
      },
      "source": [
        "valid_anchor_boxes = anchors[inside_index]\n",
        "print(valid_anchor_boxes.shape)\n",
        "#Out = (8940, 4)"
      ],
      "execution_count": 15,
      "outputs": [
        {
          "output_type": "stream",
          "text": [
            "(8940, 4)\n"
          ],
          "name": "stdout"
        }
      ]
    },
    {
      "cell_type": "markdown",
      "metadata": {
        "id": "_Urojwf77xLA",
        "colab_type": "text"
      },
      "source": [
        "<font face=楷体>计算每个anchor框与所有目标框的IOU，这里目标框共2个</font>"
      ]
    },
    {
      "cell_type": "code",
      "metadata": {
        "id": "oZSL1KcFTVUI",
        "colab_type": "code",
        "outputId": "8639ac08-a80a-49a3-c377-97e82c7967fe",
        "colab": {
          "base_uri": "https://localhost:8080/",
          "height": 88
        }
      },
      "source": [
        "ious = np.empty((len(valid_anchor_boxes), 2), dtype=np.float32)\n",
        "ious.fill(0)\n",
        "print(\"两个目标框为：\\n{}\".format(bbox))\n",
        "for num1, i in enumerate(valid_anchor_boxes):\n",
        "   ya1, xa1, ya2, xa2 = i \n",
        "   anchor_area = (ya2 - ya1) * (xa2 - xa1)  # 有效框面积\n",
        "   for num2, j in enumerate(bbox):\n",
        "       yb1, xb1, yb2, xb2 = j\n",
        "       box_area = (yb2- yb1) * (xb2 - xb1)  # 目标框面积\n",
        "\n",
        "       inter_x1 = max([xb1, xa1])\n",
        "       inter_y1 = max([yb1, ya1])\n",
        "       inter_x2 = min([xb2, xa2])\n",
        "       inter_y2 = min([yb2, ya2])\n",
        "       if (inter_x1 < inter_x2) and (inter_y1 < inter_y2):\n",
        "           iter_area = (inter_y2 - inter_y1) * \\\n",
        "(inter_x2 - inter_x1)\n",
        "           iou = iter_area / \\\n",
        "(anchor_area + box_area - iter_area) \n",
        "       else:\n",
        "           iou = 0.\n",
        "\n",
        "       ious[num1, num2] = iou\n",
        "print(ious.shape)"
      ],
      "execution_count": 16,
      "outputs": [
        {
          "output_type": "stream",
          "text": [
            "两个目标框为：\n",
            "[[ 20.  30. 400. 500.]\n",
            " [300. 400. 500. 600.]]\n",
            "(8940, 2)\n"
          ],
          "name": "stdout"
        }
      ]
    },
    {
      "cell_type": "markdown",
      "metadata": {
        "id": "lvcJ9zabkmkP",
        "colab_type": "text"
      },
      "source": [
        "<font face=楷体 color=skyblue>分别找到与每个gt_box iou最高的 anchor box(两个)</font> "
      ]
    },
    {
      "cell_type": "code",
      "metadata": {
        "id": "QWg8E-xHThar",
        "colab_type": "code",
        "outputId": "c6ffec8f-21f0-437f-ee75-6e7999d17777",
        "colab": {
          "base_uri": "https://localhost:8080/",
          "height": 52
        }
      },
      "source": [
        "gt_argmax_ious = ious.argmax(axis=0)\n",
        "print(gt_argmax_ious)\n",
        "gt_max_ious = ious[gt_argmax_ious, np.arange(ious.shape[1])]\n",
        "print(gt_max_ious)\n",
        "# Out:\n",
        "# [2262 5620]\n",
        "# [0.68130493 0.61035156]"
      ],
      "execution_count": 17,
      "outputs": [
        {
          "output_type": "stream",
          "text": [
            "[2262 5620]\n",
            "[0.68130493 0.61035156]\n"
          ],
          "name": "stdout"
        }
      ]
    },
    {
      "cell_type": "markdown",
      "metadata": {
        "id": "VBvOPwkclPKv",
        "colab_type": "text"
      },
      "source": [
        "<font face=楷体 color=skyblue>得到每个anchor box与所有ground-truth box中 的最高iou</font> \n"
      ]
    },
    {
      "cell_type": "code",
      "metadata": {
        "id": "oQrIneFgUN6l",
        "colab_type": "code",
        "outputId": "e653ce0f-ba58-4159-c28a-6232021cf6d5",
        "colab": {
          "base_uri": "https://localhost:8080/",
          "height": 88
        }
      },
      "source": [
        "argmax_ious = ious.argmax(axis=1)\n",
        "print(argmax_ious.shape)\n",
        "print(argmax_ious)\n",
        "max_ious = ious[np.arange(len(inside_index)), argmax_ious]\n",
        "print(max_ious.shape)\n",
        "print(max_ious)\n",
        "# Out:\n",
        "# (22500,)\n",
        "# [0, 1, 0, ..., 1, 0, 0]\n",
        "# [0.06811669 0.07083762 0.07083762 ... 0.         0.         0.        ]"
      ],
      "execution_count": 18,
      "outputs": [
        {
          "output_type": "stream",
          "text": [
            "(8940,)\n",
            "[0 0 0 ... 0 0 0]\n",
            "(8940,)\n",
            "[0.06811669 0.07083762 0.07083762 ... 0.         0.         0.        ]\n"
          ],
          "name": "stdout"
        }
      ]
    },
    {
      "cell_type": "markdown",
      "metadata": {
        "id": "zI7btHDJDqT-",
        "colab_type": "text"
      },
      "source": [
        "<font face=楷体>根据上面获取的目标最大IOU值，获取等于该值的index</font>"
      ]
    },
    {
      "cell_type": "code",
      "metadata": {
        "id": "7IFkuG7IURfM",
        "colab_type": "code",
        "outputId": "f17516d1-a1b5-472b-a9bc-3c8d0adfe0af",
        "colab": {
          "base_uri": "https://localhost:8080/",
          "height": 106
        }
      },
      "source": [
        "gt_argmax_ious = np.where(ious == gt_max_ious)[0]\n",
        "print(ious[np.where(ious == gt_max_ious)])\n",
        "print(gt_argmax_ious)\n",
        "# Out:\n",
        "# [2262, 2508, 5620, 5628, 5636, 5644, 5866, 5874, 5882, 5890, 6112,\n",
        "#        6120, 6128, 6136, 6358, 6366, 6374, 6382]"
      ],
      "execution_count": 19,
      "outputs": [
        {
          "output_type": "stream",
          "text": [
            "[0.68130493 0.68130493 0.61035156 0.61035156 0.61035156 0.61035156\n",
            " 0.61035156 0.61035156 0.61035156 0.61035156 0.61035156 0.61035156\n",
            " 0.61035156 0.61035156 0.61035156 0.61035156 0.61035156 0.61035156]\n",
            "[2262 2508 5620 5628 5636 5644 5866 5874 5882 5890 6112 6120 6128 6136\n",
            " 6358 6366 6374 6382]\n"
          ],
          "name": "stdout"
        }
      ]
    },
    {
      "cell_type": "markdown",
      "metadata": {
        "id": "zdsU7-w-Ej_M",
        "colab_type": "text"
      },
      "source": [
        "<font face=楷体>设置正负样本阈值</font>"
      ]
    },
    {
      "cell_type": "code",
      "metadata": {
        "id": "YmlR9UOrUfM6",
        "colab_type": "code",
        "colab": {}
      },
      "source": [
        "pos_iou_threshold  = 0.7\n",
        "neg_iou_threshold = 0.3\n",
        "\n",
        "label[max_ious < neg_iou_threshold] = 0  # 小于0.3为负样本\n",
        "label[gt_argmax_ious] = 1  # 最大IOU对应anchor为正样本\n",
        "label[max_ious >= pos_iou_threshold] = 1  # 大于0.7为正"
      ],
      "execution_count": 0,
      "outputs": []
    },
    {
      "cell_type": "markdown",
      "metadata": {
        "id": "D7Mbi1UuGZjk",
        "colab_type": "text"
      },
      "source": [
        "<font face=楷体>设置正负样本比例及总量<font>"
      ]
    },
    {
      "cell_type": "code",
      "metadata": {
        "id": "Cwju5732UtZK",
        "colab_type": "code",
        "colab": {}
      },
      "source": [
        "pos_ratio = 0.5  # 正样本比例\n",
        "n_sample = 256  # 样本总量\n",
        "\n",
        "n_pos = pos_ratio * n_sample  # 正样本数量"
      ],
      "execution_count": 0,
      "outputs": []
    },
    {
      "cell_type": "markdown",
      "metadata": {
        "id": "IOhtVN-mO086",
        "colab_type": "text"
      },
      "source": [
        "<font face=楷体>如果正样本数量大于n_pos，则随机抽取n_pos个正样本</font>"
      ]
    },
    {
      "cell_type": "code",
      "metadata": {
        "id": "bVP0qf5XUwm3",
        "colab_type": "code",
        "outputId": "fac7c477-cbe0-4edd-c706-975af012a169",
        "colab": {
          "base_uri": "https://localhost:8080/",
          "height": 88
        }
      },
      "source": [
        "pos_index = np.where(label == 1)[0]\n",
        "print(np.where(label == 1))\n",
        "print(pos_index)\n",
        "if len(pos_index) > n_pos:\n",
        "   disable_index = np.random.choice(pos_index, size=(len(pos_index) - n_pos), replace=False)\n",
        "   label[disable_index] = -1"
      ],
      "execution_count": 22,
      "outputs": [
        {
          "output_type": "stream",
          "text": [
            "(array([2262, 2508, 5620, 5628, 5636, 5644, 5866, 5874, 5882, 5890, 6112,\n",
            "       6120, 6128, 6136, 6358, 6366, 6374, 6382]),)\n",
            "[2262 2508 5620 5628 5636 5644 5866 5874 5882 5890 6112 6120 6128 6136\n",
            " 6358 6366 6374 6382]\n"
          ],
          "name": "stdout"
        }
      ]
    },
    {
      "cell_type": "code",
      "metadata": {
        "id": "UE8B6EWIUzc5",
        "colab_type": "code",
        "colab": {}
      },
      "source": [
        "n_neg = n_sample * np.sum(label == 1)\n",
        "neg_index = np.where(label == 0)[0]\n",
        "if len(neg_index) > n_neg:\n",
        "   disable_index = np.random.choice(neg_index, size=(len(neg_index) - n_neg), replace = False)\n",
        "   label[disable_index] = -1"
      ],
      "execution_count": 0,
      "outputs": []
    },
    {
      "cell_type": "code",
      "metadata": {
        "id": "80E5VzZuU1E9",
        "colab_type": "code",
        "outputId": "be8b8dba-e958-404b-ed5d-d2de983500f5",
        "colab": {
          "base_uri": "https://localhost:8080/",
          "height": 195
        }
      },
      "source": [
        "print(bbox)  \n",
        "print(argmax_ious)\n",
        "max_iou_bbox = bbox[argmax_ious]\n",
        "print(max_iou_bbox)\n",
        "#Out\n",
        "# [[ 20.,  30., 400., 500.],\n",
        "#  [ 20.,  30., 400., 500.],\n",
        "#  [ 20.,  30., 400., 500.],\n",
        "#  ...,\n",
        "#  [ 20.,  30., 400., 500.],\n",
        "#  [ 20.,  30., 400., 500.],\n",
        "#  [ 20.,  30., 400., 500.]]"
      ],
      "execution_count": 24,
      "outputs": [
        {
          "output_type": "stream",
          "text": [
            "[[ 20.  30. 400. 500.]\n",
            " [300. 400. 500. 600.]]\n",
            "[0 0 0 ... 0 0 0]\n",
            "[[ 20.  30. 400. 500.]\n",
            " [ 20.  30. 400. 500.]\n",
            " [ 20.  30. 400. 500.]\n",
            " ...\n",
            " [ 20.  30. 400. 500.]\n",
            " [ 20.  30. 400. 500.]\n",
            " [ 20.  30. 400. 500.]]\n"
          ],
          "name": "stdout"
        }
      ]
    },
    {
      "cell_type": "markdown",
      "metadata": {
        "id": "p6qOl85AQ-Z-",
        "colab_type": "text"
      },
      "source": [
        "<font face=楷体>有效anchor的中心点和宽高：ctr_x, ctr_y, width, height  \n",
        "有效anchor对应目标框的中心点和宽高: base_ctr_x, base_ctr_y, base_width, base_height</font>"
      ]
    },
    {
      "cell_type": "code",
      "metadata": {
        "id": "YV2fy7qeU9Jm",
        "colab_type": "code",
        "colab": {}
      },
      "source": [
        "height = valid_anchor_boxes[:, 2] - valid_anchor_boxes[:, 0]\n",
        "width = valid_anchor_boxes[:, 3] - valid_anchor_boxes[:, 1]\n",
        "ctr_y = valid_anchor_boxes[:, 0] + 0.5 * height\n",
        "ctr_x = valid_anchor_boxes[:, 1] + 0.5 * width\n",
        "\n",
        "base_height = max_iou_bbox[:, 2] - max_iou_bbox[:, 0]\n",
        "base_width = max_iou_bbox[:, 3] - max_iou_bbox[:, 1]\n",
        "base_ctr_y = max_iou_bbox[:, 0] + 0.5 * base_height\n",
        "base_ctr_x = max_iou_bbox[:, 1] + 0.5 * base_width"
      ],
      "execution_count": 0,
      "outputs": []
    },
    {
      "cell_type": "markdown",
      "metadata": {
        "id": "FqXDjvN_RxYC",
        "colab_type": "text"
      },
      "source": [
        "<font face=楷体 color=red>有效anchor转为目标框的系数（dy，dx是平移系数；dh，dw是缩放系数）  \n",
        "为什么不用绝对值呢？  \n",
        "【1】[python numpy np.finfo()函数 eps](https://blog.csdn.net/Dontla/article/details/103062246)</font>"
      ]
    },
    {
      "cell_type": "code",
      "metadata": {
        "id": "1HDNkIdsVCU5",
        "colab_type": "code",
        "outputId": "d058de81-0767-4af9-f8b5-352416bb1bd5",
        "colab": {
          "base_uri": "https://localhost:8080/",
          "height": 141
        }
      },
      "source": [
        "eps = np.finfo(height.dtype).eps  # 代表非负的最小值\n",
        "height = np.maximum(height, eps)\n",
        "width = np.maximum(width, eps)\n",
        "dy = (base_ctr_y - ctr_y) / height\n",
        "dx = (base_ctr_x - ctr_x) / width\n",
        "dh = np.log(base_height / height)\n",
        "dw = np.log(base_width / width)\n",
        "anchor_locs = np.vstack((dy, dx, dh, dw)).transpose()\n",
        "print(anchor_locs)\n",
        "#Out:\n",
        "# [[ 0.5855727   2.3091455   0.7415673   1.647276  ]\n",
        "#  [ 0.49718437  2.3091455   0.7415673   1.647276  ]\n",
        "#  [ 0.40879607  2.3091455   0.7415673   1.647276  ]\n",
        "#  ...\n",
        "#  [-2.50802    -5.292254    0.7415677   1.6472763 ]\n",
        "#  [-2.5964084  -5.292254    0.7415677   1.6472763 ]\n",
        "#  [-2.6847968  -5.292254    0.7415677   1.6472763 ]]"
      ],
      "execution_count": 26,
      "outputs": [
        {
          "output_type": "stream",
          "text": [
            "[[ 0.5855728   2.30914558  0.7415674   1.64727602]\n",
            " [ 0.49718446  2.30914558  0.7415674   1.64727602]\n",
            " [ 0.40879611  2.30914558  0.7415674   1.64727602]\n",
            " ...\n",
            " [-2.50801936 -5.29225232  0.7415674   1.64727602]\n",
            " [-2.59640771 -5.29225232  0.7415674   1.64727602]\n",
            " [-2.68479606 -5.29225232  0.7415674   1.64727602]]\n"
          ],
          "name": "stdout"
        }
      ]
    },
    {
      "cell_type": "markdown",
      "metadata": {
        "id": "BnsFQev4RaaO",
        "colab_type": "text"
      },
      "source": [
        "<font face=楷体>每个anchor框对应的label（-1：无效anchor，0：负有效anchor，1：正有效anchor）</font>"
      ]
    },
    {
      "cell_type": "code",
      "metadata": {
        "id": "8qHwQzPUVcr4",
        "colab_type": "code",
        "outputId": "95faf6de-6fcf-4f6d-afc2-75b8eacf3e2b",
        "colab": {
          "base_uri": "https://localhost:8080/",
          "height": 124
        }
      },
      "source": [
        "anchor_labels = np.empty((len(anchors),), dtype=label.dtype)\n",
        "print(anchor_labels)\n",
        "anchor_labels.fill(-1)\n",
        "print(anchor_labels)\n",
        "print(anchor_labels.shape)\n",
        "print(label)\n",
        "print(label.shape)\n",
        "anchor_labels[inside_index] = label\n",
        "print(anchor_labels.shape)"
      ],
      "execution_count": 27,
      "outputs": [
        {
          "output_type": "stream",
          "text": [
            "[0 0 0 ... 0 0 0]\n",
            "[-1 -1 -1 ... -1 -1 -1]\n",
            "(22500,)\n",
            "[ 0  0 -1 ... -1  0 -1]\n",
            "(8940,)\n",
            "(22500,)\n"
          ],
          "name": "stdout"
        }
      ]
    },
    {
      "cell_type": "markdown",
      "metadata": {
        "id": "Q6BJnCZ2Xu2w",
        "colab_type": "text"
      },
      "source": [
        "<font face=楷体>每个anchor框对应的目标框的系数</font>"
      ]
    },
    {
      "cell_type": "code",
      "metadata": {
        "id": "-SkyOD_hVgMT",
        "colab_type": "code",
        "outputId": "e8bdc154-6663-4c3e-f06d-29a59e2d9ff1",
        "colab": {
          "base_uri": "https://localhost:8080/",
          "height": 52
        }
      },
      "source": [
        "anchor_locations = np.empty((len(anchors),) + anchors.shape[1:], dtype=anchor_locs.dtype)\n",
        "anchor_locations.fill(0)\n",
        "anchor_locations[inside_index, :] = anchor_locs\n",
        "print(anchor_locs.shape)\n",
        "print(anchor_locations.shape)"
      ],
      "execution_count": 28,
      "outputs": [
        {
          "output_type": "stream",
          "text": [
            "(8940, 4)\n",
            "(22500, 4)\n"
          ],
          "name": "stdout"
        }
      ]
    },
    {
      "cell_type": "markdown",
      "metadata": {
        "id": "iNfww66-Z_GL",
        "colab_type": "text"
      },
      "source": [
        "<font face=楷体>【1】[nn.Conv2d和其中的padding策略](https://blog.csdn.net/g11d111/article/details/82665265)</font>"
      ]
    },
    {
      "cell_type": "code",
      "metadata": {
        "id": "ETRYF5x0VlL9",
        "colab_type": "code",
        "colab": {}
      },
      "source": [
        "import torch.nn as nn\n",
        "mid_channels = 512\n",
        "in_channels = 512 # depends on the output feature map. in vgg 16 it is equal to 512\n",
        "n_anchor = 9 # Number of anchors at each location\n",
        "conv1 = nn.Conv2d(in_channels, mid_channels, 3, 1, 1)\n",
        "reg_layer = nn.Conv2d(mid_channels, n_anchor *4, 1, 1, 0)\n",
        "cls_layer = nn.Conv2d(mid_channels, n_anchor *2, 1, 1, 0) ## I will be going to use softmax here. you can equally use sigmoid if u replace 2 with 1."
      ],
      "execution_count": 0,
      "outputs": []
    },
    {
      "cell_type": "markdown",
      "metadata": {
        "id": "2dR-h3TDascn",
        "colab_type": "text"
      },
      "source": [
        "<font face=楷体>初始化</font>"
      ]
    },
    {
      "cell_type": "code",
      "metadata": {
        "id": "d4ZaPI5jV4fW",
        "colab_type": "code",
        "outputId": "fa27dc98-d140-49f3-9c2a-195546cbdaf8",
        "colab": {
          "base_uri": "https://localhost:8080/",
          "height": 35
        }
      },
      "source": [
        "# conv sliding layer\n",
        "conv1.weight.data.normal_(0, 0.01)\n",
        "conv1.bias.data.zero_()\n",
        "\n",
        "# Regression layer\n",
        "reg_layer.weight.data.normal_(0, 0.01)\n",
        "reg_layer.bias.data.zero_()\n",
        "\n",
        "# classification layer\n",
        "cls_layer.weight.data.normal_(0, 0.01)\n",
        "cls_layer.bias.data.zero_()"
      ],
      "execution_count": 30,
      "outputs": [
        {
          "output_type": "execute_result",
          "data": {
            "text/plain": [
              "tensor([0., 0., 0., 0., 0., 0., 0., 0., 0., 0., 0., 0., 0., 0., 0., 0., 0., 0.])"
            ]
          },
          "metadata": {
            "tags": []
          },
          "execution_count": 30
        }
      ]
    },
    {
      "cell_type": "code",
      "metadata": {
        "id": "pg45B-SsV7wo",
        "colab_type": "code",
        "outputId": "8771791d-b533-4311-bfd6-0faa2c04d639",
        "colab": {
          "base_uri": "https://localhost:8080/",
          "height": 35
        }
      },
      "source": [
        "x = conv1(out_map) # out_map is obtained in section 1\n",
        "pred_anchor_locs = reg_layer(x)\n",
        "pred_cls_scores = cls_layer(x)\n",
        "\n",
        "print(pred_cls_scores.shape, pred_anchor_locs.shape)\n",
        "\n",
        "#Out:\n",
        "#torch.Size([1, 18, 50, 50]) torch.Size([1, 36, 50, 50])"
      ],
      "execution_count": 31,
      "outputs": [
        {
          "output_type": "stream",
          "text": [
            "torch.Size([1, 18, 50, 50]) torch.Size([1, 36, 50, 50])\n"
          ],
          "name": "stdout"
        }
      ]
    },
    {
      "cell_type": "markdown",
      "metadata": {
        "id": "Louno14GnG7x",
        "colab_type": "text"
      },
      "source": [
        "<font face=楷体 color=red>疑问</font>"
      ]
    },
    {
      "cell_type": "code",
      "metadata": {
        "id": "NSC_aCkCV9oL",
        "colab_type": "code",
        "outputId": "6465e536-cff1-4ff4-b244-6018f2817957",
        "colab": {
          "base_uri": "https://localhost:8080/",
          "height": 88
        }
      },
      "source": [
        "pred_anchor_locs = pred_anchor_locs.permute(0, 2, 3, 1).contiguous().view(1, -1, 4)\n",
        "print(pred_anchor_locs.shape)\n",
        "\n",
        "#Out: torch.Size([1, 22500, 4])\n",
        "\n",
        "pred_cls_scores = pred_cls_scores.permute(0, 2, 3, 1).contiguous()\n",
        "print(pred_cls_scores.shape)\n",
        "#Out torch.Size([1, 50, 50, 18])\n",
        "\n",
        "objectness_score = pred_cls_scores.view(1, 50, 50, 9, 2)[:, :, :, :, 1].contiguous().view(1, -1)\n",
        "print(objectness_score.shape)\n",
        "#Out torch.Size([1, 22500])\n",
        "\n",
        "pred_cls_scores  = pred_cls_scores.view(1, -1, 2)\n",
        "print(pred_cls_scores.shape)\n",
        "# Out torch.size([1, 22500, 2])"
      ],
      "execution_count": 32,
      "outputs": [
        {
          "output_type": "stream",
          "text": [
            "torch.Size([1, 22500, 4])\n",
            "torch.Size([1, 50, 50, 18])\n",
            "torch.Size([1, 22500])\n",
            "torch.Size([1, 22500, 2])\n"
          ],
          "name": "stdout"
        }
      ]
    },
    {
      "cell_type": "markdown",
      "metadata": {
        "id": "S8LffAo2nZLv",
        "colab_type": "text"
      },
      "source": [
        "<font face=楷体>生成候选区喂给Fast RCNN</font>"
      ]
    },
    {
      "cell_type": "code",
      "metadata": {
        "id": "P-TKjdbpXEkw",
        "colab_type": "code",
        "colab": {}
      },
      "source": [
        "nms_thresh = 0.7\n",
        "n_train_pre_nms = 12000\n",
        "n_train_post_nms = 2000\n",
        "n_test_pre_nms = 6000\n",
        "n_test_post_nms = 300\n",
        "min_size = 16"
      ],
      "execution_count": 0,
      "outputs": []
    },
    {
      "cell_type": "markdown",
      "metadata": {
        "id": "zGG-NtKdnu_7",
        "colab_type": "text"
      },
      "source": [
        "<font face=楷体>转换anchor格式从 y1, x1, y2, x2 到 ctr_x, ctr_y, h, w </font>"
      ]
    },
    {
      "cell_type": "code",
      "metadata": {
        "id": "qYCU_WFQV_0O",
        "colab_type": "code",
        "colab": {}
      },
      "source": [
        "anc_height = anchors[:, 2] - anchors[:, 0]\n",
        "anc_width = anchors[:, 3] - anchors[:, 1]\n",
        "anc_ctr_y = anchors[:, 0] + 0.5 * anc_height\n",
        "anc_ctr_x = anchors[:, 1] + 0.5 * anc_width"
      ],
      "execution_count": 0,
      "outputs": []
    },
    {
      "cell_type": "markdown",
      "metadata": {
        "id": "f0r0JbNgn1d1",
        "colab_type": "text"
      },
      "source": [
        "<font face=楷体>根据预测的四个系数，将anchor框通过平移和缩放转化为预测的目标框</font>"
      ]
    },
    {
      "cell_type": "code",
      "metadata": {
        "id": "Q5X_9U5PWMAI",
        "colab_type": "code",
        "colab": {}
      },
      "source": [
        "pred_anchor_locs_numpy = pred_anchor_locs[0].data.numpy()\n",
        "objectness_score_numpy = objectness_score[0].data.numpy()\n",
        "\n",
        "dy = pred_anchor_locs_numpy[:, 0::4]\n",
        "dx = pred_anchor_locs_numpy[:, 1::4]\n",
        "dh = pred_anchor_locs_numpy[:, 2::4]\n",
        "dw = pred_anchor_locs_numpy[:, 3::4]\n",
        "\n",
        "ctr_y = dy * anc_height[:, np.newaxis] + anc_ctr_y[:, np.newaxis]\n",
        "ctr_x = dx * anc_width[:, np.newaxis] + anc_ctr_x[:, np.newaxis]\n",
        "h = np.exp(dh) * anc_height[:, np.newaxis]\n",
        "w = np.exp(dw) * anc_width[:, np.newaxis]"
      ],
      "execution_count": 0,
      "outputs": []
    },
    {
      "cell_type": "markdown",
      "metadata": {
        "id": "WObhL6C9oFWB",
        "colab_type": "text"
      },
      "source": [
        "<font face=楷体>将预测的目标框转换为[y1, x1, y2, x2]格式</font>"
      ]
    },
    {
      "cell_type": "code",
      "metadata": {
        "id": "1LAyJIfSWOw3",
        "colab_type": "code",
        "outputId": "93c93601-4228-41cf-9b94-3474772e5122",
        "colab": {
          "base_uri": "https://localhost:8080/",
          "height": 141
        }
      },
      "source": [
        "roi = np.zeros(pred_anchor_locs_numpy.shape, dtype=anchor_locs.dtype)\n",
        "roi[:, 0::4] = ctr_y - 0.5 * h\n",
        "roi[:, 1::4] = ctr_x - 0.5 * w\n",
        "roi[:, 2::4] = ctr_y + 0.5 * h\n",
        "roi[:, 3::4] = ctr_x + 0.5 * w\n",
        "print(roi)\n",
        "#Out:\n",
        "# [[ -36.897102,  -80.29519 ,   54.09939 ,  100.40507 ],\n",
        "#  [ -83.12463 , -165.74298 ,   98.67854 ,  188.6116  ],\n",
        "#  [-170.7821  , -378.22214 ,  196.20844 ,  349.81198 ],\n",
        "#  ...,\n",
        "#  [ 696.17816 ,  747.13306 ,  883.4582  ,  836.77747 ],\n",
        "#  [ 621.42114 ,  703.0614  ,  973.04626 ,  885.31226 ],\n",
        "#  [ 432.86267 ,  622.48926 , 1146.7059  ,  982.9209  ]]"
      ],
      "execution_count": 36,
      "outputs": [
        {
          "output_type": "stream",
          "text": [
            "[[ -37.254834    -82.50966799   53.254834     98.50966799]\n",
            " [ -82.50966799 -173.01933598   98.50966799  189.01933598]\n",
            " [-173.01933598 -354.03867197  189.01933598  370.03867197]\n",
            " ...\n",
            " [ 701.49033201  746.745166    882.50966799  837.254834  ]\n",
            " [ 610.98066402  701.49033201  973.01933598  882.50966799]\n",
            " [ 429.96132803  610.98066402 1154.03867197  973.01933598]]\n"
          ],
          "name": "stdout"
        }
      ]
    },
    {
      "cell_type": "markdown",
      "metadata": {
        "id": "wvxn5DPUuRNR",
        "colab_type": "text"
      },
      "source": [
        "<font face=楷体 color=red>剪辑预测框到图像上</font>"
      ]
    },
    {
      "cell_type": "code",
      "metadata": {
        "id": "f23upQ9UWYG8",
        "colab_type": "code",
        "outputId": "57f7f82a-9091-4baa-ce61-26f62b5960a9",
        "colab": {
          "base_uri": "https://localhost:8080/",
          "height": 141
        }
      },
      "source": [
        "img_size = (800, 800) #Image size\n",
        "roi[:, slice(0, 4, 2)] = np.clip(\n",
        "           roi[:, slice(0, 4, 2)], 0, img_size[0])\n",
        "roi[:, slice(1, 4, 2)] = np.clip(\n",
        "   roi[:, slice(1, 4, 2)], 0, img_size[1])\n",
        "\n",
        "print(roi)\n",
        "\n",
        "#Out:\n",
        "# [[  0.     ,   0.     ,  54.09939, 100.40507],\n",
        "#  [  0.     ,   0.     ,  98.67854, 188.6116 ],\n",
        "#  [  0.     ,   0.     , 196.20844, 349.81198],\n",
        "#  ...,\n",
        "#  [696.17816, 747.13306, 800.     , 800.     ],\n",
        "#  [621.42114, 703.0614 , 800.     , 800.     ],\n",
        "#  [432.86267, 622.48926, 800.     , 800.     ]]"
      ],
      "execution_count": 37,
      "outputs": [
        {
          "output_type": "stream",
          "text": [
            "[[  0.           0.          53.254834    98.50966799]\n",
            " [  0.           0.          98.50966799 189.01933598]\n",
            " [  0.           0.         189.01933598 370.03867197]\n",
            " ...\n",
            " [701.49033201 746.745166   800.         800.        ]\n",
            " [610.98066402 701.49033201 800.         800.        ]\n",
            " [429.96132803 610.98066402 800.         800.        ]]\n"
          ],
          "name": "stdout"
        }
      ]
    },
    {
      "cell_type": "markdown",
      "metadata": {
        "id": "pcB215N1ui5a",
        "colab_type": "text"
      },
      "source": [
        "<font face=楷体 color=red>去除高度或宽度 < threshold的预测框</font>"
      ]
    },
    {
      "cell_type": "code",
      "metadata": {
        "id": "cgxli4l_Wzfe",
        "colab_type": "code",
        "outputId": "3de805fe-7087-44d9-8be7-a938a794fee4",
        "colab": {
          "base_uri": "https://localhost:8080/",
          "height": 35
        }
      },
      "source": [
        "hs = roi[:, 2] - roi[:, 0]\n",
        "ws = roi[:, 3] - roi[:, 1]\n",
        "keep = np.where((hs >= min_size) & (ws >= min_size))[0]\n",
        "roi = roi[keep, :]\n",
        "score = objectness_score_numpy[keep]\n",
        "\n",
        "print(score.shape)\n",
        "#Out:\n",
        "##(22500, ) all the boxes have minimum size of 16"
      ],
      "execution_count": 38,
      "outputs": [
        {
          "output_type": "stream",
          "text": [
            "(22500,)\n"
          ],
          "name": "stdout"
        }
      ]
    },
    {
      "cell_type": "code",
      "metadata": {
        "id": "FRdA4GFHW3fd",
        "colab_type": "code",
        "outputId": "f81c6dc0-92d9-4bd0-92a3-71f05f38f210",
        "colab": {
          "base_uri": "https://localhost:8080/",
          "height": 52
        }
      },
      "source": [
        "order = score.ravel().argsort()[::-1]  # # 按分数从高到低排序所有的\n",
        "print(order)\n",
        "print(order.shape)\n",
        "\n",
        "#Out:\n",
        "#[ 889,  929, 1316, ...,  462,  454,    4]"
      ],
      "execution_count": 39,
      "outputs": [
        {
          "output_type": "stream",
          "text": [
            "[22499  7502  7494 ... 15003 15004     0]\n",
            "(22500,)\n"
          ],
          "name": "stdout"
        }
      ]
    },
    {
      "cell_type": "markdown",
      "metadata": {
        "id": "7g8TrMkqu-Ws",
        "colab_type": "text"
      },
      "source": [
        "<font face=楷体 color=red>取前几个预测框pre_nms_topN(如训练时12000，测试时300)</font>"
      ]
    },
    {
      "cell_type": "code",
      "metadata": {
        "id": "vcJsd6_MXIdS",
        "colab_type": "code",
        "outputId": "035c79dd-7aaa-4245-8805-fc26b98553d5",
        "colab": {
          "base_uri": "https://localhost:8080/",
          "height": 159
        }
      },
      "source": [
        "order = order[:n_train_pre_nms]\n",
        "roi = roi[order, :]\n",
        "\n",
        "print(roi.shape)\n",
        "print(roi)\n",
        "\n",
        "#Out\n",
        "# (12000, 4)\n",
        "# [[607.93866,   0.     , 800.     , 113.38187],\n",
        "#  [  0.     ,   0.     , 235.29704, 369.64795],\n",
        "#  [572.177  ,   0.     , 800.     , 373.0086 ],\n",
        "#  ...,\n",
        "#  [250.07968, 186.61633, 434.6356 , 276.70615],\n",
        "#  [490.07974, 154.6163 , 674.6356 , 244.70615],\n",
        "#  [266.07968, 602.61633, 450.6356 , 692.7062 ]]"
      ],
      "execution_count": 40,
      "outputs": [
        {
          "output_type": "stream",
          "text": [
            "(12000, 4)\n",
            "[[429.96132803 610.98066402 800.         800.        ]\n",
            " [280.           8.         792.         520.        ]\n",
            " [429.49033201 218.745166   610.50966799 309.254834  ]\n",
            " ...\n",
            " [  0.         514.98066402 562.03867197 800.        ]\n",
            " [125.49033201 514.98066402 306.50966799 800.        ]\n",
            " [  0.         333.96132803 317.01933598 800.        ]]\n"
          ],
          "name": "stdout"
        }
      ]
    },
    {
      "cell_type": "code",
      "metadata": {
        "id": "zMwW8pmywjWH",
        "colab_type": "code",
        "outputId": "13fb1224-6053-4447-c961-648d251cc8a8",
        "colab": {
          "base_uri": "https://localhost:8080/",
          "height": 134
        }
      },
      "source": [
        "anchor_area = (ya2 - ya1) * (xa2 - xa1)\n",
        "   for num2, j in enumerate(bbox):\n",
        "       yb1, xb1, yb2, xb2 = j\n",
        "       box_area = (yb2- yb1) * (xb2 - xb1)"
      ],
      "execution_count": 41,
      "outputs": [
        {
          "output_type": "error",
          "ename": "IndentationError",
          "evalue": "ignored",
          "traceback": [
            "\u001b[0;36m  File \u001b[0;32m\"<ipython-input-41-b6fd0a28a467>\"\u001b[0;36m, line \u001b[0;32m2\u001b[0m\n\u001b[0;31m    for num2, j in enumerate(bbox):\u001b[0m\n\u001b[0m    ^\u001b[0m\n\u001b[0;31mIndentationError\u001b[0m\u001b[0;31m:\u001b[0m unexpected indent\n"
          ]
        }
      ]
    },
    {
      "cell_type": "markdown",
      "metadata": {
        "id": "RVAdCGy67pLO",
        "colab_type": "text"
      },
      "source": [
        "## nms\n",
        "<font face=楷体>去除和极大值anchor框IOU大于0.7的框(去重)，保留score大，且基本不重叠的框</font>\n",
        "\n",
        "<font face=楷体 color=red>这里是按什么类别的，正负还是标签</font>"
      ]
    },
    {
      "cell_type": "code",
      "metadata": {
        "id": "ot_EYdhHXPom",
        "colab_type": "code",
        "outputId": "a4ca8bc4-b01c-444b-b8e6-e8e85f6dcaff",
        "colab": {
          "base_uri": "https://localhost:8080/",
          "height": 70
        }
      },
      "source": [
        "y1 = roi[:, 0]\n",
        "x1 = roi[:, 1]\n",
        "y2 = roi[:, 2]\n",
        "x2 = roi[:, 3]\n",
        "\n",
        "areas = (x2 - x1 + 1) * (y2 - y1 + 1)\n",
        "print(order.shape)\n",
        "score = score[order]\n",
        "order = score.argsort()[::-1]  \n",
        "print(order)\n",
        "keep = []\n",
        "\n",
        "while order.size > 0:\n",
        "   i = order[0]\n",
        "   keep.append(i)\n",
        "   xx1 = np.maximum(x1[i], x1[order[1:]])\n",
        "   yy1 = np.maximum(y1[i], y1[order[1:]])\n",
        "   xx2 = np.minimum(x2[i], x2[order[1:]])\n",
        "   yy2 = np.minimum(y2[i], y2[order[1:]])\n",
        "  \n",
        "   w = np.maximum(0.0, xx2 - xx1 + 1)\n",
        "   h = np.maximum(0.0, yy2 - yy1 + 1)    \n",
        "   inter = w * h\n",
        "   ovr = inter / (areas[i] + areas[order[1:]] - inter)\n",
        "   \n",
        "   inds = np.where(ovr <= nms_thresh)[0]\n",
        "   order = order[inds + 1]\n",
        "\n",
        "keep = keep[:n_train_post_nms] # while training/testing , use accordingly\n",
        "roi = roi[keep] # the final region proposals\n",
        "print(roi.shape)"
      ],
      "execution_count": 42,
      "outputs": [
        {
          "output_type": "stream",
          "text": [
            "(12000,)\n",
            "[11999  3996  4005 ...  7995  7994     0]\n",
            "(1758, 4)\n"
          ],
          "name": "stdout"
        }
      ]
    },
    {
      "cell_type": "markdown",
      "metadata": {
        "id": "1r5L4lZ2sYjI",
        "colab_type": "text"
      },
      "source": [
        "<font face=楷体>n_sample：roi中采样的样本数目，默认为128  \n",
        "pos_ratio：n_samples中的正样本的比例，默认为0.25   \n",
        "pos_iou_thresh：设置为正样本region proposal与ground-truth目标之间最小的重叠值阈值  \n",
        "[neg_iou_threshold_lo, neg_iou_threshold_hi] : [0.0, 0.5], 设置为负样本[背景]的重叠值阈值  "
      ]
    },
    {
      "cell_type": "code",
      "metadata": {
        "id": "BlQywwtRXTRC",
        "colab_type": "code",
        "colab": {}
      },
      "source": [
        "n_sample = 128\n",
        "pos_ratio = 0.25\n",
        "pos_iou_thresh = 0.5\n",
        "neg_iou_thresh_hi = 0.5\n",
        "neg_iou_thresh_lo = 0.0"
      ],
      "execution_count": 0,
      "outputs": []
    },
    {
      "cell_type": "markdown",
      "metadata": {
        "id": "jlWQIRY4xey7",
        "colab_type": "text"
      },
      "source": [
        "<font face=楷体 color=skyblue>找到每个ground-truth 目标与region proposal的iou</font> \n"
      ]
    },
    {
      "cell_type": "code",
      "metadata": {
        "id": "wdAj04iYXnwa",
        "colab_type": "code",
        "outputId": "438b23a9-d62f-476d-886a-4da92c12adbc",
        "colab": {
          "base_uri": "https://localhost:8080/",
          "height": 35
        }
      },
      "source": [
        "ious = np.empty((len(roi), 2), dtype=np.float32)\n",
        "ious.fill(0)\n",
        "for num1, i in enumerate(roi):\n",
        "   ya1, xa1, ya2, xa2 = i  \n",
        "   anchor_area = (ya2 - ya1) * (xa2 - xa1)\n",
        "   for num2, j in enumerate(bbox):\n",
        "       yb1, xb1, yb2, xb2 = j\n",
        "       box_area = (yb2- yb1) * (xb2 - xb1)\n",
        "\n",
        "       inter_x1 = max([xb1, xa1])\n",
        "       inter_y1 = max([yb1, ya1])\n",
        "       inter_x2 = min([xb2, xa2])\n",
        "       inter_y2 = min([yb2, ya2])\n",
        "\n",
        "       if (inter_x1 < inter_x2) and (inter_y1 < inter_y2):\n",
        "           iter_area = (inter_y2 - inter_y1) * \\\n",
        "(inter_x2 - inter_x1)\n",
        "           iou = iter_area / (anchor_area+ \\\n",
        "box_area - iter_area)            \n",
        "       else:\n",
        "           iou = 0.\n",
        "\n",
        "       ious[num1, num2] = iou\n",
        "print(ious.shape)\n",
        "\n",
        "#Out:\n",
        "#[1535, 2]"
      ],
      "execution_count": 44,
      "outputs": [
        {
          "output_type": "stream",
          "text": [
            "(1758, 2)\n"
          ],
          "name": "stdout"
        }
      ]
    },
    {
      "cell_type": "markdown",
      "metadata": {
        "id": "s6TASG5rxzR6",
        "colab_type": "text"
      },
      "source": [
        "\n",
        "<font face=楷体 color=skyblue>找到与每个region proposal具有较高IoU的ground truth，并且找到最大的IoU</font>   \n",
        "<font face=楷体 color=red>这里是预测框还是Anchor</font>"
      ]
    },
    {
      "cell_type": "code",
      "metadata": {
        "id": "1ZEY5MBiXsum",
        "colab_type": "code",
        "outputId": "9b2c07e6-fee5-414d-9adc-5cd40a73fcc9",
        "colab": {
          "base_uri": "https://localhost:8080/",
          "height": 88
        }
      },
      "source": [
        "gt_assignment = ious.argmax(axis=1)\n",
        "max_iou = ious.max(axis=1)\n",
        "print(gt_assignment.shape)\n",
        "print(gt_assignment)\n",
        "print(max_iou.shape)\n",
        "print(max_iou)\n",
        "\n",
        "#Out: \n",
        "# [0, 0, 0 ... 1, 1, 0]\n",
        "# [0.016, 0., 0. ... 0.08034518, 0.10739268, 0.]"
      ],
      "execution_count": 45,
      "outputs": [
        {
          "output_type": "stream",
          "text": [
            "(1758,)\n",
            "[0 0 1 ... 0 0 0]\n",
            "(1758,)\n",
            "[0.17802154 0.17926688 0.04676318 ... 0.         0.         0.        ]\n"
          ],
          "name": "stdout"
        }
      ]
    },
    {
      "cell_type": "markdown",
      "metadata": {
        "id": "nP9CILLnx9RY",
        "colab_type": "text"
      },
      "source": [
        "<font face=楷体 color=skyblue>为每个proposal分配标签</font>   \n",
        "<font face=楷体><font face=楷体 color=red>注意：</font>这里默认背景标记为0</font>"
      ]
    },
    {
      "cell_type": "code",
      "metadata": {
        "id": "xJOAHrHOXvWG",
        "colab_type": "code",
        "outputId": "1fd522fb-e264-4e8b-f54a-ee982b588fc4",
        "colab": {
          "base_uri": "https://localhost:8080/",
          "height": 35
        }
      },
      "source": [
        "gt_roi_label = labels[gt_assignment]\n",
        "print(gt_roi_label)\n",
        "#Out:\n",
        "#[6, 6, 6, ..., 8, 8, 6]"
      ],
      "execution_count": 46,
      "outputs": [
        {
          "output_type": "stream",
          "text": [
            "[6 6 8 ... 6 6 6]\n"
          ],
          "name": "stdout"
        }
      ]
    },
    {
      "cell_type": "markdown",
      "metadata": {
        "id": "5qsZHgnqyvFk",
        "colab_type": "text"
      },
      "source": [
        "<font face=楷体>\n",
        "根据每个pos_iou_thresh选择前景rois。只保留n_sample*pos_ratio（128*0.25=32）个前景样本，因此如果只得到少于32个正样本，保持原状。如果得到多余32个前景目标，从中采样32个样本\n",
        "</font>"
      ]
    },
    {
      "cell_type": "code",
      "metadata": {
        "id": "hUDWuAQfXyhS",
        "colab_type": "code",
        "outputId": "ba928b56-c72a-4a42-fad6-490fb3447baf",
        "colab": {
          "base_uri": "https://localhost:8080/",
          "height": 70
        }
      },
      "source": [
        "pos_roi_per_image = 32\n",
        "pos_index = np.where(max_iou >= pos_iou_thresh)[0]\n",
        "pos_roi_per_this_image = int(min(pos_roi_per_image, pos_index.size))\n",
        "if pos_index.size > 0:\n",
        "   pos_index = np.random.choice(\n",
        "       pos_index, size=pos_roi_per_this_image, replace=False)\n",
        "print(pos_roi_per_this_image)\n",
        "print(pos_index)\n",
        "\n",
        "#Out\n",
        "# 18\n",
        "# [ 257  296  317 1075 1077 1169 1213 1258 1322 1325 1351 1378 1380 1425\n",
        "#  1472 1482 1489 1495]\n"
      ],
      "execution_count": 48,
      "outputs": [
        {
          "output_type": "stream",
          "text": [
            "19\n",
            "[ 751  137   37  569  217  487  805  429 1206  427  135  584  637  895\n",
            "   34  762  409  369  130]\n"
          ],
          "name": "stdout"
        }
      ]
    },
    {
      "cell_type": "markdown",
      "metadata": {
        "id": "Le7-0XyhzGml",
        "colab_type": "text"
      },
      "source": [
        "<font face=楷体>\n",
        "针对负[背景]region proposal进行相似处理，如果对于之前分配的ground truth目标，region proposal的IoU在neg_iou_thresh_lo和neg_iou_thresh_hi之间，对该region proposal分配0标签，从这些负样本中采样n(n_sample-pos_samples,128-32=96)个region proposals\n",
        "</font>  \n",
        "\n",
        "<font face=楷体 color=red>疑问</font>"
      ]
    },
    {
      "cell_type": "code",
      "metadata": {
        "id": "9pbl1KAAGIwL",
        "colab_type": "code",
        "colab": {
          "base_uri": "https://localhost:8080/",
          "height": 177
        },
        "outputId": "72e2b857-59c5-4a63-98d7-d087e1c40dea"
      },
      "source": [
        "neg_index = np.where((max_iou < neg_iou_thresh_hi) &\n",
        "                            (max_iou >= neg_iou_thresh_lo))[0]\n",
        "neg_roi_per_this_image = n_sample - pos_roi_per_this_image\n",
        "neg_roi_per_this_image = int(min(neg_roi_per_this_image,\n",
        "                                neg_index.size))\n",
        "if  neg_index.size > 0 :\n",
        "   neg_index = np.random.choice(\n",
        "       neg_index, size=neg_roi_per_this_image, replace=False)\n",
        "print(neg_roi_per_this_image)\n",
        "print(neg_index)\n",
        "\n",
        "#Out:\n",
        "#110\n",
        "# [  79  688  160  ...  376  712 1235  148 1001]"
      ],
      "execution_count": 49,
      "outputs": [
        {
          "output_type": "stream",
          "text": [
            "109\n",
            "[1475 1460 1448  677  702  638 1304  338 1148  704 1720   23  439  491\n",
            "  854 1744 1340  648 1495 1163 1457 1068  164  358  331 1024 1620  289\n",
            "   22  632  715 1391  993  252  839 1090  475 1171  742  450 1673  290\n",
            "   54  319  383  657  592  822 1217  852  459 1366 1727  212  518  736\n",
            "  499   39 1552 1280   17  166 1251 1672  460  725 1514  453   30  752\n",
            " 1170 1344  246  610  723  807 1402   71 1455  813  769 1001 1337  465\n",
            "  790 1210  384 1355 1509 1332 1118  910  588 1687 1248 1492  446 1051\n",
            "  296 1174 1105  364  923 1057  430 1598 1006 1133  476]\n"
          ],
          "name": "stdout"
        }
      ]
    },
    {
      "cell_type": "markdown",
      "metadata": {
        "id": "FpA2nzZTzRWl",
        "colab_type": "text"
      },
      "source": [
        "<font face=楷体>整合正样本索引和负样本索引，及他们各自的标签和region proposals</font>"
      ]
    },
    {
      "cell_type": "code",
      "metadata": {
        "id": "WQ0IISW9zZ5a",
        "colab_type": "code",
        "colab": {
          "base_uri": "https://localhost:8080/",
          "height": 35
        },
        "outputId": "0d70e8d4-bed1-4db0-bc53-ac84687f27a3"
      },
      "source": [
        "keep_index = np.append(pos_index, neg_index)\n",
        "gt_roi_labels = gt_roi_label[keep_index]\n",
        "gt_roi_labels[pos_roi_per_this_image:] = 0  # negative labels --> 0\n",
        "sample_roi = roi[keep_index]\n",
        "print(sample_roi.shape)\n",
        "\n",
        "#Out:\n",
        "#(128, 4)"
      ],
      "execution_count": 50,
      "outputs": [
        {
          "output_type": "stream",
          "text": [
            "(128, 4)\n"
          ],
          "name": "stdout"
        }
      ]
    },
    {
      "cell_type": "markdown",
      "metadata": {
        "id": "oxKPo0Pqzljt",
        "colab_type": "text"
      },
      "source": [
        "<font face=楷体>对这些sample_roi选择ground truth目标之后按照第二节中为anchor boxes分配位置的方式进行参数化</font>\n",
        "$$\\begin{matrix}\n",
        "&t_{x} = (x - x_{a})/w_{a} \n",
        "&t_{y} = (y - y_{a})/h_{a}\\\\\n",
        "&t_{w} = log(w/ w_a)\n",
        "&t_{h} = log(h/ h_a)\n",
        "\\end{matrix}$$\n",
        "\n"
      ]
    },
    {
      "cell_type": "code",
      "metadata": {
        "id": "Z0KZoJUVzdhc",
        "colab_type": "code",
        "colab": {
          "base_uri": "https://localhost:8080/",
          "height": 35
        },
        "outputId": "3bcc3d76-0e25-4a86-b5e1-7ba0c0751e31"
      },
      "source": [
        "# 根据预测框和对应目标框，计算参数（平移参数：dy, dx； 缩放参数：dh, dw）\n",
        "bbox_for_sampled_roi = bbox[gt_assignment[keep_index]]\n",
        "print(bbox_for_sampled_roi.shape)\n",
        "#Out\n",
        "#(128, 4)\n",
        "height = sample_roi[:, 2] - sample_roi[:, 0]\n",
        "width = sample_roi[:, 3] - sample_roi[:, 1]\n",
        "ctr_y = sample_roi[:, 0] + 0.5 * height\n",
        "ctr_x = sample_roi[:, 1] + 0.5 * width\n",
        "base_height = bbox_for_sampled_roi[:, 2] - bbox_for_sampled_roi[:, 0]\n",
        "base_width = bbox_for_sampled_roi[:, 3] - bbox_for_sampled_roi[:, 1]\n",
        "base_ctr_y = bbox_for_sampled_roi[:, 0] + 0.5 * base_height\n",
        "base_ctr_x = bbox_for_sampled_roi[:, 1] + 0.5 * base_width"
      ],
      "execution_count": 51,
      "outputs": [
        {
          "output_type": "stream",
          "text": [
            "(128, 4)\n"
          ],
          "name": "stdout"
        }
      ]
    },
    {
      "cell_type": "code",
      "metadata": {
        "id": "h9fbG0tgzdep",
        "colab_type": "code",
        "colab": {
          "base_uri": "https://localhost:8080/",
          "height": 35
        },
        "outputId": "0574aed4-2c1a-4ae0-de40-652841546db7"
      },
      "source": [
        "eps = np.finfo(height.dtype).eps\n",
        "height = np.maximum(height, eps)\n",
        "width = np.maximum(width, eps)\n",
        "\n",
        "dy = (base_ctr_y - ctr_y) / height\n",
        "dx = (base_ctr_x - ctr_x) / width\n",
        "dh = np.log(base_height / height)\n",
        "dw = np.log(base_width / width)\n",
        "\n",
        "gt_roi_locs = np.vstack((dy, dx, dh, dw)).transpose()\n",
        "print(gt_roi_locs.shape)\n",
        "\n",
        "#Out:\n",
        "# [[-0.08075945, -0.14638858, -0.23822695, -0.23150307],\n",
        "#  [ 0.04865225,  0.15570255,  0.08902431, -0.5969549 ],\n",
        "#  [ 0.17411101,  0.2244332 ,  0.19870323,  0.25063717],\n",
        "#  .....\n",
        "#  [-0.13976236,  0.121031  ,  0.03863466,  0.09662855],\n",
        "#  [-0.59361845, -2.5121436 ,  0.04558792,  0.9731178 ],\n",
        "#  [ 0.1041566 , -0.7840459 ,  1.4283055 ,  0.95092565]]"
      ],
      "execution_count": 53,
      "outputs": [
        {
          "output_type": "stream",
          "text": [
            "(128, 4)\n"
          ],
          "name": "stdout"
        }
      ]
    },
    {
      "cell_type": "code",
      "metadata": {
        "id": "ZOBpUL7qQ1nS",
        "colab_type": "code",
        "colab": {}
      },
      "source": [
        "rois = torch.from_numpy(sample_roi).float()"
      ],
      "execution_count": 0,
      "outputs": []
    },
    {
      "cell_type": "code",
      "metadata": {
        "id": "V9WglnaTQweo",
        "colab_type": "code",
        "colab": {
          "base_uri": "https://localhost:8080/",
          "height": 35
        },
        "outputId": "6ef24fe5-cf24-41e6-e4f6-8e479ae9359e"
      },
      "source": [
        "roi_indices = 0 * np.ones((len(rois),), dtype=np.int32)\n",
        "roi_indices = torch.from_numpy(roi_indices).float()\n",
        "print(rois.shape, roi_indices.shape)\n",
        "#Out:\n",
        "#torch.Size([128, 4]) torch.Size([128])"
      ],
      "execution_count": 69,
      "outputs": [
        {
          "output_type": "stream",
          "text": [
            "torch.Size([128, 4]) torch.Size([128])\n"
          ],
          "name": "stdout"
        }
      ]
    },
    {
      "cell_type": "markdown",
      "metadata": {
        "id": "4DnYgTLF00pB",
        "colab_type": "text"
      },
      "source": [
        "<font face=楷体>合并 rois and roi_indices, 这样我们将会得到维度是[N, 5] (index, x, y, h, w)的张量  \n",
        "</font>\n",
        "<font face=楷体 color=red>\n",
        "改变数组列元素位置  \n",
        "xy_indices_and_rois = indices_and_rois[:, [0, 2, 1, 4, 3]]\n",
        "疑问  \n",
        "indices_and_rois = torch.cat([roi_indices[:, None], rois], dim=1)\n",
        "</font>"
      ]
    },
    {
      "cell_type": "code",
      "metadata": {
        "id": "QFsG5AoazdY9",
        "colab_type": "code",
        "colab": {
          "base_uri": "https://localhost:8080/",
          "height": 1000
        },
        "outputId": "dd9d4976-5f10-4268-91aa-59dc0d628dfe"
      },
      "source": [
        "indices_and_rois = torch.cat([roi_indices[:, None], rois], dim=1)\n",
        "print(indices_and_rois)\n",
        "xy_indices_and_rois = indices_and_rois[:, [0, 2, 1, 4, 3]]\n",
        "print(xy_indices_and_rois)\n",
        "indices_and_rois = xy_indices_and_rois.contiguous()\n",
        "print(xy_indices_and_rois.shape)\n",
        "#Out:\n",
        "#torch.Size([128, 5])"
      ],
      "execution_count": 76,
      "outputs": [
        {
          "output_type": "stream",
          "text": [
            "tensor([[  0.0000,  24.0000,   8.0000, 536.0000, 520.0000],\n",
            "        [  0.0000,  34.9807,   0.0000, 397.0193, 690.0387],\n",
            "        [  0.0000,   0.0000,  29.9613, 333.0193, 754.0387],\n",
            "        [  0.0000,   0.0000, 114.9807, 370.0387, 477.0193],\n",
            "        [  0.0000,   0.0000, 178.9807, 386.0387, 541.0193],\n",
            "        [  0.0000,   0.0000,  56.0000, 264.0000, 568.0000],\n",
            "        [  0.0000,  82.9807,   0.0000, 445.0193, 594.0387],\n",
            "        [  0.0000,   0.0000,   0.0000, 360.0000, 328.0000],\n",
            "        [  0.0000,   0.0000,   2.9807, 466.0387, 365.0193],\n",
            "        [  0.0000,   0.0000,   0.0000, 269.0193, 434.0387],\n",
            "        [  0.0000,   0.0000,  72.0000, 488.0000, 584.0000],\n",
            "        [  0.0000,   0.0000,  40.0000, 360.0000, 552.0000],\n",
            "        [  0.0000,   0.0000,  98.9807, 626.0387, 461.0193],\n",
            "        [  0.0000,   0.0000,  34.9807, 578.0387, 397.0193],\n",
            "        [  0.0000,   0.0000, 136.0000, 408.0000, 648.0000],\n",
            "        [  0.0000,   0.0000,  82.9807, 466.0387, 445.0193],\n",
            "        [  0.0000,  18.9807,   0.0000, 381.0193, 434.0387],\n",
            "        [  0.0000,  98.9807,   0.0000, 461.0193, 434.0387],\n",
            "        [  0.0000,   0.0000, 146.9807, 562.0387, 509.0193],\n",
            "        [  0.0000, 264.0000,  24.0000, 392.0000, 152.0000],\n",
            "        [  0.0000, 746.7452,  29.4903, 800.0000, 210.5097],\n",
            "        [  0.0000, 104.0000,   8.0000, 360.0000, 264.0000],\n",
            "        [  0.0000,   0.0000, 234.7452,  98.5097, 325.2548],\n",
            "        [  0.0000, 525.4904, 218.7452, 706.5096, 309.2548],\n",
            "        [  0.0000, 120.0000, 216.0000, 248.0000, 344.0000],\n",
            "        [  0.0000, 378.7452, 573.4904, 469.2548, 754.5096],\n",
            "        [  0.0000, 306.9807, 253.4903, 669.0193, 434.5097],\n",
            "        [  0.0000, 488.0000,  24.0000, 744.0000, 280.0000],\n",
            "        [  0.0000, 525.4904,  82.9807, 706.5096, 445.0193],\n",
            "        [  0.0000,  13.4903,   0.0000, 194.5097,  53.2548],\n",
            "        [  0.0000,  77.4903, 346.7452, 258.5097, 437.2548],\n",
            "        [  0.0000,   8.0000,   8.0000, 136.0000, 136.0000],\n",
            "        [  0.0000,   0.0000, 264.0000, 120.0000, 392.0000],\n",
            "        [  0.0000, 392.0000, 184.0000, 520.0000, 312.0000],\n",
            "        [  0.0000, 541.4904,   0.0000, 722.5096,  69.2548],\n",
            "        [  0.0000,  29.4903, 618.7452, 210.5097, 709.2548],\n",
            "        [  0.0000, 141.4903,  98.9807, 322.5097, 461.0193],\n",
            "        [  0.0000, 586.7452,   0.0000, 677.2548, 162.5097],\n",
            "        [  0.0000, 685.4904,   2.9807, 800.0000, 365.0193],\n",
            "        [  0.0000,   0.0000,  90.7452, 130.5097, 181.2548],\n",
            "        [  0.0000, 634.7452,  13.4903, 725.2548, 194.5097],\n",
            "        [  0.0000, 605.4904, 194.9807, 786.5096, 557.0193],\n",
            "        [  0.0000, 424.0000,   8.0000, 552.0000, 136.0000],\n",
            "        [  0.0000, 317.4903, 282.7452, 498.5097, 373.2548],\n",
            "        [  0.0000, 397.4903,  74.7452, 578.5096, 165.2548],\n",
            "        [  0.0000,  45.4903,  58.7452, 226.5097, 149.2548],\n",
            "        [  0.0000, 253.4903, 314.7452, 434.5097, 405.2548],\n",
            "        [  0.0000, 280.0000, 248.0000, 536.0000, 504.0000],\n",
            "        [  0.0000, 346.7452, 125.4903, 437.2548, 306.5097],\n",
            "        [  0.0000, 440.0000, 200.0000, 568.0000, 328.0000],\n",
            "        [  0.0000,  72.0000,  24.0000, 328.0000, 280.0000],\n",
            "        [  0.0000,  40.0000,   0.0000, 296.0000, 248.0000],\n",
            "        [  0.0000,  40.0000, 136.0000, 552.0000, 648.0000],\n",
            "        [  0.0000,   0.0000, 184.0000,  72.0000, 312.0000],\n",
            "        [  0.0000,   0.0000,  56.0000,  72.0000, 184.0000],\n",
            "        [  0.0000, 250.7452, 221.4903, 341.2548, 402.5097],\n",
            "        [  0.0000,   0.0000, 138.7452, 114.5097, 229.2548],\n",
            "        [  0.0000, 205.4903, 218.7452, 386.5097, 309.2548],\n",
            "        [  0.0000,   0.0000, 264.0000,  72.0000, 392.0000],\n",
            "        [  0.0000, 397.4903, 106.7452, 578.5096, 197.2548],\n",
            "        [  0.0000, 296.0000, 296.0000, 424.0000, 424.0000],\n",
            "        [  0.0000,   0.0000, 136.0000, 280.0000, 648.0000],\n",
            "        [  0.0000, 616.0000, 264.0000, 744.0000, 392.0000],\n",
            "        [  0.0000, 210.9807,   0.0000, 573.0193, 162.5097],\n",
            "        [  0.0000, 621.4904,  98.9807, 800.0000, 461.0193],\n",
            "        [  0.0000, 360.0000, 168.0000, 616.0000, 424.0000],\n",
            "        [  0.0000, 266.7452, 141.4903, 357.2548, 322.5097],\n",
            "        [  0.0000,   0.0000, 498.9807, 434.0387, 800.0000],\n",
            "        [  0.0000, 424.0000, 184.0000, 552.0000, 312.0000],\n",
            "        [  0.0000, 200.0000, 184.0000, 456.0000, 440.0000],\n",
            "        [  0.0000, 184.0000, 600.0000, 312.0000, 728.0000],\n",
            "        [  0.0000,   0.0000,   0.0000,  88.0000,  72.0000],\n",
            "        [  0.0000, 360.0000, 296.0000, 488.0000, 424.0000],\n",
            "        [  0.0000, 218.7452, 221.4903, 309.2548, 402.5097],\n",
            "        [  0.0000, 104.0000, 200.0000, 232.0000, 328.0000],\n",
            "        [  0.0000, 472.0000, 280.0000, 600.0000, 408.0000],\n",
            "        [  0.0000, 106.7452, 301.4903, 197.2548, 482.5097],\n",
            "        [  0.0000, 162.9807,   0.0000, 525.0193, 386.0387],\n",
            "        [  0.0000,  13.9613, 482.9807, 738.0387, 800.0000],\n",
            "        [  0.0000, 376.0000, 312.0000, 504.0000, 440.0000],\n",
            "        [  0.0000, 650.7452, 285.4903, 741.2548, 466.5097],\n",
            "        [  0.0000, 653.4904, 618.7452, 800.0000, 709.2548],\n",
            "        [  0.0000, 424.0000,  24.0000, 680.0000, 280.0000],\n",
            "        [  0.0000, 616.0000, 232.0000, 744.0000, 360.0000],\n",
            "        [  0.0000, 394.7452, 173.4903, 485.2548, 354.5097],\n",
            "        [  0.0000, 202.7452,   0.0000, 293.2548, 114.5097],\n",
            "        [  0.0000,  74.7452, 221.4903, 165.2548, 402.5097],\n",
            "        [  0.0000, 237.9613, 194.9807, 800.0000, 557.0193],\n",
            "        [  0.0000, 200.0000, 200.0000, 328.0000, 328.0000],\n",
            "        [  0.0000, 685.4904, 122.7452, 800.0000, 213.2548],\n",
            "        [  0.0000,  58.7452, 573.4904, 149.2548, 754.5096],\n",
            "        [  0.0000,  74.7452, 285.4903, 165.2548, 466.5097],\n",
            "        [  0.0000, 392.0000,  88.0000, 648.0000, 344.0000],\n",
            "        [  0.0000, 426.7452, 173.4903, 517.2548, 354.5097],\n",
            "        [  0.0000,  45.4903, 186.7452, 226.5097, 277.2548],\n",
            "        [  0.0000, 218.7452,  61.4903, 309.2548, 242.5097],\n",
            "        [  0.0000, 664.0000, 328.0000, 792.0000, 456.0000],\n",
            "        [  0.0000,  29.4903,  90.7452, 210.5097, 181.2548],\n",
            "        [  0.0000,  26.7452, 141.4903, 117.2548, 322.5097],\n",
            "        [  0.0000, 504.0000, 184.0000, 632.0000, 312.0000],\n",
            "        [  0.0000, 488.0000,  56.0000, 616.0000, 184.0000],\n",
            "        [  0.0000,  88.0000, 632.0000, 216.0000, 760.0000],\n",
            "        [  0.0000, 680.0000, 232.0000, 800.0000, 360.0000],\n",
            "        [  0.0000, 168.0000, 168.0000, 296.0000, 296.0000],\n",
            "        [  0.0000, 120.0000, 120.0000, 248.0000, 248.0000],\n",
            "        [  0.0000, 365.4903,  26.7452, 546.5096, 117.2548],\n",
            "        [  0.0000, 698.7452, 557.4904, 789.2548, 738.5096],\n",
            "        [  0.0000, 269.4903,  42.7452, 450.5097, 133.2548],\n",
            "        [  0.0000, 109.4903, 650.7452, 290.5097, 741.2548],\n",
            "        [  0.0000, 554.7452,  93.4903, 645.2548, 274.5097],\n",
            "        [  0.0000, 536.0000,  72.0000, 792.0000, 328.0000],\n",
            "        [  0.0000, 408.0000, 232.0000, 536.0000, 360.0000],\n",
            "        [  0.0000, 418.9807,  77.4903, 781.0193, 258.5097],\n",
            "        [  0.0000,   0.0000, 498.9807, 162.5097, 800.0000],\n",
            "        [  0.0000, 728.0000,   0.0000, 800.0000,  72.0000],\n",
            "        [  0.0000, 664.0000,   0.0000, 800.0000, 184.0000],\n",
            "        [  0.0000, 200.0000,  56.0000, 328.0000, 184.0000],\n",
            "        [  0.0000,   0.0000, 237.4903,  53.2548, 418.5097],\n",
            "        [  0.0000,   0.0000, 138.7452, 178.5097, 229.2548],\n",
            "        [  0.0000, 312.0000,  40.0000, 440.0000, 168.0000],\n",
            "        [  0.0000, 232.0000,   0.0000, 744.0000, 328.0000],\n",
            "        [  0.0000, 280.0000, 152.0000, 408.0000, 280.0000],\n",
            "        [  0.0000, 168.0000,  56.0000, 296.0000, 184.0000],\n",
            "        [  0.0000,  40.0000,   8.0000, 168.0000, 136.0000],\n",
            "        [  0.0000, 456.0000,   0.0000, 584.0000, 120.0000],\n",
            "        [  0.0000,   0.0000,  29.4903, 205.0193, 210.5097],\n",
            "        [  0.0000, 650.7452,  93.4903, 741.2548, 274.5097],\n",
            "        [  0.0000, 362.7452, 221.4903, 453.2548, 402.5097]])\n",
            "tensor([[  0.0000,   8.0000,  24.0000, 520.0000, 536.0000],\n",
            "        [  0.0000,   0.0000,  34.9807, 690.0387, 397.0193],\n",
            "        [  0.0000,  29.9613,   0.0000, 754.0387, 333.0193],\n",
            "        [  0.0000, 114.9807,   0.0000, 477.0193, 370.0387],\n",
            "        [  0.0000, 178.9807,   0.0000, 541.0193, 386.0387],\n",
            "        [  0.0000,  56.0000,   0.0000, 568.0000, 264.0000],\n",
            "        [  0.0000,   0.0000,  82.9807, 594.0387, 445.0193],\n",
            "        [  0.0000,   0.0000,   0.0000, 328.0000, 360.0000],\n",
            "        [  0.0000,   2.9807,   0.0000, 365.0193, 466.0387],\n",
            "        [  0.0000,   0.0000,   0.0000, 434.0387, 269.0193],\n",
            "        [  0.0000,  72.0000,   0.0000, 584.0000, 488.0000],\n",
            "        [  0.0000,  40.0000,   0.0000, 552.0000, 360.0000],\n",
            "        [  0.0000,  98.9807,   0.0000, 461.0193, 626.0387],\n",
            "        [  0.0000,  34.9807,   0.0000, 397.0193, 578.0387],\n",
            "        [  0.0000, 136.0000,   0.0000, 648.0000, 408.0000],\n",
            "        [  0.0000,  82.9807,   0.0000, 445.0193, 466.0387],\n",
            "        [  0.0000,   0.0000,  18.9807, 434.0387, 381.0193],\n",
            "        [  0.0000,   0.0000,  98.9807, 434.0387, 461.0193],\n",
            "        [  0.0000, 146.9807,   0.0000, 509.0193, 562.0387],\n",
            "        [  0.0000,  24.0000, 264.0000, 152.0000, 392.0000],\n",
            "        [  0.0000,  29.4903, 746.7452, 210.5097, 800.0000],\n",
            "        [  0.0000,   8.0000, 104.0000, 264.0000, 360.0000],\n",
            "        [  0.0000, 234.7452,   0.0000, 325.2548,  98.5097],\n",
            "        [  0.0000, 218.7452, 525.4904, 309.2548, 706.5096],\n",
            "        [  0.0000, 216.0000, 120.0000, 344.0000, 248.0000],\n",
            "        [  0.0000, 573.4904, 378.7452, 754.5096, 469.2548],\n",
            "        [  0.0000, 253.4903, 306.9807, 434.5097, 669.0193],\n",
            "        [  0.0000,  24.0000, 488.0000, 280.0000, 744.0000],\n",
            "        [  0.0000,  82.9807, 525.4904, 445.0193, 706.5096],\n",
            "        [  0.0000,   0.0000,  13.4903,  53.2548, 194.5097],\n",
            "        [  0.0000, 346.7452,  77.4903, 437.2548, 258.5097],\n",
            "        [  0.0000,   8.0000,   8.0000, 136.0000, 136.0000],\n",
            "        [  0.0000, 264.0000,   0.0000, 392.0000, 120.0000],\n",
            "        [  0.0000, 184.0000, 392.0000, 312.0000, 520.0000],\n",
            "        [  0.0000,   0.0000, 541.4904,  69.2548, 722.5096],\n",
            "        [  0.0000, 618.7452,  29.4903, 709.2548, 210.5097],\n",
            "        [  0.0000,  98.9807, 141.4903, 461.0193, 322.5097],\n",
            "        [  0.0000,   0.0000, 586.7452, 162.5097, 677.2548],\n",
            "        [  0.0000,   2.9807, 685.4904, 365.0193, 800.0000],\n",
            "        [  0.0000,  90.7452,   0.0000, 181.2548, 130.5097],\n",
            "        [  0.0000,  13.4903, 634.7452, 194.5097, 725.2548],\n",
            "        [  0.0000, 194.9807, 605.4904, 557.0193, 786.5096],\n",
            "        [  0.0000,   8.0000, 424.0000, 136.0000, 552.0000],\n",
            "        [  0.0000, 282.7452, 317.4903, 373.2548, 498.5097],\n",
            "        [  0.0000,  74.7452, 397.4903, 165.2548, 578.5096],\n",
            "        [  0.0000,  58.7452,  45.4903, 149.2548, 226.5097],\n",
            "        [  0.0000, 314.7452, 253.4903, 405.2548, 434.5097],\n",
            "        [  0.0000, 248.0000, 280.0000, 504.0000, 536.0000],\n",
            "        [  0.0000, 125.4903, 346.7452, 306.5097, 437.2548],\n",
            "        [  0.0000, 200.0000, 440.0000, 328.0000, 568.0000],\n",
            "        [  0.0000,  24.0000,  72.0000, 280.0000, 328.0000],\n",
            "        [  0.0000,   0.0000,  40.0000, 248.0000, 296.0000],\n",
            "        [  0.0000, 136.0000,  40.0000, 648.0000, 552.0000],\n",
            "        [  0.0000, 184.0000,   0.0000, 312.0000,  72.0000],\n",
            "        [  0.0000,  56.0000,   0.0000, 184.0000,  72.0000],\n",
            "        [  0.0000, 221.4903, 250.7452, 402.5097, 341.2548],\n",
            "        [  0.0000, 138.7452,   0.0000, 229.2548, 114.5097],\n",
            "        [  0.0000, 218.7452, 205.4903, 309.2548, 386.5097],\n",
            "        [  0.0000, 264.0000,   0.0000, 392.0000,  72.0000],\n",
            "        [  0.0000, 106.7452, 397.4903, 197.2548, 578.5096],\n",
            "        [  0.0000, 296.0000, 296.0000, 424.0000, 424.0000],\n",
            "        [  0.0000, 136.0000,   0.0000, 648.0000, 280.0000],\n",
            "        [  0.0000, 264.0000, 616.0000, 392.0000, 744.0000],\n",
            "        [  0.0000,   0.0000, 210.9807, 162.5097, 573.0193],\n",
            "        [  0.0000,  98.9807, 621.4904, 461.0193, 800.0000],\n",
            "        [  0.0000, 168.0000, 360.0000, 424.0000, 616.0000],\n",
            "        [  0.0000, 141.4903, 266.7452, 322.5097, 357.2548],\n",
            "        [  0.0000, 498.9807,   0.0000, 800.0000, 434.0387],\n",
            "        [  0.0000, 184.0000, 424.0000, 312.0000, 552.0000],\n",
            "        [  0.0000, 184.0000, 200.0000, 440.0000, 456.0000],\n",
            "        [  0.0000, 600.0000, 184.0000, 728.0000, 312.0000],\n",
            "        [  0.0000,   0.0000,   0.0000,  72.0000,  88.0000],\n",
            "        [  0.0000, 296.0000, 360.0000, 424.0000, 488.0000],\n",
            "        [  0.0000, 221.4903, 218.7452, 402.5097, 309.2548],\n",
            "        [  0.0000, 200.0000, 104.0000, 328.0000, 232.0000],\n",
            "        [  0.0000, 280.0000, 472.0000, 408.0000, 600.0000],\n",
            "        [  0.0000, 301.4903, 106.7452, 482.5097, 197.2548],\n",
            "        [  0.0000,   0.0000, 162.9807, 386.0387, 525.0193],\n",
            "        [  0.0000, 482.9807,  13.9613, 800.0000, 738.0387],\n",
            "        [  0.0000, 312.0000, 376.0000, 440.0000, 504.0000],\n",
            "        [  0.0000, 285.4903, 650.7452, 466.5097, 741.2548],\n",
            "        [  0.0000, 618.7452, 653.4904, 709.2548, 800.0000],\n",
            "        [  0.0000,  24.0000, 424.0000, 280.0000, 680.0000],\n",
            "        [  0.0000, 232.0000, 616.0000, 360.0000, 744.0000],\n",
            "        [  0.0000, 173.4903, 394.7452, 354.5097, 485.2548],\n",
            "        [  0.0000,   0.0000, 202.7452, 114.5097, 293.2548],\n",
            "        [  0.0000, 221.4903,  74.7452, 402.5097, 165.2548],\n",
            "        [  0.0000, 194.9807, 237.9613, 557.0193, 800.0000],\n",
            "        [  0.0000, 200.0000, 200.0000, 328.0000, 328.0000],\n",
            "        [  0.0000, 122.7452, 685.4904, 213.2548, 800.0000],\n",
            "        [  0.0000, 573.4904,  58.7452, 754.5096, 149.2548],\n",
            "        [  0.0000, 285.4903,  74.7452, 466.5097, 165.2548],\n",
            "        [  0.0000,  88.0000, 392.0000, 344.0000, 648.0000],\n",
            "        [  0.0000, 173.4903, 426.7452, 354.5097, 517.2548],\n",
            "        [  0.0000, 186.7452,  45.4903, 277.2548, 226.5097],\n",
            "        [  0.0000,  61.4903, 218.7452, 242.5097, 309.2548],\n",
            "        [  0.0000, 328.0000, 664.0000, 456.0000, 792.0000],\n",
            "        [  0.0000,  90.7452,  29.4903, 181.2548, 210.5097],\n",
            "        [  0.0000, 141.4903,  26.7452, 322.5097, 117.2548],\n",
            "        [  0.0000, 184.0000, 504.0000, 312.0000, 632.0000],\n",
            "        [  0.0000,  56.0000, 488.0000, 184.0000, 616.0000],\n",
            "        [  0.0000, 632.0000,  88.0000, 760.0000, 216.0000],\n",
            "        [  0.0000, 232.0000, 680.0000, 360.0000, 800.0000],\n",
            "        [  0.0000, 168.0000, 168.0000, 296.0000, 296.0000],\n",
            "        [  0.0000, 120.0000, 120.0000, 248.0000, 248.0000],\n",
            "        [  0.0000,  26.7452, 365.4903, 117.2548, 546.5096],\n",
            "        [  0.0000, 557.4904, 698.7452, 738.5096, 789.2548],\n",
            "        [  0.0000,  42.7452, 269.4903, 133.2548, 450.5097],\n",
            "        [  0.0000, 650.7452, 109.4903, 741.2548, 290.5097],\n",
            "        [  0.0000,  93.4903, 554.7452, 274.5097, 645.2548],\n",
            "        [  0.0000,  72.0000, 536.0000, 328.0000, 792.0000],\n",
            "        [  0.0000, 232.0000, 408.0000, 360.0000, 536.0000],\n",
            "        [  0.0000,  77.4903, 418.9807, 258.5097, 781.0193],\n",
            "        [  0.0000, 498.9807,   0.0000, 800.0000, 162.5097],\n",
            "        [  0.0000,   0.0000, 728.0000,  72.0000, 800.0000],\n",
            "        [  0.0000,   0.0000, 664.0000, 184.0000, 800.0000],\n",
            "        [  0.0000,  56.0000, 200.0000, 184.0000, 328.0000],\n",
            "        [  0.0000, 237.4903,   0.0000, 418.5097,  53.2548],\n",
            "        [  0.0000, 138.7452,   0.0000, 229.2548, 178.5097],\n",
            "        [  0.0000,  40.0000, 312.0000, 168.0000, 440.0000],\n",
            "        [  0.0000,   0.0000, 232.0000, 328.0000, 744.0000],\n",
            "        [  0.0000, 152.0000, 280.0000, 280.0000, 408.0000],\n",
            "        [  0.0000,  56.0000, 168.0000, 184.0000, 296.0000],\n",
            "        [  0.0000,   8.0000,  40.0000, 136.0000, 168.0000],\n",
            "        [  0.0000,   0.0000, 456.0000, 120.0000, 584.0000],\n",
            "        [  0.0000,  29.4903,   0.0000, 210.5097, 205.0193],\n",
            "        [  0.0000,  93.4903, 650.7452, 274.5097, 741.2548],\n",
            "        [  0.0000, 221.4903, 362.7452, 402.5097, 453.2548]])\n",
            "torch.Size([128, 5])\n"
          ],
          "name": "stdout"
        }
      ]
    },
    {
      "cell_type": "markdown",
      "metadata": {
        "id": "9FOX6bFb05qe",
        "colab_type": "text"
      },
      "source": [
        "<font face=楷体>要将数组传到roi_pooling层,定义大小为 7 x 7</font>\n",
        "\n",
        "<font face=楷体 color=red>疑问：  \n",
        "rois = indices_and_rois.data.float()   \n",
        "rois[:, 1:].mul_(1/16.0) # Subsampling ratio  \n",
        "rois = rois.long()  \n",
        "num_rois = rois.size(0)  \n",
        "im = out_map.narrow(0, im_idx, 1)[..., roi[2]:(roi[4]+1), roi[1]:(roi[3]+1)]  \n",
        "output = torch.cat(output, 0)  \n",
        "output = torch.stack(output)  \n",
        "output.append(adaptive_max_pool(im)[0].data)\n",
        "</font>\n",
        "\n"
      ]
    },
    {
      "cell_type": "code",
      "metadata": {
        "id": "Lvti5QXyzdVs",
        "colab_type": "code",
        "colab": {
          "base_uri": "https://localhost:8080/",
          "height": 70
        },
        "outputId": "cc753d9c-aca8-4fa6-9e54-aebfaa853891"
      },
      "source": [
        "size = (7, 7)\n",
        "adaptive_max_pool = torch.nn.AdaptiveMaxPool2d(size[0], size[1])\n",
        "output = []\n",
        "rois = indices_and_rois.data.float()\n",
        "rois[:, 1:].mul_(1/16.0) # Subsampling ratio\n",
        "rois = rois.long()\n",
        "num_rois = rois.size(0)\n",
        "for i in range(num_rois):\n",
        "   roi = rois[i]\n",
        "   im_idx = roi[0]\n",
        "   im = out_map.narrow(0, im_idx, 1)[..., roi[2]:(roi[4]+1), roi[1]:(roi[3]+1)]\n",
        "   #output.append(adaptive_max_pool(im))\n",
        "   output.append(adaptive_max_pool(im)[0].data)  # 修改\n",
        "output = torch.cat(output, 0)\n",
        "print(output.size())\n",
        "#output = torch.stack(output)\n",
        "print(output.shape)\n",
        "#Out:\n",
        "# torch.Size([128, 512, 7, 7])\n",
        "# Reshape the tensor so that we can pass it through the feed forward layer.\n",
        "k = output.view(output.size(0), -1)\n",
        "print(k.shape)\n",
        "#Out:\n",
        "# torch.Size([128, 25088])"
      ],
      "execution_count": 87,
      "outputs": [
        {
          "output_type": "stream",
          "text": [
            "torch.Size([128, 512, 7, 7])\n",
            "torch.Size([128, 512, 7, 7])\n",
            "torch.Size([128, 25088])\n"
          ],
          "name": "stdout"
        }
      ]
    },
    {
      "cell_type": "markdown",
      "metadata": {
        "id": "woExUKDt1Bk9",
        "colab_type": "text"
      },
      "source": [
        "<font face=楷体>这将会是一个classifier层的输入, 进一步将会如同下面图表所示的分出classification head 和 regression head 。 现在让我们定义网络</font>\n",
        "<font face=楷体 color=red>  \n",
        "roi_head_classifier = nn.Sequential(*[nn.Linear(25088, 4096),\n",
        "                    nn.Linear(4096, 4096)])\n",
        "</font>"
      ]
    },
    {
      "cell_type": "code",
      "metadata": {
        "id": "pEo8fsBKzdSL",
        "colab_type": "code",
        "colab": {}
      },
      "source": [
        "roi_head_classifier = nn.Sequential(*[nn.Linear(25088, 4096),\n",
        "                    nn.Linear(4096, 4096)])\n",
        "cls_loc = nn.Linear(4096, 21 * 4) # (VOC 20 classes + 1 background. Each wil\n",
        "cls_loc.weight.data.normal_(0, 0.01)\n",
        "cls_loc.bias.data.zero_()\n",
        "score = nn.Linear(4096, 21) # (VOC 20 classes + 1 background)"
      ],
      "execution_count": 0,
      "outputs": []
    },
    {
      "cell_type": "markdown",
      "metadata": {
        "id": "4yNl6GjQ1UYg",
        "colab_type": "text"
      },
      "source": [
        "<font face=楷体>将roi-pooling的输出传到上面我们定义的网络</font>"
      ]
    },
    {
      "cell_type": "code",
      "metadata": {
        "id": "yowLzkPszcxv",
        "colab_type": "code",
        "colab": {
          "base_uri": "https://localhost:8080/",
          "height": 35
        },
        "outputId": "d7dc5ea3-d5de-4865-bc73-4934f97f333a"
      },
      "source": [
        "k = roi_head_classifier(k)\n",
        "roi_cls_loc = cls_loc(k)\n",
        "roi_cls_score = score(k)\n",
        "print(roi_cls_loc.shape, roi_cls_score.shape)\n",
        "#Out:\n",
        "# torch.Size([128, 84]), torch.Size([128, 21])"
      ],
      "execution_count": 89,
      "outputs": [
        {
          "output_type": "stream",
          "text": [
            "torch.Size([128, 84]) torch.Size([128, 21])\n"
          ],
          "name": "stdout"
        }
      ]
    },
    {
      "cell_type": "markdown",
      "metadata": {
        "id": "FnkzOmdI1ctR",
        "colab_type": "text"
      },
      "source": [
        "<font face=楷体>roi_cls_loc 和 roi_cls_score 是从实际边界区域得到的两个输出张量</font>"
      ]
    },
    {
      "cell_type": "markdown",
      "metadata": {
        "id": "XNC-ySHw1fkk",
        "colab_type": "text"
      },
      "source": [
        "## 损失函数\n",
        "<font face=楷体>\n",
        "其中$p_{i}$是预测的班级标签，$p_{i}^*$是实际的班级分数。$t_{i}$并且$t_{i}^*$是预测的原点和实际的坐标。$p_{i}^*$如果锚点为正，则地面真实标签为1；如果锚点为负，则地面真实标签为0。我们将在Pytorch中看到如何完成此操作    \n",
        "RPN和Fast-RCNN都含有两种损失Regression和 classification\n",
        "</font>"
      ]
    },
    {
      "cell_type": "code",
      "metadata": {
        "id": "7RFVcah11d_G",
        "colab_type": "code",
        "colab": {
          "base_uri": "https://localhost:8080/",
          "height": 88
        },
        "outputId": "0ca6b65c-d019-4513-de6d-b94f6fdff1c7"
      },
      "source": [
        "print(pred_anchor_locs.shape)  # RPN网络预测的坐标系数\n",
        "print(pred_cls_scores.shape)  # RPN网络预测的类别\n",
        "print(anchor_locations.shape)   # anchor对应的实际坐标系数\n",
        "print(anchor_labels.shape)  # anchor的实际类别\n",
        "#Out:\n",
        "# torch.Size([1, 12321, 4])\n",
        "# torch.Size([1, 12321, 2])\n",
        "# (12321, 4)\n",
        "# (12321,)"
      ],
      "execution_count": 90,
      "outputs": [
        {
          "output_type": "stream",
          "text": [
            "torch.Size([1, 22500, 4])\n",
            "torch.Size([1, 22500, 2])\n",
            "(22500, 4)\n",
            "(22500,)\n"
          ],
          "name": "stdout"
        }
      ]
    },
    {
      "cell_type": "markdown",
      "metadata": {
        "id": "tFzuDZeH24BC",
        "colab_type": "text"
      },
      "source": [
        "<font face=楷体>重新排列，将输入和输出排成一行</**font**>"
      ]
    },
    {
      "cell_type": "code",
      "metadata": {
        "id": "0iVcPOV61d7u",
        "colab_type": "code",
        "colab": {
          "base_uri": "https://localhost:8080/",
          "height": 35
        },
        "outputId": "39695f01-19c8-4874-984b-33f5f4a0d475"
      },
      "source": [
        "rpn_loc = pred_anchor_locs[0]\n",
        "rpn_score = pred_cls_scores[0]\n",
        "gt_rpn_loc = torch.from_numpy(anchor_locations)\n",
        "gt_rpn_score = torch.from_numpy(anchor_labels)\n",
        "print(rpn_loc.shape, rpn_score.shape, gt_rpn_loc.shape, gt_rpn_score.shape)\n",
        "#Out\n",
        "# torch.Size([12321, 4]) torch.Size([12321, 2]) torch.Size([12321, 4])"
      ],
      "execution_count": 91,
      "outputs": [
        {
          "output_type": "stream",
          "text": [
            "torch.Size([22500, 4]) torch.Size([22500, 2]) torch.Size([22500, 4]) torch.Size([22500])\n"
          ],
          "name": "stdout"
        }
      ]
    },
    {
      "cell_type": "markdown",
      "metadata": {
        "id": "uT1tBGgC2_8R",
        "colab_type": "text"
      },
      "source": [
        "<font face=楷体>pred_cls_scores 和 anchor_labels 是RPN网络的预测对象值和实际对象值  \n",
        "对classification用Cross Entropy损失:</font>\n",
        "$$H(y)=(-1)*\\sum_iy_i*log(y_i)\\\\\n",
        "Softmax = e^{l_{ina}}/(\\sum^3_{a=1}e^{O_{ina}})$$"
      ]
    },
    {
      "cell_type": "markdown",
      "metadata": {
        "id": "L6iEbQoN37HP",
        "colab_type": "text"
      },
      "source": [
        "<font face=楷体>用Pytorch计算损失  \n",
        "rpn_cls_loss = F.cross_entropy(rpn_score, gt_rpn_score.long(), ignore_index = -1)</font>"
      ]
    },
    {
      "cell_type": "code",
      "metadata": {
        "id": "bcOEyCO31d4D",
        "colab_type": "code",
        "colab": {
          "base_uri": "https://localhost:8080/",
          "height": 35
        },
        "outputId": "b97de227-649e-4f9a-ff7d-f2937bbf2321"
      },
      "source": [
        "import torch.nn.functional as F\n",
        "#gt_rpn_score = torch.autograd.Variable(gt_rpn_score.long())\n",
        "rpn_cls_loss = F.cross_entropy(rpn_score, gt_rpn_score.long(), ignore_index = -1)\n",
        "print(rpn_cls_loss)\n",
        "#Out:\n",
        "# Variable containing:\n",
        "#  0.6940\n",
        "# [torch.FloatTensor of size 1]"
      ],
      "execution_count": 92,
      "outputs": [
        {
          "output_type": "stream",
          "text": [
            "tensor(0.6931, grad_fn=<NllLossBackward>)\n"
          ],
          "name": "stdout"
        }
      ]
    },
    {
      "cell_type": "markdown",
      "metadata": {
        "id": "V3bPcGlr3_Pm",
        "colab_type": "text"
      },
      "source": [
        "<font face=楷体>\n",
        "对于 Regression 用smooth L1 损失:\n",
        "$$\\begin{aligned}\n",
        "L_{Loc}(t^u,v)&=\\sum_{i\\in x,y,w,h}smooth_{L_1}(t^u_i-V_i)\\\\\n",
        "smooth_{L_1} &=\\left\\{ \\begin{aligned} 0.5*x^2 \\quad if |x|<1\\\\\n",
        "|x|-0.5 \\quad otherwise\\end{aligned}\\right.\n",
        "\\end{aligned}$$\n",
        "\n",
        "使用 L1 而不是 L2 损失，是因为RPN的预测回归头的值不是有限的。 Regression 损失也被应用在有正标签的边界区域中：\n",
        "</font>\n",
        "\n",
        "<font face=楷体 color=red>\n",
        "gt_rpn_score和gt_rpn_score.data的区别      \n",
        " \n",
        "mask = pos.unsqueeze(1).expand_as(rpn_loc)\n",
        "</font>"
      ]
    },
    {
      "cell_type": "code",
      "metadata": {
        "id": "8HWFpWAO1d0u",
        "colab_type": "code",
        "colab": {
          "base_uri": "https://localhost:8080/",
          "height": 70
        },
        "outputId": "ac554744-95b2-4034-ee50-399cd23e39d3"
      },
      "source": [
        "pos = gt_rpn_score > 0\n",
        "print(pos.shape)\n",
        "mask = pos.unsqueeze(1).expand_as(rpn_loc)\n",
        "print(mask.shape)\n",
        "#Out:\n",
        "# torch.Size(12321, 4)"
      ],
      "execution_count": 96,
      "outputs": [
        {
          "output_type": "stream",
          "text": [
            "torch.Size([22500])\n",
            "torch.Size([22500, 4])\n",
            "torch.Size([22500, 4])\n"
          ],
          "name": "stdout"
        }
      ]
    },
    {
      "cell_type": "markdown",
      "metadata": {
        "id": "gVBbBsOU7LYA",
        "colab_type": "text"
      },
      "source": [
        "<font face=楷体>取有正数标签的边界区域：</font[链接文字](https:// [链接文字](https://))>  \n",
        "\n",
        "<font face=楷体 color=red>\n",
        "mask_loc_targets = gt_rpn_loc[mask].view(-1, 4)\n",
        "</font>"
      ]
    },
    {
      "cell_type": "code",
      "metadata": {
        "id": "bFHMGtKL1dxF",
        "colab_type": "code",
        "colab": {
          "base_uri": "https://localhost:8080/",
          "height": 35
        },
        "outputId": "f987349a-8519-4521-d1d2-46e56172197f"
      },
      "source": [
        "mask_loc_preds = rpn_loc[mask].view(-1, 4)\n",
        "mask_loc_targets = gt_rpn_loc[mask].view(-1, 4)\n",
        "print(mask_loc_preds.shape, mask_loc_preds.shape)\n",
        "#Out:\n",
        "# torch.Size([6, 4]) torch.Size([6, 4])"
      ],
      "execution_count": 97,
      "outputs": [
        {
          "output_type": "stream",
          "text": [
            "torch.Size([18, 4]) torch.Size([18, 4])\n"
          ],
          "name": "stdout"
        }
      ]
    },
    {
      "cell_type": "markdown",
      "metadata": {
        "id": "8Z8nnuyt7N4V",
        "colab_type": "text"
      },
      "source": [
        "<font face=楷体>regression损失应用如下</font>"
      ]
    },
    {
      "cell_type": "code",
      "metadata": {
        "id": "prJ_6vBI1dtl",
        "colab_type": "code",
        "colab": {
          "base_uri": "https://localhost:8080/",
          "height": 35
        },
        "outputId": "bd2ba145-779d-4fc0-d816-2f9975abd704"
      },
      "source": [
        "x = torch.abs(mask_loc_targets - mask_loc_preds)\n",
        "rpn_loc_loss = ((x < 1).float() * 0.5 * x**2) + ((x >= 1).float() * (x-0.5))\n",
        "print(rpn_loc_loss.sum())\n",
        "#Out:\n",
        "# Variable containing:\n",
        "#  0.3826\n",
        "# [torch.FloatTensor of size 1]"
      ],
      "execution_count": 98,
      "outputs": [
        {
          "output_type": "stream",
          "text": [
            "tensor(1.1629, dtype=torch.float64, grad_fn=<SumBackward0>)\n"
          ],
          "name": "stdout"
        }
      ]
    },
    {
      "cell_type": "markdown",
      "metadata": {
        "id": "BHJ3d2Go7YiG",
        "colab_type": "text"
      },
      "source": [
        "<font face=楷体>合并rpn_cls_loss 和 rpn_reg_loss, 因为class loss 应用在全部的边界区域，regression loss 应用在正数标签边界区域,作者已经介绍 Λ 作为超参数。通过使用边界区域的数量：</font>"
      ]
    },
    {
      "cell_type": "code",
      "metadata": {
        "id": "GDD2Zysp7YBJ",
        "colab_type": "code",
        "colab": {
          "base_uri": "https://localhost:8080/",
          "height": 35
        },
        "outputId": "32bc93f5-6756-4d89-de6e-e52ff10ee0d8"
      },
      "source": [
        "rpn_lambda = 10.\n",
        "N_reg = (gt_rpn_score >0).float().sum()\n",
        "rpn_loc_loss = rpn_loc_loss.sum() / N_reg\n",
        "rpn_loss = rpn_cls_loss + (rpn_lambda * rpn_loc_loss)\n",
        "print(rpn_loss)\n",
        "#Out:0.00248"
      ],
      "execution_count": 99,
      "outputs": [
        {
          "output_type": "stream",
          "text": [
            "tensor(1.3392, dtype=torch.float64, grad_fn=<AddBackward0>)\n"
          ],
          "name": "stdout"
        }
      ]
    },
    {
      "cell_type": "markdown",
      "metadata": {
        "id": "Bnwcjlxc7eOn",
        "colab_type": "text"
      },
      "source": [
        "<font face=楷体>Fast RCNN 损失</font>"
      ]
    },
    {
      "cell_type": "markdown",
      "metadata": {
        "id": "CPI5FwBl7rZ8",
        "colab_type": "text"
      },
      "source": [
        "<font face=楷体>预测</font>"
      ]
    },
    {
      "cell_type": "code",
      "metadata": {
        "id": "UaYAQ_wC7X9A",
        "colab_type": "code",
        "colab": {
          "base_uri": "https://localhost:8080/",
          "height": 52
        },
        "outputId": "dc97386c-8dc0-4203-b98a-1201ff37db2f"
      },
      "source": [
        "print(roi_cls_loc.shape)\n",
        "print(roi_cls_score.shape)\n",
        "#Out:\n",
        "# torch.Size([128, 84])\n",
        "# torch.Size([128, 21])"
      ],
      "execution_count": 100,
      "outputs": [
        {
          "output_type": "stream",
          "text": [
            "torch.Size([128, 84])\n",
            "torch.Size([128, 21])\n"
          ],
          "name": "stdout"
        }
      ]
    },
    {
      "cell_type": "markdown",
      "metadata": {
        "id": "fAHnsR-47unI",
        "colab_type": "text"
      },
      "source": [
        "<font face=楷体>真实</font>"
      ]
    },
    {
      "cell_type": "code",
      "metadata": {
        "id": "1vBeTFMJ7X50",
        "colab_type": "code",
        "colab": {
          "base_uri": "https://localhost:8080/",
          "height": 52
        },
        "outputId": "d1c82c15-a2b5-4bf0-e7fe-2c8125441da6"
      },
      "source": [
        "print(gt_roi_locs.shape)\n",
        "print(gt_roi_labels.shape)\n",
        "#Out:\n",
        "#(128, 4)\n",
        "#(128, )"
      ],
      "execution_count": 101,
      "outputs": [
        {
          "output_type": "stream",
          "text": [
            "(128, 4)\n",
            "(128,)\n"
          ],
          "name": "stdout"
        }
      ]
    },
    {
      "cell_type": "markdown",
      "metadata": {
        "id": "DAhWn1nm70TF",
        "colab_type": "text"
      },
      "source": [
        "<font face=楷体>转化到Torch变量</font>"
      ]
    },
    {
      "cell_type": "code",
      "metadata": {
        "id": "3osWlmpD7X2M",
        "colab_type": "code",
        "colab": {
          "base_uri": "https://localhost:8080/",
          "height": 35
        },
        "outputId": "a6ce463c-2c25-4cbc-f4bb-8a977771159e"
      },
      "source": [
        "gt_roi_loc = torch.from_numpy(gt_roi_locs)\n",
        "gt_roi_label = torch.from_numpy(np.float32(gt_roi_labels)).long()\n",
        "print(gt_roi_loc.shape, gt_roi_label.shape)\n",
        "#Out:\n",
        "#torch.Size([128, 4]) torch.Size([128])"
      ],
      "execution_count": 102,
      "outputs": [
        {
          "output_type": "stream",
          "text": [
            "torch.Size([128, 4]) torch.Size([128])\n"
          ],
          "name": "stdout"
        }
      ]
    },
    {
      "cell_type": "markdown",
      "metadata": {
        "id": "yalIF3SB74Y7",
        "colab_type": "text"
      },
      "source": [
        "<font face=楷体>分类损失</font>"
      ]
    },
    {
      "cell_type": "code",
      "metadata": {
        "id": "if1jzNJI7Xy3",
        "colab_type": "code",
        "colab": {
          "base_uri": "https://localhost:8080/",
          "height": 35
        },
        "outputId": "f627874b-c322-4cbd-e789-084e7ec1dd54"
      },
      "source": [
        "#gt_roi_label = torch.autograd.Variable(gt_roi_label)\n",
        "roi_cls_loss = F.cross_entropy(roi_cls_score, gt_roi_label, ignore_index=-1)\n",
        "print(roi_cls_loss)\n",
        "#Out:\n",
        "#Variable containing:\n",
        "#  3.0458\n",
        "# [torch.FloatTensor of size 1]"
      ],
      "execution_count": 107,
      "outputs": [
        {
          "output_type": "stream",
          "text": [
            "tensor(3.0459, grad_fn=<NllLossBackward>)\n"
          ],
          "name": "stdout"
        }
      ]
    },
    {
      "cell_type": "markdown",
      "metadata": {
        "id": "6ib5ZS3I8CUI",
        "colab_type": "text"
      },
      "source": [
        "<font face=楷体>回归损失  \n",
        "每个ROI位置有21（num_classes+background）预测边界框。为了计算损失，我们将只使用带有正标签的边界框（P_i^*）</font>"
      ]
    },
    {
      "cell_type": "code",
      "metadata": {
        "id": "K4koMWcO7XvE",
        "colab_type": "code",
        "colab": {
          "base_uri": "https://localhost:8080/",
          "height": 52
        },
        "outputId": "f78edfab-847b-4f95-dace-3f7670352243"
      },
      "source": [
        "n_sample = roi_cls_loc.shape[0]\n",
        "roi_loc = roi_cls_loc.view(n_sample, -1, 4)\n",
        "print(roi_loc.shape)\n",
        "#Out:\n",
        "#torch.Size([128, 21, 4])\n",
        "roi_loc = roi_loc[torch.arange(0, n_sample).long(), gt_roi_label]\n",
        "print(roi_loc.shape)\n",
        "#Out:\n",
        "#torch.Size([128, 4])"
      ],
      "execution_count": 108,
      "outputs": [
        {
          "output_type": "stream",
          "text": [
            "torch.Size([128, 21, 4])\n",
            "torch.Size([128, 4])\n"
          ],
          "name": "stdout"
        }
      ]
    },
    {
      "cell_type": "markdown",
      "metadata": {
        "id": "itG87bU18Lrq",
        "colab_type": "text"
      },
      "source": [
        "<font face=楷体>\n",
        "用计算RPN网络回归损失的方法计算回归损失\n",
        "</font>"
      ]
    },
    {
      "cell_type": "code",
      "metadata": {
        "id": "BE91alEl8GP7",
        "colab_type": "code",
        "colab": {
          "base_uri": "https://localhost:8080/",
          "height": 106
        },
        "outputId": "b6e3e01e-047e-4a56-cca7-1e2ab40a1fe6"
      },
      "source": [
        "# 用计算RPN网络回归损失的方法计算回归损失\n",
        "# roi_loc_loss = REGLoss(roi_loc, gt_roi_loc)\n",
        "\n",
        "pos = gt_roi_label.data > 0  # Regression 损失也被应用在有正标签的边界区域中\n",
        "mask = pos.unsqueeze(1).expand_as(roi_loc)\n",
        "print(mask.shape)  # (128, 4L)\n",
        "\n",
        "# 现在取有正数标签的边界区域\n",
        "mask_loc_preds = roi_loc[mask].view(-1, 4)\n",
        "mask_loc_targets = gt_roi_loc[mask].view(-1, 4)\n",
        "print(mask_loc_preds.shape, mask_loc_targets.shape)  # ((19L, 4L), (19L, 4L))\n",
        "\n",
        "x = np.abs(mask_loc_targets.numpy() - mask_loc_preds.data.numpy())\n",
        "print (x.shape)  # (19, 4)\n",
        "\n",
        "roi_loc_loss = ((x < 1) * 0.5 * x**2) + ((x >= 1) * (x-0.5))\n",
        "print(roi_loc_loss.sum())  # 1.4645805211187053\n",
        "\n",
        "N_reg = (gt_roi_label > 0).float().sum()\n",
        "N_reg = np.squeeze(N_reg.data.numpy())\n",
        "roi_loc_loss = roi_loc_loss.sum() / N_reg\n",
        "roi_loc_loss = np.float32(roi_loc_loss)\n",
        "print (roi_loc_loss)  # 0.077294916\n",
        "# roi_loc_loss = torch.autograd.Variable(torch.from_numpy(roi_loc_loss))"
      ],
      "execution_count": 115,
      "outputs": [
        {
          "output_type": "stream",
          "text": [
            "torch.Size([128, 4])\n",
            "torch.Size([19, 4]) torch.Size([19, 4])\n",
            "(19, 4)\n",
            "1.4759768960618815\n",
            "0.077682994\n"
          ],
          "name": "stdout"
        }
      ]
    },
    {
      "cell_type": "markdown",
      "metadata": {
        "id": "h936vHzB8U_4",
        "colab_type": "text"
      },
      "source": [
        "<font face=楷体>ROI损失总和</font>"
      ]
    },
    {
      "cell_type": "code",
      "metadata": {
        "id": "33D2g3fS8GJk",
        "colab_type": "code",
        "colab": {
          "base_uri": "https://localhost:8080/",
          "height": 35
        },
        "outputId": "75f5f3ac-0d04-4e18-cadf-910ee2f2df4d"
      },
      "source": [
        "roi_lambda = 10.\n",
        "#roi_cls_loss = np.squeeze(roi_cls_loss.data.numpy())\n",
        "roi_loss = roi_cls_loss + (roi_lambda * roi_loc_loss)\n",
        "print(roi_loss)\n",
        "#Out:\n",
        "#Variable containing:\n",
        "#  4.2353\n",
        "# [torch.FloatTensor of size 1]"
      ],
      "execution_count": 116,
      "outputs": [
        {
          "output_type": "stream",
          "text": [
            "3.8227512687444687\n"
          ],
          "name": "stdout"
        }
      ]
    },
    {
      "cell_type": "markdown",
      "metadata": {
        "id": "bXrDUyKH8cbx",
        "colab_type": "text"
      },
      "source": [
        "<font face=楷体>损失总和   \n",
        "RPN损失+ Fast RCNN损失\n",
        "</font>"
      ]
    },
    {
      "cell_type": "code",
      "metadata": {
        "id": "F0L3uZuJ8GFP",
        "colab_type": "code",
        "colab": {
          "base_uri": "https://localhost:8080/",
          "height": 35
        },
        "outputId": "d409015a-2699-456e-8e6f-b01a91038aab"
      },
      "source": [
        "total_loss = rpn_loss + roi_loss\n",
        "print(total_loss)"
      ],
      "execution_count": 118,
      "outputs": [
        {
          "output_type": "stream",
          "text": [
            "tensor(5.1619, dtype=torch.float64, grad_fn=<AddBackward0>)\n"
          ],
          "name": "stdout"
        }
      ]
    },
    {
      "cell_type": "code",
      "metadata": {
        "id": "pEfNZkVe7QsT",
        "colab_type": "code",
        "colab": {}
      },
      "source": [
        ""
      ],
      "execution_count": 0,
      "outputs": []
    }
  ]
}