{
 "cells": [
  {
   "cell_type": "code",
   "execution_count": 4,
   "metadata": {
    "collapsed": true
   },
   "outputs": [],
   "source": [
    "import numpy as np\n",
    "import matplotlib.pyplot as plt\n",
    "\n",
    "%matplotlib inline"
   ]
  },
  {
   "cell_type": "code",
   "execution_count": 5,
   "metadata": {
    "collapsed": true
   },
   "outputs": [],
   "source": [
    "def zero_pad(X, pad):\n",
    "    \"\"\"\n",
    "    \"\"\"\n",
    "    X_paded = np.pad(X, ((0, 0), (pad, pad), (pad, pad), (0, 0)), \"constant\", constant_values=0)\n",
    "    \n",
    "    return X_paded"
   ]
  },
  {
   "cell_type": "code",
   "execution_count": 21,
   "metadata": {},
   "outputs": [
    {
     "name": "stdout",
     "output_type": "stream",
     "text": [
      "x.shape = (2, 3, 3, 2)\n",
      "x_paded.shape = (2, 7, 7, 2)\n",
      "x[1, 1] = [[ 0.90085595 -0.68372786]\n",
      " [-0.12289023 -0.93576943]\n",
      " [-0.26788808  0.53035547]]\n",
      "x_paded[1, 1] = [[ 0.  0.]\n",
      " [ 0.  0.]\n",
      " [ 0.  0.]\n",
      " [ 0.  0.]\n",
      " [ 0.  0.]\n",
      " [ 0.  0.]\n",
      " [ 0.  0.]]\n"
     ]
    },
    {
     "data": {
      "text/plain": [
       "<matplotlib.image.AxesImage at 0x1d394894518>"
      ]
     },
     "execution_count": 21,
     "metadata": {},
     "output_type": "execute_result"
    },
    {
     "data": {
      "image/png": "[encoded data removed]",
      "text/plain": [
       "<matplotlib.figure.Figure at 0x1d39480c588>"
      ]
     },
     "metadata": {},
     "output_type": "display_data"
    }
   ],
   "source": [
    "np.random.seed(1)\n",
    "x = np.random.randn(2,3, 3, 2)\n",
    "x_paded = zero_pad(x, 2)\n",
    "#查看信息\n",
    "print (\"x.shape =\", x.shape)\n",
    "print (\"x_paded.shape =\", x_paded.shape)\n",
    "print (\"x[1, 1] =\", x[1, 1])\n",
    "print (\"x_paded[1, 1] =\", x_paded[1, 1])\n",
    "# 绘图\n",
    "fig, axarr = plt.subplots(1, 2)\n",
    "axarr[0].set_title(\"x\")\n",
    "axarr[0].imshow(x[0, :, :, 0]) # 显示全部\n",
    "axarr[1].set_title(\"x_paded\")\n",
    "axarr[1].imshow(x_paded[0, :, :, 0])"
   ]
  },
  {
   "cell_type": "code",
   "execution_count": 22,
   "metadata": {},
   "outputs": [
    {
     "name": "stdout",
     "output_type": "stream",
     "text": [
      "[[[[ 1.62434536 -0.61175641]\n",
      "   [-0.52817175 -1.07296862]\n",
      "   [ 0.86540763 -2.3015387 ]]\n",
      "\n",
      "  [[ 1.74481176 -0.7612069 ]\n",
      "   [ 0.3190391  -0.24937038]\n",
      "   [ 1.46210794 -2.06014071]]\n",
      "\n",
      "  [[-0.3224172  -0.38405435]\n",
      "   [ 1.13376944 -1.09989127]\n",
      "   [-0.17242821 -0.87785842]]]\n",
      "\n",
      "\n",
      " [[[ 0.04221375  0.58281521]\n",
      "   [-1.10061918  1.14472371]\n",
      "   [ 0.90159072  0.50249434]]\n",
      "\n",
      "  [[ 0.90085595 -0.68372786]\n",
      "   [-0.12289023 -0.93576943]\n",
      "   [-0.26788808  0.53035547]]\n",
      "\n",
      "  [[-0.69166075 -0.39675353]\n",
      "   [-0.6871727  -0.84520564]\n",
      "   [-0.67124613 -0.0126646 ]]]]\n"
     ]
    },
    {
     "data": {
      "text/plain": [
       "<matplotlib.image.AxesImage at 0x1d394984f60>"
      ]
     },
     "execution_count": 22,
     "metadata": {},
     "output_type": "execute_result"
    },
    {
     "data": {
      "image/png": "[encoded data removed]",
      "text/plain": [
       "<matplotlib.figure.Figure at 0x1d39482dd30>"
      ]
     },
     "metadata": {},
     "output_type": "display_data"
    }
   ],
   "source": [
    "print(x)\n",
    "plt.imshow(x[0, :, :, 0])"
   ]
  },
  {
   "cell_type": "code",
   "execution_count": null,
   "metadata": {
    "collapsed": true
   },
   "outputs": [],
   "source": []
  }
 ],
 "metadata": {
  "kernelspec": {
   "display_name": "Python 3",
   "language": "python",
   "name": "python3"
  },
  "language_info": {
   "codemirror_mode": {
    "name": "ipython",
    "version": 3
   },
   "file_extension": ".py",
   "mimetype": "text/x-python",
   "name": "python",
   "nbconvert_exporter": "python",
   "pygments_lexer": "ipython3",
   "version": "3.5.4"
  }
 },
 "nbformat": 4,
 "nbformat_minor": 2
}
