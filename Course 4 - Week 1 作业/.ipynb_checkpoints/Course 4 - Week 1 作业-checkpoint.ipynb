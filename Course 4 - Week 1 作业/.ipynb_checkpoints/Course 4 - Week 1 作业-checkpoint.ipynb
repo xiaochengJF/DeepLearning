{
 "cells": [
  {
   "cell_type": "code",
   "execution_count": 3,
   "metadata": {},
   "outputs": [
    {
     "name": "stdout",
     "output_type": "stream",
     "text": [
      "The autoreload extension is already loaded. To reload it, use:\n",
      "  %reload_ext autoreload\n"
     ]
    }
   ],
   "source": [
    "import numpy as np\n",
    "import h5py\n",
    "import matplotlib.pyplot as plt\n",
    "\n",
    "%matplotlib inline\n",
    "plt.rcParams['figure.figsize'] = (5.0, 4.0) \n",
    "plt.rcParams['image.interpolation'] = 'nearest'\n",
    "plt.rcParams['image.cmap'] = 'gray'\n",
    "\n",
    "#ipython很好用，但是如果在ipython里已经import过的模块修改后需要重新reload就需要这样???\n",
    "#在执行用户代码前，重新装入软件的扩展和模块。\n",
    "%load_ext autoreload   \n",
    "#autoreload 2：装入所有 %aimport 不包含的模块。???????????????\n",
    "%autoreload 2          \n",
    "\n",
    "np.random.seed(1)      #指定随机种子"
   ]
  },
  {
   "cell_type": "code",
   "execution_count": 6,
   "metadata": {},
   "outputs": [],
   "source": [
    "def zero_pad(X, pad):\n",
    "    \"\"\"\"\"\"\n",
    "    X_paded = np.pad(X, ((0, 0), (pad, pad), (pad, pad), (0, 0)), \"constant\", constant_values=0) #？？？？？？？？？？？？？？\n",
    "    \n",
    "    return X_paded"
   ]
  },
  {
   "cell_type": "code",
   "execution_count": 8,
   "metadata": {},
   "outputs": [
    {
     "name": "stdout",
     "output_type": "stream",
     "text": [
      "x.shape = (4, 3, 3, 2)\n",
      "x_paded.shape = (4, 7, 7, 2)\n",
      "x[1, 1] = [[ 0.90085595 -0.68372786]\n",
      " [-0.12289023 -0.93576943]\n",
      " [-0.26788808  0.53035547]]\n",
      "x_paded[1, 1] = [[ 0.  0.]\n",
      " [ 0.  0.]\n",
      " [ 0.  0.]\n",
      " [ 0.  0.]\n",
      " [ 0.  0.]\n",
      " [ 0.  0.]\n",
      " [ 0.  0.]]\n"
     ]
    },
    {
     "data": {
      "text/plain": [
       "<matplotlib.image.AxesImage at 0x1eedab4ff60>"
      ]
     },
     "execution_count": 8,
     "metadata": {},
     "output_type": "execute_result"
    },
    {
     "data": {
      "image/png": "[encoded data removed]",
      "text/plain": [
       "<matplotlib.figure.Figure at 0x1eedab3a4e0>"
      ]
     },
     "metadata": {},
     "output_type": "display_data"
    }
   ],
   "source": [
    "np.random.seed(1)\n",
    "x = np.random.randn(4, 3, 3, 2)\n",
    "x_paded = zero_pad(x, 2)\n",
    "#查看信息\n",
    "print (\"x.shape =\", x.shape)\n",
    "print (\"x_paded.shape =\", x_paded.shape)\n",
    "print (\"x[1, 1] =\", x[1, 1])\n",
    "print (\"x_paded[1, 1] =\", x_paded[1, 1])\n",
    "# 绘图\n",
    "fig, axarr = plt.subplots(1, 2)\n",
    "axarr[0].set_title(\"x\")\n",
    "axarr[0].imshow(x[0, :, :, 0]) # 显示全部????????????????????????????????????????????????????????????????????\n",
    "axarr[1].set_title(\"x_paded\")\n",
    "axarr[1].imshow(x_paded[0, :, :, 0])"
   ]
  },
  {
   "cell_type": "code",
   "execution_count": 11,
   "metadata": {
    "collapsed": true
   },
   "outputs": [],
   "source": [
    "#\n",
    "def conv_single_step(a_slice_prev, W, b):\n",
    "    \"\"\"\"\"\"\n",
    "    s = np.multiply(a_slice_prev, W) + b\n",
    "    \n",
    "    Z = np.sum(s)\n",
    "    \n",
    "    return Z"
   ]
  },
  {
   "cell_type": "code",
   "execution_count": 12,
   "metadata": {},
   "outputs": [
    {
     "name": "stdout",
     "output_type": "stream",
     "text": [
      "Z = -23.1602122025\n"
     ]
    }
   ],
   "source": [
    "np.random.seed(1)\n",
    "\n",
    "#切片大小和过滤器相同\n",
    "a_slice_prev = np.random.randn(4, 4, 3)\n",
    "W = np.random.randn(4, 4, 3)\n",
    "b = np.random.randn(1, 1, 1)\n",
    "\n",
    "Z = conv_single_step(a_slice_prev, W, b)\n",
    "\n",
    "print(\"Z = \" + str(Z))"
   ]
  },
  {
   "cell_type": "code",
   "execution_count": 15,
   "metadata": {
    "collapsed": true
   },
   "outputs": [],
   "source": [
    "#向前传播\n",
    "def conv_forward(A_prev, W, b, hparameteres):\n",
    "    \"\"\"\"\"\"\n",
    "    # 获取上一层数据的信息\n",
    "    (m, n_H_prev, n_W_prev, n_C_prev) = A_prev.shape\n",
    "    \n",
    "    # 获取权重的基本信息\n",
    "    (f, f, n_C_prev, n_C) = W.shape\n",
    "    \n",
    "    #获取超参数hparameters的值\n",
    "    stride = hparameters[\"stride\"]\n",
    "    pad = hparameters[\"pad\"]\n",
    "    \n",
    "    # 计算卷积后的图像的宽度高度\n",
    "    n_H = int((n_H_prev - f + 2 * pad)/ stride ) + 1\n",
    "    n_W = int((n_W_prev - f + 2 * pad)/ stride ) + 1\n",
    "    \n",
    "    # 使用0来初始化卷积输出Z\n",
    "    Z = np.zeros((m, n_H, n_W, n_C))\n",
    "    \n",
    "    # 通过A_prev创建填充过了的A_preve_pad\n",
    "    A_prev_pad = zero_pad(A_prev, pad)\n",
    "    \n",
    "    for i in range(m): #遍历样本\n",
    "        a_prev_pad = A_prev_pad[i] # 选择第i个样本扩充后的激活矩阵\n",
    "        for h in range(n_H): # 竖直\n",
    "            for w in range(n_W): # 水平\n",
    "                for c in range(n_C): # 通道\n",
    "                    # 定位当前切片位置？\n",
    "                    vert_start = h * stride\n",
    "                    vert_end = vert_start + f\n",
    "                    horiz_start = w * stride\n",
    "                    horiz_end = horiz_start + f\n",
    "                    # 取出\n",
    "                    a_slice_prev = a_prev_pad[vert_start:vert_end,horiz_start:horiz_end,:]\n",
    "                    # 执行单步卷积\n",
    "                    Z[i, h, w, c] = conv_single_step(a_slice_prev, W[:,:,:,c],b[0,0,0,c])\n",
    "    \n",
    "    assert(Z.shape == (m, n_H, n_W, n_C))\n",
    "    \n",
    "    cache = (A_prev, W, b, hparameters)\n",
    "    \n",
    "    return (Z, cache)"
   ]
  },
  {
   "cell_type": "code",
   "execution_count": 16,
   "metadata": {},
   "outputs": [
    {
     "name": "stdout",
     "output_type": "stream",
     "text": [
      "np.mean(Z) =  0.155859324889\n",
      "cache_conv[0][1][2][3] = [-0.20075807  0.18656139  0.41005165]\n"
     ]
    }
   ],
   "source": [
    "np.random.seed(1)\n",
    "\n",
    "A_prev = np.random.randn(10,4,4,3)\n",
    "W = np.random.randn(2,2,3,8)\n",
    "b = np.random.randn(1,1,1,8)\n",
    "\n",
    "hparameters = {\"pad\" : 2, \"stride\": 1}\n",
    "\n",
    "Z , cache_conv = conv_forward(A_prev,W,b,hparameters)\n",
    "\n",
    "print(\"np.mean(Z) = \", np.mean(Z))\n",
    "print(\"cache_conv[0][1][2][3] =\", cache_conv[0][1][2][3])"
   ]
  },
  {
   "cell_type": "code",
   "execution_count": 17,
   "metadata": {
    "collapsed": true
   },
   "outputs": [],
   "source": [
    "# 池化层\n",
    "def pool_forward(A_prev, hparameters, mode=\"max\"):\n",
    "    \"\"\"\"\"\"\n",
    "        #获取输入数据的基本信息\n",
    "    (m , n_H_prev , n_W_prev , n_C_prev) = A_prev.shape\n",
    "\n",
    "    #获取超参数的信息\n",
    "    f = hparameters[\"f\"]\n",
    "    stride = hparameters[\"stride\"]\n",
    "\n",
    "    #计算输出维度\n",
    "    n_H = int((n_H_prev - f) / stride ) + 1\n",
    "    n_W = int((n_W_prev - f) / stride ) + 1\n",
    "    n_C = n_C_prev\n",
    "\n",
    "    #初始化输出矩阵\n",
    "    A = np.zeros((m , n_H , n_W , n_C))\n",
    "\n",
    "    for i in range(m):                              #遍历样本\n",
    "        for h in range(n_H):                        #在输出的垂直轴上循环\n",
    "            for w in range(n_W):                    #在输出的水平轴上循环\n",
    "                for c in range(n_C):                #循环遍历输出的通道\n",
    "                    #定位当前的切片位置\n",
    "                    vert_start = h * stride         #竖向，开始的位置\n",
    "                    vert_end = vert_start + f       #竖向，结束的位置\n",
    "                    horiz_start = w * stride        #横向，开始的位置\n",
    "                    horiz_end = horiz_start + f     #横向，结束的位置\n",
    "                    #定位完毕，开始切割\n",
    "                    a_slice_prev = A_prev[i,vert_start:vert_end,horiz_start:horiz_end,c]\n",
    "\n",
    "                    #对切片进行池化操作\n",
    "                    if mode == \"max\":\n",
    "                        A[ i , h , w , c ] = np.max(a_slice_prev)\n",
    "                    elif mode == \"average\":\n",
    "                        A[ i , h , w , c ] = np.mean(a_slice_prev)\n",
    "\n",
    "    #池化完毕，校验数据格式\n",
    "    assert(A.shape == (m , n_H , n_W , n_C))\n",
    "\n",
    "    #校验完毕，开始存储用于反向传播的值\n",
    "    cache = (A_prev,hparameters)\n",
    "\n",
    "    return A,cache"
   ]
  },
  {
   "cell_type": "code",
   "execution_count": 18,
   "metadata": {},
   "outputs": [
    {
     "name": "stdout",
     "output_type": "stream",
     "text": [
      "mode = max\n",
      "A = [[[[ 1.74481176  1.6924546   2.10025514]]]\n",
      "\n",
      "\n",
      " [[[ 1.19891788  1.51981682  2.18557541]]]]\n",
      "----------------------------\n",
      "mode = average\n",
      "A = [[[[-0.09498456  0.11180064 -0.14263511]]]\n",
      "\n",
      "\n",
      " [[[-0.09525108  0.28325018  0.33035185]]]]\n"
     ]
    }
   ],
   "source": [
    "np.random.seed(1)\n",
    "A_prev = np.random.randn(2,4,4,3)\n",
    "hparameters = {\"f\":4 , \"stride\":1}\n",
    "\n",
    "A , cache = pool_forward(A_prev,hparameters,mode=\"max\")\n",
    "A, cache = pool_forward(A_prev, hparameters)\n",
    "print(\"mode = max\")\n",
    "print(\"A =\", A)\n",
    "print(\"----------------------------\")\n",
    "A, cache = pool_forward(A_prev, hparameters, mode = \"average\")\n",
    "print(\"mode = average\")\n",
    "print(\"A =\", A)"
   ]
  },
  {
   "cell_type": "code",
   "execution_count": null,
   "metadata": {
    "collapsed": true
   },
   "outputs": [],
   "source": [
    "# 卷积神经网络的反向传播\n",
    "def conv_backward(dZ, cache):\n",
    "    \"\"\"\"\"\"\n",
    "    "
   ]
  }
 ],
 "metadata": {
  "kernelspec": {
   "display_name": "Python 3",
   "language": "python",
   "name": "python3"
  },
  "language_info": {
   "codemirror_mode": {
    "name": "ipython",
    "version": 3
   },
   "file_extension": ".py",
   "mimetype": "text/x-python",
   "name": "python",
   "nbconvert_exporter": "python",
   "pygments_lexer": "ipython3",
   "version": "3.5.4"
  }
 },
 "nbformat": 4,
 "nbformat_minor": 2
}
