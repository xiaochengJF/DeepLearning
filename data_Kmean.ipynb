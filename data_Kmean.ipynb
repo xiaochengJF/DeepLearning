{
  "nbformat": 4,
  "nbformat_minor": 0,
  "metadata": {
    "colab": {
      "name": "Untitled0.ipynb",
      "provenance": [],
      "include_colab_link": true
    },
    "kernelspec": {
      "name": "python3",
      "display_name": "Python 3"
    }
  },
  "cells": [
    {
      "cell_type": "markdown",
      "metadata": {
        "id": "view-in-github",
        "colab_type": "text"
      },
      "source": [
        "<a href=\"https://colab.research.google.com/github/xiaochengJF/DeepLearning/blob/master/data_Kmean.ipynb\" target=\"_parent\"><img src=\"https://colab.research.google.com/assets/colab-badge.svg\" alt=\"Open In Colab\"/></a>"
      ]
    },
    {
      "cell_type": "code",
      "metadata": {
        "id": "-DO5nh79lQlJ",
        "colab_type": "code",
        "colab": {}
      },
      "source": [
        ""
      ],
      "execution_count": 0,
      "outputs": []
    },
    {
      "cell_type": "code",
      "metadata": {
        "id": "yq5kPMOLlhZM",
        "colab_type": "code",
        "colab": {
          "base_uri": "https://localhost:8080/",
          "height": 121
        },
        "outputId": "f34f3bd6-ea66-4cf1-bc85-3ce5a6f082eb"
      },
      "source": [
        "from google.colab import drive\n",
        "drive.mount('/content/drive')"
      ],
      "execution_count": 1,
      "outputs": [
        {
          "output_type": "stream",
          "text": [
            "Go to this URL in a browser: https://accounts.google.com/o/oauth2/auth?client_id=947318989803-6bn6qk8qdgf4n4g3pfee6491hc0brc4i.apps.googleusercontent.com&redirect_uri=urn%3aietf%3awg%3aoauth%3a2.0%3aoob&response_type=code&scope=email%20https%3a%2f%2fwww.googleapis.com%2fauth%2fdocs.test%20https%3a%2f%2fwww.googleapis.com%2fauth%2fdrive%20https%3a%2f%2fwww.googleapis.com%2fauth%2fdrive.photos.readonly%20https%3a%2f%2fwww.googleapis.com%2fauth%2fpeopleapi.readonly\n",
            "\n",
            "Enter your authorization code:\n",
            "··········\n",
            "Mounted at /content/drive\n"
          ],
          "name": "stdout"
        }
      ]
    },
    {
      "cell_type": "code",
      "metadata": {
        "id": "PGqGrezQliGL",
        "colab_type": "code",
        "colab": {
          "base_uri": "https://localhost:8080/",
          "height": 34
        },
        "outputId": "1f3a6eae-715c-42f9-cb89-731c07139da3"
      },
      "source": [
        "cd \"/content/drive/My Drive/competitions/Json\""
      ],
      "execution_count": 16,
      "outputs": [
        {
          "output_type": "stream",
          "text": [
            "/content/drive/My Drive/competitions/Json\n"
          ],
          "name": "stdout"
        }
      ]
    },
    {
      "cell_type": "code",
      "metadata": {
        "id": "L0EPZI0omCY6",
        "colab_type": "code",
        "colab": {}
      },
      "source": [
        "from __future__ import division, print_function\n",
        "\n",
        "import numpy as np\n",
        "import json"
      ],
      "execution_count": 0,
      "outputs": []
    },
    {
      "cell_type": "code",
      "metadata": {
        "id": "nOBJtxc7mJn-",
        "colab_type": "code",
        "colab": {}
      },
      "source": [
        "def iou(box, clusters):\n",
        "    x = np.minimum(clusters[:, 0], box[0])\n",
        "    y = np.minimum(clusters[:, 1], box[1])\n",
        "    if np.count_nonzero(x == 0) > 0 or np.count_nonzero(y == 0) > 0:\n",
        "        raise ValueError(\"Box has no area\")\n",
        "\n",
        "    intersection = x * y\n",
        "    box_area = box[0] * box[1]\n",
        "    cluster_area = clusters[:, 0] * clusters[:, 1]\n",
        "\n",
        "    iou_ = intersection / (box_area + cluster_area - intersection + 1e-10)\n",
        "\n",
        "    return iou_\n",
        "\n",
        "def avg_iou(boxes, clusters):\n",
        "    return np.mean([np.max(iou(boxes[i], clusters)) for i in range(boxes.shape[0])])\n",
        "\n",
        "def translate_boxes(boxes):\n",
        "    new_boxes = boxes.copy()\n",
        "    for row in range(new_boxes.shape[0]):\n",
        "        new_boxes[row][2] = np.abs(new_boxes[row][2] - new_boxes[row][0])\n",
        "        new_boxes[row][3] = np.abs(new_boxes[row][3] - new_boxes[row][1])\n",
        "    return np.delete(new_boxes, [0, 1], axis=1)\n",
        "\n",
        "def kmeans(boxes, k, dist=np.median):\n",
        "    rows = boxes.shape[0]\n",
        "\n",
        "    distances = np.empty((rows, k))\n",
        "    last_clusters = np.zeros((rows,))\n",
        "\n",
        "    np.random.seed()\n",
        "\n",
        "    clusters = boxes[np.random.choice(rows, k, replace=False)]\n",
        "\n",
        "    while True:\n",
        "        for row in range(rows):\n",
        "            distances[row] = 1 - iou(boxes[row], clusters)\n",
        "\n",
        "        nearest_clusters = np.argmin(distances, axis=1)\n",
        "\n",
        "        if (last_clusters == nearest_clusters).all():\n",
        "            break\n",
        "\n",
        "        for cluster in range(k):\n",
        "            clusters[cluster] = dist(boxes[nearest_clusters == cluster], axis=0)\n",
        "\n",
        "        last_clusters = nearest_clusters\n",
        "\n",
        "    return clusters\n",
        "\n",
        "def get_kmeans(anno, cluster_num=9):\n",
        "\n",
        "    anchors = kmeans(anno, cluster_num)\n",
        "    ave_iou = avg_iou(anno, anchors)\n",
        "\n",
        "    anchors = anchors.astype('int').tolist()\n",
        "\n",
        "    anchors = sorted(anchors, key=lambda x: x[0] * x[1])\n",
        "\n",
        "    return anchors, ave_iou"
      ],
      "execution_count": 0,
      "outputs": []
    },
    {
      "cell_type": "code",
      "metadata": {
        "id": "Loi8xOYimN9q",
        "colab_type": "code",
        "colab": {}
      },
      "source": [
        "def parse_anno(annotation_path):\n",
        "    result = []\n",
        "    with open(annotation_path) as f:\n",
        "        data = json.load(f)\n",
        "\n",
        "    for i in data['images']:\n",
        "        file_name = i['file_name']\n",
        "        image_id = i['id']\n",
        "        # box =  box.append[image_height, image_width]\n",
        "\n",
        "        for a in data['annotations']:\n",
        "            if a['image_id'] == image_id:\n",
        "                bbox = [int(b) for b in a['bbox']]\n",
        "                result.append([bbox[2], bbox[3]])\n",
        "    result = np.asarray(result)\n",
        "    return result"
      ],
      "execution_count": 0,
      "outputs": []
    },
    {
      "cell_type": "code",
      "metadata": {
        "id": "mPA_i14xqbz7",
        "colab_type": "code",
        "colab": {}
      },
      "source": [
        "def parse_anno(annotation_path):\n",
        "    result = []\n",
        "    box_wh = []   # 总框的宽高\n",
        "    box_wh1 = []  # 1框的宽高\n",
        "    box_wh2 = []  # 2框的宽高\n",
        "    box_wh3 = []  # 3框的宽高\n",
        "    box_wh4 = []  # 4框的宽高\n",
        "    box_wh5 = []  # 5框的宽高\n",
        "    box_wh6 = []  # 6框的宽高\n",
        "    box_wh7 = []  # 7框的宽高\n",
        "    box_wh8 = []  # 8框的宽高\n",
        "    box_wh9 = []  # 9框的宽高\n",
        "    box_wh10 = [] # 10框的宽高\n",
        "    with open(annotation_path) as f:\n",
        "        data = json.load(f)\n",
        "        \n",
        "    for i in data['images']:\n",
        "        file_name = i['file_name']\n",
        "        image_id = i['id']\n",
        "        for a in data['annotations']:\n",
        "            if a['image_id'] == image_id:\n",
        "                bbox = [int(b) for b in a['bbox']]\n",
        "                box_wh.append([bbox[2], bbox[3]])\n",
        "            if int(a[\"category_id\"]) == 1:\n",
        "                box_wh1.append([bbox[2], bbox[3]])\n",
        "            if int(a[\"category_id\"]) == 2:\n",
        "                box_wh2.append([bbox[2], bbox[3]])\n",
        "            if int(a[\"category_id\"]) == 3:\n",
        "                box_wh3.append([bbox[2], bbox[3]])\n",
        "            if int(a[\"category_id\"]) == 4:\n",
        "                box_wh4.append([bbox[2], bbox[3]])\n",
        "            if int(a[\"category_id\"]) == 5:\n",
        "                box_wh5.append([bbox[2], bbox[3]])\n",
        "            if int(a[\"category_id\"]) == 6:\n",
        "                box_wh6.append([bbox[2], bbox[3]])\n",
        "            if int(a[\"category_id\"]) == 7:\n",
        "                box_wh7.append([bbox[2], bbox[3]])\n",
        "            if int(a[\"category_id\"]) == 8:\n",
        "                box_wh8.append([bbox[2], bbox[3]])\n",
        "            if int(a[\"category_id\"]) == 9:\n",
        "                box_wh9.append([bbox[2], bbox[3]])\n",
        "            if int(a[\"category_id\"]) == 10:\n",
        "                box_wh10.append([bbox[2], bbox[3]])\n",
        "    result = np.asarray(box_wh)\n",
        "    result1 = np.asarray(box_wh1)\n",
        "    result2 = np.asarray(box_wh2)\n",
        "    result3 = np.asarray(box_wh3)\n",
        "    result4 = np.asarray(box_wh4)\n",
        "    result5 = np.asarray(box_wh5)\n",
        "    result6 = np.asarray(box_wh6)\n",
        "    result7 = np.asarray(box_wh7)\n",
        "    result8 = np.asarray(box_wh8)\n",
        "    result9 = np.asarray(box_wh9)\n",
        "    result10 = np.asarray(box_wh10)\n",
        "    return result , result1,   result2,   result3,   result4,   result5,   result6,   result7,   result8,   result9,   result10      \n",
        "    \n",
        "    "
      ],
      "execution_count": 0,
      "outputs": []
    },
    {
      "cell_type": "code",
      "metadata": {
        "id": "D8q84um1mzQi",
        "colab_type": "code",
        "colab": {
          "base_uri": "https://localhost:8080/",
          "height": 776
        },
        "outputId": "91167ba9-a4ec-4326-a1ec-32ad9bf89b91"
      },
      "source": [
        "if __name__ == '__main__':\n",
        "    annotation_path = \"annotations.json\"\n",
        "    result,result1,result2,result3,result4,result5,result6,result7,result8,result9,result10 = parse_anno(annotation_path)\n",
        "    for k in range(10, 20):\n",
        "        anchors, ave_iou = get_kmeans(result, k)\n",
        "\n",
        "        anchor_string = ''\n",
        "        for anchor in anchors:\n",
        "            anchor_string += '[{},{}] '.format(anchor[0], anchor[1])\n",
        "        anchor_string = anchor_string[:-2]\n",
        "\n",
        "        print('当k={}:\\n anchor：{}]'.format(k, anchor_string))\n",
        "        #print('the average iou is:')\n",
        "        #print(ave_iou)\n"
      ],
      "execution_count": 28,
      "outputs": [
        {
          "output_type": "stream",
          "text": [
            "当k=10:\n",
            " anchor：[14,13] [11,22] [21,19] [26,35] [85,16] [53,40] [177,39] [93,81] [356,120] [2245,1609]\n",
            "the average iou is:\n",
            "0.6811416381340849\n",
            "当k=11:\n",
            " anchor：[11,13] [17,15] [21,22] [30,39] [85,15] [57,38] [177,38] [91,77] [358,115] [133,529] [2263,1613]\n",
            "the average iou is:\n",
            "0.7012566883626311\n",
            "当k=12:\n",
            " anchor：[12,12] [17,15] [13,26] [22,21] [29,38] [85,16] [54,38] [89,77] [177,39] [358,115] [133,529] [2263,1613]\n",
            "the average iou is:\n",
            "0.7089343743893349\n",
            "当k=13:\n",
            " anchor：[12,12] [13,17] [18,15] [17,21] [23,22] [49,14] [29,41] [106,18] [57,39] [177,39] [93,81] [356,120] [2251,1609]\n",
            "the average iou is:\n",
            "0.7026324651187815\n",
            "当k=14:\n",
            " anchor：[11,13] [17,15] [19,21] [16,39] [27,25] [85,15] [36,45] [58,35] [77,61] [176,39] [109,117] [358,114] [137,547] [2263,1613]\n",
            "the average iou is:\n",
            "0.7239799121465881\n",
            "当k=15:\n",
            " anchor：[11,11] [13,14] [17,17] [22,14] [14,33] [22,22] [53,19] [33,38] [106,17] [61,45] [178,39] [97,81] [358,115] [133,537] [2263,1613]\n",
            "the average iou is:\n",
            "0.7300166550712115\n",
            "当k=16:\n",
            " anchor：[11,13] [16,14] [21,21] [16,35] [45,13] [34,35] [106,17] [59,34] [42,75] [65,52] [101,70] [183,39] [109,153] [358,114] [141,561] [2263,1613]\n",
            "the average iou is:\n",
            "0.7355090076726069\n",
            "当k=17:\n",
            " anchor：[13,13] [11,22] [19,18] [25,22] [21,33] [54,17] [37,34] [29,56] [109,16] [53,41] [87,37] [69,65] [184,39] [113,97] [358,114] [137,537] [2263,1613]\n",
            "the average iou is:\n",
            "0.7400816069580894\n",
            "当k=18:\n",
            " anchor：[10,11] [13,13] [11,21] [23,11] [17,15] [19,18] [22,23] [17,43] [55,15] [36,35] [114,18] [68,37] [49,59] [180,39] [99,81] [358,115] [133,537] [2263,1613]\n",
            "the average iou is:\n",
            "0.7461359648242756\n"
          ],
          "name": "stdout"
        },
        {
          "output_type": "stream",
          "text": [
            "/usr/local/lib/python3.6/dist-packages/numpy/core/fromnumeric.py:3257: RuntimeWarning: Mean of empty slice.\n",
            "  out=out, **kwargs)\n",
            "/usr/local/lib/python3.6/dist-packages/numpy/core/_methods.py:154: RuntimeWarning: invalid value encountered in true_divide\n",
            "  ret, rcount, out=ret, casting='unsafe', subok=False)\n"
          ],
          "name": "stderr"
        },
        {
          "output_type": "stream",
          "text": [
            "当k=19:\n",
            " anchor：[11,11] [13,14] [18,15] [13,30] [19,21] [26,23] [53,13] [29,41] [54,35] [109,18] [58,58] [89,69] [178,38] [160,65] [105,153] [359,114] [141,561] [2263,1613] [-9223372036854775808,-9223372036854775808]\n",
            "the average iou is:\n",
            "0.7494156267193334\n"
          ],
          "name": "stdout"
        }
      ]
    },
    {
      "cell_type": "code",
      "metadata": {
        "id": "_IZNOYbKvQBU",
        "colab_type": "code",
        "colab": {
          "base_uri": "https://localhost:8080/",
          "height": 131
        },
        "outputId": "eaca5668-a3cb-4f0d-deaa-4772b6bd240d"
      },
      "source": [
        "anchors, ave_iou = get_kmeans(result1, 2)\n",
        "\n",
        "anchor_string = ''\n",
        "for anchor in anchors:\n",
        "anchor_string += '[{},{}] '.format(anchor[0], anchor[1])\n",
        "anchor_string = anchor_string[:-2]\n",
        "print('类别1：{}]'.format(anchor_string))"
      ],
      "execution_count": 30,
      "outputs": [
        {
          "output_type": "error",
          "ename": "IndentationError",
          "evalue": "ignored",
          "traceback": [
            "\u001b[0;36m  File \u001b[0;32m\"<ipython-input-30-f8ee18d76129>\"\u001b[0;36m, line \u001b[0;32m5\u001b[0m\n\u001b[0;31m    anchor_string += '[{},{}] '.format(anchor[0], anchor[1])\u001b[0m\n\u001b[0m                ^\u001b[0m\n\u001b[0;31mIndentationError\u001b[0m\u001b[0;31m:\u001b[0m expected an indented block\n"
          ]
        }
      ]
    },
    {
      "cell_type": "code",
      "metadata": {
        "id": "9zv9na6hpO10",
        "colab_type": "code",
        "colab": {
          "base_uri": "https://localhost:8080/",
          "height": 282
        },
        "outputId": "afa28c09-69db-4606-b8d3-2b3cf922613f"
      },
      "source": [
        "import matplotlib.pyplot as plt\n",
        "x = anno_result[:,0]\n",
        "y = anno_result[:,1]\n",
        "plt.plot(x, y, \"bo\")"
      ],
      "execution_count": 13,
      "outputs": [
        {
          "output_type": "execute_result",
          "data": {
            "text/plain": [
              "[<matplotlib.lines.Line2D at 0x7f722678f4e0>]"
            ]
          },
          "metadata": {
            "tags": []
          },
          "execution_count": 13
        },
        {
          "output_type": "display_data",
          "data": {
            "image/png": "[encoded data removed]",
            "text/plain": [
              "<Figure size 432x288 with 1 Axes>"
            ]
          },
          "metadata": {
            "tags": []
          }
        }
      ]
    },
    {
      "cell_type": "code",
      "metadata": {
        "id": "0clm-17gm0a6",
        "colab_type": "code",
        "colab": {}
      },
      "source": [
        ""
      ],
      "execution_count": 0,
      "outputs": []
    }
  ]
}