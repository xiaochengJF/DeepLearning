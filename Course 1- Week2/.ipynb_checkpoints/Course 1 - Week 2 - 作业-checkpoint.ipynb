{
 "cells": [
  {
   "cell_type": "code",
   "execution_count": 5,
   "metadata": {
    "collapsed": true
   },
   "outputs": [],
   "source": [
    "import numpy as np\n",
    "import matplotlib.pyplot as plt\n",
    "import h5py\n",
    "from lr_utils import load_dataset"
   ]
  },
  {
   "cell_type": "code",
   "execution_count": 6,
   "metadata": {
    "collapsed": true
   },
   "outputs": [],
   "source": [
    "#def load_dataset():\n",
    "#    train_dataset = h5py.File('datasets/train_catvnoncat.h5', 'r')"
   ]
  },
  {
   "cell_type": "code",
   "execution_count": 8,
   "metadata": {},
   "outputs": [
    {
     "name": "stdout",
     "output_type": "stream",
     "text": [
      "[[[15 15  5]\n",
      "  [17 17  6]\n",
      "  [17 17  7]\n",
      "  ..., \n",
      "  [ 1  1  0]\n",
      "  [ 1  1  1]\n",
      "  [ 1  1  1]]\n",
      "\n",
      " [[16 16  5]\n",
      "  [18 17  6]\n",
      "  [19 18  9]\n",
      "  ..., \n",
      "  [ 1  1  0]\n",
      "  [ 1  1  1]\n",
      "  [ 1  1  1]]\n",
      "\n",
      " [[16 16  6]\n",
      "  [18 17  8]\n",
      "  [21 19  9]\n",
      "  ..., \n",
      "  [ 1  1  1]\n",
      "  [ 1  1  0]\n",
      "  [ 2  2  1]]\n",
      "\n",
      " ..., \n",
      " [[16 21 18]\n",
      "  [22 27 24]\n",
      "  [29 35 33]\n",
      "  ..., \n",
      "  [ 0  1  0]\n",
      "  [ 0  0  0]\n",
      "  [ 0  0  0]]\n",
      "\n",
      " [[16 20 16]\n",
      "  [22 29 25]\n",
      "  [29 35 32]\n",
      "  ..., \n",
      "  [ 1  3  1]\n",
      "  [ 0  1  0]\n",
      "  [ 0  0  0]]\n",
      "\n",
      " [[14 19 14]\n",
      "  [21 29 25]\n",
      "  [31 37 33]\n",
      "  ..., \n",
      "  [ 2  4  2]\n",
      "  [ 1  2  1]\n",
      "  [ 0  0  0]]]\n"
     ]
    },
    {
     "data": {
      "image/png": "[encoded data removed]",
      "text/plain": [
       "<matplotlib.figure.Figure at 0x220f00cdcf8>"
      ]
     },
     "metadata": {},
     "output_type": "display_data"
    }
   ],
   "source": [
    "#train_dataset = h5py.File('datasets/train_catvnoncat.h5', \"r\")\n",
    "#train_set_x_orig = np.array(train_dataset[\"train_set_x\"][:]) # your train set features\n",
    "#train_set_y_orig = np.array(train_dataset[\"train_set_y\"][:]) # your train set labels\n",
    "#\n",
    "#test_dataset = h5py.File('datasets/test_catvnoncat.h5', \"r\")\n",
    "#test_set_x_orig = np.array(test_dataset[\"test_set_x\"][:]) # your test set features\n",
    "#test_set_y_orig = np.array(test_dataset[\"test_set_y\"][:]) # your test set labels\n",
    "\n",
    "#classes = np.array(test_dataset[\"list_classes\"][:]) # the list of classes\n",
    "# 加载数据    \n",
    "train_set_x_orig, train_set_y, test_set_x_orig, test_set_y, classes = load_dataset() \n",
    "print(train_set_x_orig[25])\n",
    "plt.imshow(train_set_x_orig[25])\n",
    "plt.show()\n",
    "#print(train_set_y[0,25])\n",
    "#print(\"y=\" + str(train_set_y[:,0]) + \", it's a \" + classes[np.squeeze(train_set_y[:,0])].decode(\"utf-8\") + \"' picture\")"
   ]
  },
  {
   "cell_type": "code",
   "execution_count": 15,
   "metadata": {
    "scrolled": true
   },
   "outputs": [
    {
     "name": "stdout",
     "output_type": "stream",
     "text": [
      "训练集数量_train：209\n",
      "测试集数量m_test：50\n",
      "图片宽、高num_px：64\n",
      "每张图片的大小 : (64, 64, 3)\n",
      "训练集_图片的维数 : (209, 64, 64, 3)\n",
      "训练集_标签的维数 : (1, 209)\n",
      "测试集_图片的维数: (50, 64, 64, 3)\n",
      "测试集_标签的维数: (1, 50)\n"
     ]
    }
   ],
   "source": [
    "m_train = train_set_y.shape[1] #训练集里图片的数量\n",
    "#print(train_set_y)\n",
    "m_test = test_set_y.shape[1]\n",
    "num_px = train_set_x_orig.shape[1]\n",
    "print('训练集数量_train：' + str(m_train))\n",
    "print('测试集数量m_test：%d'%m_test)\n",
    "print('图片宽、高num_px：%d'%num_px)\n",
    "print (\"每张图片的大小 : (\" + str(num_px) + \", \" + str(num_px) + \", 3)\")\n",
    "print (\"训练集_图片的维数 : \" + str(train_set_x_orig.shape))\n",
    "print (\"训练集_标签的维数 : \" + str(train_set_y.shape))\n",
    "print (\"测试集_图片的维数: \" + str(test_set_x_orig.shape))\n",
    "print (\"测试集_标签的维数: \" + str(test_set_y.shape))    "
   ]
  },
  {
   "cell_type": "code",
   "execution_count": 7,
   "metadata": {},
   "outputs": [
    {
     "name": "stdout",
     "output_type": "stream",
     "text": [
      "训练集降维最后的维度： (12288, 209)\n",
      "训练集_标签的维数 : (1, 209)\n",
      "测试集降维之后的维度: (12288, 50)\n",
      "测试集_标签的维数 : (1, 50)\n"
     ]
    }
   ],
   "source": [
    "#降维（目的）\n",
    "train_set_x_flatten = train_set_x_orig.reshape(train_set_x_orig.shape[0],-1).T # 参数-1自动计算有多少列\n",
    "#print(train_set_x_flatten)\n",
    "test_set_x_flatten = test_set_x_orig.reshape(test_set_x_orig.shape[0],-1).T\n",
    "#print(test_set_x_flatten)\n",
    "print (\"训练集降维最后的维度： \" + str(train_set_x_flatten.shape))\n",
    "print (\"训练集_标签的维数 : \" + str(train_set_y.shape))\n",
    "print (\"测试集降维之后的维度: \" + str(test_set_x_flatten.shape))\n",
    "print (\"测试集_标签的维数 : \" + str(test_set_y.shape))"
   ]
  },
  {
   "cell_type": "code",
   "execution_count": 8,
   "metadata": {
    "collapsed": true
   },
   "outputs": [],
   "source": [
    "#标准化数据（使得梯度下降法能够更直接更快速地找到最小值）\n",
    "train_set_x = train_set_x_flatten / 255\n",
    "test_set_x = test_set_x_flatten / 255"
   ]
  },
  {
   "cell_type": "code",
   "execution_count": 9,
   "metadata": {
    "collapsed": true
   },
   "outputs": [],
   "source": [
    "#构建sigmoid函数\n",
    "def sigmoid(z):\n",
    "    \"\"\"\n",
    "    \"\"\"\n",
    "    s = 1 / (1 + np.exp(-z))\n",
    "    return s"
   ]
  },
  {
   "cell_type": "code",
   "execution_count": 10,
   "metadata": {},
   "outputs": [
    {
     "name": "stdout",
     "output_type": "stream",
     "text": [
      "================================测试========================================\n",
      "sigmoid(0) = 0.5\n",
      "sigmoid(9.2) = 0.999898970806\n"
     ]
    }
   ],
   "source": [
    "#测试sigmoid函数\n",
    "print('================================测试========================================')\n",
    "print('sigmoid(0) = ' + str(sigmoid(0)))\n",
    "print('sigmoid(9.2) = ' + str(sigmoid(9.2)))\n"
   ]
  },
  {
   "cell_type": "code",
   "execution_count": 11,
   "metadata": {
    "collapsed": true
   },
   "outputs": [],
   "source": [
    "#初始化参数w和b\n",
    "def initialize_with_zeros(dim):\n",
    "    \"\"\"\n",
    "    \"\"\"\n",
    "    w = np.zeros(shape = (dim,1))#为什么用0初始化，随机初始化会怎么样???????没有隐藏层相当于逻辑回归，逻辑回归没有隐藏层，导数取决于 x \n",
    "    b = 0\n",
    "    assert(w.shape == (dim,1))\n",
    "    assert(isinstance(b, float) or isinstance(b,int))\n",
    "    \n",
    "    return (w, b)"
   ]
  },
  {
   "cell_type": "code",
   "execution_count": 12,
   "metadata": {
    "collapsed": true
   },
   "outputs": [],
   "source": [
    "#向前向后传播过程\n",
    "\n",
    "def propagate(w,b,X,Y):\n",
    "    \n",
    "    m = X.shape[1]# 降维及标准化之后X列数即样本个数\n",
    "    #print('m = %d'%m)\n",
    "    #正向\n",
    "    A = sigmoid(np.dot(w.T, X) + b)\n",
    "    cost = (-1 / m) * np.sum(Y * np.log(A) + (1 - Y) * (np.log(1 - A)))\n",
    "    #反向\n",
    "    dw = (1 / m) * np.dot(X, (A - Y).T)\n",
    "    db = (1 / m) * np.sum(A - Y)\n",
    "    \n",
    "    #确保数据正确\n",
    "    assert(dw.shape == w.shape)\n",
    "    assert(db.dtype == float)\n",
    "    cost = np.squeeze(cost)\n",
    "    assert(cost.shape == ())#？？？？？？？？？？？？？？？？？？？？？？？？？？？？？？？？？？\n",
    "    \n",
    "    #保存w和b\n",
    "    grads = {\n",
    "        \n",
    "        \"dw\" : dw,\n",
    "        'db' : db\n",
    "    }\n",
    "    \n",
    "    return (grads, cost)"
   ]
  },
  {
   "cell_type": "code",
   "execution_count": 13,
   "metadata": {},
   "outputs": [
    {
     "name": "stdout",
     "output_type": "stream",
     "text": [
      "=========================================测试propagate=====================================\n",
      "dw = [[ 0.99993216]\n",
      " [ 1.99980262]]\n",
      "db = 0.499935230625\n",
      "cost = 6.00006477319\n"
     ]
    }
   ],
   "source": [
    "#测试传播过程\n",
    "print('=========================================测试propagate=====================================')\n",
    "w, b, X, Y =np.array([[1],[2]]), 2, np.array([[1,2],[3,4]]),np.array([[1,0]])\n",
    "grads, cost = propagate(w, b, X, Y)\n",
    "print('dw = '+ str(grads['dw']))\n",
    "print('db = '+ str(grads['db']))\n",
    "print('cost = ' + str(cost))"
   ]
  },
  {
   "cell_type": "code",
   "execution_count": 14,
   "metadata": {
    "collapsed": true
   },
   "outputs": [],
   "source": [
    "#优化成本函数\n",
    "def optimize(w, b, X, Y, num_iterations, learning_rate, print_cost= False):\n",
    "    \"\"\"\n",
    "    \"\"\"\n",
    "    costs = []\n",
    "    \n",
    "    for i in range(num_iterations):\n",
    "        \n",
    "        grads, cost = propagate(w, b, X, Y)\n",
    "        \n",
    "        dw = grads['dw']\n",
    "        db = grads['db']\n",
    "        \n",
    "        w = w - learning_rate * dw\n",
    "        b = b - learning_rate * db\n",
    "        \n",
    "        #记录成本\n",
    "        if i % 100 == 0:\n",
    "            costs.append(cost)\n",
    "        #打印\n",
    "        if (print_cost) and (i % 100 == 0):\n",
    "            print('迭代次数：%d, 误差值：%f'%(i, cost))\n",
    "        \n",
    "    params = {\n",
    "        'w' : w,\n",
    "        'b' : b\n",
    "    }\n",
    "    grads = {\n",
    "        'dw' : dw,\n",
    "        'db' : db\n",
    "    }\n",
    "    \n",
    "    return (params, grads, costs)"
   ]
  },
  {
   "cell_type": "code",
   "execution_count": 15,
   "metadata": {},
   "outputs": [
    {
     "name": "stdout",
     "output_type": "stream",
     "text": [
      "=================================测试optimize================================\n",
      "w = [[ 0.552169  ]\n",
      " [ 0.65584388]]\n",
      "b = 1.55183744043\n",
      "dw = [[ 0.48726018]\n",
      " [ 1.46652736]]\n",
      "db = 0.48963358917\n"
     ]
    }
   ],
   "source": [
    "print(\"=================================测试optimize================================\")\n",
    "w, b, X, Y = np.array([[1], [2]]), 2, np.array([[1, 2], [3, 4]]), np.array([[0, 1]])\n",
    "params, grads, costs = optimize(w, b, X, Y, num_iterations=100, learning_rate=0.009, print_cost= False)\n",
    "print (\"w = \" + str(params[\"w\"]))\n",
    "print (\"b = \" + str(params[\"b\"]))\n",
    "print (\"dw = \" + str(grads[\"dw\"]))\n",
    "print (\"db = \" + str(grads[\"db\"]))"
   ]
  },
  {
   "cell_type": "code",
   "execution_count": 16,
   "metadata": {
    "collapsed": true
   },
   "outputs": [],
   "source": [
    "#预测\n",
    "def predict(w, b, X):\n",
    "    \"\"\"\n",
    "    \"\"\"\n",
    "    m = X.shape[1]\n",
    "    Y_prediction = np.zeros((1, m)) # 创建（1，m）维数组存放预测结果\n",
    "    w = w.reshape(X.shape[0], 1)\n",
    "    \n",
    "    #预测猫在图片中出现的概率\n",
    "    A = sigmoid(np.dot(w.T, X) + b)\n",
    "    for i in range(A.shape[1]):\n",
    "        #讲概率a[0,i]转换为实际预测概率p[0, i]\n",
    "        Y_prediction[0, i] = 1 if A[0, i] > 0.5 else 0 #这种格式????????????????????????\n",
    "        \n",
    "    #使用断言\n",
    "    assert(Y_prediction.shape == (1, m))\n",
    "    \n",
    "    return Y_prediction"
   ]
  },
  {
   "cell_type": "code",
   "execution_count": 17,
   "metadata": {},
   "outputs": [
    {
     "name": "stdout",
     "output_type": "stream",
     "text": [
      "=================================测试predict==============================\n",
      "predictions = [[ 1.  1.]]\n"
     ]
    }
   ],
   "source": [
    "#测试predict\n",
    "print('=================================测试predict==============================')\n",
    "w, b, X, Y = np.array([[1], [2]]), 2, np.array([[1, 2], [3, 4]]), np.array([[1, 0]])\n",
    "print('predictions = ' + str(predict(w, b, X)))"
   ]
  },
  {
   "cell_type": "code",
   "execution_count": 18,
   "metadata": {
    "collapsed": true
   },
   "outputs": [],
   "source": [
    "#整合\n",
    "def model(X_train, Y_train, X_test, Y_test, num_iterations = 2000, learning_rate = 0.5, print_cost = False):\n",
    "    \"\"\"\n",
    "    \"\"\"\n",
    "    # 初始化参数 w，b\n",
    "    w, b = initialize_with_zeros(X_train.shape[0])\n",
    "    # 优化\n",
    "    parameters, grads, costs = optimize(w, b, X_train, Y_train, num_iterations, learning_rate, print_cost)\n",
    "    \n",
    "    #从字典‘参数’中检索w和b，用训练好的参数进行预测\n",
    "    w, b = parameters['w'], parameters['b']\n",
    "    \n",
    "    #预测测试集例子\n",
    "    Y_prediction_test = predict(w, b, X_test)\n",
    "    Y_prediction_train = predict(w, b, X_train)\n",
    "    \n",
    "    #打印预测准确性\n",
    "    print('训练集准确性：', format(100 - np.mean(np.abs(Y_prediction_train - Y_train)) * 100), '%')\n",
    "    print(\"测试集准确性：\"  , format(100 - np.mean(np.abs(Y_prediction_test - Y_test)) * 100) ,\"%\")\n",
    "    \n",
    "    d = {\n",
    "        \"costs\" : costs,\n",
    "        \"Y_prediction_test\" : Y_prediction_test,\n",
    "        \"Y_prediciton_train\" : Y_prediction_train,\n",
    "        \"w\" : w,\n",
    "        \"b\" : b,\n",
    "        \"learning_rate\" : learning_rate,\n",
    "        \"num_iterations\" : num_iterations \n",
    "    }\n",
    "    \n",
    "    return d\n"
   ]
  },
  {
   "cell_type": "code",
   "execution_count": 19,
   "metadata": {},
   "outputs": [
    {
     "name": "stdout",
     "output_type": "stream",
     "text": [
      "=============================测试model====================================\n",
      "迭代次数：0, 误差值：0.693147\n",
      "迭代次数：100, 误差值：0.584508\n",
      "迭代次数：200, 误差值：0.466949\n",
      "迭代次数：300, 误差值：0.376007\n",
      "迭代次数：400, 误差值：0.331463\n",
      "迭代次数：500, 误差值：0.303273\n",
      "迭代次数：600, 误差值：0.279880\n",
      "迭代次数：700, 误差值：0.260042\n",
      "迭代次数：800, 误差值：0.242941\n",
      "迭代次数：900, 误差值：0.228004\n",
      "迭代次数：1000, 误差值：0.214820\n",
      "迭代次数：1100, 误差值：0.203078\n",
      "迭代次数：1200, 误差值：0.192544\n",
      "迭代次数：1300, 误差值：0.183033\n",
      "迭代次数：1400, 误差值：0.174399\n",
      "迭代次数：1500, 误差值：0.166521\n",
      "迭代次数：1600, 误差值：0.159305\n",
      "迭代次数：1700, 误差值：0.152667\n",
      "迭代次数：1800, 误差值：0.146542\n",
      "迭代次数：1900, 误差值：0.140872\n",
      "训练集准确性： 99.04306220095694 %\n",
      "测试集准确性： 70.0 %\n"
     ]
    }
   ],
   "source": [
    "#测试model\n",
    "print('=============================测试model====================================')\n",
    "d = model(train_set_x, train_set_y, test_set_x, test_set_y, num_iterations = 2000, learning_rate = 0.005, print_cost = True)"
   ]
  },
  {
   "cell_type": "code",
   "execution_count": 20,
   "metadata": {},
   "outputs": [
    {
     "data": {
      "image/png": "[encoded data removed]",
      "text/plain": [
       "<matplotlib.figure.Figure at 0x1e3b4c999e8>"
      ]
     },
     "metadata": {},
     "output_type": "display_data"
    }
   ],
   "source": [
    "#绘图\n",
    "costs = np.squeeze(d['costs'])#为什么可有可无\n",
    "plt.plot(costs)\n",
    "plt.ylabel('cost')\n",
    "plt.xlabel('iterations(per hundreds)')\n",
    "plt.title('learning rate =' + str(d['learning_rate']))\n",
    "plt.show()"
   ]
  },
  {
   "cell_type": "code",
   "execution_count": 21,
   "metadata": {},
   "outputs": [
    {
     "name": "stdout",
     "output_type": "stream",
     "text": [
      "learning_rate is: 0.01\n",
      "训练集准确性： 99.52153110047847 %\n",
      "测试集准确性： 68.0 %\n",
      "\n",
      "--------------------------------------------------------------\n",
      "\n",
      "learning_rate is: 0.001\n",
      "训练集准确性： 88.99521531100478 %\n",
      "测试集准确性： 64.0 %\n",
      "\n",
      "--------------------------------------------------------------\n",
      "\n",
      "learning_rate is: 0.0001\n",
      "训练集准确性： 68.42105263157895 %\n",
      "测试集准确性： 36.0 %\n",
      "\n",
      "--------------------------------------------------------------\n",
      "\n"
     ]
    },
    {
     "data": {
      "image/png": "[encoded data removed]",
      "text/plain": [
       "<matplotlib.figure.Figure at 0x1e3b49e8da0>"
      ]
     },
     "metadata": {},
     "output_type": "display_data"
    }
   ],
   "source": [
    "#选择学习率\n",
    "\n",
    "learning_rates = [0.01, 0.001, 0.0001]\n",
    "models = {}\n",
    "for i in learning_rates:\n",
    "    print('learning_rate is: ' + str(i))\n",
    "    models[str(i)] = model(train_set_x, train_set_y,test_set_x, test_set_y, num_iterations = 1500, learning_rate = i, print_cost =False)\n",
    "    print('\\n'+'--------------------------------------------------------------'+ '\\n')\n",
    "    \n",
    "for i in learning_rates:\n",
    "        plt.plot(np.squeeze(models[str(i)]['costs']), label = str(models[str(i)]['learning_rate']))\n",
    "        \n",
    "plt.ylabel('cost')\n",
    "plt.xlabel('iterations')\n",
    "    \n",
    "legend = plt.legend(loc = 'upper center', shadow = True)\n",
    "frame = legend.get_frame()\n",
    "frame.set_facecolor('0.90')\n",
    "plt.show()"
   ]
  }
 ],
 "metadata": {
  "kernelspec": {
   "display_name": "Python 3",
   "language": "python",
   "name": "python3"
  },
  "language_info": {
   "codemirror_mode": {
    "name": "ipython",
    "version": 3
   },
   "file_extension": ".py",
   "mimetype": "text/x-python",
   "name": "python",
   "nbconvert_exporter": "python",
   "pygments_lexer": "ipython3",
   "version": "3.6.3"
  }
 },
 "nbformat": 4,
 "nbformat_minor": 2
}
