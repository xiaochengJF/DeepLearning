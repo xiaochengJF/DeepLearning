{
  "nbformat": 4,
  "nbformat_minor": 0,
  "metadata": {
    "colab": {
      "name": "Course 4 - Week 3 作业",
      "version": "0.3.2",
      "provenance": [],
      "include_colab_link": true
    },
    "kernelspec": {
      "name": "python3",
      "display_name": "Python 3"
    }
  },
  "cells": [
    {
      "cell_type": "markdown",
      "metadata": {
        "id": "view-in-github",
        "colab_type": "text"
      },
      "source": [
        "<a href=\"https://colab.research.google.com/github/xiaochengJF/DeepLearning/blob/master/Course_4_Week_3_%E4%BD%9C%E4%B8%9A.ipynb\" target=\"_parent\"><img src=\"https://colab.research.google.com/assets/colab-badge.svg\" alt=\"Open In Colab\"/></a>"
      ]
    },
    {
      "metadata": {
        "id": "M15-VN7uppry",
        "colab_type": "code",
        "colab": {
          "base_uri": "https://localhost:8080/",
          "height": 34
        },
        "outputId": "38ab3db5-40c6-4f95-8925-4d5b25dbc459"
      },
      "cell_type": "code",
      "source": [
        "from google.colab import drive\n",
        "drive.mount('/content/gdrive')"
      ],
      "execution_count": 29,
      "outputs": [
        {
          "output_type": "stream",
          "text": [
            "Drive already mounted at /content/gdrive; to attempt to forcibly remount, call drive.mount(\"/content/gdrive\", force_remount=True).\n"
          ],
          "name": "stdout"
        }
      ]
    },
    {
      "metadata": {
        "id": "dpcp5SY9rQ6U",
        "colab_type": "code",
        "outputId": "7cc48d01-5d6f-4fea-aa12-bbc7aa90ccc2",
        "colab": {
          "base_uri": "https://localhost:8080/",
          "height": 34
        }
      },
      "cell_type": "code",
      "source": [
        "cd /content/gdrive//My Drive/DL-GPU/DeepLearning/Course 4 - Week 3 作业/"
      ],
      "execution_count": 30,
      "outputs": [
        {
          "output_type": "stream",
          "text": [
            "/content/gdrive/My Drive/DL-GPU/DeepLearning/Course 4 - Week 3 作业\n"
          ],
          "name": "stdout"
        }
      ]
    },
    {
      "metadata": {
        "id": "GlZiJDWOqPEO",
        "colab_type": "code",
        "colab": {}
      },
      "cell_type": "code",
      "source": [
        "import argparse\n",
        "import os\n",
        "import matplotlib.pyplot as plt\n",
        "from matplotlib.pyplot import imshow\n",
        "import scipy.io\n",
        "import scipy.misc\n",
        "import numpy as np\n",
        "import pandas as pd\n",
        "import PIL\n",
        "import tensorflow as tf\n",
        "from keras import backend as K\n",
        "from keras.layers import Input, Lambda, Conv2D\n",
        "from keras.models import load_model, Model\n",
        "\n",
        "from yad2k.models.keras_yolo import yolo_head, yolo_boxes_to_corners, preprocess_true_boxes, yolo_loss, yolo_body\n",
        "\n",
        "import yolo_utils\n",
        "\n",
        "%matplotlib inline"
      ],
      "execution_count": 0,
      "outputs": []
    },
    {
      "metadata": {
        "id": "vj2VGa1GrjUH",
        "colab_type": "code",
        "colab": {}
      },
      "cell_type": "code",
      "source": [
        "def yolo_filter_boxes(box_confidence , boxes, box_class_probs, threshold = 0.6):\n",
        "    \"\"\"\n",
        "    通过阈值来过滤对象和分类的置信度。\n",
        "\n",
        "    参数：\n",
        "        box_confidence  - tensor类型，维度为（19,19,5,1）,包含19x19单元格中每个单元格预测的5个锚框中的所有的锚框的pc （一些对象的置信概率）。\n",
        "        boxes - tensor类型，维度为(19,19,5,4)，包含了所有的锚框的（px,py,ph,pw ）。\n",
        "        box_class_probs - tensor类型，维度为(19,19,5,80)，包含了所有单元格中所有锚框的所有对象( c1,c2,c3，···，c80 )检测的概率。\n",
        "        threshold - 实数，阈值，如果分类预测的概率高于它，那么这个分类预测的概率就会被保留。\n",
        "\n",
        "    返回：\n",
        "        scores - tensor 类型，维度为(None,)，包含了保留了的锚框的分类概率。\n",
        "        boxes - tensor 类型，维度为(None,4)，包含了保留了的锚框的(b_x, b_y, b_h, b_w)\n",
        "        classess - tensor 类型，维度为(None,)，包含了保留了的锚框的索引\n",
        "\n",
        "    注意：\"None\"是因为你不知道所选框的确切数量，因为它取决于阈值。\n",
        "          比如：如果有10个锚框，scores的实际输出大小将是（10,）\n",
        "    \"\"\"\n",
        "\n",
        "    #第一步：计算锚框的得分\n",
        "    box_scores  = box_confidence * box_class_probs\n",
        "\n",
        "    #第二步：找到最大值的锚框的索引以及对应的最大值的锚框的分数\n",
        "    box_classes = K.argmax(box_scores, axis=-1)\n",
        "    box_class_scores = K.max(box_scores, axis=-1)\n",
        "\n",
        "    #第三步：根据阈值创建掩码\n",
        "    filtering_mask = (box_class_scores >= threshold)\n",
        "\n",
        "    #对scores, boxes 以及 classes使用掩码\n",
        "    scores = tf.boolean_mask(box_class_scores,filtering_mask)\n",
        "    boxes = tf.boolean_mask(boxes,filtering_mask)\n",
        "    classes = tf.boolean_mask(box_classes,filtering_mask)\n",
        "\n",
        "    return scores , boxes , classes"
      ],
      "execution_count": 0,
      "outputs": []
    },
    {
      "metadata": {
        "id": "tAWHII8zruzH",
        "colab_type": "code",
        "outputId": "d52a2d57-6158-4907-dc07-7e26c896b245",
        "colab": {
          "base_uri": "https://localhost:8080/",
          "height": 118
        }
      },
      "cell_type": "code",
      "source": [
        "with tf.Session() as test_a:\n",
        "    box_confidence = tf.random_normal([19,19,5,1], mean=1, stddev=4, seed=1)\n",
        "    boxes = tf.random_normal([19,19,5,4],  mean=1, stddev=4, seed=1)\n",
        "    box_class_probs = tf.random_normal([19, 19, 5, 80], mean=1, stddev=4, seed = 1)\n",
        "    scores, boxes, classes = yolo_filter_boxes(box_confidence, boxes, box_class_probs, threshold = 0.5)\n",
        "\n",
        "    print(\"scores[2] = \" + str(scores[2].eval()))\n",
        "    print(\"boxes[2] = \" + str(boxes[2].eval()))\n",
        "    print(\"classes[2] = \" + str(classes[2].eval()))\n",
        "    print(\"scores.shape = \" + str(scores.shape))\n",
        "    print(\"boxes.shape = \" + str(boxes.shape))\n",
        "    print(\"classes.shape = \" + str(classes.shape))\n",
        "\n",
        "    test_a.close()"
      ],
      "execution_count": 33,
      "outputs": [
        {
          "output_type": "stream",
          "text": [
            "scores[2] = 10.750582\n",
            "boxes[2] = [ 8.426533   3.2713668 -0.5313436 -4.9413733]\n",
            "classes[2] = 7\n",
            "scores.shape = (?,)\n",
            "boxes.shape = (?, 4)\n",
            "classes.shape = (?,)\n"
          ],
          "name": "stdout"
        }
      ]
    },
    {
      "metadata": {
        "id": "FO8bnp_Wr1cw",
        "colab_type": "code",
        "colab": {}
      },
      "cell_type": "code",
      "source": [
        "def iou(box1, box2):\n",
        "    \"\"\"\n",
        "    实现两个锚框的交并比的计算\n",
        "\n",
        "    参数：\n",
        "        box1 - 第一个锚框，元组类型，(x1, y1, x2, y2)\n",
        "        box2 - 第二个锚框，元组类型，(x1, y1, x2, y2)\n",
        "\n",
        "    返回：\n",
        "        iou - 实数，交并比。\n",
        "    \"\"\"\n",
        "    #计算相交的区域的面积\n",
        "    xi1 = np.maximum(box1[0], box2[0])\n",
        "    yi1 = np.maximum(box1[1], box2[1])\n",
        "    xi2 = np.minimum(box1[2], box2[2])\n",
        "    yi2 = np.minimum(box1[3], box2[3])\n",
        "    inter_area = (xi1-xi2)*(yi1-yi2)\n",
        "\n",
        "    #计算并集，公式为：Union(A,B) = A + B - Inter(A,B)\n",
        "    box1_area = (box1[2]-box1[0])*(box1[3]-box1[1])\n",
        "    box2_area = (box2[2]-box2[0])*(box2[3]-box2[1])\n",
        "    union_area = box1_area + box2_area - inter_area\n",
        "\n",
        "    #计算交并比\n",
        "    iou = inter_area / union_area\n",
        "\n",
        "    return iou"
      ],
      "execution_count": 0,
      "outputs": []
    },
    {
      "metadata": {
        "id": "NYllA1UAr7w9",
        "colab_type": "code",
        "outputId": "f789f2dd-600a-4589-e395-818605d07287",
        "colab": {
          "base_uri": "https://localhost:8080/",
          "height": 34
        }
      },
      "cell_type": "code",
      "source": [
        "box1 = (2,1,4,3)\n",
        "box2 = (1,2,3,4)\n",
        "\n",
        "print(\"iou = \" + str(iou(box1, box2)))"
      ],
      "execution_count": 35,
      "outputs": [
        {
          "output_type": "stream",
          "text": [
            "iou = 0.14285714285714285\n"
          ],
          "name": "stdout"
        }
      ]
    },
    {
      "metadata": {
        "id": "eKVw1qfnr-7O",
        "colab_type": "code",
        "colab": {}
      },
      "cell_type": "code",
      "source": [
        "def yolo_non_max_suppression(scores, boxes, classes, max_boxes=10, iou_threshold=0.5):\n",
        "    \"\"\"\n",
        "    为锚框实现非最大值抑制（ Non-max suppression (NMS)）\n",
        "\n",
        "    参数：\n",
        "        scores - tensor类型，维度为(None,)，yolo_filter_boxes()的输出\n",
        "        boxes - tensor类型，维度为(None,4)，yolo_filter_boxes()的输出，已缩放到图像大小（见下文）\n",
        "        classes - tensor类型，维度为(None,)，yolo_filter_boxes()的输出\n",
        "        max_boxes - 整数，预测的锚框数量的最大值\n",
        "        iou_threshold - 实数，交并比阈值。\n",
        "\n",
        "    返回：\n",
        "        scores - tensor类型，维度为(,None)，每个锚框的预测的可能值\n",
        "        boxes - tensor类型，维度为(4,None)，预测的锚框的坐标\n",
        "        classes - tensor类型，维度为(,None)，每个锚框的预测的分类\n",
        "\n",
        "    注意：\"None\"是明显小于max_boxes的，这个函数也会改变scores、boxes、classes的维度，这会为下一步操作提供方便。\n",
        "\n",
        "    \"\"\"\n",
        "    max_boxes_tensor = K.variable(max_boxes,dtype=\"int32\") #用于tf.image.non_max_suppression()\n",
        "    K.get_session().run(tf.variables_initializer([max_boxes_tensor])) #初始化变量max_boxes_tensor\n",
        "\n",
        "    #使用使用tf.image.non_max_suppression()来获取与我们保留的框相对应的索引列表\n",
        "    nms_indices = tf.image.non_max_suppression(boxes, scores,max_boxes,iou_threshold)\n",
        "\n",
        "    #使用K.gather()来选择保留的锚框\n",
        "    scores = K.gather(scores, nms_indices)\n",
        "    boxes = K.gather(boxes, nms_indices)\n",
        "    classes = K.gather(classes, nms_indices)\n",
        "\n",
        "    return scores, boxes, classes"
      ],
      "execution_count": 0,
      "outputs": []
    },
    {
      "metadata": {
        "id": "6OyfyA2csDsW",
        "colab_type": "code",
        "outputId": "ea77ccd1-a677-4221-ef5d-83b80b43e243",
        "colab": {
          "base_uri": "https://localhost:8080/",
          "height": 118
        }
      },
      "cell_type": "code",
      "source": [
        "with tf.Session() as test_b:\n",
        "    scores = tf.random_normal([54,], mean=1, stddev=4, seed = 1)\n",
        "    boxes = tf.random_normal([54, 4], mean=1, stddev=4, seed = 1)\n",
        "    classes = tf.random_normal([54,], mean=1, stddev=4, seed = 1)\n",
        "    scores, boxes, classes = yolo_non_max_suppression(scores, boxes, classes)\n",
        "\n",
        "    print(\"scores[2] = \" + str(scores[2].eval()))\n",
        "    print(\"boxes[2] = \" + str(boxes[2].eval()))\n",
        "    print(\"classes[2] = \" + str(classes[2].eval()))\n",
        "    print(\"scores.shape = \" + str(scores.eval().shape))\n",
        "    print(\"boxes.shape = \" + str(boxes.eval().shape))\n",
        "    print(\"classes.shape = \" + str(classes.eval().shape))\n",
        "\n",
        "    test_b.close()"
      ],
      "execution_count": 37,
      "outputs": [
        {
          "output_type": "stream",
          "text": [
            "scores[2] = 6.938395\n",
            "boxes[2] = [-5.299932    3.1379814   4.450367    0.95942086]\n",
            "classes[2] = -2.2452729\n",
            "scores.shape = (10,)\n",
            "boxes.shape = (10, 4)\n",
            "classes.shape = (10,)\n"
          ],
          "name": "stdout"
        }
      ]
    },
    {
      "metadata": {
        "id": "6gNK7gDzsHgu",
        "colab_type": "code",
        "colab": {}
      },
      "cell_type": "code",
      "source": [
        "def yolo_eval(yolo_outputs, image_shape=(720.,1280.), \n",
        "              max_boxes=10, score_threshold=0.6,iou_threshold=0.5):\n",
        "    \"\"\"\n",
        "    将YOLO编码的输出（很多锚框）转换为预测框以及它们的分数，框坐标和类。\n",
        "\n",
        "    参数：\n",
        "        yolo_outputs - 编码模型的输出（对于维度为（608,608,3）的图片），包含4个tensors类型的变量：\n",
        "                        box_confidence ： tensor类型，维度为(None, 19, 19, 5, 1)\n",
        "                        box_xy         ： tensor类型，维度为(None, 19, 19, 5, 2)\n",
        "                        box_wh         ： tensor类型，维度为(None, 19, 19, 5, 2)\n",
        "                        box_class_probs： tensor类型，维度为(None, 19, 19, 5, 80)\n",
        "        image_shape - tensor类型，维度为（2,），包含了输入的图像的维度，这里是(608.,608.)\n",
        "        max_boxes - 整数，预测的锚框数量的最大值\n",
        "        score_threshold - 实数，可能性阈值。\n",
        "        iou_threshold - 实数，交并比阈值。\n",
        "\n",
        "    返回：\n",
        "        scores - tensor类型，维度为(,None)，每个锚框的预测的可能值\n",
        "        boxes - tensor类型，维度为(4,None)，预测的锚框的坐标\n",
        "        classes - tensor类型，维度为(,None)，每个锚框的预测的分类\n",
        "    \"\"\"\n",
        "\n",
        "    #获取YOLO模型的输出\n",
        "    box_confidence, box_xy, box_wh, box_class_probs = yolo_outputs\n",
        "\n",
        "    #中心点转换为边角\n",
        "    boxes = yolo_boxes_to_corners(box_xy,box_wh)\n",
        "\n",
        "    #可信度分值过滤\n",
        "    scores, boxes, classes = yolo_filter_boxes(box_confidence, boxes, box_class_probs, score_threshold)\n",
        "\n",
        "    #缩放锚框，以适应原始图像\n",
        "    boxes = yolo_utils.scale_boxes(boxes, image_shape)\n",
        "\n",
        "    #使用非最大值抑制\n",
        "    scores, boxes, classes = yolo_non_max_suppression(scores, boxes, classes, max_boxes, iou_threshold)\n",
        "\n",
        "    return scores, boxes, classes"
      ],
      "execution_count": 0,
      "outputs": []
    },
    {
      "metadata": {
        "id": "4aUvk4B8sMfe",
        "colab_type": "code",
        "outputId": "694598be-6111-4714-ddaa-87b1933d2fb6",
        "colab": {
          "base_uri": "https://localhost:8080/",
          "height": 118
        }
      },
      "cell_type": "code",
      "source": [
        "with tf.Session() as test_c:\n",
        "    yolo_outputs = (tf.random_normal([19, 19, 5, 1], mean=1, stddev=4, seed = 1),\n",
        "                    tf.random_normal([19, 19, 5, 2], mean=1, stddev=4, seed = 1),\n",
        "                    tf.random_normal([19, 19, 5, 2], mean=1, stddev=4, seed = 1),\n",
        "                    tf.random_normal([19, 19, 5, 80], mean=1, stddev=4, seed = 1))\n",
        "    scores, boxes, classes = yolo_eval(yolo_outputs)\n",
        "\n",
        "    print(\"scores[2] = \" + str(scores[2].eval()))\n",
        "    print(\"boxes[2] = \" + str(boxes[2].eval()))\n",
        "    print(\"classes[2] = \" + str(classes[2].eval()))\n",
        "    print(\"scores.shape = \" + str(scores.eval().shape))\n",
        "    print(\"boxes.shape = \" + str(boxes.eval().shape))\n",
        "    print(\"classes.shape = \" + str(classes.eval().shape))\n",
        "\n",
        "    test_c.close()"
      ],
      "execution_count": 39,
      "outputs": [
        {
          "output_type": "stream",
          "text": [
            "scores[2] = 138.79124\n",
            "boxes[2] = [1292.3297  -278.52167 3876.9893  -835.56494]\n",
            "classes[2] = 54\n",
            "scores.shape = (10,)\n",
            "boxes.shape = (10, 4)\n",
            "classes.shape = (10,)\n"
          ],
          "name": "stdout"
        }
      ]
    },
    {
      "metadata": {
        "id": "6QdZBX9ysQzj",
        "colab_type": "code",
        "colab": {}
      },
      "cell_type": "code",
      "source": [
        "#scores[2] = 138.791\n",
        "#boxes[2] = [ 1292.32971191  -278.52166748  3876.98925781  -835.56494141]\n",
        "#classes[2] = 54\n",
        "#scores.shape = (10,)\n",
        "#boxes.shape = (10, 4)\n",
        "#classes.shape = (10,)"
      ],
      "execution_count": 0,
      "outputs": []
    },
    {
      "metadata": {
        "id": "D5bnbA2psVVm",
        "colab_type": "code",
        "colab": {}
      },
      "cell_type": "code",
      "source": [
        "sess = K.get_session()"
      ],
      "execution_count": 0,
      "outputs": []
    },
    {
      "metadata": {
        "id": "uko5l2RDsrN3",
        "colab_type": "code",
        "colab": {}
      },
      "cell_type": "code",
      "source": [
        "class_names = yolo_utils.read_classes(\"model_data/coco_classes.txt\")\n",
        "anchors = yolo_utils.read_anchors(\"model_data/yolo_anchors.txt\")\n",
        "image_shape = (720.,1280.)"
      ],
      "execution_count": 0,
      "outputs": []
    },
    {
      "metadata": {
        "id": "rmwA7Nt1sye2",
        "colab_type": "code",
        "outputId": "d2273734-ec5b-4e67-a8c1-10fc49139629",
        "colab": {
          "base_uri": "https://localhost:8080/",
          "height": 70
        }
      },
      "cell_type": "code",
      "source": [
        "yolo_model = load_model(\"model_data/yolov2.h5\")"
      ],
      "execution_count": 43,
      "outputs": [
        {
          "output_type": "stream",
          "text": [
            "/usr/local/lib/python3.6/dist-packages/keras/engine/saving.py:292: UserWarning: No training configuration found in save file: the model was *not* compiled. Compile it manually.\n",
            "  warnings.warn('No training configuration found in save file: '\n"
          ],
          "name": "stderr"
        }
      ]
    },
    {
      "metadata": {
        "id": "YPRtTSeTs3Fd",
        "colab_type": "code",
        "outputId": "54e8ba89-4f0a-4715-f631-4194fa945496",
        "colab": {
          "base_uri": "https://localhost:8080/",
          "height": 2671
        }
      },
      "cell_type": "code",
      "source": [
        "yolo_model.summary()"
      ],
      "execution_count": 44,
      "outputs": [
        {
          "output_type": "stream",
          "text": [
            "__________________________________________________________________________________________________\n",
            "Layer (type)                    Output Shape         Param #     Connected to                     \n",
            "==================================================================================================\n",
            "input_1 (InputLayer)            (None, 608, 608, 3)  0                                            \n",
            "__________________________________________________________________________________________________\n",
            "conv2d_1 (Conv2D)               (None, 608, 608, 32) 864         input_1[0][0]                    \n",
            "__________________________________________________________________________________________________\n",
            "batch_normalization_1 (BatchNor (None, 608, 608, 32) 128         conv2d_1[0][0]                   \n",
            "__________________________________________________________________________________________________\n",
            "leaky_re_lu_1 (LeakyReLU)       (None, 608, 608, 32) 0           batch_normalization_1[0][0]      \n",
            "__________________________________________________________________________________________________\n",
            "max_pooling2d_1 (MaxPooling2D)  (None, 304, 304, 32) 0           leaky_re_lu_1[0][0]              \n",
            "__________________________________________________________________________________________________\n",
            "conv2d_2 (Conv2D)               (None, 304, 304, 64) 18432       max_pooling2d_1[0][0]            \n",
            "__________________________________________________________________________________________________\n",
            "batch_normalization_2 (BatchNor (None, 304, 304, 64) 256         conv2d_2[0][0]                   \n",
            "__________________________________________________________________________________________________\n",
            "leaky_re_lu_2 (LeakyReLU)       (None, 304, 304, 64) 0           batch_normalization_2[0][0]      \n",
            "__________________________________________________________________________________________________\n",
            "max_pooling2d_2 (MaxPooling2D)  (None, 152, 152, 64) 0           leaky_re_lu_2[0][0]              \n",
            "__________________________________________________________________________________________________\n",
            "conv2d_3 (Conv2D)               (None, 152, 152, 128 73728       max_pooling2d_2[0][0]            \n",
            "__________________________________________________________________________________________________\n",
            "batch_normalization_3 (BatchNor (None, 152, 152, 128 512         conv2d_3[0][0]                   \n",
            "__________________________________________________________________________________________________\n",
            "leaky_re_lu_3 (LeakyReLU)       (None, 152, 152, 128 0           batch_normalization_3[0][0]      \n",
            "__________________________________________________________________________________________________\n",
            "conv2d_4 (Conv2D)               (None, 152, 152, 64) 8192        leaky_re_lu_3[0][0]              \n",
            "__________________________________________________________________________________________________\n",
            "batch_normalization_4 (BatchNor (None, 152, 152, 64) 256         conv2d_4[0][0]                   \n",
            "__________________________________________________________________________________________________\n",
            "leaky_re_lu_4 (LeakyReLU)       (None, 152, 152, 64) 0           batch_normalization_4[0][0]      \n",
            "__________________________________________________________________________________________________\n",
            "conv2d_5 (Conv2D)               (None, 152, 152, 128 73728       leaky_re_lu_4[0][0]              \n",
            "__________________________________________________________________________________________________\n",
            "batch_normalization_5 (BatchNor (None, 152, 152, 128 512         conv2d_5[0][0]                   \n",
            "__________________________________________________________________________________________________\n",
            "leaky_re_lu_5 (LeakyReLU)       (None, 152, 152, 128 0           batch_normalization_5[0][0]      \n",
            "__________________________________________________________________________________________________\n",
            "max_pooling2d_3 (MaxPooling2D)  (None, 76, 76, 128)  0           leaky_re_lu_5[0][0]              \n",
            "__________________________________________________________________________________________________\n",
            "conv2d_6 (Conv2D)               (None, 76, 76, 256)  294912      max_pooling2d_3[0][0]            \n",
            "__________________________________________________________________________________________________\n",
            "batch_normalization_6 (BatchNor (None, 76, 76, 256)  1024        conv2d_6[0][0]                   \n",
            "__________________________________________________________________________________________________\n",
            "leaky_re_lu_6 (LeakyReLU)       (None, 76, 76, 256)  0           batch_normalization_6[0][0]      \n",
            "__________________________________________________________________________________________________\n",
            "conv2d_7 (Conv2D)               (None, 76, 76, 128)  32768       leaky_re_lu_6[0][0]              \n",
            "__________________________________________________________________________________________________\n",
            "batch_normalization_7 (BatchNor (None, 76, 76, 128)  512         conv2d_7[0][0]                   \n",
            "__________________________________________________________________________________________________\n",
            "leaky_re_lu_7 (LeakyReLU)       (None, 76, 76, 128)  0           batch_normalization_7[0][0]      \n",
            "__________________________________________________________________________________________________\n",
            "conv2d_8 (Conv2D)               (None, 76, 76, 256)  294912      leaky_re_lu_7[0][0]              \n",
            "__________________________________________________________________________________________________\n",
            "batch_normalization_8 (BatchNor (None, 76, 76, 256)  1024        conv2d_8[0][0]                   \n",
            "__________________________________________________________________________________________________\n",
            "leaky_re_lu_8 (LeakyReLU)       (None, 76, 76, 256)  0           batch_normalization_8[0][0]      \n",
            "__________________________________________________________________________________________________\n",
            "max_pooling2d_4 (MaxPooling2D)  (None, 38, 38, 256)  0           leaky_re_lu_8[0][0]              \n",
            "__________________________________________________________________________________________________\n",
            "conv2d_9 (Conv2D)               (None, 38, 38, 512)  1179648     max_pooling2d_4[0][0]            \n",
            "__________________________________________________________________________________________________\n",
            "batch_normalization_9 (BatchNor (None, 38, 38, 512)  2048        conv2d_9[0][0]                   \n",
            "__________________________________________________________________________________________________\n",
            "leaky_re_lu_9 (LeakyReLU)       (None, 38, 38, 512)  0           batch_normalization_9[0][0]      \n",
            "__________________________________________________________________________________________________\n",
            "conv2d_10 (Conv2D)              (None, 38, 38, 256)  131072      leaky_re_lu_9[0][0]              \n",
            "__________________________________________________________________________________________________\n",
            "batch_normalization_10 (BatchNo (None, 38, 38, 256)  1024        conv2d_10[0][0]                  \n",
            "__________________________________________________________________________________________________\n",
            "leaky_re_lu_10 (LeakyReLU)      (None, 38, 38, 256)  0           batch_normalization_10[0][0]     \n",
            "__________________________________________________________________________________________________\n",
            "conv2d_11 (Conv2D)              (None, 38, 38, 512)  1179648     leaky_re_lu_10[0][0]             \n",
            "__________________________________________________________________________________________________\n",
            "batch_normalization_11 (BatchNo (None, 38, 38, 512)  2048        conv2d_11[0][0]                  \n",
            "__________________________________________________________________________________________________\n",
            "leaky_re_lu_11 (LeakyReLU)      (None, 38, 38, 512)  0           batch_normalization_11[0][0]     \n",
            "__________________________________________________________________________________________________\n",
            "conv2d_12 (Conv2D)              (None, 38, 38, 256)  131072      leaky_re_lu_11[0][0]             \n",
            "__________________________________________________________________________________________________\n",
            "batch_normalization_12 (BatchNo (None, 38, 38, 256)  1024        conv2d_12[0][0]                  \n",
            "__________________________________________________________________________________________________\n",
            "leaky_re_lu_12 (LeakyReLU)      (None, 38, 38, 256)  0           batch_normalization_12[0][0]     \n",
            "__________________________________________________________________________________________________\n",
            "conv2d_13 (Conv2D)              (None, 38, 38, 512)  1179648     leaky_re_lu_12[0][0]             \n",
            "__________________________________________________________________________________________________\n",
            "batch_normalization_13 (BatchNo (None, 38, 38, 512)  2048        conv2d_13[0][0]                  \n",
            "__________________________________________________________________________________________________\n",
            "leaky_re_lu_13 (LeakyReLU)      (None, 38, 38, 512)  0           batch_normalization_13[0][0]     \n",
            "__________________________________________________________________________________________________\n",
            "max_pooling2d_5 (MaxPooling2D)  (None, 19, 19, 512)  0           leaky_re_lu_13[0][0]             \n",
            "__________________________________________________________________________________________________\n",
            "conv2d_14 (Conv2D)              (None, 19, 19, 1024) 4718592     max_pooling2d_5[0][0]            \n",
            "__________________________________________________________________________________________________\n",
            "batch_normalization_14 (BatchNo (None, 19, 19, 1024) 4096        conv2d_14[0][0]                  \n",
            "__________________________________________________________________________________________________\n",
            "leaky_re_lu_14 (LeakyReLU)      (None, 19, 19, 1024) 0           batch_normalization_14[0][0]     \n",
            "__________________________________________________________________________________________________\n",
            "conv2d_15 (Conv2D)              (None, 19, 19, 512)  524288      leaky_re_lu_14[0][0]             \n",
            "__________________________________________________________________________________________________\n",
            "batch_normalization_15 (BatchNo (None, 19, 19, 512)  2048        conv2d_15[0][0]                  \n",
            "__________________________________________________________________________________________________\n",
            "leaky_re_lu_15 (LeakyReLU)      (None, 19, 19, 512)  0           batch_normalization_15[0][0]     \n",
            "__________________________________________________________________________________________________\n",
            "conv2d_16 (Conv2D)              (None, 19, 19, 1024) 4718592     leaky_re_lu_15[0][0]             \n",
            "__________________________________________________________________________________________________\n",
            "batch_normalization_16 (BatchNo (None, 19, 19, 1024) 4096        conv2d_16[0][0]                  \n",
            "__________________________________________________________________________________________________\n",
            "leaky_re_lu_16 (LeakyReLU)      (None, 19, 19, 1024) 0           batch_normalization_16[0][0]     \n",
            "__________________________________________________________________________________________________\n",
            "conv2d_17 (Conv2D)              (None, 19, 19, 512)  524288      leaky_re_lu_16[0][0]             \n",
            "__________________________________________________________________________________________________\n",
            "batch_normalization_17 (BatchNo (None, 19, 19, 512)  2048        conv2d_17[0][0]                  \n",
            "__________________________________________________________________________________________________\n",
            "leaky_re_lu_17 (LeakyReLU)      (None, 19, 19, 512)  0           batch_normalization_17[0][0]     \n",
            "__________________________________________________________________________________________________\n",
            "conv2d_18 (Conv2D)              (None, 19, 19, 1024) 4718592     leaky_re_lu_17[0][0]             \n",
            "__________________________________________________________________________________________________\n",
            "batch_normalization_18 (BatchNo (None, 19, 19, 1024) 4096        conv2d_18[0][0]                  \n",
            "__________________________________________________________________________________________________\n",
            "leaky_re_lu_18 (LeakyReLU)      (None, 19, 19, 1024) 0           batch_normalization_18[0][0]     \n",
            "__________________________________________________________________________________________________\n",
            "conv2d_19 (Conv2D)              (None, 19, 19, 1024) 9437184     leaky_re_lu_18[0][0]             \n",
            "__________________________________________________________________________________________________\n",
            "batch_normalization_19 (BatchNo (None, 19, 19, 1024) 4096        conv2d_19[0][0]                  \n",
            "__________________________________________________________________________________________________\n",
            "conv2d_21 (Conv2D)              (None, 38, 38, 64)   32768       leaky_re_lu_13[0][0]             \n",
            "__________________________________________________________________________________________________\n",
            "leaky_re_lu_19 (LeakyReLU)      (None, 19, 19, 1024) 0           batch_normalization_19[0][0]     \n",
            "__________________________________________________________________________________________________\n",
            "batch_normalization_21 (BatchNo (None, 38, 38, 64)   256         conv2d_21[0][0]                  \n",
            "__________________________________________________________________________________________________\n",
            "conv2d_20 (Conv2D)              (None, 19, 19, 1024) 9437184     leaky_re_lu_19[0][0]             \n",
            "__________________________________________________________________________________________________\n",
            "leaky_re_lu_21 (LeakyReLU)      (None, 38, 38, 64)   0           batch_normalization_21[0][0]     \n",
            "__________________________________________________________________________________________________\n",
            "batch_normalization_20 (BatchNo (None, 19, 19, 1024) 4096        conv2d_20[0][0]                  \n",
            "__________________________________________________________________________________________________\n",
            "space_to_depth_x2 (Lambda)      (None, 19, 19, 256)  0           leaky_re_lu_21[0][0]             \n",
            "__________________________________________________________________________________________________\n",
            "leaky_re_lu_20 (LeakyReLU)      (None, 19, 19, 1024) 0           batch_normalization_20[0][0]     \n",
            "__________________________________________________________________________________________________\n",
            "concatenate_1 (Concatenate)     (None, 19, 19, 1280) 0           space_to_depth_x2[0][0]          \n",
            "                                                                 leaky_re_lu_20[0][0]             \n",
            "__________________________________________________________________________________________________\n",
            "conv2d_22 (Conv2D)              (None, 19, 19, 1024) 11796480    concatenate_1[0][0]              \n",
            "__________________________________________________________________________________________________\n",
            "batch_normalization_22 (BatchNo (None, 19, 19, 1024) 4096        conv2d_22[0][0]                  \n",
            "__________________________________________________________________________________________________\n",
            "leaky_re_lu_22 (LeakyReLU)      (None, 19, 19, 1024) 0           batch_normalization_22[0][0]     \n",
            "__________________________________________________________________________________________________\n",
            "conv2d_23 (Conv2D)              (None, 19, 19, 425)  435625      leaky_re_lu_22[0][0]             \n",
            "==================================================================================================\n",
            "Total params: 50,983,561\n",
            "Trainable params: 50,962,889\n",
            "Non-trainable params: 20,672\n",
            "__________________________________________________________________________________________________\n"
          ],
          "name": "stdout"
        }
      ]
    },
    {
      "metadata": {
        "id": "RTEfHwJBs-Tw",
        "colab_type": "code",
        "colab": {}
      },
      "cell_type": "code",
      "source": [
        "yolo_outputs = yolo_head(yolo_model.output, anchors, len(class_names))"
      ],
      "execution_count": 0,
      "outputs": []
    },
    {
      "metadata": {
        "id": "jwAwqVXitNeH",
        "colab_type": "code",
        "colab": {}
      },
      "cell_type": "code",
      "source": [
        "scores, boxes, classes = yolo_eval(yolo_outputs, image_shape)"
      ],
      "execution_count": 0,
      "outputs": []
    },
    {
      "metadata": {
        "id": "GTm4vXGytY2_",
        "colab_type": "code",
        "colab": {}
      },
      "cell_type": "code",
      "source": [
        "def predict(sess, image_file, is_show_info=True, is_plot=True):\n",
        "    \"\"\"\n",
        "    运行存储在sess的计算图以预测image_file的边界框，打印出预测的图与信息。\n",
        "\n",
        "    参数：\n",
        "        sess - 包含了YOLO计算图的TensorFlow/Keras的会话。\n",
        "        image_file - 存储在images文件夹下的图片名称\n",
        "    返回：\n",
        "        out_scores - tensor类型，维度为(None,)，锚框的预测的可能值。\n",
        "        out_boxes - tensor类型，维度为(None,4)，包含了锚框位置信息。\n",
        "        out_classes - tensor类型，维度为(None,)，锚框的预测的分类索引。 \n",
        "    \"\"\"\n",
        "    #图像预处理\n",
        "    image, image_data = yolo_utils.preprocess_image(\"images/\" + image_file, model_image_size = (608, 608))\n",
        "\n",
        "    #运行会话并在feed_dict中选择正确的占位符.\n",
        "    out_scores, out_boxes, out_classes = sess.run([scores, boxes, classes], feed_dict = {yolo_model.input:image_data, K.learning_phase(): 0})\n",
        "\n",
        "    #打印预测信息\n",
        "    if is_show_info:\n",
        "        print(\"在\" + str(image_file) + \"中找到了\" + str(len(out_boxes)) + \"个锚框。\")\n",
        "\n",
        "    #指定要绘制的边界框的颜色\n",
        "    colors = yolo_utils.generate_colors(class_names)\n",
        "\n",
        "    #在图中绘制边界框\n",
        "    yolo_utils.draw_boxes(image, out_scores, out_boxes, out_classes, class_names, colors)\n",
        "\n",
        "    #保存已经绘制了边界框的图\n",
        "    image.save(os.path.join(\"out\", image_file), quality=100)\n",
        "\n",
        "    #打印出已经绘制了边界框的图\n",
        "    if is_plot:\n",
        "        output_image = scipy.misc.imread(os.path.join(\"out\", image_file))\n",
        "        plt.imshow(output_image)\n",
        "\n",
        "    return out_scores, out_boxes, out_classes"
      ],
      "execution_count": 0,
      "outputs": []
    },
    {
      "metadata": {
        "id": "VJHNMpemtzl6",
        "colab_type": "code",
        "outputId": "c1f757cb-17e8-45b0-a0c0-6360379ee711",
        "colab": {
          "base_uri": "https://localhost:8080/",
          "height": 425
        }
      },
      "cell_type": "code",
      "source": [
        "out_scores, out_boxes, out_classes = predict(sess, \"test.jpg\")"
      ],
      "execution_count": 48,
      "outputs": [
        {
          "output_type": "stream",
          "text": [
            "在test.jpg中找到了7个锚框。\n",
            "car 0.60 (925, 285) (1045, 374)\n",
            "car 0.66 (706, 279) (786, 350)\n",
            "bus 0.67 (5, 266) (220, 407)\n",
            "car 0.70 (947, 324) (1280, 705)\n",
            "car 0.74 (159, 303) (346, 440)\n",
            "car 0.80 (761, 282) (942, 412)\n",
            "car 0.89 (367, 300) (745, 648)\n"
          ],
          "name": "stdout"
        },
        {
          "output_type": "stream",
          "text": [
            "/usr/local/lib/python3.6/dist-packages/ipykernel_launcher.py:34: DeprecationWarning: `imread` is deprecated!\n",
            "`imread` is deprecated in SciPy 1.0.0, and will be removed in 1.2.0.\n",
            "Use ``imageio.imread`` instead.\n"
          ],
          "name": "stderr"
        },
        {
          "output_type": "display_data",
          "data": {
            "image/png": "[encoded data removed]",
            "text/plain": [
              "<Figure size 432x288 with 1 Axes>"
            ]
          },
          "metadata": {
            "tags": []
          }
        }
      ]
    },
    {
      "metadata": {
        "id": "UUNZPAhmt2h2",
        "colab_type": "code",
        "outputId": "9be252d3-5787-4b30-c2f1-6d553c9ae8b5",
        "colab": {
          "base_uri": "https://localhost:8080/",
          "height": 4620
        }
      },
      "cell_type": "code",
      "source": [
        "for i in range(1,121):\n",
        "\n",
        "    #计算需要在前面填充几个0\n",
        "    num_fill = int( len(\"0000\") - len(str(1))) + 1\n",
        "    #对索引进行填充\n",
        "    filename = str(i).zfill(num_fill) + \".jpg\"\n",
        "    print(\"当前文件：\" + str(filename))\n",
        "\n",
        "    #开始绘制，不打印信息，不绘制图\n",
        "    out_scores, out_boxes, out_classes = predict(sess, filename,is_show_info=False,is_plot=False)\n",
        "\n",
        "\n",
        "\n",
        "print(\"绘制完成！\")"
      ],
      "execution_count": 49,
      "outputs": [
        {
          "output_type": "stream",
          "text": [
            "当前文件：0001.jpg\n",
            "当前文件：0002.jpg\n",
            "当前文件：0003.jpg\n",
            "car 0.69 (347, 289) (445, 321)\n",
            "car 0.70 (230, 307) (317, 354)\n",
            "car 0.73 (671, 284) (770, 315)\n",
            "当前文件：0004.jpg\n",
            "car 0.63 (400, 285) (515, 327)\n",
            "car 0.66 (95, 297) (227, 342)\n",
            "car 0.68 (1, 321) (121, 410)\n",
            "car 0.72 (539, 277) (658, 318)\n",
            "当前文件：0005.jpg\n",
            "car 0.64 (207, 297) (338, 340)\n",
            "car 0.65 (741, 266) (918, 313)\n",
            "car 0.67 (15, 313) (128, 362)\n",
            "car 0.72 (883, 260) (1026, 303)\n",
            "car 0.75 (517, 282) (689, 336)\n",
            "当前文件：0006.jpg\n",
            "car 0.72 (470, 286) (686, 343)\n",
            "car 0.72 (72, 320) (220, 367)\n",
            "当前文件：0007.jpg\n",
            "car 0.67 (1086, 243) (1225, 312)\n",
            "car 0.78 (468, 292) (685, 353)\n",
            "当前文件：0008.jpg\n",
            "truck 0.63 (852, 252) (1083, 330)\n",
            "car 0.78 (1082, 275) (1275, 340)\n",
            "当前文件：0009.jpg\n",
            "当前文件：0010.jpg\n",
            "truck 0.66 (736, 266) (1054, 368)\n",
            "当前文件：0011.jpg\n",
            "truck 0.73 (727, 269) (1054, 376)\n",
            "car 0.85 (6, 336) (212, 457)\n",
            "当前文件：0012.jpg\n",
            "car 0.77 (792, 279) (1163, 408)\n",
            "car 0.87 (539, 330) (998, 459)\n",
            "当前文件：0013.jpg\n",
            "truck 0.65 (718, 276) (1053, 385)\n",
            "当前文件：0014.jpg\n",
            "truck 0.64 (715, 274) (1056, 385)\n",
            "当前文件：0015.jpg\n",
            "truck 0.72 (713, 275) (1086, 386)\n",
            "当前文件：0016.jpg\n",
            "truck 0.63 (708, 276) (1106, 388)\n",
            "当前文件：0017.jpg\n",
            "truck 0.64 (666, 274) (1063, 392)\n",
            "car 0.79 (1103, 300) (1271, 356)\n",
            "car 0.82 (1, 358) (183, 427)\n",
            "当前文件：0018.jpg\n",
            "car 0.76 (71, 362) (242, 419)\n",
            "car 0.77 (340, 339) (553, 401)\n",
            "当前文件：0019.jpg\n",
            "truck 0.64 (685, 275) (1050, 396)\n",
            "car 0.85 (16, 377) (450, 559)\n",
            "当前文件：0020.jpg\n",
            "truck 0.75 (538, 286) (926, 413)\n",
            "当前文件：0021.jpg\n",
            "car 0.62 (691, 292) (914, 403)\n",
            "truck 0.72 (88, 317) (493, 450)\n",
            "当前文件：0022.jpg\n",
            "car 0.65 (894, 302) (980, 348)\n",
            "car 0.79 (751, 318) (879, 370)\n",
            "当前文件：0023.jpg\n",
            "当前文件：0024.jpg\n",
            "当前文件：0025.jpg\n",
            "car 0.65 (664, 296) (705, 321)\n",
            "当前文件：0026.jpg\n",
            "当前文件：0027.jpg\n",
            "当前文件：0028.jpg\n",
            "car 0.72 (711, 303) (792, 368)\n",
            "当前文件：0029.jpg\n",
            "truck 0.65 (698, 282) (781, 336)\n",
            "当前文件：0030.jpg\n",
            "当前文件：0031.jpg\n",
            "car 0.67 (187, 316) (313, 409)\n",
            "当前文件：0032.jpg\n",
            "当前文件：0033.jpg\n",
            "car 0.62 (899, 279) (964, 306)\n",
            "当前文件：0034.jpg\n",
            "traffic light 0.61 (200, 107) (228, 170)\n",
            "car 0.70 (179, 326) (312, 424)\n",
            "当前文件：0035.jpg\n",
            "car 0.62 (1084, 278) (1194, 319)\n",
            "当前文件：0036.jpg\n",
            "car 0.65 (211, 313) (349, 402)\n",
            "car 0.73 (1014, 274) (1201, 338)\n",
            "当前文件：0037.jpg\n",
            "car 0.63 (326, 302) (419, 365)\n",
            "当前文件：0038.jpg\n",
            "当前文件：0039.jpg\n",
            "car 0.67 (312, 301) (398, 364)\n",
            "当前文件：0040.jpg\n",
            "car 0.61 (330, 299) (415, 363)\n",
            "当前文件：0041.jpg\n",
            "car 0.65 (341, 294) (415, 367)\n",
            "当前文件：0042.jpg\n",
            "当前文件：0043.jpg\n",
            "car 0.76 (118, 312) (237, 384)\n",
            "当前文件：0044.jpg\n",
            "car 0.61 (551, 283) (624, 329)\n",
            "当前文件：0045.jpg\n",
            "traffic light 0.70 (383, 40) (416, 101)\n",
            "traffic light 0.73 (569, 33) (604, 102)\n",
            "当前文件：0046.jpg\n",
            "当前文件：0047.jpg\n",
            "当前文件：0048.jpg\n",
            "当前文件：0049.jpg\n",
            "当前文件：0050.jpg\n",
            "当前文件：0051.jpg\n",
            "car 0.68 (151, 323) (247, 379)\n",
            "traffic light 0.72 (500, 79) (532, 138)\n",
            "当前文件：0052.jpg\n",
            "当前文件：0053.jpg\n",
            "当前文件：0054.jpg\n",
            "car 0.63 (726, 293) (800, 353)\n",
            "car 0.72 (786, 292) (941, 410)\n",
            "当前文件：0055.jpg\n",
            "car 0.73 (758, 277) (904, 389)\n",
            "当前文件：0056.jpg\n",
            "当前文件：0057.jpg\n",
            "当前文件：0058.jpg\n",
            "当前文件：0059.jpg\n",
            "car 0.77 (0, 307) (257, 464)\n",
            "car 0.82 (570, 277) (864, 417)\n",
            "car 0.86 (86, 319) (527, 493)\n",
            "当前文件：0060.jpg\n",
            "当前文件：0061.jpg\n",
            "当前文件：0062.jpg\n",
            "当前文件：0063.jpg\n",
            "当前文件：0064.jpg\n",
            "当前文件：0065.jpg\n",
            "car 0.69 (380, 270) (462, 324)\n",
            "当前文件：0066.jpg\n",
            "traffic light 0.62 (532, 68) (564, 113)\n",
            "car 0.77 (372, 281) (454, 333)\n",
            "当前文件：0067.jpg\n",
            "traffic light 0.65 (535, 60) (570, 105)\n",
            "car 0.70 (369, 280) (454, 345)\n",
            "当前文件：0068.jpg\n",
            "traffic light 0.64 (378, 87) (405, 146)\n",
            "traffic light 0.64 (536, 60) (572, 108)\n",
            "car 0.66 (367, 288) (450, 348)\n",
            "当前文件：0069.jpg\n",
            "traffic light 0.60 (537, 62) (577, 109)\n",
            "car 0.62 (367, 289) (450, 346)\n",
            "traffic light 0.63 (379, 87) (407, 147)\n",
            "当前文件：0070.jpg\n",
            "car 0.65 (369, 291) (452, 354)\n",
            "当前文件：0071.jpg\n",
            "truck 0.70 (87, 287) (569, 450)\n",
            "当前文件：0072.jpg\n",
            "traffic light 0.61 (535, 65) (572, 111)\n",
            "traffic light 0.62 (378, 91) (406, 148)\n",
            "car 0.62 (291, 301) (357, 351)\n",
            "truck 0.64 (1049, 263) (1280, 399)\n",
            "car 0.64 (0, 331) (84, 449)\n",
            "car 0.66 (368, 292) (450, 357)\n",
            "当前文件：0073.jpg\n",
            "car 0.74 (145, 313) (248, 374)\n",
            "car 0.85 (503, 299) (858, 421)\n",
            "当前文件：0074.jpg\n",
            "traffic light 0.60 (380, 91) (407, 147)\n",
            "car 0.61 (365, 294) (450, 346)\n",
            "car 0.87 (31, 319) (424, 485)\n",
            "当前文件：0075.jpg\n",
            "car 0.75 (151, 315) (246, 372)\n",
            "当前文件：0076.jpg\n",
            "traffic light 0.62 (381, 93) (407, 146)\n",
            "car 0.66 (246, 298) (336, 366)\n",
            "car 0.70 (369, 292) (451, 357)\n",
            "car 0.75 (150, 313) (245, 375)\n",
            "当前文件：0077.jpg\n",
            "traffic light 0.60 (536, 65) (571, 112)\n",
            "traffic light 0.60 (380, 92) (407, 147)\n",
            "car 0.70 (243, 296) (345, 368)\n",
            "car 0.71 (368, 292) (450, 356)\n",
            "car 0.75 (150, 313) (245, 374)\n",
            "当前文件：0078.jpg\n",
            "traffic light 0.62 (380, 92) (407, 146)\n",
            "car 0.65 (367, 293) (453, 353)\n",
            "car 0.70 (242, 295) (339, 367)\n",
            "car 0.75 (151, 313) (245, 373)\n",
            "当前文件：0079.jpg\n",
            "traffic light 0.61 (535, 65) (571, 111)\n",
            "traffic light 0.61 (378, 92) (406, 148)\n",
            "car 0.72 (235, 298) (327, 367)\n",
            "car 0.76 (151, 314) (243, 373)\n",
            "当前文件：0080.jpg\n",
            "traffic light 0.61 (379, 92) (407, 147)\n",
            "car 0.64 (5, 309) (188, 416)\n",
            "car 0.71 (237, 298) (324, 366)\n",
            "car 0.79 (714, 282) (916, 362)\n",
            "当前文件：0081.jpg\n",
            "car 0.68 (187, 309) (301, 381)\n",
            "car 0.76 (612, 293) (722, 353)\n",
            "car 0.79 (25, 328) (141, 398)\n",
            "当前文件：0082.jpg\n",
            "traffic light 0.61 (380, 92) (408, 147)\n",
            "car 0.62 (585, 287) (660, 335)\n",
            "car 0.70 (410, 282) (609, 388)\n",
            "当前文件：0083.jpg\n",
            "traffic light 0.63 (380, 91) (407, 148)\n",
            "car 0.64 (0, 328) (82, 447)\n",
            "car 0.72 (609, 280) (888, 397)\n",
            "当前文件：0084.jpg\n",
            "traffic light 0.62 (378, 91) (406, 150)\n",
            "car 0.70 (990, 272) (1270, 381)\n",
            "当前文件：0085.jpg\n",
            "traffic light 0.61 (535, 64) (571, 114)\n",
            "traffic light 0.61 (378, 91) (406, 150)\n",
            "当前文件：0086.jpg\n",
            "traffic light 0.60 (378, 92) (407, 150)\n",
            "traffic light 0.61 (536, 65) (572, 113)\n",
            "当前文件：0087.jpg\n",
            "truck 0.60 (0, 315) (93, 404)\n",
            "traffic light 0.60 (536, 66) (572, 112)\n",
            "traffic light 0.61 (382, 92) (410, 149)\n",
            "当前文件：0088.jpg\n",
            "traffic light 0.61 (377, 92) (406, 150)\n",
            "当前文件：0089.jpg\n",
            "当前文件：0090.jpg\n",
            "当前文件：0091.jpg\n",
            "traffic light 0.71 (300, 76) (333, 159)\n",
            "当前文件：0092.jpg\n",
            "traffic light 0.62 (232, 25) (266, 95)\n",
            "当前文件：0093.jpg\n",
            "car 0.60 (361, 313) (414, 341)\n",
            "当前文件：0094.jpg\n",
            "当前文件：0095.jpg\n",
            "当前文件：0096.jpg\n",
            "car 0.68 (202, 319) (301, 369)\n",
            "当前文件：0097.jpg\n",
            "car 0.69 (74, 330) (188, 395)\n",
            "car 0.69 (235, 315) (336, 375)\n",
            "当前文件：0098.jpg\n",
            "car 0.60 (747, 289) (811, 356)\n",
            "car 0.63 (836, 291) (968, 405)\n",
            "car 0.81 (898, 315) (1113, 452)\n",
            "当前文件：0099.jpg\n",
            "car 0.75 (1046, 352) (1279, 608)\n",
            "car 0.78 (859, 316) (972, 427)\n",
            "car 0.86 (921, 336) (1120, 476)\n",
            "当前文件：0100.jpg\n",
            "当前文件：0101.jpg\n",
            "当前文件：0102.jpg\n",
            "bus 0.79 (180, 259) (304, 362)\n",
            "当前文件：0103.jpg\n",
            "bus 0.74 (0, 286) (203, 420)\n",
            "当前文件：0104.jpg\n",
            "traffic light 0.62 (241, 24) (273, 97)\n",
            "truck 0.82 (0, 223) (291, 421)\n",
            "当前文件：0105.jpg\n",
            "当前文件：0106.jpg\n",
            "car 0.62 (1200, 287) (1276, 432)\n",
            "当前文件：0107.jpg\n",
            "car 0.60 (376, 309) (421, 335)\n",
            "当前文件：0108.jpg\n",
            "当前文件：0109.jpg\n",
            "当前文件：0110.jpg\n",
            "当前文件：0111.jpg\n",
            "car 0.61 (97, 322) (180, 366)\n",
            "fire hydrant 0.63 (1177, 374) (1237, 483)\n",
            "当前文件：0112.jpg\n",
            "当前文件：0113.jpg\n",
            "当前文件：0114.jpg\n",
            "当前文件：0115.jpg\n",
            "当前文件：0116.jpg\n",
            "traffic light 0.63 (522, 76) (543, 113)\n",
            "car 0.80 (5, 271) (241, 672)\n",
            "当前文件：0117.jpg\n",
            "当前文件：0118.jpg\n",
            "当前文件：0119.jpg\n",
            "traffic light 0.61 (1056, 0) (1138, 131)\n",
            "当前文件：0120.jpg\n",
            "绘制完成！\n"
          ],
          "name": "stdout"
        }
      ]
    },
    {
      "metadata": {
        "id": "LBjClqtXwPVW",
        "colab_type": "code",
        "colab": {}
      },
      "cell_type": "code",
      "source": [
        ""
      ],
      "execution_count": 0,
      "outputs": []
    }
  ]
}