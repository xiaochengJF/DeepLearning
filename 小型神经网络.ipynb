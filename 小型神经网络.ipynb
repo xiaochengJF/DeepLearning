{
  "nbformat": 4,
  "nbformat_minor": 0,
  "metadata": {
    "colab": {
      "name": "小型神经网络",
      "version": "0.3.2",
      "provenance": [],
      "collapsed_sections": [],
      "include_colab_link": true
    },
    "kernelspec": {
      "name": "python3",
      "display_name": "Python 3"
    },
    "accelerator": "GPU"
  },
  "cells": [
    {
      "cell_type": "markdown",
      "metadata": {
        "id": "view-in-github",
        "colab_type": "text"
      },
      "source": [
        "<a href=\"https://colab.research.google.com/github/xiaochengJF/DeepLearning/blob/master/%E5%B0%8F%E5%9E%8B%E7%A5%9E%E7%BB%8F%E7%BD%91%E7%BB%9C.ipynb\" target=\"_parent\"><img src=\"https://colab.research.google.com/assets/colab-badge.svg\" alt=\"Open In Colab\"/></a>"
      ]
    },
    {
      "cell_type": "code",
      "metadata": {
        "id": "DVHzEhD57qeZ",
        "colab_type": "code",
        "colab": {
          "base_uri": "https://localhost:8080/",
          "height": 126
        },
        "outputId": "71879e33-e112-40bc-ff22-48f902df76d3"
      },
      "source": [
        "from google.colab import drive\n",
        "drive.mount(\"/content/gdrive/\")"
      ],
      "execution_count": 1,
      "outputs": [
        {
          "output_type": "stream",
          "text": [
            "Go to this URL in a browser: https://accounts.google.com/o/oauth2/auth?client_id=947318989803-6bn6qk8qdgf4n4g3pfee6491hc0brc4i.apps.googleusercontent.com&redirect_uri=urn%3Aietf%3Awg%3Aoauth%3A2.0%3Aoob&scope=email%20https%3A%2F%2Fwww.googleapis.com%2Fauth%2Fdocs.test%20https%3A%2F%2Fwww.googleapis.com%2Fauth%2Fdrive%20https%3A%2F%2Fwww.googleapis.com%2Fauth%2Fdrive.photos.readonly%20https%3A%2F%2Fwww.googleapis.com%2Fauth%2Fpeopleapi.readonly&response_type=code\n",
            "\n",
            "Enter your authorization code:\n",
            "··········\n",
            "Mounted at /content/gdrive/\n"
          ],
          "name": "stdout"
        }
      ]
    },
    {
      "cell_type": "markdown",
      "metadata": {
        "id": "9EpbH36EITn-",
        "colab_type": "text"
      },
      "source": [
        " "
      ]
    },
    {
      "cell_type": "code",
      "metadata": {
        "id": "qUAq2kRS7tZq",
        "colab_type": "code",
        "colab": {
          "base_uri": "https://localhost:8080/",
          "height": 35
        },
        "outputId": "dfa3df2c-24df-409b-838b-6726ea85ad0b"
      },
      "source": [
        "cd /content/gdrive/My Drive/My/"
      ],
      "execution_count": 2,
      "outputs": [
        {
          "output_type": "stream",
          "text": [
            "/content/gdrive/My Drive/My\n"
          ],
          "name": "stdout"
        }
      ]
    },
    {
      "cell_type": "code",
      "metadata": {
        "id": "LunUhZvkIOFn",
        "colab_type": "code",
        "colab": {}
      },
      "source": [
        "import numpy as np\n",
        "import matplotlib.pyplot as plt\n",
        "from mpl_toolkits.mplot3d import Axes3D\n",
        "import math\n",
        "import random\n",
        "import os"
      ],
      "execution_count": 0,
      "outputs": []
    },
    {
      "cell_type": "code",
      "metadata": {
        "id": "XuNh1-M6IpLW",
        "colab_type": "code",
        "colab": {}
      },
      "source": [
        "class Activation:\n",
        "    def __init__(self, wRange = 1, bRange = 1):\n",
        "        self.wRange = wRange\n",
        "        self.bRange = bRange\n",
        "        \n",
        "    # 初始化权重  wx + b =  w(x + b/w) = w(x + h)  -> h = b/w ,w决定了函数的x方向的缩放，h决定了缩放后x方向的平移\n",
        "    # 初始化权重并不是一个随机初始化的过程，我们测试中发现，在对s型函数拟合的过程中，务必把函数进行合适的缩放，然后初始化偏移，让其均匀地分布在整个整个输入空间\n",
        "    # 但对relu类型的函数，w可以设置为+1，-1即可，只要改变初始偏移即可完成相应的拟合\n",
        "    def initWeight(self, cell):\n",
        "        for i in range(len(cell.w)):\n",
        "            cell.w[i] = self.wRange * random.choice([1., -1.])\n",
        "        cell.b = (self.bRange * self.wRange) * random.uniform(-1, 1)\n",
        "        if (cell.specialCellType):\n",
        "            for i in range(len(cell.w)):\n",
        "                cell.h[i] = (self.bRange) * random.uniform(-1, 1)\n",
        "    \n",
        "    def activation_fun(self, x):\n",
        "        raise NotImplemented(\"\") # ?????????????????\n",
        "        \n",
        "    def activation_deri_fun(self, cell):\n",
        "        raise NotImplemented(\"\")\n",
        "        \n",
        "    # 权重差值,求出来的偏导为\n",
        "    # △loss/△w = deri, （1）\n",
        "    # 如果令 △w = -speed*deri  （2）\n",
        "    # 令2代入1可以导出\n",
        "    #   △loss = deri*△w  = - speed*deri*deri, loss是往恒往小的方向进行的\n",
        "    # 但是这个更新策略并不是唯一的策略，只要令△loss实际是往减小方向的策略理论上都是可以的，比如我们,在deri不为零的前提下\n",
        "    # 令  △w = -speed/deri  （3）\n",
        "    # 代入1,可得 △loss = -speed,  即每更新一步，△loss是以固定速度减小的\n",
        "    # 但是在(3)式的策略其实也可能有一些其他的问题，比如我们的偏导deri只是在当前w的一个很小的邻域内才成立，所以一定要限制△w 的范围，\n",
        "    # 梯度下降的策略很有多种，可以参考下面文章：\n",
        "    # http://www.360doc.com/content/16/1121/12/22755525_608221032.shtml    \n",
        "    def updateDeltaWeight(self, deri, speed, cell, loss, coefficient):\n",
        "        return -speed * deri"
      ],
      "execution_count": 0,
      "outputs": []
    },
    {
      "cell_type": "code",
      "metadata": {
        "id": "MrqA83uWIyBu",
        "colab_type": "code",
        "colab": {}
      },
      "source": [
        "#梯度很容易爆炸，但可以通过修改更新权重的策略让其拟合一些函数\n",
        "class ActivationXX(Activation):\n",
        "    def activation_fun(self, x):\n",
        "        if (abs(x) > 1):\n",
        "            x = 1\n",
        "        return x * x\n",
        "    \n",
        "    def activation_deri_fun(self, cell):\n",
        "        if (abs(cell.sum) > 1):\n",
        "            return 0\n",
        "        return 2 * cell.sum"
      ],
      "execution_count": 0,
      "outputs": []
    },
    {
      "cell_type": "code",
      "metadata": {
        "id": "2wLJ9Xs9IzwW",
        "colab_type": "code",
        "colab": {}
      },
      "source": [
        "# V型函数\n",
        "class activationAbsolute(Activation):\n",
        "    def activation_fun(self, x):\n",
        "        return abs(x)\n",
        "    \n",
        "    def activation_deri_fun(self, cell):\n",
        "        return 1.0 if cell.sum < 0.0 else 1.0 # ???????不是-1吗"
      ],
      "execution_count": 0,
      "outputs": []
    },
    {
      "cell_type": "code",
      "metadata": {
        "id": "MhdAU64ZKkmm",
        "colab_type": "code",
        "colab": {}
      },
      "source": [
        "# Sinc函数\n",
        "class ActivationSinc(Activation):\n",
        "    def activation_fun(self, x):\n",
        "        return 1.0 if x == 0.0 else math.sin(x) / x\n",
        "    \n",
        "    def activatiom_deri_fun(self, cell):\n",
        "        x = cell.sum\n",
        "        return 1.0 if x == 0.0 else math.cos(x) / x - math.sin(x) / (x * x)"
      ],
      "execution_count": 0,
      "outputs": []
    },
    {
      "cell_type": "code",
      "metadata": {
        "id": "xliCizl8KsLH",
        "colab_type": "code",
        "colab": {}
      },
      "source": [
        "# Tanh\n",
        "class ActivationTanh(Activation):\n",
        "    def activation_fun(self, x):\n",
        "        return math.tanh(x)\n",
        "\n",
        "    def activation_deri_fun(self, cell):\n",
        "        return 1 - cell.out * cell.out"
      ],
      "execution_count": 0,
      "outputs": []
    },
    {
      "cell_type": "code",
      "metadata": {
        "id": "mf2JJIu0Li9X",
        "colab_type": "code",
        "colab": {}
      },
      "source": [
        "# Relu\n",
        "class ActivationRelu(Activation):\n",
        "    def activation_fun(self, x):\n",
        "        return max(0.0, x)\n",
        "\n",
        "    def activation_deri_fun(self, cell):\n",
        "        return 0.0 if cell.sum <= 0. else 1.0"
      ],
      "execution_count": 0,
      "outputs": []
    },
    {
      "cell_type": "code",
      "metadata": {
        "id": "wRBii8w6Luku",
        "colab_type": "code",
        "colab": {}
      },
      "source": [
        "# MyRelu\n",
        "class ActivationMyRelu(Activation):  # 往右平移了一下\n",
        "    def activation_fun(self, x):  \n",
        "        return max(0.0, x - 0.5)\n",
        "\n",
        "    def activation_deri_fun(self, cell): \n",
        "        return 0.0 if cell.sum <= 0. else 1.0"
      ],
      "execution_count": 0,
      "outputs": []
    },
    {
      "cell_type": "code",
      "metadata": {
        "id": "GTOWV1H2Lx0G",
        "colab_type": "code",
        "colab": {}
      },
      "source": [
        "# LeakyRelu\n",
        "class ActivationLeakyRelu(Activation):\n",
        "    def activation_fun(self, x):\n",
        "        return x if x > 0.0 else 0.01 * x\n",
        "\n",
        "    def activation_deri_fun(self, cell):\n",
        "        return 0.01 if cell.sum <= 0  else 1.0"
      ],
      "execution_count": 0,
      "outputs": []
    },
    {
      "cell_type": "code",
      "metadata": {
        "id": "dmJ7raHErC2O",
        "colab_type": "code",
        "colab": {}
      },
      "source": [
        "# 阶跃函数\n",
        "class ActivationStep(Activation):  # 0  ，-  1\n",
        "    def activation_fun(self, x): \n",
        "        return 1.0 if x >= 0 else 0\n",
        "\n",
        "    def activation_deri_fun(self, cell): \n",
        "        return 0"
      ],
      "execution_count": 0,
      "outputs": []
    },
    {
      "cell_type": "code",
      "metadata": {
        "id": "qCNeNb1vt-X7",
        "colab_type": "code",
        "colab": {}
      },
      "source": [
        "# Signum\n",
        "class ActivationSignum(Activation):  # 1 ， -  1\n",
        "    def activation_fun(self, x): \n",
        "        return 1.0 if x >= 0 else -1.0\n",
        "\n",
        "    def activation_deri_fun(self, cell): \n",
        "        return 0.0"
      ],
      "execution_count": 0,
      "outputs": []
    },
    {
      "cell_type": "code",
      "metadata": {
        "id": "YFvA38QouNxJ",
        "colab_type": "code",
        "colab": {}
      },
      "source": [
        "# ln(1 + e^x)\n",
        "class ActivationSoftPlus(Activation):\n",
        "    def activation_fun(self, x):\n",
        "        return math.log(1 + math.exp(x))\n",
        "\n",
        "    def activation_deri_fun(self, cell):\n",
        "        return 1 / (1 + math.exp(-cell.sum))"
      ],
      "execution_count": 0,
      "outputs": []
    },
    {
      "cell_type": "code",
      "metadata": {
        "id": "IhW4ZhL4uUoh",
        "colab_type": "code",
        "colab": {}
      },
      "source": [
        "# LeCun Tanh\n",
        "class ActivationLecunTanh(Activation):  \n",
        "    def activation_fun(self, x):\n",
        "        return 1.7519 * math.tanh(2 * x / 3) \n",
        "\n",
        "    def activation_deri_fun(self, cell):\n",
        "        return 1.7519 * 2 * (1 - cell.out * cell / (1.7519 * 1.7519)) / 3"
      ],
      "execution_count": 0,
      "outputs": []
    },
    {
      "cell_type": "code",
      "metadata": {
        "id": "sm-ysUxiufdK",
        "colab_type": "code",
        "colab": {}
      },
      "source": [
        "# Hard Tanh\n",
        "class ActivationHardTanh(Activation):\n",
        "    def activation_fun(self, x):\n",
        "        return 1 if x > 1.0 else (-1 if x < -1.0 else x)\n",
        "\n",
        "    def activation_deri_fun(self, cell):\n",
        "        return 1 if abs(x) < 1.0 else 0\n"
      ],
      "execution_count": 0,
      "outputs": []
    },
    {
      "cell_type": "code",
      "metadata": {
        "id": "lG2U8Wakuuzx",
        "colab_type": "code",
        "colab": {}
      },
      "source": [
        "# ArcTan\n",
        "class ActivationArcTan(Activation): \n",
        "    def activation_fun(self, x):\n",
        "        return math.atan(x)  #\n",
        "\n",
        "    def activation_deri_fun(self, cell):\n",
        "        return 1 / (cell.sum * cell.sum + 1)"
      ],
      "execution_count": 0,
      "outputs": []
    },
    {
      "cell_type": "code",
      "metadata": {
        "id": "FMIgv-CguyXR",
        "colab_type": "code",
        "colab": {}
      },
      "source": [
        "# x/(1 + |x|)\n",
        "class ActivationSoftsign(Activation): \n",
        "    def activation_fun(self, x):\n",
        "        return x / (1 + abs(x)) \n",
        "\n",
        "    def activation_deri_fun(self, cell): \n",
        "        return 1 / ((1 + abs(cell.sum)) * (1 + abs(cell.sum)))"
      ],
      "execution_count": 0,
      "outputs": []
    },
    {
      "cell_type": "code",
      "metadata": {
        "id": "gjXuUVHOu7Jy",
        "colab_type": "code",
        "colab": {}
      },
      "source": [
        "# Sigmoid\n",
        "class ActivationSigmoid(Activation):\n",
        "    def activation_fun(self, x):  # 激活函数\n",
        "        try:\n",
        "            return 1 / (1 + math.exp(-x))\n",
        "        except OverflowError:\n",
        "            if x < 0.0:\n",
        "                return 0\n",
        "            else:\n",
        "                return 1;\n",
        "\n",
        "    def activation_deri_fun(self, cell):  # 偏导\n",
        "        return cell.out * (1 - cell.out)\n",
        "\n",
        "        # def updateDeltaWeight(self,deri,speed,cell,loss,coefficient):            ##权重差值,这种策略貌似会更快一点\n",
        "        #     sigmoidDri = abs(cell.out * (1 - cell.out))\n",
        "        #     if((sigmoidDri) < 0.1):      #梯度太小，不处理\n",
        "        #         return 0.0\n",
        "        #     coefficient = abs(coefficient)\n",
        "        #     coefficient = max(coefficient,0.1)\n",
        "        #     maxDelta = (0.3/coefficient)*sigmoidDri                          #一次的x变化不能太大\n",
        "        #\n",
        "        #     if abs(deri) > 0.000001:\n",
        "        #         delta = (speed/deri) * loss\n",
        "        #     else:\n",
        "        #         return 0.0\n",
        "        #     if abs(delta) > maxDelta:\n",
        "        #         delta = maxDelta if delta > 0 else -maxDelta\n",
        "        #     return -delta\n"
      ],
      "execution_count": 0,
      "outputs": []
    },
    {
      "cell_type": "code",
      "metadata": {
        "id": "-Qj2D_h-vMny",
        "colab_type": "code",
        "colab": {}
      },
      "source": [
        "# 正态分布\n",
        "class ActivationNormal(Activation):\n",
        "    def activation_fun(self, x):\n",
        "        return math.exp(-x * x)  # ?????????????????????\n",
        "\n",
        "    def activation_deri_fun(self, cell):\n",
        "        return -cell.out * 2 * cell.sum  # cell ????????????????"
      ],
      "execution_count": 0,
      "outputs": []
    },
    {
      "cell_type": "code",
      "metadata": {
        "id": "wemYOqSqvShK",
        "colab_type": "code",
        "colab": {}
      },
      "source": [
        "# tanh(x/2)\n",
        "class ActivationTanh(Activation):\n",
        "    def activation_fun(self, x):\n",
        "        return (1 - math.exp(-x)) / (1 + math.exp(-x))\n",
        "\n",
        "    def activation_deri_fun(self, cell):\n",
        "        return 0.5 * (1 - cell.out * cell.out)"
      ],
      "execution_count": 0,
      "outputs": []
    },
    {
      "cell_type": "code",
      "metadata": {
        "id": "KYhpP9tevsGp",
        "colab_type": "code",
        "colab": {
          "base_uri": "https://localhost:8080/",
          "height": 134
        },
        "outputId": "53dacfc9-84ec-41e6-e566-cc16ee6ad632"
      },
      "source": [
        "|# loglog\n",
        "class ActivationLogLog(Activation):\n",
        "    def activation_fun(self, x):\n",
        "        return 1 - math.exp(-math.exp(x))\n",
        "\n",
        "    def activation_deri_fun(self, cell):\n",
        "        return math.exp(cell.sum) * cell.out"
      ],
      "execution_count": 153,
      "outputs": [
        {
          "output_type": "error",
          "ename": "SyntaxError",
          "evalue": "ignored",
          "traceback": [
            "\u001b[0;36m  File \u001b[0;32m\"<ipython-input-153-4fa68985a31a>\"\u001b[0;36m, line \u001b[0;32m1\u001b[0m\n\u001b[0;31m    |# loglog\u001b[0m\n\u001b[0m    ^\u001b[0m\n\u001b[0;31mSyntaxError\u001b[0m\u001b[0;31m:\u001b[0m invalid syntax\n"
          ]
        }
      ]
    },
    {
      "cell_type": "code",
      "metadata": {
        "id": "PZa_oW3Iv5Qq",
        "colab_type": "code",
        "colab": {}
      },
      "source": [
        "# cos函数\n",
        "class ActivationCos(Activation):\n",
        "    def activation_fun(self, x):\n",
        "        return math.cos(x)\n",
        "\n",
        "    def activation_deri_fun(self, cell):\n",
        "        return math.sin(cell.sum)"
      ],
      "execution_count": 0,
      "outputs": []
    },
    {
      "cell_type": "code",
      "metadata": {
        "id": "9rRV1qtvwDA5",
        "colab_type": "code",
        "colab": {}
      },
      "source": [
        "# sin函数\n",
        "class ActivationSin(Activation):\n",
        "    #　？?????\n",
        "    def initWeight(self, cell):\n",
        "        for i in range(len(cell.w)):\n",
        "            cell.w[i] = self.wRange * random.choice([1., -1.]) * random.uniform(0.01, 1)\n",
        "        cell.b = (self.bRange * self.wRange) * random.uniform(-1, 1)\n",
        "\n",
        "    def activation_fun(self, x):\n",
        "        return math.sin(x)\n",
        "\n",
        "    def activation_deri_fun(self, cell):\n",
        "        return math.cos(cell.sum)"
      ],
      "execution_count": 0,
      "outputs": []
    },
    {
      "cell_type": "code",
      "metadata": {
        "id": "ydaSgqwkwTJK",
        "colab_type": "code",
        "colab": {}
      },
      "source": [
        "# 线性函数\n",
        "class ActivationLiner(Activation):\n",
        "    def activation_fun(self, x):  # 激活函数\n",
        "        return x\n",
        "\n",
        "    def activation_deri_fun(self, cell):  # 偏导\n",
        "        return 1\n",
        "        # def updateDeltaWeight(self,deri,speed,cell,loss,coefficient):\n",
        "        #     return 0.       #暂时先强制为0，测试"
      ],
      "execution_count": 0,
      "outputs": []
    },
    {
      "cell_type": "code",
      "metadata": {
        "id": "0zqfzsUlwbb5",
        "colab_type": "code",
        "colab": {}
      },
      "source": [
        "# Cell有两种，一种是以 ∑wi*xi + b 作为输出  ,特殊的是以∑(abs(wi*(xi + hi)))作为输出\n",
        "class Cell:\n",
        "    def __init__(self, activation, specialCellType):\n",
        "        self._activation = activation\n",
        "        self.inputCell = None\n",
        "        self.sum = 0.0\n",
        "        self.out = 0.0\n",
        "        self.error = 0.0\n",
        "        self.specialCellType = specialCellType\n",
        "        \n",
        "    def setInputCells(self, inputCell):\n",
        "        self.inputCell = inputCell\n",
        "        self.w = [0 for i in range(len(inputCell))]\n",
        "        self.delta_w = [0 for i in range(len(inputCell))]\n",
        "        if (self.specialCellType):\n",
        "            self.h = [0 for i in range(len(inputCell))]\n",
        "            self.delta_h = [0 for i in range(len(inputCell))]\n",
        "        self.b = 0.0\n",
        "        self.delta_b = 0.0\n",
        "        if (self._activation):\n",
        "            self._activation.initWeight(self)\n",
        "    \n",
        "    # 计算输出???????\n",
        "    def caculateOut(self):\n",
        "        sum = 0.0\n",
        "        i = 0\n",
        "        for cell in self.inputCell:\n",
        "            if self.specialCellType:\n",
        "                sum += abs(self.w[i] * (cell.out + self.h[i]))\n",
        "            else:\n",
        "                sum += self.w[i] * cell.out\n",
        "            i += 1\n",
        "        if not self.specialCellType:\n",
        "            sum += self.b\n",
        "        self.sum = sum\n",
        "        self.out = self._activation.activation_fun(sum)\n",
        "    \n",
        "    def updateWeight(self, speed, loss):\n",
        "        if self.inputCell:\n",
        "            i = 0\n",
        "            outDeri = self.error * self._activation.activation_deri_fun(self)\n",
        "            for cell in self.inputCell:\n",
        "                if self.specialCellType:\n",
        "                    deri = (cell.out + self.h[i]) * outDeri\n",
        "                    if self.delta_w[i] * (cell.out + self.h[i]) < 0.:\n",
        "                        deri = -deri\n",
        "                else:\n",
        "                    deri = cell.out * outDeri\n",
        "                self.delta_w[i] = self._activation.updateDeltaWeight(deri, speed, self, loss, cell.out)\n",
        "                self.w[i] += self.delta_w[i]\n",
        "\n",
        "                if self.specialCellType:\n",
        "                    hDeri = outDeri if self.w[i] > 0 else -outDeri  # self.w[i]*outDeri\n",
        "                    if (cell.out + self.h[i]) < 0.:  # 绝对值，特殊处理一下\n",
        "                        hDeri = -hDeri;\n",
        "                    self.delta_h[i] = self._activation.updateDeltaWeight(hDeri, speed, self, loss, cell.out)\n",
        "                    self.h[i] += self.delta_h[i]\n",
        "                i += 1\n",
        "            if not self.specialCellType:\n",
        "                deri = outDeri\n",
        "                self.delta_b = self._activation.updateDeltaWeight(deri, speed, self, loss, 1)\n",
        "                self.b += self.delta_b"
      ],
      "execution_count": 0,
      "outputs": []
    },
    {
      "cell_type": "code",
      "metadata": {
        "id": "vbsF7FnUypYk",
        "colab_type": "code",
        "colab": {}
      },
      "source": [
        "class Layer:\n",
        "    def __init__(self, lastLayer=None, cellNum=1, activation=None, specialCellType=False):\n",
        "        self._lastLayer = lastLayer\n",
        "        self._cellNum = cellNum\n",
        "        self.cells = [Cell(activation, specialCellType) for i in range(cellNum)]\n",
        "        self._nextLayer = None\n",
        "        if lastLayer:\n",
        "            lastLayer._nextLayer = self\n",
        "            for cell in self.cells:\n",
        "                cell.setInputCells(lastLayer.cells)\n",
        "\n",
        "    def _forward(self):  # 第一个层调用\n",
        "        nextLayer = self._nextLayer\n",
        "        while nextLayer:\n",
        "            for cell in nextLayer.cells:\n",
        "                cell.caculateOut()\n",
        "            nextLayer = nextLayer._nextLayer\n",
        "\n",
        "    def setInputAndForward(self, x):  # 仅第一层调用\n",
        "\n",
        "        for i in range(len(self.cells)):\n",
        "            self.cells[i].out = x[i]\n",
        "        self._forward()\n",
        "\n",
        "    def backPropagation(self, speed, loss):  # 最后一个层调用,往前跑\n",
        "        currLayer = self\n",
        "        lastLayer = self._lastLayer\n",
        "        while lastLayer:  # 计算所有的error\n",
        "            for lastLayerCell in lastLayer.cells:\n",
        "                lastLayerCell.error = 0.0\n",
        "\n",
        "            for currLayercell in currLayer.cells:\n",
        "                deri = currLayercell._activation.activation_deri_fun(currLayercell) * currLayercell.error\n",
        "                for j in range(len(lastLayer.cells)):\n",
        "                    lastLayerCell = lastLayer.cells[j]\n",
        "                    lastLayerCell.error += currLayercell.w[j] * deri\n",
        "\n",
        "            currLayer = lastLayer\n",
        "            lastLayer = lastLayer._lastLayer\n",
        "        while currLayer:  # 更新权重\n",
        "            for currLayercell in currLayer.cells:\n",
        "                currLayercell.updateWeight(speed, loss)\n",
        "            currLayer = currLayer._nextLayer "
      ],
      "execution_count": 0,
      "outputs": []
    },
    {
      "cell_type": "code",
      "metadata": {
        "id": "-8UqeIIUyyNq",
        "colab_type": "code",
        "colab": {}
      },
      "source": [
        "class Loss:\n",
        "    def __init__(self, layer):\n",
        "        self._layer = layer\n",
        "        pass\n",
        "\n",
        "    def minimize(self, expect):\n",
        "        raise NotImplemented(\"\")"
      ],
      "execution_count": 0,
      "outputs": []
    },
    {
      "cell_type": "code",
      "metadata": {
        "id": "e1B4wc65yz3a",
        "colab_type": "code",
        "colab": {}
      },
      "source": [
        "class LossL2(Loss):\n",
        "    def __init__(self, layer):\n",
        "        super().__init__(layer)\n",
        "        if (len(layer.cells) != 1):\n",
        "            raise (Exception(\"last layer shoule only one cell!\"))\n",
        "\n",
        "    def minimize(self, expect, speed):  # L2距离为  （out - expect)^2   ,其偏导为 2*(out - expect)\n",
        "        loss = (self._layer.cells[0].out - expect) * (self._layer.cells[0].out - expect)\n",
        "        self._layer.cells[0].error = 2 * (self._layer.cells[0].out - expect)\n",
        "        self._layer.backPropagation(speed, loss)"
      ],
      "execution_count": 0,
      "outputs": []
    },
    {
      "cell_type": "code",
      "metadata": {
        "id": "bHLikeIby4bS",
        "colab_type": "code",
        "colab": {}
      },
      "source": [
        "class LossEntropy(Loss):  # 通常是配合前一级是 sigmoid函数的损失计算，否则意义不大\n",
        "    def __init__(self, layer):\n",
        "        super().__init__(layer)\n",
        "        if (len(layer.cells) != 1):\n",
        "            raise (Exception(\"last layer shoule only one cell!\"))\n",
        "\n",
        "    def minimize(self, expect,\n",
        "                 speed):  # 距离为  -(expect*ln(out) + (1 - expect)*ln(1 - out)   ,其偏导为 -(expect/out - (1 - expect)/(1 - out)) = (out - expect)/((1 - out)*out) ，因为error有一个除法，很容易在计算的时候，数据超出浮点数范围\n",
        "        loss = -(expect * math.log(self._layer.cells[0].out) + (1 - expect) * math.log(1 - self._layer.cells[0].out))\n",
        "        self._layer.cells[0].error = (self._layer.cells[0].out - expect) / (\n",
        "        self._layer.cells[0].out * (1 - self._layer.cells[0].out))\n",
        "        self._layer.backPropagation(speed, loss)"
      ],
      "execution_count": 0,
      "outputs": []
    },
    {
      "cell_type": "code",
      "metadata": {
        "id": "zYCL3tM5y6Pj",
        "colab_type": "code",
        "colab": {}
      },
      "source": [
        "def run3DDraw():\n",
        "    fig = plt.figure()\n",
        "    ax = Axes3D(fig)\n",
        "    X = np.arange(-8, 8, 0.25)\n",
        "    Y = np.arange(-8, 8, 0.25)\n",
        "    X, Y = np.meshgrid(X, Y)\n",
        "    R = 1 / (1 + np.exp(abs(X) + abs(Y) - 5))\n",
        "    Z = R\n",
        "\n",
        "    # 具体函数方法可用 help(function) 查看，如：help(ax.plot_surface)\n",
        "    ax.plot_surface(X, Y, Z, rstride=1, cstride=1, cmap='rainbow')\n",
        "    plt.show()"
      ],
      "execution_count": 0,
      "outputs": []
    },
    {
      "cell_type": "code",
      "metadata": {
        "id": "oCTIdeKqzDHK",
        "colab_type": "code",
        "colab": {}
      },
      "source": [
        "def run2DDraw():\n",
        "    x = np.linspace(-7, 7, 70)\n",
        "    y = 1 / (1 + np.exp((abs(x) - 5)))\n",
        "    ax1 = plt.subplot(111)\n",
        "    ax1.clear()\n",
        "    # ax1.set_title('y = sigmoid(-x)')\n",
        "    ax1.plot(x, y)\n",
        "    ax1.grid(True)\n",
        "    plt.pause(10)"
      ],
      "execution_count": 0,
      "outputs": []
    },
    {
      "cell_type": "code",
      "metadata": {
        "id": "mLhCcpVXzFAy",
        "colab_type": "code",
        "colab": {}
      },
      "source": [
        "def run2D_DNN():\n",
        "    # run2DDraw()\n",
        "\n",
        "    hideCellNum = 120  # 隐含层神经元数目\n",
        "    speed = 0.0001  # 不要小看这个speed,选择过大的时候，非常容易造成递度爆炸，比如你可以试试speed为1，Relu的训练\n",
        "\n",
        "    inputLayer = Layer(None, 1, None)  # 第一层，没有上一层，没有激活函数，输入单元的个数为1\n",
        "\n",
        "    ##############单隐含层的物理结构如下,一个输入单元，hideCellNum个隐含层神经单元，一个输出单元，最后一个输出单用的是线性神经元，loss函数用的是L2距离\n",
        "    #              /--  0  --\\\n",
        "    #         (x) 0 --- 0  --  0  (y)\n",
        "    #              \\--  0  --/\n",
        "    #\n",
        "    # hideLayer1 = Layer(inputLayer, hideCellNum, ActivationXX(15, 1))\n",
        "    # hideLayer1 = Layer(inputLayer, hideCellNum, ActivationNormal(15, 1))\n",
        "    # hideLayer1 = Layer(inputLayer, hideCellNum, ActivationSin(35, 1))\n",
        "    # hideLayer1 = Layer(inputLayer,hideCellNum,ActivationSigmoid(35,1))\n",
        "    hideLayer1 = Layer(inputLayer, hideCellNum, ActivationRelu(1, 1))\n",
        "    # hideLayer2 = Layer(hideLayer1, hideCellNum, ActivationRelu())             #我们同样可以进行多层的神经网络\n",
        "    # hideLayer3 = Layer(hideLayer2, hideCellNum, ActivationRelu())\n",
        "    outputLayer = Layer(hideLayer1, 1, ActivationLiner(1, 0))\n",
        "    loss = LossL2(outputLayer)\n",
        "\n",
        "    x = np.linspace(-1, 1, 20)  # 这个输入的范围，要和相应的激活函数的权重初始化相关联，\n",
        "    orig_y = 2 * np.sin(3 * x) + 1 * (x - 3) * x + 2  # 调sin（）里面的系数，可以控制输出的周期幅度\n",
        "\n",
        "    # (x,orig_y) = walk_dir('./PIC','.bmp')\n",
        "\n",
        "    y = orig_y  # 1/(1 + np.exp(-orig_y))                 #如果最后一层是sigmoid,这里就可以再用sigmoid处理一下，如果最后一层是Liner,直接用原始的即可\n",
        "\n",
        "    _z = np.array([0.0 for i in range(\n",
        "        len(y))])  # 千万不要写_y = y 这种愚蠢的写法，这种写法，_y和y会共用同一个存储空间，改变_y也会改变y,但你可以写成_y = np.array(y),这时_y和y的存储空间是独立的\n",
        "    hideOutZ = [np.array(_z) for i in range(hideCellNum + 1)]\n",
        "\n",
        "    hideDeltaWeightZ = [np.array(_z) for i in range(hideCellNum)]\n",
        "    hideDeltaBiasZ = [np.array(_z) for i in range(hideCellNum)]\n",
        "\n",
        "    outWeightZ = [np.array(_z) for i in range(hideCellNum)]\n",
        "    outDeltaWeightZ = [np.array(_z) for i in range(hideCellNum)]\n",
        "\n",
        "    plt.close()  # clf() # 清图  cla() # 清坐标轴 close() # 关窗口\n",
        "\n",
        "    plt.grid(True)  # 添加网格\n",
        "    plt.ion()  # interactive mode on\n",
        "\n",
        "    plt.figure(1)  # 创建图表1\n",
        "    ax1 = plt.subplot(221)  # 在图表2中创建子图1\n",
        "    ax2 = plt.subplot(222)  # 在图表2中创建子图2\n",
        "    ax3 = plt.subplot(223)  # 在图表2中创建子图3\n",
        "    ax4 = plt.subplot(224)  # 在图表2中创建子图4\n",
        "    # ax.axis(\"equal\")  # 设置图像显示的时候XY轴比例\n",
        "\n",
        "\n",
        "\n",
        "    for t in range(len(x)):  # 初始化初值\n",
        "        inputLayer.setInputAndForward([x[t]])\n",
        "        loss.minimize(y[t], speed)\n",
        "\n",
        "        for j in range(len(hideLayer1.cells)):\n",
        "            hideOutZ[j][t] = hideLayer1.cells[j].out * outputLayer.cells[0].w[j]\n",
        "            hideDeltaWeightZ[j][t] = hideLayer1.cells[j].delta_w[0]\n",
        "            hideDeltaBiasZ[j][t] = hideLayer1.cells[j].delta_b\n",
        "            outDeltaWeightZ[j][t] = outputLayer.cells[0].delta_w[j]\n",
        "            outWeightZ[j][t] = outputLayer.cells[0].w[j]\n",
        "\n",
        "        hideOutZ[hideCellNum][t] = outputLayer.cells[0].b\n",
        "        _z[t] = outputLayer.cells[0].out\n",
        "\n",
        "    for loop in range(10000):\n",
        "\n",
        "        for epoch in range(30):\n",
        "            # t = int(random.uniform(0,1)*10000000)%len(x)\n",
        "            for t in range(len(x)):\n",
        "                inputLayer.setInputAndForward([x[t]])\n",
        "                loss.minimize(y[t], speed)\n",
        "\n",
        "                if (epoch == 1):  # True:#True:#\n",
        "                    inputLayer.setInputAndForward([x[t]])\n",
        "                    for j in range(len(hideLayer1.cells)):\n",
        "                        hideDeltaWeightZ[j][t] = hideLayer1.cells[j].delta_w[0]\n",
        "                        hideDeltaBiasZ[j][t] = hideLayer1.cells[j].delta_b\n",
        "                        outDeltaWeightZ[j][t] = outputLayer.cells[0].delta_w[j]\n",
        "                        outWeightZ[j][t] = outputLayer.cells[0].w[j]\n",
        "                    for n in range(len(x)):\n",
        "                        inputLayer.setInputAndForward([x[n]])\n",
        "                        for j in range(len(hideLayer1.cells)):\n",
        "                            hideOutZ[j][n] = hideLayer1.cells[j].out * outputLayer.cells[0].w[j]\n",
        "\n",
        "                        hideOutZ[hideCellNum][n] = outputLayer.cells[0].b\n",
        "                        _z[n] = outputLayer.cells[0].sum\n",
        "\n",
        "                    if (t != len(x) - 1):  # 将此处注释，可以实时看到每一次训练的变化过程\n",
        "                        continue\n",
        "                    ax1.clear()\n",
        "                    ax1.set_title(\n",
        "                        'result loop:' + str(loop) + ' Cell:' + str(hideCellNum))  # 目标函数，补经网络的输出，以及隐含层每个神经元的输出乘以相应w权重\n",
        "                    ax2.clear()\n",
        "                    ax2.set_title('hide layer △w')\n",
        "                    ax3.clear()\n",
        "                    ax3.set_title('hide layer △b')\n",
        "                    ax4.clear()\n",
        "                    ax4.set_title('target layer △w')\n",
        "\n",
        "                    for j in range(len(hideOutZ)):\n",
        "                        ax1.plot(x, hideOutZ[j])\n",
        "\n",
        "                    ax1.plot(x, orig_y)  # ,'-o'\n",
        "                    ax1.plot(x, _z)\n",
        "                    ax1.plot([x[t], x[t]], [np.min(_z[t]), np.max(y[t])])\n",
        "\n",
        "                    for j in range(len(hideDeltaWeightZ)):\n",
        "                        ax2.plot(x, hideDeltaWeightZ[j])\n",
        "                        ax3.plot(x, hideDeltaBiasZ[j])\n",
        "                        # ax4.plot(x, outWeightZ[j])\n",
        "                        ax4.plot(x, outDeltaWeightZ[j])\n",
        "\n",
        "                    ax2.plot([x[t], x[t]], [np.min(hideDeltaWeightZ), np.max(hideDeltaWeightZ)])\n",
        "                    ax3.plot([x[t], x[t]], [np.min(hideDeltaBiasZ), np.max(hideDeltaBiasZ)])\n",
        "\n",
        "                    plt.pause(0.1)\n"
      ],
      "execution_count": 0,
      "outputs": []
    },
    {
      "cell_type": "code",
      "metadata": {
        "id": "usYh7RwizJcz",
        "colab_type": "code",
        "colab": {}
      },
      "source": [
        "def run3D_DNN():\n",
        "    hideCellNum = 5  # 隐含层神经元数目\n",
        "    speed = 0.001  # 不要小看这个speed,选择过大的时候，非常容易造成递度爆炸，比如你可以试试speed为1，Relu的训练\n",
        "    inputLayer = Layer(None, 2, None)  # 第一层，没有上一层，没有激活函数，输入单元的个数为1\n",
        "    inputRange = 0.5\n",
        "\n",
        "    ##############单隐含层的物理结构如下,一个输入单元，hideCellNum个隐含层神经单元，一个输出单元，最后一个输出单用的是线性神经元，loss函数用的是L2距离\n",
        "    #              /--  0  --\\\n",
        "    #         (x) 0 --- 0  --  0  (y)\n",
        "    #              \\--  0  --/\n",
        "    #\n",
        "    # hideLayer1 = Layer(inputLayer, hideCellNum, ActivationXX(15, 1))\n",
        "    # hideLayer1 = Layer(inputLayer, hideCellNum, ActivationNormal(15, 1))\n",
        "    # hideLayer1 = Layer(inputLayer, hideCellNum, ActivationSin(35, 1))\n",
        "    # hideLayer1 = Layer(inputLayer,hideCellNum,ActivationNormal(2,0.5),True)\n",
        "    _hideLayer = Layer(inputLayer, hideCellNum, ActivationRelu(1, 0.2), True)\n",
        "    hideLayer = Layer(_hideLayer, hideCellNum, ActivationRelu(1, 0.2), True)\n",
        "    hideLayer1 = Layer(hideLayer, hideCellNum, ActivationRelu(1, 0.2))\n",
        "    # hideLayer2 = Layer(hideLayer1, hideCellNum, ActivationRelu())             #我们同样可以进行多层的神经网络\n",
        "    # hideLayer3 = Layer(hideLayer2, hideCellNum, ActivationRelu())\n",
        "    outputLayer = Layer(hideLayer1, 1, ActivationLiner(1, 0))\n",
        "    loss = LossL2(outputLayer)\n",
        "\n",
        "    # X = np.arange(-1, 1, 0.4)\n",
        "    # Y = np.arange(-1, 1, 0.4)\n",
        "    X = np.arange(-inputRange, inputRange + 0.000001, inputRange / 2)  # 两个点\n",
        "    Y = np.arange(-inputRange, inputRange + 0.000001, inputRange / 2)\n",
        "\n",
        "    x, y = np.meshgrid(X, Y)\n",
        "\n",
        "    subX = np.arange(-inputRange, inputRange, 0.1)  # 主要是用来画图用的\n",
        "    subY = np.arange(-inputRange, inputRange, 0.1)\n",
        "    subx, suby = np.meshgrid(subX, subY)\n",
        "    subz = subx + suby\n",
        "\n",
        "    orig_z = 2 * np.sin(7 * x) + 1 * (y - 3) * x + 2  # 调sin（）里面的系数，可以控制输出的周期幅度\n",
        "\n",
        "    orig_z = [[1, 0, 0, 1, 1],\n",
        "              [1, 1, 0, 1, 0],\n",
        "              [1, 0, 0, 1, 0],\n",
        "              [1, 1, 0, 0, 1],\n",
        "              [1, 0, 0, 1, 0]]\n",
        "\n",
        "    z = orig_z  # 1/(1 + np.exp(-orig_y))                 #如果最后一层是sigmoid,这里就可以再用sigmoid处理一下，如果最后一层是Liner,直接用原始的即可\n",
        "\n",
        "    # print(x)\n",
        "    # print(z)\n",
        "\n",
        "    _z = np.array(subz)  # 千万不要写_y = y 这种愚蠢的写法，这种写法，_y和y会共用同一个存储空间，改变_y也会改变y,但你可以写成_y = np.array(y),这时_y和y的存储空间是独立的\n",
        "    hideOutZ = [np.array(_z) for i in range(hideCellNum + 1)]\n",
        "\n",
        "    hideDeltaWeightZ = [np.array(_z) for i in range(hideCellNum)]\n",
        "    hideDeltaBiasZ = [np.array(_z) for i in range(hideCellNum)]\n",
        "\n",
        "    outWeightZ = [np.array(_z) for i in range(hideCellNum)]\n",
        "    outDeltaWeightZ = [np.array(_z) for i in range(hideCellNum)]\n",
        "\n",
        "    plt.close()  # clf() # 清图  cla() # 清坐标轴 close() # 关窗口\n",
        "\n",
        "    plt.grid(True)  # 添加网格\n",
        "    plt.ion()  # interactive mode on\n",
        "\n",
        "    fig = plt.figure(1)\n",
        "    # ax = Axes3D(fig)\n",
        "    ax1 = plt.axes(projection='3d')\n",
        "\n",
        "    fig = plt.figure(2)\n",
        "    # ax = Axes3D(fig)\n",
        "    ax2 = plt.axes(projection='3d')\n",
        "\n",
        "    # plt.figure(1)  # 创建图表1\n",
        "    # ax1 = plt.subplot(221)  # 在图表2中创建子图1\n",
        "    # ax2 = plt.subplot(222)  # 在图表2中创建子图2\n",
        "    # ax3 = plt.subplot(223)  # 在图表2中创建子图3\n",
        "    # ax4 = plt.subplot(224)  # 在图表2中创建子图4\n",
        "    # # ax.axis(\"equal\")  # 设置图像显示的时候XY轴比例\n",
        "\n",
        "    for loop in range(10000):\n",
        "        for epoch in range(30):\n",
        "            # t = int(random.uniform(0,1)*10000000)%len(x)\n",
        "            for t in range(len(X)):\n",
        "                for u in range(len(Y)):\n",
        "                    inputLayer.setInputAndForward([X[t], Y[u]])\n",
        "                    loss.minimize(z[t][u], speed)\n",
        "\n",
        "            if (epoch == 1):  # True:#True:#\n",
        "                for t in range(len(subX)):\n",
        "                    for u in range(len(subY)):\n",
        "                        inputLayer.setInputAndForward([subX[t], subY[u]])\n",
        "                        for j in range(len(hideLayer1.cells)):\n",
        "                            hideDeltaWeightZ[j][t] = hideLayer1.cells[j].delta_w[0]\n",
        "                            hideDeltaBiasZ[j][t] = hideLayer1.cells[j].delta_b\n",
        "                            outDeltaWeightZ[j][t] = outputLayer.cells[0].delta_w[j]\n",
        "                            outWeightZ[j][t] = outputLayer.cells[0].w[j]\n",
        "                            n, m = t, u\n",
        "                            hideOutZ[j][n][m] = hideLayer1.cells[j].out * outputLayer.cells[0].w[j]\n",
        "                            _z[n][m] = outputLayer.cells[0].sum\n",
        "                        hideOutZ[hideCellNum][n][m] = outputLayer.cells[0].b\n",
        "\n",
        "                ax1.clear()\n",
        "                ax2.clear()\n",
        "\n",
        "                ax1.set_title(\n",
        "                    'sub loop:' + str(loop) + ' Cell:' + str(hideCellNum))  # 目标函数，补经网络的输出，以及隐含层每个神经元的输出乘以相应w权重\n",
        "\n",
        "                ax2.plot_surface(x, y, orig_z)\n",
        "\n",
        "                ax2.set_title('result loop:' + str(loop) + ' Cell:' + str(hideCellNum))\n",
        "\n",
        "                ax2.plot_surface(subx, suby, _z)  # , rstride=1, cstride=1, cmap='rainbow'\n",
        "\n",
        "                for j in range(len(hideOutZ)):\n",
        "                    ax1.plot_surface(subx, suby, hideOutZ[j])\n",
        "\n",
        "                # ax1.clear()\n",
        "                # ax1.set_title('result loop:' + str(loop) + ' Cell:' + str(hideCellNum))                #目标函数，补经网络的输出，以及隐含层每个神经元的输出乘以相应w权重\n",
        "                # ax2.clear()\n",
        "                # ax2.set_title('hide layer △w')\n",
        "                # ax3.clear()\n",
        "                # ax3.set_title('hide layer △b')\n",
        "                # ax4.clear()\n",
        "                # ax4.set_title('target layer △w')\n",
        "\n",
        "                # for j in range(len(hideOutZ)):\n",
        "                #     ax1.plot(x, hideOutZ[j])\n",
        "                #\n",
        "                # ax1.plot(x, orig_y)\n",
        "                # ax1.plot(x, _z)\n",
        "                # ax1.plot([x[t],x[t]],[np.min(_z[t]),np.max(y[t])])\n",
        "\n",
        "                # for j in range(len(hideDeltaWeightZ)):\n",
        "                #     ax2.plot(x, hideDeltaWeightZ[j])\n",
        "                #     ax3.plot(x, hideDeltaBiasZ[j])\n",
        "                #     # ax4.plot(x, outWeightZ[j])\n",
        "                #     ax4.plot(x, outDeltaWeightZ[j])\n",
        "                #\n",
        "                # ax2.plot([x[t], x[t]], [np.min(hideDeltaWeightZ), np.max(hideDeltaWeightZ)])\n",
        "                # ax3.plot([x[t], x[t]], [np.min(hideDeltaBiasZ), np.max(hideDeltaBiasZ)])\n",
        "\n",
        "                plt.pause(0.1)"
      ],
      "execution_count": 0,
      "outputs": []
    },
    {
      "cell_type": "code",
      "metadata": {
        "id": "4Wy1L_D3zNPq",
        "colab_type": "code",
        "colab": {
          "base_uri": "https://localhost:8080/",
          "height": 281
        },
        "outputId": "a26d1760-55d5-475e-cad2-ccb5e6514626"
      },
      "source": [
        "if __name__ == \"__main__\":\n",
        "    # run3DDraw()\n",
        "    # run3D_DNN()\n",
        "    run2D_DNN()"
      ],
      "execution_count": 0,
      "outputs": [
        {
          "output_type": "display_data",
          "data": {
            "image/png": "[encoded data removed]",
            "text/plain": [
              "<Figure size 432x288 with 4 Axes>"
            ]
          },
          "metadata": {
            "tags": []
          }
        }
      ]
    },
    {
      "cell_type": "code",
      "metadata": {
        "id": "2VinAgkczOuN",
        "colab_type": "code",
        "colab": {}
      },
      "source": [
        ""
      ],
      "execution_count": 0,
      "outputs": []
    }
  ]
}