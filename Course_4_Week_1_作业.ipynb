{
  "nbformat": 4,
  "nbformat_minor": 0,
  "metadata": {
    "colab": {
      "name": "Course 4 - Week 1 作业.ipynb",
      "version": "0.3.2",
      "provenance": [],
      "collapsed_sections": [],
      "include_colab_link": true
    },
    "language_info": {
      "codemirror_mode": {
        "name": "ipython",
        "version": 3
      },
      "file_extension": ".py",
      "mimetype": "text/x-python",
      "name": "python",
      "nbconvert_exporter": "python",
      "pygments_lexer": "ipython3",
      "version": "3.5.4"
    },
    "kernelspec": {
      "display_name": "Python 3",
      "language": "python",
      "name": "python3"
    }
  },
  "cells": [
    {
      "cell_type": "markdown",
      "metadata": {
        "id": "view-in-github",
        "colab_type": "text"
      },
      "source": [
        "<a href=\"https://colab.research.google.com/github/xiaochengJF/DeepLearning/blob/master/Course_4_Week_1_%E4%BD%9C%E4%B8%9A.ipynb\" target=\"_parent\"><img src=\"https://colab.research.google.com/assets/colab-badge.svg\" alt=\"Open In Colab\"/></a>"
      ]
    },
    {
      "metadata": {
        "id": "tcwH2py6xOdT",
        "colab_type": "code",
        "colab": {
          "base_uri": "https://localhost:8080/",
          "height": 121
        },
        "outputId": "fa4bb3c0-6fc2-4781-e0be-0e63704104e9"
      },
      "cell_type": "code",
      "source": [
        "from google.colab import drive\n",
        "drive.mount('/content/gdrive')"
      ],
      "execution_count": 36,
      "outputs": [
        {
          "output_type": "stream",
          "text": [
            "Go to this URL in a browser: https://accounts.google.com/o/oauth2/auth?client_id=947318989803-6bn6qk8qdgf4n4g3pfee6491hc0brc4i.apps.googleusercontent.com&redirect_uri=urn%3Aietf%3Awg%3Aoauth%3A2.0%3Aoob&scope=email%20https%3A%2F%2Fwww.googleapis.com%2Fauth%2Fdocs.test%20https%3A%2F%2Fwww.googleapis.com%2Fauth%2Fdrive%20https%3A%2F%2Fwww.googleapis.com%2Fauth%2Fdrive.photos.readonly%20https%3A%2F%2Fwww.googleapis.com%2Fauth%2Fpeopleapi.readonly&response_type=code\n",
            "\n",
            "Enter your authorization code:\n",
            "··········\n",
            "Mounted at /content/gdrive\n"
          ],
          "name": "stdout"
        }
      ]
    },
    {
      "metadata": {
        "id": "z7_KbUpWyHaX",
        "colab_type": "code",
        "colab": {
          "base_uri": "https://localhost:8080/",
          "height": 34
        },
        "outputId": "466dde77-5821-4dd3-d7ab-515ab1cb04ae"
      },
      "cell_type": "code",
      "source": [
        "cd /content/gdrive/My Drive/DL-GPU/DeepLearning/Course 4 - Week 1 作业/"
      ],
      "execution_count": 37,
      "outputs": [
        {
          "output_type": "stream",
          "text": [
            "/content/gdrive/My Drive/DL-GPU/DeepLearning/Course 4 - Week 1 作业\n"
          ],
          "name": "stdout"
        }
      ]
    },
    {
      "metadata": {
        "id": "1MQWp_qqxFmJ",
        "colab_type": "code",
        "colab": {
          "base_uri": "https://localhost:8080/",
          "height": 50
        },
        "outputId": "c1f4f872-ea37-416a-a5ce-7d25f62ffb64"
      },
      "cell_type": "code",
      "source": [
        "import numpy as np\n",
        "import h5py\n",
        "import matplotlib.pyplot as plt\n",
        "\n",
        "%matplotlib inline\n",
        "plt.rcParams['figure.figsize'] = (5.0, 4.0) \n",
        "plt.rcParams['image.interpolation'] = 'nearest'\n",
        "plt.rcParams['image.cmap'] = 'gray'\n",
        "\n",
        "#ipython很好用，但是如果在ipython里已经import过的模块修改后需要重新reload就需要这样\n",
        "#在执行用户代码前，重新装入软件的扩展和模块。\n",
        "%load_ext autoreload   \n",
        "#autoreload 2：装入所有 %aimport 不包含的模块。\n",
        "%autoreload 2          \n",
        "\n",
        "np.random.seed(1)      #指定随机种子"
      ],
      "execution_count": 38,
      "outputs": [
        {
          "output_type": "stream",
          "text": [
            "The autoreload extension is already loaded. To reload it, use:\n",
            "  %reload_ext autoreload\n"
          ],
          "name": "stdout"
        }
      ]
    },
    {
      "metadata": {
        "id": "ttfoKOP-xFmO",
        "colab_type": "code",
        "colab": {}
      },
      "cell_type": "code",
      "source": [
        "def zero_pad(X, pad):\n",
        "    \"\"\"\n",
        "    \"\"\"\n",
        "    X_paded = np.pad(X, (\n",
        "        (0, 0),           # 样本数，不填充\n",
        "        (pad, pad),       # 高度上下各填充pad\n",
        "        (pad, pad),       # 宽度。左右各填充pad\n",
        "        (0, 0)),          # 通道数，不填充\n",
        "        \"constant\", constant_values=0) # 以连续一样的值填充\n",
        "    \n",
        "    return X_paded"
      ],
      "execution_count": 0,
      "outputs": []
    },
    {
      "metadata": {
        "id": "XNHsw1LIxFmR",
        "colab_type": "code",
        "colab": {
          "base_uri": "https://localhost:8080/",
          "height": 410
        },
        "outputId": "ca3eb01e-9370-4bde-f604-48fac2ecbcf9"
      },
      "cell_type": "code",
      "source": [
        "np.random.seed(1)\n",
        "x = np.random.randn(4, 3, 3, 2)\n",
        "x_paded = zero_pad(x, 2)\n",
        "#查看信息\n",
        "print (\"x.shape =\", x.shape)\n",
        "print (\"x_paded.shape =\", x_paded.shape)\n",
        "print (\"x[1, 1] =\", x[1, 1])\n",
        "print (\"x_paded[1, 1] =\", x_paded[1, 1])\n",
        "# 绘图\n",
        "fig, axarr = plt.subplots(1, 2)\n",
        "axarr[0].set_title(\"x\")\n",
        "axarr[0].imshow(x[0, :, :, 0]) # 显示全部\n",
        "axarr[1].set_title(\"x_paded\")\n",
        "axarr[1].imshow(x_paded[0, :, :, 0])"
      ],
      "execution_count": 40,
      "outputs": [
        {
          "output_type": "stream",
          "text": [
            "x.shape = (4, 3, 3, 2)\n",
            "x_paded.shape = (4, 7, 7, 2)\n",
            "x[1, 1] = [[ 0.90085595 -0.68372786]\n",
            " [-0.12289023 -0.93576943]\n",
            " [-0.26788808  0.53035547]]\n",
            "x_paded[1, 1] = [[0. 0.]\n",
            " [0. 0.]\n",
            " [0. 0.]\n",
            " [0. 0.]\n",
            " [0. 0.]\n",
            " [0. 0.]\n",
            " [0. 0.]]\n"
          ],
          "name": "stdout"
        },
        {
          "output_type": "execute_result",
          "data": {
            "text/plain": [
              "<matplotlib.image.AxesImage at 0x7f259101bba8>"
            ]
          },
          "metadata": {
            "tags": []
          },
          "execution_count": 40
        },
        {
          "output_type": "display_data",
          "data": {
            "image/png": "[encoded data removed]",
            "text/plain": [
              "<Figure size 360x288 with 2 Axes>"
            ]
          },
          "metadata": {
            "tags": []
          }
        }
      ]
    },
    {
      "metadata": {
        "id": "lwVRgRKLxFmY",
        "colab_type": "code",
        "colab": {}
      },
      "cell_type": "code",
      "source": [
        "#\n",
        "def conv_single_step(a_slice_prev, W, b):\n",
        "    \"\"\"\n",
        "    \"\"\"\n",
        "    s = np.multiply(a_slice_prev, W) + b\n",
        "    \n",
        "    Z = np.sum(s)\n",
        "    \n",
        "    return Z"
      ],
      "execution_count": 0,
      "outputs": []
    },
    {
      "metadata": {
        "id": "ZM4Pg90gxFmc",
        "colab_type": "code",
        "colab": {
          "base_uri": "https://localhost:8080/",
          "height": 34
        },
        "outputId": "09d21933-67bf-468d-d4dd-13f38dbea6e8"
      },
      "cell_type": "code",
      "source": [
        "np.random.seed(1)\n",
        "\n",
        "#切片大小和过滤器相同\n",
        "a_slice_prev = np.random.randn(4, 4, 3)\n",
        "W = np.random.randn(4, 4, 3)\n",
        "b = np.random.randn(1, 1, 1)\n",
        "\n",
        "Z = conv_single_step(a_slice_prev, W, b)\n",
        "\n",
        "print(\"Z = \" + str(Z))"
      ],
      "execution_count": 42,
      "outputs": [
        {
          "output_type": "stream",
          "text": [
            "Z = -23.16021220252078\n"
          ],
          "name": "stdout"
        }
      ]
    },
    {
      "metadata": {
        "id": "lE6cF1p-xFmg",
        "colab_type": "code",
        "colab": {}
      },
      "cell_type": "code",
      "source": [
        "#向前传播\n",
        "def conv_forward(A_prev, W, b, hparameteres):\n",
        "    \"\"\"\"\"\"\n",
        "    # 获取上一层数据的信息\n",
        "    (m, n_H_prev, n_W_prev, n_C_prev) = A_prev.shape\n",
        "    \n",
        "    # 获取权重的基本信息\n",
        "    (f, f, n_C_prev, n_C) = W.shape\n",
        "    \n",
        "    #获取超参数hparameters的值\n",
        "    stride = hparameters[\"stride\"]\n",
        "    pad = hparameters[\"pad\"]\n",
        "    \n",
        "    # 计算卷积后的图像的宽度高度\n",
        "    n_H = int((n_H_prev - f + 2 * pad)/ stride ) + 1\n",
        "    n_W = int((n_W_prev - f + 2 * pad)/ stride ) + 1\n",
        "    \n",
        "    # 使用0来初始化卷积输出Z\n",
        "    Z = np.zeros((m, n_H, n_W, n_C))\n",
        "    \n",
        "    # 通过A_prev创建填充过了的A_preve_pad\n",
        "    A_prev_pad = zero_pad(A_prev, pad)\n",
        "    \n",
        "    for i in range(m): #遍历样本\n",
        "        a_prev_pad = A_prev_pad[i] # 选择第i个样本扩充后的激活矩阵\n",
        "        for h in range(n_H): # 竖直\n",
        "            for w in range(n_W): # 水平\n",
        "                for c in range(n_C): # 通道\n",
        "                    # 定位当前切片位置？\n",
        "                    vert_start = h * stride\n",
        "                    vert_end = vert_start + f\n",
        "                    horiz_start = w * stride\n",
        "                    horiz_end = horiz_start + f\n",
        "                    # 取出\n",
        "                    a_slice_prev = a_prev_pad[vert_start:vert_end,horiz_start:horiz_end,:]\n",
        "                    # 执行单步卷积\n",
        "                    Z[i, h, w, c] = conv_single_step(a_slice_prev, W[:,:,:,c],b[0,0,0,c])\n",
        "    \n",
        "    assert(Z.shape == (m, n_H, n_W, n_C))\n",
        "    \n",
        "    cache = (A_prev, W, b, hparameters)\n",
        "    \n",
        "    return (Z, cache)"
      ],
      "execution_count": 0,
      "outputs": []
    },
    {
      "metadata": {
        "id": "bdd8xco_xFmj",
        "colab_type": "code",
        "colab": {
          "base_uri": "https://localhost:8080/",
          "height": 50
        },
        "outputId": "a22d7ee7-e892-4711-f81a-3805edd6bd7c"
      },
      "cell_type": "code",
      "source": [
        "np.random.seed(1)\n",
        "\n",
        "A_prev = np.random.randn(10,4,4,3)\n",
        "W = np.random.randn(2,2,3,8)\n",
        "b = np.random.randn(1,1,1,8)\n",
        "\n",
        "hparameters = {\"pad\" : 2, \"stride\": 1}\n",
        "\n",
        "Z , cache_conv = conv_forward(A_prev,W,b,hparameters)\n",
        "\n",
        "print(\"np.mean(Z) = \", np.mean(Z))\n",
        "print(\"cache_conv[0][1][2][3] =\", cache_conv[0][1][2][3])"
      ],
      "execution_count": 44,
      "outputs": [
        {
          "output_type": "stream",
          "text": [
            "np.mean(Z) =  0.15585932488906465\n",
            "cache_conv[0][1][2][3] = [-0.20075807  0.18656139  0.41005165]\n"
          ],
          "name": "stdout"
        }
      ]
    },
    {
      "metadata": {
        "id": "kT_FlRmFxFmm",
        "colab_type": "code",
        "colab": {}
      },
      "cell_type": "code",
      "source": [
        "# 池化层\n",
        "def pool_forward(A_prev, hparameters, mode=\"max\"):\n",
        "    \"\"\"\"\"\"\n",
        "        #获取输入数据的基本信息\n",
        "    (m , n_H_prev , n_W_prev , n_C_prev) = A_prev.shape\n",
        "\n",
        "    #获取超参数的信息\n",
        "    f = hparameters[\"f\"]\n",
        "    stride = hparameters[\"stride\"]\n",
        "\n",
        "    #计算输出维度\n",
        "    n_H = int((n_H_prev - f) / stride ) + 1\n",
        "    n_W = int((n_W_prev - f) / stride ) + 1\n",
        "    n_C = n_C_prev\n",
        "\n",
        "    #初始化输出矩阵\n",
        "    A = np.zeros((m , n_H , n_W , n_C))\n",
        "\n",
        "    for i in range(m):                              #遍历样本\n",
        "        for h in range(n_H):                        #在输出的垂直轴上循环\n",
        "            for w in range(n_W):                    #在输出的水平轴上循环\n",
        "                for c in range(n_C):                #循环遍历输出的通道\n",
        "                    #定位当前的切片位置\n",
        "                    vert_start = h * stride         #竖向，开始的位置\n",
        "                    vert_end = vert_start + f       #竖向，结束的位置\n",
        "                    horiz_start = w * stride        #横向，开始的位置\n",
        "                    horiz_end = horiz_start + f     #横向，结束的位置\n",
        "                    #定位完毕，开始切割\n",
        "                    a_slice_prev = A_prev[i,vert_start:vert_end,horiz_start:horiz_end,c]\n",
        "\n",
        "                    #对切片进行池化操作\n",
        "                    if mode == \"max\":\n",
        "                        A[ i , h , w , c ] = np.max(a_slice_prev)\n",
        "                    elif mode == \"average\":\n",
        "                        A[ i , h , w , c ] = np.mean(a_slice_prev)\n",
        "\n",
        "    #池化完毕，校验数据格式\n",
        "    assert(A.shape == (m , n_H , n_W , n_C))\n",
        "\n",
        "    #校验完毕，开始存储用于反向传播的值\n",
        "    cache = (A_prev,hparameters)\n",
        "\n",
        "    return A,cache"
      ],
      "execution_count": 0,
      "outputs": []
    },
    {
      "metadata": {
        "id": "VPW0_SURxFmp",
        "colab_type": "code",
        "colab": {
          "base_uri": "https://localhost:8080/",
          "height": 202
        },
        "outputId": "4a24cb7c-8fcb-4173-f512-add15c6d1e40"
      },
      "cell_type": "code",
      "source": [
        "np.random.seed(1)\n",
        "A_prev = np.random.randn(2,4,4,3)\n",
        "hparameters = {\"f\":4 , \"stride\":1}\n",
        "\n",
        "A , cache = pool_forward(A_prev,hparameters,mode=\"max\")\n",
        "A, cache = pool_forward(A_prev, hparameters)\n",
        "print(\"mode = max\")\n",
        "print(\"A =\", A)\n",
        "print(\"----------------------------\")\n",
        "A, cache = pool_forward(A_prev, hparameters, mode = \"average\")\n",
        "print(\"mode = average\")\n",
        "print(\"A =\", A)"
      ],
      "execution_count": 46,
      "outputs": [
        {
          "output_type": "stream",
          "text": [
            "mode = max\n",
            "A = [[[[1.74481176 1.6924546  2.10025514]]]\n",
            "\n",
            "\n",
            " [[[1.19891788 1.51981682 2.18557541]]]]\n",
            "----------------------------\n",
            "mode = average\n",
            "A = [[[[-0.09498456  0.11180064 -0.14263511]]]\n",
            "\n",
            "\n",
            " [[[-0.09525108  0.28325018  0.33035185]]]]\n"
          ],
          "name": "stdout"
        }
      ]
    },
    {
      "metadata": {
        "id": "v4RvpGKsxFmu",
        "colab_type": "code",
        "colab": {}
      },
      "cell_type": "code",
      "source": [
        "# 卷积神经网络的反向传播\n",
        "def conv_backward(dZ, cache):\n",
        "    \"\"\"\"\"\"\n",
        "    #获取cache的值\n",
        "    (A_prev, W, b, hparameters) = cache\n",
        "\n",
        "    #获取A_prev的基本信息\n",
        "    (m, n_H_prev, n_W_prev, n_C_prev) = A_prev.shape\n",
        "\n",
        "    #获取dZ的基本信息\n",
        "    (m,n_H,n_W,n_C) = dZ.shape\n",
        "\n",
        "    #获取权值的基本信息\n",
        "    (f, f, n_C_prev, n_C) = W.shape\n",
        "\n",
        "    #获取hparaeters的值\n",
        "    pad = hparameters[\"pad\"]\n",
        "    stride = hparameters[\"stride\"]\n",
        "\n",
        "    #初始化各个梯度的结构????????\n",
        "    dA_prev = np.zeros((m,n_H_prev,n_W_prev,n_C_prev))\n",
        "    dW = np.zeros((f,f,n_C_prev,n_C))\n",
        "    db = np.zeros((1,1,1,n_C))\n",
        "\n",
        "    #前向传播中我们使用了pad，反向传播也需要使用，这是为了保证数据结构一致\n",
        "    A_prev_pad = zero_pad(A_prev,pad)\n",
        "    dA_prev_pad = zero_pad(dA_prev,pad)\n",
        "\n",
        "    #现在处理数据\n",
        "    for i in range(m):\n",
        "        #选择第i个扩充了的数据的样本,降了一维??????????????\n",
        "        a_prev_pad = A_prev_pad[i]\n",
        "        da_prev_pad = dA_prev_pad[i]\n",
        "\n",
        "        for h in range(n_H):\n",
        "            for w in range(n_W):\n",
        "                for c in range(n_C):\n",
        "                    #定位切片位置\n",
        "                    vert_start = h\n",
        "                    vert_end = vert_start + f\n",
        "                    horiz_start = w\n",
        "                    horiz_end = horiz_start + f\n",
        "\n",
        "                    #定位完毕，开始切片\n",
        "                    a_slice = a_prev_pad[vert_start:vert_end,horiz_start:horiz_end,:]\n",
        "\n",
        "                    #切片完毕，使用上面的公式计算梯度\n",
        "                    da_prev_pad[vert_start:vert_end, horiz_start:horiz_end,:] += W[:,:,:,c] * dZ[i, h, w, c]\n",
        "                    dW[:,:,:,c] += a_slice * dZ[i,h,w,c]\n",
        "                    db[:,:,:,c] += dZ[i,h,w,c]\n",
        "        #设置第i个样本最终的dA_prev,即把非填充的数据取出来。\n",
        "        dA_prev[i,:,:,:] = da_prev_pad[pad:-pad, pad:-pad, :]\n",
        "\n",
        "    #数据处理完毕，验证数据格式是否正确\n",
        "    assert(dA_prev.shape == (m, n_H_prev, n_W_prev, n_C_prev))\n",
        "\n",
        "    return (dA_prev,dW,db)"
      ],
      "execution_count": 0,
      "outputs": []
    },
    {
      "metadata": {
        "scrolled": true,
        "id": "BVdknKCBxFmx",
        "colab_type": "code",
        "colab": {
          "base_uri": "https://localhost:8080/",
          "height": 67
        },
        "outputId": "f2cb8f36-56c5-4e41-b290-1a93a900f40e"
      },
      "cell_type": "code",
      "source": [
        "np.random.seed(1)\n",
        "#初始化参数\n",
        "A_prev = np.random.randn(10,4,4,3)\n",
        "W = np.random.randn(2,2,3,8)\n",
        "b = np.random.randn(1,1,1,8)\n",
        "hparameters = {\"pad\" : 2, \"stride\": 1}\n",
        "\n",
        "#前向传播\n",
        "Z , cache_conv = conv_forward(A_prev,W,b,hparameters)\n",
        "#反向传播\n",
        "dA , dW , db = conv_backward(Z,cache_conv)\n",
        "print(\"dA_mean =\", np.mean(dA))\n",
        "print(\"dW_mean =\", np.mean(dW))\n",
        "print(\"db_mean =\", np.mean(db))"
      ],
      "execution_count": 48,
      "outputs": [
        {
          "output_type": "stream",
          "text": [
            "dA_mean = 9.608990675868995\n",
            "dW_mean = 10.581741275547563\n",
            "db_mean = 76.37106919563735\n"
          ],
          "name": "stdout"
        }
      ]
    },
    {
      "metadata": {
        "id": "VPcmdGy-xFm1",
        "colab_type": "code",
        "colab": {}
      },
      "cell_type": "code",
      "source": [
        "# 池化层反向传播\n",
        "# 最大池\n",
        "def create_mask_from_window(x):\n",
        "    \"\"\"\"\"\"\n",
        "    mask = x == np.max(x)\n",
        "    \n",
        "    return mask"
      ],
      "execution_count": 0,
      "outputs": []
    },
    {
      "metadata": {
        "id": "CrcKXUEMxFm4",
        "colab_type": "code",
        "colab": {
          "base_uri": "https://localhost:8080/",
          "height": 84
        },
        "outputId": "74389ddd-f25a-49fe-9df2-6da2b347578c"
      },
      "cell_type": "code",
      "source": [
        "np.random.seed(1)\n",
        "\n",
        "x = np.random.randn(2,3)\n",
        "\n",
        "mask = create_mask_from_window(x)\n",
        "\n",
        "print(\"x = \" + str(x)) \n",
        "print(\"mask = \" + str(mask))"
      ],
      "execution_count": 50,
      "outputs": [
        {
          "output_type": "stream",
          "text": [
            "x = [[ 1.62434536 -0.61175641 -0.52817175]\n",
            " [-1.07296862  0.86540763 -2.3015387 ]]\n",
            "mask = [[ True False False]\n",
            " [False False False]]\n"
          ],
          "name": "stdout"
        }
      ]
    },
    {
      "metadata": {
        "id": "j6JXLBuGxFm8",
        "colab_type": "code",
        "colab": {}
      },
      "cell_type": "code",
      "source": [
        "# 均值池化层\n",
        "def distribute_value(dZ, shape):\n",
        "    \"\"\"\"\"\"\n",
        "    # 获取矩阵大小\n",
        "    (n_H, n_W) = shape\n",
        "    \n",
        "    # 计算平均值\n",
        "    average = dz / (n_H * n_W)\n",
        "    \n",
        "    # 填充入矩阵\n",
        "    a = np.ones(shape) * average\n",
        "    \n",
        "    return a"
      ],
      "execution_count": 0,
      "outputs": []
    },
    {
      "metadata": {
        "id": "b9Q4B1kYxFm_",
        "colab_type": "code",
        "colab": {
          "base_uri": "https://localhost:8080/",
          "height": 50
        },
        "outputId": "82a45b58-bf63-438e-9016-6a8aca73cd55"
      },
      "cell_type": "code",
      "source": [
        "dz = 2\n",
        "shape = (2,2)\n",
        "\n",
        "a = distribute_value(dz,shape)\n",
        "print(\"a = \" + str(a))"
      ],
      "execution_count": 52,
      "outputs": [
        {
          "output_type": "stream",
          "text": [
            "a = [[0.5 0.5]\n",
            " [0.5 0.5]]\n"
          ],
          "name": "stdout"
        }
      ]
    },
    {
      "metadata": {
        "id": "McY97ge_xFnI",
        "colab_type": "code",
        "colab": {}
      },
      "cell_type": "code",
      "source": [
        "# 池化层的反向传播\n",
        "def pool_backward(dA, cache, mode = \"max\"):\n",
        "    \"\"\"\"\"\"\n",
        "    # 获取 cache中的值\n",
        "    (A_prev , hparaeters) = cache\n",
        "\n",
        "    #获取hparaeters的值\n",
        "    f = hparaeters[\"f\"]\n",
        "    stride = hparaeters[\"stride\"]\n",
        "\n",
        "    #获取A_prev和dA的基本信息\n",
        "    (m , n_H_prev , n_W_prev , n_C_prev) = A_prev.shape\n",
        "    (m , n_H , n_W , n_C) = dA.shape\n",
        "\n",
        "    #初始化输出的结构\n",
        "    dA_prev = np.zeros_like(A_prev)\n",
        "\n",
        "    #开始处理数据\n",
        "    for i in range(m):\n",
        "        a_prev = A_prev[i]      \n",
        "        for h in range(n_H):\n",
        "            for w in range(n_W):\n",
        "                for c in range(n_C):\n",
        "                    #定位切片位置\n",
        "                    vert_start = h\n",
        "                    vert_end = vert_start + f\n",
        "                    horiz_start = w\n",
        "                    horiz_end = horiz_start + f\n",
        "\n",
        "                    #选择反向传播的计算方式\n",
        "                    if mode == \"max\":\n",
        "                        #开始切片\n",
        "                        a_prev_slice = a_prev[vert_start:vert_end,horiz_start:horiz_end,c]\n",
        "                        #创建掩码\n",
        "                        mask = create_mask_from_window(a_prev_slice)\n",
        "                        #计算dA_prev\n",
        "                        dA_prev[i,vert_start:vert_end,horiz_start:horiz_end,c] += np.multiply(mask,dA[i,h,w,c])\n",
        "\n",
        "                    elif mode == \"average\":\n",
        "                        #获取dA的值\n",
        "                        da = dA[i,h,w,c]\n",
        "                        #定义过滤器大小\n",
        "                        shape = (f,f)\n",
        "                        #平均分配\n",
        "                        dA_prev[i,vert_start:vert_end, horiz_start:horiz_end ,c] += distribute_value(da,shape)\n",
        "    #数据处理完毕，开始验证格式\n",
        "    assert(dA_prev.shape == A_prev.shape)\n",
        "\n",
        "    return dA_prev"
      ],
      "execution_count": 0,
      "outputs": []
    },
    {
      "metadata": {
        "id": "6xoMi-GPxFnN",
        "colab_type": "code",
        "colab": {
          "base_uri": "https://localhost:8080/",
          "height": 202
        },
        "outputId": "41f3632d-909d-40c0-d9b5-96eb41306ded"
      },
      "cell_type": "code",
      "source": [
        "np.random.seed(1)\n",
        "A_prev = np.random.randn(5, 5, 3, 2)\n",
        "hparameters = {\"stride\" : 1, \"f\": 2}\n",
        "A, cache = pool_forward(A_prev, hparameters)\n",
        "dA = np.random.randn(5, 4, 2, 2)\n",
        "\n",
        "dA_prev = pool_backward(dA, cache, mode = \"max\")\n",
        "print(\"mode = max\")\n",
        "print('mean of dA = ', np.mean(dA))\n",
        "print('dA_prev[1,1] = ', dA_prev[1,1])  \n",
        "print()\n",
        "dA_prev = pool_backward(dA, cache, mode = \"average\")\n",
        "print(\"mode = average\")\n",
        "print('mean of dA = ', np.mean(dA))\n",
        "print('dA_prev[1,1] = ', dA_prev[1,1]) "
      ],
      "execution_count": 54,
      "outputs": [
        {
          "output_type": "stream",
          "text": [
            "mode = max\n",
            "mean of dA =  0.14571390272918056\n",
            "dA_prev[1,1] =  [[ 0.          0.        ]\n",
            " [ 5.05844394 -1.68282702]\n",
            " [ 0.          0.        ]]\n",
            "\n",
            "mode = average\n",
            "mean of dA =  0.14571390272918056\n",
            "dA_prev[1,1] =  [[1. 1.]\n",
            " [2. 2.]\n",
            " [1. 1.]]\n"
          ],
          "name": "stdout"
        }
      ]
    },
    {
      "metadata": {
        "id": "BJfwlFKyxFnT",
        "colab_type": "code",
        "colab": {}
      },
      "cell_type": "code",
      "source": [
        "# 神经网络应用\n",
        "import math\n",
        "import matplotlib.image as mpimg\n",
        "import tensorflow as tf\n",
        "from tensorflow.python.framework import ops\n",
        "\n",
        "import cnn_utils\n",
        "np.random.seed(1)"
      ],
      "execution_count": 0,
      "outputs": []
    },
    {
      "metadata": {
        "id": "GxtTPJ7FxFnc",
        "colab_type": "code",
        "colab": {
          "base_uri": "https://localhost:8080/",
          "height": 286
        },
        "outputId": "cbfae666-2725-400a-c3cd-dca1758e6a10"
      },
      "cell_type": "code",
      "source": [
        "X_train_orig, Y_train_orig, X_test_orig, Y_test_orig, classes = cnn_utils.load_dataset()\n",
        "index = 6\n",
        "plt.imshow(X_train_orig[index])\n",
        "print (\"y = \" + str(np.squeeze(Y_train_orig[:, index])))"
      ],
      "execution_count": 56,
      "outputs": [
        {
          "output_type": "stream",
          "text": [
            "y = 2\n"
          ],
          "name": "stdout"
        },
        {
          "output_type": "display_data",
          "data": {
            "image/png": "[encoded data removed]",
            "text/plain": [
              "<Figure size 360x288 with 1 Axes>"
            ]
          },
          "metadata": {
            "tags": []
          }
        }
      ]
    },
    {
      "metadata": {
        "id": "XRhsNnqmxFnh",
        "colab_type": "code",
        "colab": {
          "base_uri": "https://localhost:8080/",
          "height": 118
        },
        "outputId": "9674b75e-fbf1-4672-9fce-aac2ac8569cb"
      },
      "cell_type": "code",
      "source": [
        "X_train = X_train_orig/255.\n",
        "X_test = X_test_orig/255.\n",
        "Y_train = cnn_utils.convert_to_one_hot(Y_train_orig, 6).T\n",
        "Y_test = cnn_utils.convert_to_one_hot(Y_test_orig, 6).T\n",
        "print (\"number of training examples = \" + str(X_train.shape[0]))\n",
        "print (\"number of test examples = \" + str(X_test.shape[0]))\n",
        "print (\"X_train shape: \" + str(X_train.shape))\n",
        "print (\"Y_train shape: \" + str(Y_train.shape))\n",
        "print (\"X_test shape: \" + str(X_test.shape))\n",
        "print (\"Y_test shape: \" + str(Y_test.shape))\n",
        "conv_layers = {}"
      ],
      "execution_count": 57,
      "outputs": [
        {
          "output_type": "stream",
          "text": [
            "number of training examples = 1080\n",
            "number of test examples = 120\n",
            "X_train shape: (1080, 64, 64, 3)\n",
            "Y_train shape: (1080, 6)\n",
            "X_test shape: (120, 64, 64, 3)\n",
            "Y_test shape: (120, 6)\n"
          ],
          "name": "stdout"
        }
      ]
    },
    {
      "metadata": {
        "id": "zjTkuUzrxFnm",
        "colab_type": "code",
        "colab": {}
      },
      "cell_type": "code",
      "source": [
        "# 创建占位符  ?????????????\n",
        "def create_placeholders(n_H0, n_W0, n_C0, n_y):\n",
        "    \"\"\"\n",
        "    为session创建占位符\n",
        "\n",
        "    参数：\n",
        "        n_H0 - 实数，输入图像的高度\n",
        "        n_W0 - 实数，输入图像的宽度\n",
        "        n_C0 - 实数，输入的通道数\n",
        "        n_y  - 实数，分类数\n",
        "\n",
        "    输出：\n",
        "        X - 输入数据的占位符，维度为[None, n_H0, n_W0, n_C0]，类型为\"float\"\n",
        "        Y - 输入数据的标签的占位符，维度为[None, n_y]，维度为\"float\"\n",
        "    \"\"\"\n",
        "    X = tf.placeholder(tf.float32,[None, n_H0, n_W0, n_C0])\n",
        "    Y = tf.placeholder(tf.float32,[None, n_y])\n",
        "\n",
        "    return X,Y"
      ],
      "execution_count": 0,
      "outputs": []
    },
    {
      "metadata": {
        "id": "Qxb2s-zGxFnp",
        "colab_type": "code",
        "colab": {
          "base_uri": "https://localhost:8080/",
          "height": 50
        },
        "outputId": "5cb54346-fe02-4c04-e0e3-229eb75629d2"
      },
      "cell_type": "code",
      "source": [
        "X , Y = create_placeholders(64,64,3,6)\n",
        "print (\"X = \" + str(X))\n",
        "print (\"Y = \" + str(Y))"
      ],
      "execution_count": 59,
      "outputs": [
        {
          "output_type": "stream",
          "text": [
            "X = Tensor(\"Placeholder_2:0\", shape=(?, 64, 64, 3), dtype=float32)\n",
            "Y = Tensor(\"Placeholder_3:0\", shape=(?, 6), dtype=float32)\n"
          ],
          "name": "stdout"
        }
      ]
    },
    {
      "metadata": {
        "id": "M34TcNZDxFnu",
        "colab_type": "code",
        "colab": {}
      },
      "cell_type": "code",
      "source": [
        "# 初始化参数\n",
        "def initialize_parameters():\n",
        "    \"\"\"\n",
        "    初始化权值矩阵，这里我们把权值矩阵硬编码：\n",
        "    W1 : [4, 4, 3, 8]\n",
        "    W2 : [2, 2, 8, 16]\n",
        "\n",
        "    返回：\n",
        "        包含了tensor类型的W1、W2的字典\n",
        "    \"\"\"\n",
        "    tf.set_random_seed(1)\n",
        "\n",
        "    W1 = tf.get_variable(\"W1\",[4,4,3,8],initializer=tf.contrib.layers.xavier_initializer(seed=0))\n",
        "    W2 = tf.get_variable(\"W2\",[2,2,8,16],initializer=tf.contrib.layers.xavier_initializer(seed=0))\n",
        "\n",
        "    parameters = {\"W1\": W1,\n",
        "                  \"W2\": W2}\n",
        "\n",
        "    return parameters"
      ],
      "execution_count": 0,
      "outputs": []
    },
    {
      "metadata": {
        "id": "hQiw5ruXxFnx",
        "colab_type": "code",
        "colab": {
          "base_uri": "https://localhost:8080/",
          "height": 101
        },
        "outputId": "2ff0dd66-3ad7-461b-93cf-f36c29cf1dbf"
      },
      "cell_type": "code",
      "source": [
        "tf.reset_default_graph()\n",
        "with tf.Session() as sess_test:\n",
        "    parameters = initialize_parameters()\n",
        "    init = tf.global_variables_initializer()\n",
        "    sess_test.run(init)\n",
        "    print(\"W1 = \" + str(parameters[\"W1\"].eval()[1,1,1]))\n",
        "    print(\"W2 = \" + str(parameters[\"W2\"].eval()[1,1,1]))\n",
        "\n",
        "    sess_test.close()"
      ],
      "execution_count": 61,
      "outputs": [
        {
          "output_type": "stream",
          "text": [
            "W1 = [ 0.00131723  0.1417614  -0.04434952  0.09197326  0.14984085 -0.03514394\n",
            " -0.06847463  0.05245192]\n",
            "W2 = [-0.08566415  0.17750949  0.11974221  0.16773748 -0.0830943  -0.08058\n",
            " -0.00577033 -0.14643836  0.24162132 -0.05857408 -0.19055021  0.1345228\n",
            " -0.22779644 -0.1601823  -0.16117483 -0.10286498]\n"
          ],
          "name": "stdout"
        }
      ]
    },
    {
      "metadata": {
        "id": "lM3eMxYzxFn0",
        "colab_type": "code",
        "colab": {}
      },
      "cell_type": "code",
      "source": [
        "# 向前传播\n",
        "def forward_propagation(X,parameters):\n",
        "    \"\"\"\n",
        "    实现前向传播\n",
        "    CONV2D -> RELU -> MAXPOOL -> CONV2D -> RELU -> MAXPOOL -> FLATTEN -> FULLYCONNECTED\n",
        "\n",
        "    参数：\n",
        "        X - 输入数据的placeholder，维度为(输入节点数量，样本数量)\n",
        "        parameters - 包含了“W1”和“W2”的python字典。\n",
        "\n",
        "    返回：\n",
        "        Z3 - 最后一个LINEAR节点的输出\n",
        "\n",
        "    \"\"\"\n",
        "    W1 = parameters['W1']\n",
        "    W2 = parameters['W2']\n",
        "\n",
        "    #Conv2d : 步伐：1，填充方式：“SAME”\n",
        "    Z1 = tf.nn.conv2d(X,W1,strides=[1,1,1,1],padding=\"SAME\")\n",
        "    #ReLU ：\n",
        "    A1 = tf.nn.relu(Z1)\n",
        "    #Max pool : 窗口大小：8x8，步伐：8x8，填充方式：“SAME”\n",
        "    P1 = tf.nn.max_pool(A1,ksize=[1,8,8,1],strides=[1,8,8,1],padding=\"SAME\")\n",
        "\n",
        "    #Conv2d : 步伐：1，填充方式：“SAME”\n",
        "    Z2 = tf.nn.conv2d(P1,W2,strides=[1,1,1,1],padding=\"SAME\")\n",
        "    #ReLU ：\n",
        "    A2 = tf.nn.relu(Z2)\n",
        "    #Max pool : 过滤器大小：4x4，步伐：4x4，填充方式：“SAME”\n",
        "    P2 = tf.nn.max_pool(A2,ksize=[1,4,4,1],strides=[1,4,4,1],padding=\"SAME\")\n",
        "\n",
        "    #一维化上一层的输出\n",
        "    P = tf.contrib.layers.flatten(P2)\n",
        "\n",
        "    #全连接层（FC）：使用没有非线性激活函数的全连接层\n",
        "    Z3 = tf.contrib.layers.fully_connected(P,6,activation_fn=None)\n",
        "\n",
        "    return Z3"
      ],
      "execution_count": 0,
      "outputs": []
    },
    {
      "metadata": {
        "id": "g2tYJT7WxFn3",
        "colab_type": "code",
        "colab": {
          "base_uri": "https://localhost:8080/",
          "height": 50
        },
        "outputId": "f4cdde08-672c-4c5f-c580-d894e3d96694"
      },
      "cell_type": "code",
      "source": [
        "tf.reset_default_graph()\n",
        "np.random.seed(1)\n",
        "\n",
        "with tf.Session() as sess_test:\n",
        "    X,Y = create_placeholders(64,64,3,6)\n",
        "    parameters = initialize_parameters()\n",
        "    Z3 = forward_propagation(X,parameters)\n",
        "\n",
        "    init = tf.global_variables_initializer()\n",
        "    sess_test.run(init)\n",
        "\n",
        "    a = sess_test.run(Z3,{X: np.random.randn(2,64,64,3), Y: np.random.randn(2,6)})\n",
        "    print(\"Z3 = \" + str(a))\n",
        "\n",
        "    sess_test.close()"
      ],
      "execution_count": 63,
      "outputs": [
        {
          "output_type": "stream",
          "text": [
            "Z3 = [[ 1.4416984  -0.24909686  5.4504986  -0.26189622 -0.20669895  1.3654672 ]\n",
            " [ 1.4070847  -0.02573191  5.08928    -0.486699   -0.40940708  1.2624857 ]]\n"
          ],
          "name": "stdout"
        }
      ]
    },
    {
      "metadata": {
        "id": "vh5lffKzxFn8",
        "colab_type": "code",
        "colab": {}
      },
      "cell_type": "code",
      "source": [
        "# 计算成本\n",
        "def compute_cost(Z3,Y):\n",
        "    \"\"\"\n",
        "    计算成本\n",
        "    参数：\n",
        "        Z3 - 正向传播最后一个LINEAR节点的输出，维度为（6，样本数）。\n",
        "        Y - 标签向量的placeholder，和Z3的维度相同\n",
        "\n",
        "    返回：\n",
        "        cost - 计算后的成本\n",
        "\n",
        "    \"\"\"\n",
        "\n",
        "    cost = tf.reduce_mean(tf.nn.softmax_cross_entropy_with_logits(logits=Z3,labels=Y))\n",
        "\n",
        "    return cost"
      ],
      "execution_count": 0,
      "outputs": []
    },
    {
      "metadata": {
        "id": "Gcb5LtvmxFoA",
        "colab_type": "code",
        "colab": {
          "base_uri": "https://localhost:8080/",
          "height": 34
        },
        "outputId": "f7d2ae99-9e73-4954-ab83-21e9278e2ec4"
      },
      "cell_type": "code",
      "source": [
        "tf.reset_default_graph()\n",
        "\n",
        "with tf.Session() as sess_test:\n",
        "    np.random.seed(1)\n",
        "    X,Y = create_placeholders(64,64,3,6)\n",
        "    parameters = initialize_parameters()\n",
        "    Z3 = forward_propagation(X,parameters)\n",
        "    cost = compute_cost(Z3,Y)\n",
        "\n",
        "    init = tf.global_variables_initializer()\n",
        "    sess_test.run(init)\n",
        "    a = sess_test.run(cost,{X: np.random.randn(4,64,64,3), Y: np.random.randn(4,6)})\n",
        "    print(\"cost = \" + str(a))\n",
        "\n",
        "    sess_test.close()"
      ],
      "execution_count": 65,
      "outputs": [
        {
          "output_type": "stream",
          "text": [
            "cost = 4.66487\n"
          ],
          "name": "stdout"
        }
      ]
    },
    {
      "metadata": {
        "id": "W9LmfFqgxFoE",
        "colab_type": "code",
        "colab": {}
      },
      "cell_type": "code",
      "source": [
        "# 构建模型\n",
        "def model(X_train, Y_train, X_test, Y_test, learning_rate=0.009, \n",
        "         num_epochs=100,minibatch_size=64,print_cost=True,isPlot=True):\n",
        "    \"\"\"\n",
        "    使用TensorFlow实现三层的卷积神经网络\n",
        "    CONV2D -> RELU -> MAXPOOL -> CONV2D -> RELU -> MAXPOOL -> FLATTEN -> FULLYCONNECTED\n",
        "\n",
        "    参数：\n",
        "        X_train - 训练数据，维度为(None, 64, 64, 3)\n",
        "        Y_train - 训练数据对应的标签，维度为(None, n_y = 6)\n",
        "        X_test - 测试数据，维度为(None, 64, 64, 3)\n",
        "        Y_test - 训练数据对应的标签，维度为(None, n_y = 6)\n",
        "        learning_rate - 学习率\n",
        "        num_epochs - 遍历整个数据集的次数\n",
        "        minibatch_size - 每个小批量数据块的大小\n",
        "        print_cost - 是否打印成本值，每遍历100次整个数据集打印一次\n",
        "        isPlot - 是否绘制图谱\n",
        "\n",
        "    返回：\n",
        "        train_accuracy - 实数，训练集的准确度\n",
        "        test_accuracy - 实数，测试集的准确度\n",
        "        parameters - 学习后的参数\n",
        "    \"\"\"\n",
        "    ops.reset_default_graph()  #能够重新运行模型而不覆盖tf变量\n",
        "    tf.set_random_seed(1)    #确保你的数据和我一样\n",
        "    seed = 3                 #指定numpy的随机种子\n",
        "    (m , n_H0, n_W0, n_C0) = X_train.shape\n",
        "    n_y = Y_train.shape[1]\n",
        "    costs = []\n",
        "\n",
        "    #为当前维度创建占位符\n",
        "    X , Y = create_placeholders(n_H0, n_W0, n_C0, n_y)\n",
        "\n",
        "    #初始化参数\n",
        "    parameters = initialize_parameters()\n",
        "\n",
        "    #前向传播\n",
        "    Z3 = forward_propagation(X,parameters)\n",
        "\n",
        "    #计算成本\n",
        "    cost = compute_cost(Z3,Y)\n",
        "\n",
        "    #反向传播，由于框架已经实现了反向传播，我们只需要选择一个优化器就行了\n",
        "    optimizer = tf.train.AdamOptimizer(learning_rate=learning_rate).minimize(cost)\n",
        "\n",
        "    #全局初始化所有变量\n",
        "    init = tf.global_variables_initializer()\n",
        "\n",
        "    #开始运行\n",
        "    with tf.Session() as sess:\n",
        "        #初始化参数\n",
        "        sess.run(init)\n",
        "        #开始遍历数据集\n",
        "        for epoch in range(num_epochs):\n",
        "            minibatch_cost = 0\n",
        "            num_minibatches = int(m / minibatch_size) #获取数据块的数量\n",
        "            seed = seed + 1\n",
        "            minibatches = cnn_utils.random_mini_batches(X_train,Y_train,minibatch_size,seed) \n",
        "\n",
        "            #对每个数据块进行处理\n",
        "            for minibatch in minibatches:\n",
        "                #选择一个数据块\n",
        "                (minibatch_X,minibatch_Y) = minibatch\n",
        "                #最小化这个数据块的成本\n",
        "                _ , temp_cost = sess.run([optimizer,cost],feed_dict={X:minibatch_X, Y:minibatch_Y})\n",
        "\n",
        "                #累加数据块的成本值\n",
        "                minibatch_cost += temp_cost / num_minibatches\n",
        "\n",
        "            #是否打印成本\n",
        "            if print_cost:\n",
        "                #每5代打印一次\n",
        "                if epoch % 5 == 0:\n",
        "                    print(\"当前是第 \" + str(epoch) + \" 代，成本值为：\" + str(minibatch_cost))\n",
        "\n",
        "            #记录成本\n",
        "            if epoch % 1 == 0:\n",
        "                costs.append(minibatch_cost)\n",
        "\n",
        "        #数据处理完毕，绘制成本曲线\n",
        "        if isPlot:\n",
        "            plt.plot(np.squeeze(costs))\n",
        "            plt.ylabel('cost')\n",
        "            plt.xlabel('iterations (per tens)')\n",
        "            plt.title(\"Learning rate =\" + str(learning_rate))\n",
        "            plt.show()\n",
        "\n",
        "        #开始预测数据\n",
        "        ## 计算当前的预测情况\n",
        "        predict_op = tf.arg_max(Z3,1)\n",
        "        corrent_prediction = tf.equal(predict_op , tf.arg_max(Y,1))\n",
        "\n",
        "        ##计算准确度\n",
        "        accuracy = tf.reduce_mean(tf.cast(corrent_prediction,\"float\"))\n",
        "        print(\"corrent_prediction accuracy= \" + str(accuracy))\n",
        "\n",
        "        train_accuracy = accuracy.eval({X: X_train, Y: Y_train})\n",
        "        test_accuary = accuracy.eval({X: X_test, Y: Y_test})\n",
        "\n",
        "        print(\"训练集准确度：\" + str(train_accuracy))\n",
        "        print(\"测试集准确度：\" + str(test_accuary))\n",
        "\n",
        "        return (train_accuracy,test_accuary,parameters)"
      ],
      "execution_count": 0,
      "outputs": []
    },
    {
      "metadata": {
        "id": "BD6Qn42exFoG",
        "colab_type": "code",
        "colab": {
          "base_uri": "https://localhost:8080/",
          "height": 920
        },
        "outputId": "8bc2ea2f-ee18-40a8-c08b-f733c9d34ee6"
      },
      "cell_type": "code",
      "source": [
        "_, _, parameters = model(X_train, Y_train, X_test, Y_test,num_epochs=150)"
      ],
      "execution_count": 67,
      "outputs": [
        {
          "output_type": "stream",
          "text": [
            "当前是第 0 代，成本值为：1.921332374215126\n",
            "当前是第 5 代，成本值为：1.9041557684540749\n",
            "当前是第 10 代，成本值为：1.9043088406324387\n",
            "当前是第 15 代，成本值为：1.904477171599865\n",
            "当前是第 20 代，成本值为：1.9018755927681923\n",
            "当前是第 25 代，成本值为：1.784093663096428\n",
            "当前是第 30 代，成本值为：1.6878155395388603\n",
            "当前是第 35 代，成本值为：1.617915004491806\n",
            "当前是第 40 代，成本值为：1.5885634794831276\n",
            "当前是第 45 代，成本值为：1.5646749660372734\n",
            "当前是第 50 代，成本值为：1.5529921650886536\n",
            "当前是第 55 代，成本值为：1.5220020189881325\n",
            "当前是第 60 代，成本值为：1.4694481641054153\n",
            "当前是第 65 代，成本值为：1.348303698003292\n",
            "当前是第 70 代，成本值为：1.2567761614918709\n",
            "当前是第 75 代，成本值为：1.20861941203475\n",
            "当前是第 80 代，成本值为：1.1105797067284584\n",
            "当前是第 85 代，成本值为：1.0917641185224056\n",
            "当前是第 90 代，成本值为：1.0393249057233334\n",
            "当前是第 95 代，成本值为：1.0039665177464485\n",
            "当前是第 100 代，成本值为：0.9971981681883335\n",
            "当前是第 105 代，成本值为：0.9465539120137691\n",
            "当前是第 110 代，成本值为：0.9596929363906384\n",
            "当前是第 115 代，成本值为：0.9041741006076336\n",
            "当前是第 120 代，成本值为：0.8995767384767532\n",
            "当前是第 125 代，成本值为：0.8829647749662399\n",
            "当前是第 130 代，成本值为：0.8657763451337814\n",
            "当前是第 135 代，成本值为：0.8418872021138668\n",
            "当前是第 140 代，成本值为：0.8378565274178982\n",
            "当前是第 145 代，成本值为：0.7953336387872696\n"
          ],
          "name": "stdout"
        },
        {
          "output_type": "display_data",
          "data": {
            "image/png": "[encoded data removed]",
            "text/plain": [
              "<Figure size 360x288 with 1 Axes>"
            ]
          },
          "metadata": {
            "tags": []
          }
        },
        {
          "output_type": "stream",
          "text": [
            "WARNING:tensorflow:From <ipython-input-66-86b6f86937b1>:89: arg_max (from tensorflow.python.ops.gen_math_ops) is deprecated and will be removed in a future version.\n",
            "Instructions for updating:\n",
            "Use `tf.math.argmax` instead\n",
            "corrent_prediction accuracy= Tensor(\"Mean_1:0\", shape=(), dtype=float32)\n",
            "训练集准确度：0.725\n",
            "测试集准确度：0.65\n"
          ],
          "name": "stdout"
        }
      ]
    },
    {
      "metadata": {
        "id": "42misK2eZVOP",
        "colab_type": "code",
        "colab": {}
      },
      "cell_type": "code",
      "source": [
        ""
      ],
      "execution_count": 0,
      "outputs": []
    }
  ]
}