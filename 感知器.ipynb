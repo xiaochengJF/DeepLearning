{
  "nbformat": 4,
  "nbformat_minor": 0,
  "metadata": {
    "colab": {
      "name": "感知器",
      "version": "0.3.2",
      "provenance": [],
      "collapsed_sections": [],
      "include_colab_link": true
    },
    "kernelspec": {
      "name": "python3",
      "display_name": "Python 3"
    }
  },
  "cells": [
    {
      "cell_type": "markdown",
      "metadata": {
        "id": "view-in-github",
        "colab_type": "text"
      },
      "source": [
        "<a href=\"https://colab.research.google.com/github/xiaochengJF/DeepLearning/blob/master/%E6%84%9F%E7%9F%A5%E5%99%A8.ipynb\" target=\"_parent\"><img src=\"https://colab.research.google.com/assets/colab-badge.svg\" alt=\"Open In Colab\"/></a>"
      ]
    },
    {
      "cell_type": "code",
      "metadata": {
        "id": "RXoRc0zf4z-y",
        "colab_type": "code",
        "colab": {}
      },
      "source": [
        "#!/usr/bin/env python\n",
        "# -*- coding: UTF-8 -*-\n",
        "\n",
        "from __future__ import print_function\n",
        "from functools import reduce"
      ],
      "execution_count": 0,
      "outputs": []
    },
    {
      "cell_type": "code",
      "metadata": {
        "id": "LlBWH9UY6Dva",
        "colab_type": "code",
        "colab": {}
      },
      "source": [
        "class VectorOp(object):\n",
        "    \"\"\"\n",
        "    实现向量计算操作\n",
        "    \"\"\"\n",
        "    @staticmethod\n",
        "    def dot(x, y):\n",
        "        \"\"\"\n",
        "        计算两个向量x和y的内积\n",
        "        \"\"\"\n",
        "        # 首先把x[x1,x2,x3...]和y[y1,y2,y3,...]按元素相乘\n",
        "        # 变成[x1*y1, x2*y2, x3*y3]\n",
        "        # 然后利用reduce求和\n",
        "        return reduce(lambda a, b: a + b, VectorOp.element_multiply(x, y), 0.0) #??????\n",
        "\n",
        "    @staticmethod\n",
        "    def element_multiply(x, y):\n",
        "        \"\"\"\n",
        "        将两个向量x和y按元素相乘\n",
        "        \"\"\"\n",
        "        # 首先把x[x1,x2,x3...]和y[y1,y2,y3,...]打包在一起\n",
        "        # 变成[(x1,y1),(x2,y2),(x3,y3),...]\n",
        "        # 然后利用map函数计算[x1*y1, x2*y2, x3*y3]\n",
        "        return list(map(lambda x_y: x_y[0] * x_y[1], zip(x, y)))\n",
        "\n",
        "    @staticmethod\n",
        "    def element_add(x, y):\n",
        "        \"\"\"\n",
        "        将两个向量x和y按元素相加\n",
        "        \"\"\"\n",
        "        # 首先把x[x1,x2,x3...]和y[y1,y2,y3,...]打包在一起\n",
        "        # 变成[(x1,y1),(x2,y2),(x3,y3),...]\n",
        "        # 然后利用map函数计算[x1+y1, x2+y2, x3+y3]\n",
        "        return list(map(lambda x_y: x_y[0] + x_y[1], zip(x, y)))\n",
        "\n",
        "    @staticmethod\n",
        "    def scala_multiply(v, s):\n",
        "        \"\"\"\n",
        "        将向量v中的每个元素和标量s相乘\n",
        "        \"\"\"\n",
        "        return map(lambda e: e * s, v)"
      ],
      "execution_count": 0,
      "outputs": []
    },
    {
      "cell_type": "code",
      "metadata": {
        "id": "KMK9Y9Xm48TS",
        "colab_type": "code",
        "colab": {}
      },
      "source": [
        "class Perceptron(object):\n",
        "    def __init__(self, input_num, activator):\n",
        "        \"\"\"\n",
        "        初始化感知器，设置输入参数的个数，以及激活函数。\n",
        "        激活函数的类型为double -> double\n",
        "        \"\"\"\n",
        "        self.activator = activator\n",
        "        # 权重向量初始化为0\n",
        "        self.weights = [0.0] * input_num\n",
        "        # 偏置项初始化为0\n",
        "        self.bias = 0.0\n",
        "\n",
        "    def __str__(self):\n",
        "        \"\"\"\n",
        "        打印学习到的权重、偏置项\n",
        "        \"\"\"\n",
        "        return 'weights\\t:%s\\nbias\\t:%f\\n' % (self.weights, self.bias)\n",
        "\n",
        "    def predict(self, input_vec):\n",
        "        \"\"\"\n",
        "        输入向量，输出感知器的计算结果\n",
        "        \"\"\"\n",
        "        # 计算向量input_vec[x1,x2,x3...]和weights[w1,w2,w3,...]的内积\n",
        "        # 然后加上bias\n",
        "        return self.activator(\n",
        "            VectorOp.dot(input_vec, self.weights) + self.bias)\n",
        "\n",
        "    def train(self, input_vecs, labels, iteration, rate):\n",
        "        \"\"\"\n",
        "        输入训练数据：一组向量、与每个向量对应的label；以及训练轮数、学习率\n",
        "        \"\"\"\n",
        "        for i in range(iteration):\n",
        "            self._one_iteration(input_vecs, labels, rate)\n",
        "\n",
        "    def _one_iteration(self, input_vecs, labels, rate):\n",
        "        \"\"\"\n",
        "        一次迭代，把所有的训练数据过一遍\n",
        "        \"\"\"\n",
        "        # 把输入和输出打包在一起，成为样本的列表[(input_vec, label), ...]\n",
        "        # 而每个训练样本是(input_vec, label)\n",
        "        samples = zip(input_vecs, labels)\n",
        "        # 对每个样本，按照感知器规则更新权重\n",
        "        for (input_vec, label) in samples:\n",
        "            # 计算感知器在当前权重下的输出\n",
        "            output = self.predict(input_vec)\n",
        "            # 更新权重\n",
        "            self._update_weights(input_vec, output, label, rate)\n",
        "\n",
        "    def _update_weights(self, input_vec, output, label, rate):\n",
        "        \"\"\"\n",
        "        按照感知器规则更新权重\n",
        "        \"\"\"\n",
        "        # 首先计算本次更新的delta\n",
        "        # 然后把input_vec[x1,x2,x3,...]向量中的每个值乘上delta，得到每个权重更新\n",
        "        # 最后再把权重更新按元素加到原先的weights[w1,w2,w3,...]上\n",
        "        delta = label - output\n",
        "        self.weights = VectorOp.element_add(\n",
        "            self.weights, VectorOp.scala_multiply(input_vec, rate * delta))\n",
        "        # 更新bias\n",
        "        self.bias += rate * delta"
      ],
      "execution_count": 0,
      "outputs": []
    },
    {
      "cell_type": "code",
      "metadata": {
        "id": "dV-xJkw96Wki",
        "colab_type": "code",
        "colab": {}
      },
      "source": [
        "def f(x):\n",
        "    \"\"\"\n",
        "    定义激活函数f\n",
        "    \"\"\"\n",
        "    return 1 if x > 0 else 0\n",
        "\n",
        "\n",
        "def get_training_dataset():\n",
        "    \"\"\"\n",
        "    基于and真值表构建训练数据\n",
        "    \"\"\"\n",
        "    # 构建训练数据\n",
        "    # 输入向量列表\n",
        "    input_vecs = [[1, 1], [0, 0], [1, 0], [0, 1]]\n",
        "    # 期望的输出列表，注意要与输入一一对应\n",
        "    # [1,1] -> 1, [0,0] -> 0, [1,0] -> 0, [0,1] -> 0\n",
        "    labels = [1, 0, 0, 0]\n",
        "    return input_vecs, labels\n",
        "\n",
        "\n",
        "def train_and_perceptron():\n",
        "    \"\"\"\n",
        "    使用and真值表训练感知器\n",
        "    \"\"\"\n",
        "    # 创建感知器，输入参数个数为2（因为and是二元函数），激活函数为f\n",
        "    p = Perceptron(2, f)\n",
        "    # 训练，迭代10轮, 学习速率为0.1\n",
        "    input_vecs, labels = get_training_dataset()\n",
        "    p.train(input_vecs, labels, 10, 0.1)\n",
        "    # 返回训练好的感知器\n",
        "    return p"
      ],
      "execution_count": 0,
      "outputs": []
    },
    {
      "cell_type": "code",
      "metadata": {
        "id": "dgO-qhxM6Zmx",
        "colab_type": "code",
        "colab": {
          "base_uri": "https://localhost:8080/",
          "height": 141
        },
        "outputId": "23bc630f-477b-4b82-9b10-42839367cc8d"
      },
      "source": [
        "if __name__ == '__main__':\n",
        "    # 训练and感知器\n",
        "    and_perception = train_and_perceptron()\n",
        "    # 打印训练获得的权重\n",
        "    print(and_perception)\n",
        "    # 测试\n",
        "    print('1 and 1 = %d' % and_perception.predict([1, 1]))\n",
        "    print('0 and 0 = %d' % and_perception.predict([0, 0]))\n",
        "    print('1 and 0 = %d' % and_perception.predict([1, 0]))\n",
        "    print('0 and 1 = %d' % and_perception.predict([0, 1]))"
      ],
      "execution_count": 8,
      "outputs": [
        {
          "output_type": "stream",
          "text": [
            "weights\t:[0.1, 0.2]\n",
            "bias\t:-0.200000\n",
            "\n",
            "1 and 1 = 1\n",
            "0 and 0 = 0\n",
            "1 and 0 = 0\n",
            "0 and 1 = 0\n"
          ],
          "name": "stdout"
        }
      ]
    },
    {
      "cell_type": "code",
      "metadata": {
        "id": "nNOAvQGo6qOZ",
        "colab_type": "code",
        "colab": {}
      },
      "source": [
        ""
      ],
      "execution_count": 0,
      "outputs": []
    }
  ]
}