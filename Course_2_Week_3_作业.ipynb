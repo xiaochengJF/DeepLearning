{
  "nbformat": 4,
  "nbformat_minor": 0,
  "metadata": {
    "colab": {
      "name": "Course 2 - Week 3 作业.ipynb",
      "version": "0.3.2",
      "provenance": [],
      "collapsed_sections": [],
      "include_colab_link": true
    },
    "language_info": {
      "codemirror_mode": {
        "name": "ipython",
        "version": 3
      },
      "file_extension": ".py",
      "mimetype": "text/x-python",
      "name": "python",
      "nbconvert_exporter": "python",
      "pygments_lexer": "ipython3",
      "version": "3.5.4"
    },
    "kernelspec": {
      "name": "python3",
      "display_name": "Python 3"
    },
    "accelerator": "GPU"
  },
  "cells": [
    {
      "cell_type": "markdown",
      "metadata": {
        "id": "view-in-github",
        "colab_type": "text"
      },
      "source": [
        "<a href=\"https://colab.research.google.com/github/xiaochengJF/DeepLearning/blob/master/Course_2_Week_3_%E4%BD%9C%E4%B8%9A.ipynb\" target=\"_parent\"><img src=\"https://colab.research.google.com/assets/colab-badge.svg\" alt=\"Open In Colab\"/></a>"
      ]
    },
    {
      "metadata": {
        "id": "kMgIOYqKshFJ",
        "colab_type": "text"
      },
      "cell_type": "markdown",
      "source": [
        "# 设置路径"
      ]
    },
    {
      "metadata": {
        "id": "Wppkriads4zO",
        "colab_type": "code",
        "colab": {}
      },
      "cell_type": "code",
      "source": [
        "from google.colab import drive\n",
        "drive.mount('/content/gdrive/')"
      ],
      "execution_count": 0,
      "outputs": []
    },
    {
      "metadata": {
        "id": "i_b51lvEtSKN",
        "colab_type": "code",
        "colab": {}
      },
      "cell_type": "code",
      "source": [
        "cd /content/gdrive/My Drive/DL-GPU/DeepLearning/Course 2 - Week 3/"
      ],
      "execution_count": 0,
      "outputs": []
    },
    {
      "metadata": {
        "id": "cUBQSl3Rtaqx",
        "colab_type": "text"
      },
      "cell_type": "markdown",
      "source": [
        "# 从这里开始"
      ]
    },
    {
      "metadata": {
        "id": "Pi08oQqEQ9QV",
        "colab_type": "code",
        "colab": {}
      },
      "cell_type": "code",
      "source": [
        "import numpy as np\n",
        "import h5py\n",
        "import matplotlib.pyplot as plt\n",
        "import tensorflow as tf\n",
        "from tensorflow.python.framework import ops\n",
        "import tf_utils\n",
        "import time\n",
        "\n",
        "%matplotlib inline\n",
        "np.random.seed(1)"
      ],
      "execution_count": 0,
      "outputs": []
    },
    {
      "metadata": {
        "id": "ieOQohF_Qfrb",
        "colab_type": "code",
        "outputId": "23837930-697a-4951-c328-7999f050f0e1",
        "colab": {
          "base_uri": "https://localhost:8080/",
          "height": 109
        }
      },
      "cell_type": "code",
      "source": [
        "y_hat = tf.constant(36, name = \"y_hat\") #定义固定值\n",
        "y = tf.constant(39, name = \"y\")\n",
        "\n",
        "loss = tf.Variable((y - y_hat) ** 2, name=\"loss\") #为损失函数创建变量\n",
        "\n",
        "init = tf.global_variables_initializer() # 运行之后的初始化ession.run(init)\n",
        "\n",
        "with tf.Session() as session: #创建session 并打印\n",
        "    session.run(init)\n",
        "    print(session.run(loss))"
      ],
      "execution_count": 4,
      "outputs": [
        {
          "output_type": "stream",
          "text": [
            "WARNING:tensorflow:From /usr/local/lib/python3.6/dist-packages/tensorflow/python/framework/op_def_library.py:263: colocate_with (from tensorflow.python.framework.ops) is deprecated and will be removed in a future version.\n",
            "Instructions for updating:\n",
            "Colocations handled automatically by placer.\n",
            "9\n"
          ],
          "name": "stdout"
        }
      ]
    },
    {
      "metadata": {
        "id": "tEOD_q4JQfrv",
        "colab_type": "code",
        "outputId": "9c6f1a1f-0a10-464d-83bf-f8d6e747aaef",
        "colab": {
          "base_uri": "https://localhost:8080/",
          "height": 35
        }
      },
      "cell_type": "code",
      "source": [
        "a = tf.constant(2)\n",
        "b = tf.constant(10)\n",
        "c = tf.multiply(a,b)\n",
        "\n",
        "print(c) # 结果Tensor类型变量，没维度，数据类型int32，结构放到了“计算图（computation graph）”"
      ],
      "execution_count": 5,
      "outputs": [
        {
          "output_type": "stream",
          "text": [
            "Tensor(\"Mul:0\", shape=(), dtype=int32)\n"
          ],
          "name": "stdout"
        }
      ]
    },
    {
      "metadata": {
        "id": "-0ZZUc2eQfr4",
        "colab_type": "code",
        "outputId": "c2359cda-6d0c-4943-8b34-edd0a1b25357",
        "colab": {
          "base_uri": "https://localhost:8080/",
          "height": 35
        }
      },
      "cell_type": "code",
      "source": [
        "# 建立会话并运行\n",
        "print(tf.Session().run(c))"
      ],
      "execution_count": 6,
      "outputs": [
        {
          "output_type": "stream",
          "text": [
            "20\n"
          ],
          "name": "stdout"
        }
      ]
    },
    {
      "metadata": {
        "id": "Mq7UdkYQQfsA",
        "colab_type": "code",
        "outputId": "291b670e-b222-4997-f8f7-c85311b015a9",
        "colab": {
          "base_uri": "https://localhost:8080/",
          "height": 35
        }
      },
      "cell_type": "code",
      "source": [
        "# 占位符和feed_dict\n",
        "x = tf.placeholder(tf.int64, name=\"x\") # 占位符是一个对象，它的值只能稍后指定\n",
        "print(tf.Session().run(2 * x, feed_dict={x:3})) # 用feed字典作为变量传入\n",
        "tf.Session().close()"
      ],
      "execution_count": 7,
      "outputs": [
        {
          "output_type": "stream",
          "text": [
            "6\n"
          ],
          "name": "stdout"
        }
      ]
    },
    {
      "metadata": {
        "id": "qMmnhr8VQfsH",
        "colab_type": "code",
        "colab": {}
      },
      "cell_type": "code",
      "source": [
        "# 线性函数\n",
        "def linear_function():\n",
        "    \"\"\"\n",
        "    \"\"\"\n",
        "    np.random.seed(1) # 指定随机种子\n",
        "    \n",
        "    X = np.random.randn(3, 1)\n",
        "    W = np.random.randn(4, 3)\n",
        "    b = np.random.randn(4, 1)\n",
        "    \n",
        "    Y = tf.add(tf.matmul(W, X), b) # tf.matmul矩阵乘法\n",
        "    # Y = tf.matmul(W, X) + b\n",
        "    \n",
        "    # 创建会话\n",
        "    sess = tf.Session()\n",
        "    result = sess.run(Y)\n",
        "    \n",
        "    # 关闭会话\n",
        "    sess.close()\n",
        "    \n",
        "    return result"
      ],
      "execution_count": 0,
      "outputs": []
    },
    {
      "metadata": {
        "id": "AaolXLYfQfsN",
        "colab_type": "code",
        "outputId": "fd1978b7-e73b-4d44-c84a-9932163ecd60",
        "colab": {
          "base_uri": "https://localhost:8080/",
          "height": 89
        }
      },
      "cell_type": "code",
      "source": [
        "print(\"result = \" + str(linear_function()))"
      ],
      "execution_count": 9,
      "outputs": [
        {
          "output_type": "stream",
          "text": [
            "result = [[-2.15657382]\n",
            " [ 2.95891446]\n",
            " [-1.08926781]\n",
            " [-0.84538042]]\n"
          ],
          "name": "stdout"
        }
      ]
    },
    {
      "metadata": {
        "id": "fGW99nsGQfsW",
        "colab_type": "code",
        "colab": {}
      },
      "cell_type": "code",
      "source": [
        "# 计算sigmoid\n",
        "def sigmoid(Z):\n",
        "    \"\"\"\"\"\"\n",
        "    #创建占位符x，名叫“x”\n",
        "    x = tf.placeholder(tf.float32, name=\"x\")\n",
        "    \n",
        "    #计算sigmoid(Z)\n",
        "    sigmoid = tf.sigmoid(x)\n",
        "    \n",
        "    # 创建会话，有两种方式\n",
        "    # 方式一\n",
        "    with tf.Session() as sess:\n",
        "        result = sess.run(sigmoid, feed_dict= {x : Z})\n",
        "    #方式二\n",
        "    #sess = tf.Session()\n",
        "    #result = sess.run(sigmoid, feed_dict= {x : Z})\n",
        "    #sess.close() #不同点\n",
        "    \n",
        "        \n",
        "    return result"
      ],
      "execution_count": 0,
      "outputs": []
    },
    {
      "metadata": {
        "id": "AYEzYrU7Qfsb",
        "colab_type": "code",
        "outputId": "96cc77b5-5349-4e01-a818-df563afd0cd1",
        "colab": {
          "base_uri": "https://localhost:8080/",
          "height": 53
        }
      },
      "cell_type": "code",
      "source": [
        "print(\"sigmoid = \" + str(sigmoid(0)))\n",
        "print(\"sigmoid = \" + str(sigmoid(12)))"
      ],
      "execution_count": 11,
      "outputs": [
        {
          "output_type": "stream",
          "text": [
            "sigmoid = 0.5\n",
            "sigmoid = 0.9999938\n"
          ],
          "name": "stdout"
        }
      ]
    },
    {
      "metadata": {
        "id": "jUXWlwVSQfsk",
        "colab_type": "code",
        "colab": {}
      },
      "cell_type": "code",
      "source": [
        "# 使用独热编码（0、1编码）\n",
        "def one_hot_matrix(lables, C):\n",
        "    \"\"\"\"\"\"\n",
        "    # 创建。。，赋值为C\n",
        "    C = tf.constant(C, name=\"C\")\n",
        "    \n",
        "    # 使用one_hot\n",
        "    one_hot_matrix = tf.one_hot(indices = lables, depth=C, axis=0)\n",
        "    \n",
        "    sess = tf.Session()\n",
        "    one_hot = sess.run(one_hot_matrix)\n",
        "    sess.close()\n",
        "    \n",
        "    return one_hot"
      ],
      "execution_count": 0,
      "outputs": []
    },
    {
      "metadata": {
        "id": "HLqPiLxfQfsq",
        "colab_type": "code",
        "outputId": "ce673777-4a3e-4194-ab7c-49d132aa620d",
        "colab": {
          "base_uri": "https://localhost:8080/",
          "height": 89
        }
      },
      "cell_type": "code",
      "source": [
        "lables = np.array([1,2,3,0,2,1])\n",
        "one_hot = one_hot_matrix(lables, C=4)\n",
        "print(str(one_hot))"
      ],
      "execution_count": 13,
      "outputs": [
        {
          "output_type": "stream",
          "text": [
            "[[0. 0. 0. 1. 0. 0.]\n",
            " [1. 0. 0. 0. 0. 1.]\n",
            " [0. 1. 0. 0. 1. 0.]\n",
            " [0. 0. 1. 0. 0. 0.]]\n"
          ],
          "name": "stdout"
        }
      ]
    },
    {
      "metadata": {
        "id": "Y88a_MnlQfsz",
        "colab_type": "code",
        "colab": {}
      },
      "cell_type": "code",
      "source": [
        "# 初始化为0和1\n",
        "def ones(shape):\n",
        "    \"\"\"\"\"\"\n",
        "    ones = tf.ones(shape)\n",
        "    sess = tf.Session()\n",
        "    ones = sess.run(ones)\n",
        "    sess.close()\n",
        "    \n",
        "    return ones"
      ],
      "execution_count": 0,
      "outputs": []
    },
    {
      "metadata": {
        "id": "tVAy7T-RQfs6",
        "colab_type": "code",
        "outputId": "7580f422-8cbb-4387-e1ce-99e2290d6b3f",
        "colab": {
          "base_uri": "https://localhost:8080/",
          "height": 35
        }
      },
      "cell_type": "code",
      "source": [
        "print(\"ones = \" + str(ones(3))) # 参数3加中括号大括号或者不加都一样"
      ],
      "execution_count": 15,
      "outputs": [
        {
          "output_type": "stream",
          "text": [
            "ones = [1. 1. 1.]\n"
          ],
          "name": "stdout"
        }
      ]
    },
    {
      "metadata": {
        "id": "wQqDY1JGQftJ",
        "colab_type": "code",
        "colab": {}
      },
      "cell_type": "code",
      "source": [
        "# 构建神经网络\n",
        "# 加载数据集\n",
        "X_train_orig, Y_train_orig, X_test_orig, Y_test_orig, classes = tf_utils.load_dataset()"
      ],
      "execution_count": 0,
      "outputs": []
    },
    {
      "metadata": {
        "id": "5Hl_fqQNQftP",
        "colab_type": "code",
        "outputId": "d4c88970-034c-4226-c6db-06579afda830",
        "colab": {
          "base_uri": "https://localhost:8080/",
          "height": 287
        }
      },
      "cell_type": "code",
      "source": [
        "# 看看数据集有什么\n",
        "index = 11\n",
        "plt.imshow(X_train_orig[index])\n",
        "print(\"Y = \" + str(np.squeeze(Y_train_orig[:, index])))"
      ],
      "execution_count": 17,
      "outputs": [
        {
          "output_type": "stream",
          "text": [
            "Y = 1\n"
          ],
          "name": "stdout"
        },
        {
          "output_type": "display_data",
          "data": {
            "image/png": "[encoded data removed]",
            "text/plain": [
              "<Figure size 432x288 with 1 Axes>"
            ]
          },
          "metadata": {
            "tags": []
          }
        }
      ]
    },
    {
      "metadata": {
        "id": "Wl27hDfaQftW",
        "colab_type": "code",
        "outputId": "ec458107-d7c8-4829-ca97-5bb30e177321",
        "colab": {
          "base_uri": "https://localhost:8080/",
          "height": 125
        }
      },
      "cell_type": "code",
      "source": [
        "#数据扁平化、除以255归一化，将标签转化为独热向量\n",
        "X_train_flatten = X_train_orig.reshape(X_train_orig.shape[0], -1).T #每列作为一个样本\n",
        "X_test_flatten = X_test_orig.reshape(X_test_orig.shape[0], -1).T\n",
        "\n",
        "# 归一化\n",
        "X_train = X_train_flatten / 255\n",
        "X_test = X_test_flatten / 255\n",
        "\n",
        "# 转化为独热矩阵(示例)\n",
        "Y_train = tf_utils.convert_to_one_hot(Y_train_orig, 6)\n",
        "Y_test = tf_utils.convert_to_one_hot(Y_test_orig, 6)\n",
        "\n",
        "print(\"训练集样本数 = \" + str(X_train.shape[1]))\n",
        "print(\"测试集样本数 = \" + str(X_test.shape[1]))\n",
        "print(\"X_train.shape: \" + str(X_train.shape))\n",
        "print(\"Y_train.shape: \" + str(Y_train.shape))\n",
        "print(\"X_test.shape: \" + str(X_test.shape))\n",
        "print(\"Y_test.shape: \" + str(Y_test.shape))"
      ],
      "execution_count": 18,
      "outputs": [
        {
          "output_type": "stream",
          "text": [
            "训练集样本数 = 1080\n",
            "测试集样本数 = 120\n",
            "X_train.shape: (12288, 1080)\n",
            "Y_train.shape: (6, 1080)\n",
            "X_test.shape: (12288, 120)\n",
            "Y_test.shape: (6, 120)\n"
          ],
          "name": "stdout"
        }
      ]
    },
    {
      "metadata": {
        "id": "c5g8VJOFQftc",
        "colab_type": "code",
        "colab": {}
      },
      "cell_type": "code",
      "source": [
        "# 创建placeholders占位符\n",
        "def create_placeholders(n_x, n_y):\n",
        "    \"\"\"\n",
        "    \"\"\"\n",
        "    X = tf.placeholder(tf.float32, [n_x, None], name = \"X\") #用None，便于灵活处理数据\n",
        "    Y = tf.placeholder(tf.float32, [n_y, None], name = \"Y\")\n",
        "    \n",
        "    return X,Y"
      ],
      "execution_count": 0,
      "outputs": []
    },
    {
      "metadata": {
        "id": "dzTPmRj3Qfth",
        "colab_type": "code",
        "outputId": "94079835-8050-4c0d-afea-eadb34eb30ed",
        "colab": {
          "base_uri": "https://localhost:8080/",
          "height": 53
        }
      },
      "cell_type": "code",
      "source": [
        "X, Y = create_placeholders(12288, 6)\n",
        "print(\"X = \" + str(X))\n",
        "print(\"Y = \" + str(Y))"
      ],
      "execution_count": 20,
      "outputs": [
        {
          "output_type": "stream",
          "text": [
            "X = Tensor(\"X_3:0\", shape=(12288, ?), dtype=float32)\n",
            "Y = Tensor(\"Y_1:0\", shape=(6, ?), dtype=float32)\n"
          ],
          "name": "stdout"
        }
      ]
    },
    {
      "metadata": {
        "id": "BJzceBe2Qftq",
        "colab_type": "code",
        "colab": {}
      },
      "cell_type": "code",
      "source": [
        "# 初始化参数 Xavier初始化权重零初始化偏差\n",
        "def initialize_parameters():\n",
        "    \"\"\"\n",
        "    \"\"\"\n",
        "    tf.set_random_seed(1) #指定随机种子，和numpy中的有什么不一样\n",
        "    \n",
        "    W1 = tf.get_variable(\"W1\", [25, 12288], initializer = tf.contrib.layers.xavier_initializer(seed = 1))\n",
        "    # 注意tf.Variable（每次都创建新对象）和tf.get_variable（返回已有对象，没则新建）区别\n",
        "    b1 = tf.get_variable(\"b1\", [25, 1], initializer = tf.zeros_initializer())\n",
        "    W2 = tf.get_variable(\"W2\", [12, 25], initializer = tf.contrib.layers.xavier_initializer(seed = 1))\n",
        "    b2 = tf.get_variable(\"b2\", [12, 1], initializer = tf.zeros_initializer())\n",
        "    W3 = tf.get_variable(\"W3\", [6, 12], initializer = tf.contrib.layers.xavier_initializer(seed = 1))\n",
        "    b3 = tf.get_variable(\"b3\", [6, 1], initializer = tf.zeros_initializer())\n",
        "    \n",
        "    parameters = {\n",
        "        \"W1\" : W1,\n",
        "        \"b1\" : b1,\n",
        "        \"W2\" : W2,\n",
        "        \"b2\" : b2,\n",
        "        \"W3\" : W3,\n",
        "        \"b3\" : b3\n",
        "    }\n",
        "    \n",
        "    return parameters"
      ],
      "execution_count": 0,
      "outputs": []
    },
    {
      "metadata": {
        "id": "si2kX3UoQftw",
        "colab_type": "code",
        "outputId": "aed9e13d-816a-4322-ae9a-705fcfefab20",
        "colab": {
          "base_uri": "https://localhost:8080/",
          "height": 215
        }
      },
      "cell_type": "code",
      "source": [
        "tf.reset_default_graph() #用于清除默认图形堆栈并重置全局默认图形\n",
        "\n",
        "with tf.Session() as sess:\n",
        "    parameters = initialize_parameters()\n",
        "    print(\"W1 = \" + str(parameters[\"W1\"]))\n",
        "    print(\"b1 = \" + str(parameters[\"b1\"]))\n",
        "    print(\"W2 = \" + str(parameters[\"W2\"]))\n",
        "    print(\"b2 = \" + str(parameters[\"b2\"]))\n",
        "#参数只有物理空间，还没被赋值，因为没通过session执行"
      ],
      "execution_count": 22,
      "outputs": [
        {
          "output_type": "stream",
          "text": [
            "\n",
            "WARNING: The TensorFlow contrib module will not be included in TensorFlow 2.0.\n",
            "For more information, please see:\n",
            "  * https://github.com/tensorflow/community/blob/master/rfcs/20180907-contrib-sunset.md\n",
            "  * https://github.com/tensorflow/addons\n",
            "If you depend on functionality not listed there, please file an issue.\n",
            "\n",
            "W1 = <tf.Variable 'W1:0' shape=(25, 12288) dtype=float32_ref>\n",
            "b1 = <tf.Variable 'b1:0' shape=(25, 1) dtype=float32_ref>\n",
            "W2 = <tf.Variable 'W2:0' shape=(12, 25) dtype=float32_ref>\n",
            "b2 = <tf.Variable 'b2:0' shape=(12, 1) dtype=float32_ref>\n"
          ],
          "name": "stdout"
        }
      ]
    },
    {
      "metadata": {
        "id": "ldnrC7M9Qft4",
        "colab_type": "code",
        "colab": {}
      },
      "cell_type": "code",
      "source": [
        "# 向前传播\n",
        "def forward_propagation(X, parameters):\n",
        "    \"\"\"\"\"\"\n",
        "    W1 = parameters[\"W1\"]\n",
        "    b1 = parameters[\"b1\"]\n",
        "    W2 = parameters[\"W2\"]\n",
        "    b2 = parameters[\"b2\"]\n",
        "    W3 = parameters[\"W3\"]\n",
        "    b3 = parameters[\"b3\"]\n",
        "    \n",
        "    Z1 = tf.matmul(W1, X) + b1 # Z1 = np.dot(W1, X) + b1\n",
        "    A1 = tf.nn.relu(Z1) #A1 = relu(Z1)\n",
        "    Z2 = tf.matmul(W2, A1) + b2 # Z1 = np.dot(W2, X) + b2\n",
        "    A2 = tf.nn.relu(Z2) #A1 = relu(Z1)\n",
        "    Z3 = tf.matmul(W3, A2) + b3 # Z1 = np.dot(W3, X) + b3\n",
        "    \n",
        "    return Z3"
      ],
      "execution_count": 0,
      "outputs": []
    },
    {
      "metadata": {
        "id": "FDOyCjhFQft8",
        "colab_type": "code",
        "outputId": "6166acd9-492a-4af8-cf6f-4c03e2449f44",
        "colab": {
          "base_uri": "https://localhost:8080/",
          "height": 35
        }
      },
      "cell_type": "code",
      "source": [
        "tf.reset_default_graph()\n",
        "with tf.Session() as sess:\n",
        "    X,Y = create_placeholders(12288,6)\n",
        "    parameters = initialize_parameters()\n",
        "    Z3 = forward_propagation(X,parameters)\n",
        "    print(\"Z3 = \" + str(Z3))"
      ],
      "execution_count": 24,
      "outputs": [
        {
          "output_type": "stream",
          "text": [
            "Z3 = Tensor(\"add_2:0\", shape=(6, ?), dtype=float32)\n"
          ],
          "name": "stdout"
        }
      ]
    },
    {
      "metadata": {
        "id": "SG5F4J3kQfuB",
        "colab_type": "code",
        "colab": {}
      },
      "cell_type": "code",
      "source": [
        "# 计算成本\n",
        "def compute_cost(Z3, Y):\n",
        "    \"\"\"\n",
        "    \"\"\"\n",
        "    logits = tf.transpose(Z3) #转置\n",
        "    labels = tf.transpose(Y)\n",
        "    \n",
        "    cost = tf.reduce_mean(tf.nn.softmax_cross_entropy_with_logits(logits = logits, labels = labels))\n",
        "    return cost"
      ],
      "execution_count": 0,
      "outputs": []
    },
    {
      "metadata": {
        "id": "Uo5C5cvoQfuE",
        "colab_type": "code",
        "outputId": "abbcc2e7-084b-4abc-daab-b4a3ac756bd0",
        "colab": {
          "base_uri": "https://localhost:8080/",
          "height": 179
        }
      },
      "cell_type": "code",
      "source": [
        "tf.reset_default_graph()\n",
        "\n",
        "with tf.Session() as sess:\n",
        "    X,Y = create_placeholders(12288,6)\n",
        "    parameters = initialize_parameters()\n",
        "    Z3 = forward_propagation(X,parameters)\n",
        "    cost = compute_cost(Z3,Y)\n",
        "    print(\"cost = \" + str(cost))"
      ],
      "execution_count": 26,
      "outputs": [
        {
          "output_type": "stream",
          "text": [
            "WARNING:tensorflow:From <ipython-input-25-ecec0de27546>:7: softmax_cross_entropy_with_logits (from tensorflow.python.ops.nn_ops) is deprecated and will be removed in a future version.\n",
            "Instructions for updating:\n",
            "\n",
            "Future major versions of TensorFlow will allow gradients to flow\n",
            "into the labels input on backprop by default.\n",
            "\n",
            "See `tf.nn.softmax_cross_entropy_with_logits_v2`.\n",
            "\n",
            "cost = Tensor(\"Mean:0\", shape=(), dtype=float32)\n"
          ],
          "name": "stdout"
        }
      ]
    },
    {
      "metadata": {
        "id": "IFq2cBC4QfuK",
        "colab_type": "code",
        "colab": {}
      },
      "cell_type": "code",
      "source": [
        "# 反向传播和更新参数都可以用一句代码解决\n",
        "# 构建模型\n",
        "def model(X_train, Y_train, X_test, Y_test,\n",
        "         learning_rate=0.0001, num_epochs=1500, minibatch_size=32,\n",
        "         print_cost=True, is_plot=True):\n",
        "    \"\"\"\n",
        "    \"\"\"\n",
        "    ops.reset_default_graph() # 能重新运行模型而不覆盖tf变量################################\n",
        "    tf.set_random_seed(1)\n",
        "    seed = 3\n",
        "    (n_x, m) = X_train.shape #获取输入节点数目和样本数\n",
        "    n_y = Y_train.shape[0] # 获取输出节点数\n",
        "    costs = [] #成本集\n",
        "    \n",
        "    X, Y = create_placeholders(n_x, n_y)\n",
        "    \n",
        "    #初始化参数\n",
        "    parameters = initialize_parameters()\n",
        "    \n",
        "    #向前传播\n",
        "    Z3 = forward_propagation(X, parameters)\n",
        "    \n",
        "    # 计算成本\n",
        "    cost = compute_cost(Z3, Y)\n",
        "    \n",
        "    #反向传播，使用Adam优化\n",
        "    optimizer = tf.train.AdamOptimizer(learning_rate=learning_rate).minimize(cost)\n",
        "    \n",
        "    #初始化所有变量\n",
        "    init = tf.global_variables_initializer()\n",
        "    \n",
        "    # 开始会话并计算\n",
        "    with tf.Session() as sess:\n",
        "        #初始化\n",
        "        sess.run(init)\n",
        "        \n",
        "        #正常训练的循环\n",
        "        for epoch in range(num_epochs):\n",
        "            epoch_cost = 0 #每代的成本\n",
        "            num_minibatches = int(m / minibatch_size) # minibatch总数量\n",
        "            seed = seed + 1\n",
        "            minibatches = tf_utils.random_mini_batches(X_train, Y_train, minibatch_size, seed)\n",
        "            \n",
        "            for minibatch in minibatches:\n",
        "                #选择一个minibatch\n",
        "                (minibatch_X, minibatch_Y) = minibatch\n",
        "                \n",
        "                #数据就绪，开始运行session\n",
        "                _ , minibatch_cost = sess.run([optimizer, cost], feed_dict = {X : minibatch_X, Y:minibatch_Y})\n",
        "                # _作为一次性变量来储存不需要的值\n",
        "                \n",
        "                # 计算这个minibatch在这一代所占的误差\n",
        "                epoch_cost = epoch_cost + minibatch_cost / num_minibatches\n",
        "                \n",
        "            # 记录并打印成本\n",
        "            if epoch % 5 == 0:\n",
        "                costs.append(epoch_cost)\n",
        "                if print_cost and epoch % 100 == 0:\n",
        "                    print(\"epoch = \" + str(epoch) + \" epoch_cost = \" + str(epoch_cost))\n",
        "                    \n",
        "        # 是否绘制图谱\n",
        "        if is_plot:\n",
        "            plt.plot(np.squeeze(costs))\n",
        "            plt.ylabel('cost')\n",
        "            plt.xlabel('iterations (per tens)')\n",
        "            plt.title(\"Learning rate =\" + str(learning_rate))\n",
        "            plt.show()\n",
        "            \n",
        "        # 保存学习参数\n",
        "        parameters = sess.run(parameters)\n",
        "        print(\"参数已保存到session\")\n",
        "        \n",
        "        # 计算当前预测结果\n",
        "        correct_prediction = tf.equal(tf.argmax(Z3), tf.argmax(Y))#???????????\n",
        "        \n",
        "        # 计算准确率\n",
        "        accuracy = tf.reduce_mean(tf.cast(correct_prediction, \"float\"))\n",
        "        #????????????????????????????????????????????????\n",
        "        \n",
        "        print(\"训练集准确率：\", accuracy.eval({X : X_train, Y : Y_train}))\n",
        "        print(\"训练集准确率：\", accuracy.eval({X : X_test, Y : Y_test}))\n",
        "        \n",
        "        return parameters"
      ],
      "execution_count": 0,
      "outputs": []
    },
    {
      "metadata": {
        "id": "Gzc05KXXQfuV",
        "colab_type": "code",
        "outputId": "cd40fb18-3327-4a7c-95ad-39f32d8a675a",
        "colab": {
          "base_uri": "https://localhost:8080/",
          "height": 637
        }
      },
      "cell_type": "code",
      "source": [
        "# 开始时间\n",
        "start_time = time.clock()\n",
        "# 开始训练\n",
        "parameters = model(X_train, Y_train, X_test, Y_test)\n",
        "# 结束时间\n",
        "end_time = time.clock()\n",
        "# 计算时差\n",
        "print(\"cpu执行时间 = \" + str(end_time - start_time) + \"秒\")"
      ],
      "execution_count": 29,
      "outputs": [
        {
          "output_type": "stream",
          "text": [
            "epoch = 0 epoch_cost = 1.8557019089207505\n",
            "epoch = 100 epoch_cost = 1.0164577473293652\n",
            "epoch = 200 epoch_cost = 0.7331024751518711\n",
            "epoch = 300 epoch_cost = 0.5729151666164399\n",
            "epoch = 400 epoch_cost = 0.4686893865917668\n",
            "epoch = 500 epoch_cost = 0.3809471171010624\n",
            "epoch = 600 epoch_cost = 0.31381642592675757\n",
            "epoch = 700 epoch_cost = 0.25417795461235626\n",
            "epoch = 800 epoch_cost = 0.20379619435830548\n",
            "epoch = 900 epoch_cost = 0.1664852527054874\n",
            "epoch = 1000 epoch_cost = 0.14096723880731699\n",
            "epoch = 1100 epoch_cost = 0.10788452783317277\n",
            "epoch = 1200 epoch_cost = 0.08632906814190473\n",
            "epoch = 1300 epoch_cost = 0.06095791698405235\n",
            "epoch = 1400 epoch_cost = 0.05091985388461386\n"
          ],
          "name": "stdout"
        },
        {
          "output_type": "display_data",
          "data": {
            "image/png": "[encoded data removed]",
            "text/plain": [
              "<Figure size 432x288 with 1 Axes>"
            ]
          },
          "metadata": {
            "tags": []
          }
        },
        {
          "output_type": "stream",
          "text": [
            "参数已保存到session\n",
            "训练集准确率： 0.9990741\n",
            "训练集准确率： 0.725\n",
            "cpu执行时间 = 311.570644秒\n"
          ],
          "name": "stdout"
        }
      ]
    },
    {
      "metadata": {
        "id": "GhkWjqQ7Qfub",
        "colab_type": "code",
        "outputId": "aa8e5878-af9d-4a03-b55d-2900898504a9",
        "colab": {
          "base_uri": "https://localhost:8080/",
          "height": 287
        }
      },
      "cell_type": "code",
      "source": [
        "import matplotlib.pyplot as plt\n",
        "import matplotlib.image as mpimg\n",
        "import numpy as np\n",
        "\n",
        "my_test = \"5.png\"\n",
        "filename = \"images/\" + my_test\n",
        "image = mpimg.imread(filename)\n",
        "plt.imshow(image)\n",
        "my_test = image.reshape(1,64*64*3).T\n",
        "my_test_pre = tf_utils.predict(my_test,parameters)\n",
        "print(\"预测结果：y = \" + str(np.squeeze(my_test_pre)))"
      ],
      "execution_count": 30,
      "outputs": [
        {
          "output_type": "stream",
          "text": [
            "预测结果：y = 5\n"
          ],
          "name": "stdout"
        },
        {
          "output_type": "display_data",
          "data": {
            "image/png": "[encoded data removed]",
            "text/plain": [
              "<Figure size 432x288 with 1 Axes>"
            ]
          },
          "metadata": {
            "tags": []
          }
        }
      ]
    }
  ]
}