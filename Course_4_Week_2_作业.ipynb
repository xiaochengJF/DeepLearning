{
  "nbformat": 4,
  "nbformat_minor": 0,
  "metadata": {
    "colab": {
      "name": "Course 4 - Week 2 作业",
      "version": "0.3.2",
      "provenance": [],
      "collapsed_sections": [],
      "include_colab_link": true
    },
    "kernelspec": {
      "name": "python3",
      "display_name": "Python 3"
    },
    "accelerator": "GPU"
  },
  "cells": [
    {
      "cell_type": "markdown",
      "metadata": {
        "id": "view-in-github",
        "colab_type": "text"
      },
      "source": [
        "<a href=\"https://colab.research.google.com/github/xiaochengJF/DeepLearning/blob/master/Course_4_Week_2_%E4%BD%9C%E4%B8%9A.ipynb\" target=\"_parent\"><img src=\"https://colab.research.google.com/assets/colab-badge.svg\" alt=\"Open In Colab\"/></a>"
      ]
    },
    {
      "metadata": {
        "id": "GedRY_8grv17",
        "colab_type": "code",
        "colab": {}
      },
      "cell_type": "code",
      "source": [
        "#!pip install pydot\n",
        "#!pip install graphviz"
      ],
      "execution_count": 0,
      "outputs": []
    },
    {
      "metadata": {
        "id": "8slUZ-OmkroW",
        "colab_type": "code",
        "outputId": "7174d2ec-c1e7-457b-899d-420e88e7fb67",
        "colab": {
          "base_uri": "https://localhost:8080/",
          "height": 34
        }
      },
      "cell_type": "code",
      "source": [
        "from google.colab import drive\n",
        "drive.mount('/content/gdrive/')"
      ],
      "execution_count": 1,
      "outputs": [
        {
          "output_type": "stream",
          "text": [
            "Drive already mounted at /content/gdrive/; to attempt to forcibly remount, call drive.mount(\"/content/gdrive/\", force_remount=True).\n"
          ],
          "name": "stdout"
        }
      ]
    },
    {
      "metadata": {
        "id": "u0luW4e-ku57",
        "colab_type": "code",
        "outputId": "4e382a6b-60db-4393-812b-1c0378918c88",
        "colab": {
          "base_uri": "https://localhost:8080/",
          "height": 34
        }
      },
      "cell_type": "code",
      "source": [
        "cd /content/gdrive/My Drive/DL-GPU/DeepLearning/Course 4 - Week 2 作业/"
      ],
      "execution_count": 2,
      "outputs": [
        {
          "output_type": "stream",
          "text": [
            "/content/gdrive/My Drive/DL-GPU/DeepLearning/Course 4 - Week 2 作业\n"
          ],
          "name": "stdout"
        }
      ]
    },
    {
      "metadata": {
        "id": "KPa_CJJX7yvD",
        "colab_type": "code",
        "colab": {}
      },
      "cell_type": "code",
      "source": [
        "import numpy as np\n",
        "from keras import layers\n",
        "from keras.layers import Input, Dense, Activation, ZeroPadding2D, BatchNormalization, Flatten, Conv2D\n",
        "from keras.layers import AveragePooling2D, MaxPooling2D, Dropout, GlobalMaxPooling2D, GlobalAveragePooling2D\n",
        "from keras.models import Model\n",
        "from keras.preprocessing import image\n",
        "from keras.utils import layer_utils\n",
        "from keras.utils.data_utils import get_file\n",
        "from keras.applications.imagenet_utils import preprocess_input\n",
        "import pydot\n",
        "from IPython.display import SVG\n",
        "from keras.utils.vis_utils import model_to_dot\n",
        "from keras.utils import plot_model\n",
        "import kt_utils \n",
        "\n",
        "import keras.backend as K\n",
        "K.set_image_data_format('channels_last')\n",
        "import matplotlib.pyplot as plt\n",
        "from matplotlib.pyplot import imshow"
      ],
      "execution_count": 0,
      "outputs": []
    },
    {
      "metadata": {
        "id": "FBPXQwOi-r6C",
        "colab_type": "code",
        "outputId": "5d91f981-076e-4458-f8ad-4e42d970c67a",
        "colab": {
          "base_uri": "https://localhost:8080/",
          "height": 118
        }
      },
      "cell_type": "code",
      "source": [
        "X_train_orig, Y_train_orig, X_test_orig, Y_test_orig, classes = kt_utils.load_dataset()\n",
        "\n",
        "# 归一化\n",
        "X_train = X_train_orig/255.\n",
        "X_test = X_test_orig/255.\n",
        "\n",
        "# 转置\n",
        "Y_train = Y_train_orig.T\n",
        "Y_test = Y_test_orig.T\n",
        "\n",
        "print (\"number of training examples = \" + str(X_train.shape[0]))\n",
        "print (\"number of test examples = \" + str(X_test.shape[0]))\n",
        "print (\"X_train shape: \" + str(X_train.shape))\n",
        "print (\"Y_train shape: \" + str(Y_train.shape))\n",
        "print (\"X_test shape: \" + str(X_test.shape))\n",
        "print (\"Y_test shape: \" + str(Y_test.shape))"
      ],
      "execution_count": 15,
      "outputs": [
        {
          "output_type": "stream",
          "text": [
            "number of training examples = 600\n",
            "number of test examples = 150\n",
            "X_train shape: (600, 64, 64, 3)\n",
            "Y_train shape: (600, 1)\n",
            "X_test shape: (150, 64, 64, 3)\n",
            "Y_test shape: (150, 1)\n"
          ],
          "name": "stdout"
        }
      ]
    },
    {
      "metadata": {
        "id": "G2sBNx2r8Ne2",
        "colab_type": "code",
        "colab": {}
      },
      "cell_type": "code",
      "source": [
        "# 使用Keras框架构建模型\n",
        "def mode(imput_shape):\n",
        "  \"\"\"\n",
        "  \"\"\"\n",
        "  # 定义一个tensor的placeholder，维度为input_shape\n",
        "  X_input = Input(input_shape)\n",
        "  \n",
        "  # 使用0填充：X_input的周围填充0\n",
        "  X = ZeroPadding2D((3, 3))(X_input)\n",
        "  \n",
        "  # 对X使用CONV-》BN-》RELU块\n",
        "  X = Conv2D(32, (7, 7), stride = (1, 1), name = \"conv0\")(X) # ????????????????????????????????????????\n",
        "  X = BatchNormalization(axis = 3, name = \"bn0\")(X)\n",
        "  X = Activation('relu')(X)\n",
        "  \n",
        "  # 最大池化层\n",
        "  X = MaxPooling2D((2, 2), name = \"max_pool\")(X)\n",
        "  \n",
        "  # 降维， 矩阵转化为向量+全连接层\n",
        "  X = Flatten()(X)\n",
        "  X = Dense(1, activation = 'sigmoid', name = \"fc\")(X)\n",
        "  \n",
        "  # 创建模型\n",
        "  model = Model(imputs = X_input, outputs = X, name = 'HappyModel')\n",
        "  \n",
        "  return model"
      ],
      "execution_count": 0,
      "outputs": []
    },
    {
      "metadata": {
        "id": "2hBl_gRRD558",
        "colab_type": "code",
        "colab": {}
      },
      "cell_type": "code",
      "source": [
        "def HappyModel(input_shape):\n",
        "    \"\"\"\n",
        "    实现一个检测笑容的模型\n",
        "\n",
        "    参数：\n",
        "        input_shape - 输入的数据的维度\n",
        "    返回：\n",
        "        model - 创建的Keras的模型\n",
        "\n",
        "    \"\"\"\n",
        "\n",
        "    #你可以参考和上面的大纲\n",
        "    X_input = Input(input_shape)\n",
        "\n",
        "    #使用0填充：X_input的周围填充0\n",
        "    X = ZeroPadding2D((3, 3))(X_input)\n",
        "\n",
        "    #对X使用 CONV -> BN -> RELU 块\n",
        "    X = Conv2D(32, (7, 7), strides=(1, 1), name='conv0')(X)\n",
        "    X = BatchNormalization(axis=3, name='bn0')(X)\n",
        "    X = Activation('relu')(X)\n",
        "\n",
        "    #最大值池化层\n",
        "    X = MaxPooling2D((2, 2), name='max_pool')(X)\n",
        "\n",
        "    #降维，矩阵转化为向量 + 全连接层\n",
        "    X = Flatten()(X)\n",
        "    X = Dense(1, activation='sigmoid', name='fc')(X)\n",
        "\n",
        "    #创建模型，讲话创建一个模型的实体，我们可以用它来训练、测试。\n",
        "    model = Model(inputs=X_input, outputs=X, name='HappyModel')\n",
        "\n",
        "    return model"
      ],
      "execution_count": 0,
      "outputs": []
    },
    {
      "metadata": {
        "id": "P-Rv7U76EXJY",
        "colab_type": "code",
        "outputId": "939b9d52-ec23-48fa-8893-2e6d6fb550be",
        "colab": {
          "base_uri": "https://localhost:8080/",
          "height": 1411
        }
      },
      "cell_type": "code",
      "source": [
        "#创建一个模型实体\n",
        "happy_model = HappyModel(X_train.shape[1:])\n",
        "#编译模型\n",
        "happy_model.compile(\"adam\",\"binary_crossentropy\", metrics=['accuracy'])\n",
        "#训练模型\n",
        "#请注意，此操作会花费你大约6-10分钟。\n",
        "happy_model.fit(X_train, Y_train, epochs=40, batch_size=50)\n",
        "#评估模型\n",
        "preds = happy_model.evaluate(X_test, Y_test, batch_size=32, verbose=1, sample_weight=None)\n",
        "print (\"误差值 = \" + str(preds[0]))\n",
        "print (\"准确度 = \" + str(preds[1]))"
      ],
      "execution_count": 18,
      "outputs": [
        {
          "output_type": "stream",
          "text": [
            "Epoch 1/40\n",
            "600/600 [==============================] - 0s 723us/step - loss: 1.7791 - acc: 0.6200\n",
            "Epoch 2/40\n",
            "600/600 [==============================] - 0s 268us/step - loss: 0.3997 - acc: 0.8367\n",
            "Epoch 3/40\n",
            "600/600 [==============================] - 0s 223us/step - loss: 0.3297 - acc: 0.8450\n",
            "Epoch 4/40\n",
            "600/600 [==============================] - 0s 212us/step - loss: 0.2264 - acc: 0.8917\n",
            "Epoch 5/40\n",
            "600/600 [==============================] - 0s 211us/step - loss: 0.1382 - acc: 0.9533\n",
            "Epoch 6/40\n",
            "600/600 [==============================] - 0s 195us/step - loss: 0.1149 - acc: 0.9650\n",
            "Epoch 7/40\n",
            "600/600 [==============================] - 0s 197us/step - loss: 0.0808 - acc: 0.9700\n",
            "Epoch 8/40\n",
            "600/600 [==============================] - 0s 208us/step - loss: 0.0977 - acc: 0.9700\n",
            "Epoch 9/40\n",
            "600/600 [==============================] - 0s 200us/step - loss: 0.0629 - acc: 0.9833\n",
            "Epoch 10/40\n",
            "600/600 [==============================] - 0s 207us/step - loss: 0.0582 - acc: 0.9850\n",
            "Epoch 11/40\n",
            "600/600 [==============================] - 0s 198us/step - loss: 0.0522 - acc: 0.9883\n",
            "Epoch 12/40\n",
            "600/600 [==============================] - 0s 202us/step - loss: 0.0972 - acc: 0.9583\n",
            "Epoch 13/40\n",
            "600/600 [==============================] - 0s 211us/step - loss: 0.0611 - acc: 0.9833\n",
            "Epoch 14/40\n",
            "600/600 [==============================] - 0s 206us/step - loss: 0.0487 - acc: 0.9800\n",
            "Epoch 15/40\n",
            "600/600 [==============================] - 0s 195us/step - loss: 0.0550 - acc: 0.9867\n",
            "Epoch 16/40\n",
            "600/600 [==============================] - 0s 208us/step - loss: 0.0430 - acc: 0.9850\n",
            "Epoch 17/40\n",
            "600/600 [==============================] - 0s 201us/step - loss: 0.0323 - acc: 0.9900\n",
            "Epoch 18/40\n",
            "600/600 [==============================] - 0s 196us/step - loss: 0.0279 - acc: 0.9917\n",
            "Epoch 19/40\n",
            "600/600 [==============================] - 0s 197us/step - loss: 0.0374 - acc: 0.9883\n",
            "Epoch 20/40\n",
            "600/600 [==============================] - 0s 200us/step - loss: 0.0273 - acc: 0.9983\n",
            "Epoch 21/40\n",
            "600/600 [==============================] - 0s 209us/step - loss: 0.0276 - acc: 0.9917\n",
            "Epoch 22/40\n",
            "600/600 [==============================] - 0s 200us/step - loss: 0.0343 - acc: 0.9867\n",
            "Epoch 23/40\n",
            "600/600 [==============================] - 0s 200us/step - loss: 0.0263 - acc: 0.9917\n",
            "Epoch 24/40\n",
            "600/600 [==============================] - 0s 208us/step - loss: 0.0346 - acc: 0.9933\n",
            "Epoch 25/40\n",
            "600/600 [==============================] - 0s 223us/step - loss: 0.0331 - acc: 0.9900\n",
            "Epoch 26/40\n",
            "600/600 [==============================] - 0s 201us/step - loss: 0.0286 - acc: 0.9917\n",
            "Epoch 27/40\n",
            "600/600 [==============================] - 0s 197us/step - loss: 0.0350 - acc: 0.9900\n",
            "Epoch 28/40\n",
            "600/600 [==============================] - 0s 195us/step - loss: 0.0316 - acc: 0.9917\n",
            "Epoch 29/40\n",
            "600/600 [==============================] - 0s 195us/step - loss: 0.0278 - acc: 0.9900\n",
            "Epoch 30/40\n",
            "600/600 [==============================] - 0s 199us/step - loss: 0.0136 - acc: 0.9950\n",
            "Epoch 31/40\n",
            "600/600 [==============================] - 0s 201us/step - loss: 0.0161 - acc: 0.9967\n",
            "Epoch 32/40\n",
            "600/600 [==============================] - 0s 198us/step - loss: 0.0229 - acc: 0.9900\n",
            "Epoch 33/40\n",
            "600/600 [==============================] - 0s 209us/step - loss: 0.0166 - acc: 0.9967\n",
            "Epoch 34/40\n",
            "600/600 [==============================] - 0s 198us/step - loss: 0.0153 - acc: 0.9950\n",
            "Epoch 35/40\n",
            "600/600 [==============================] - 0s 200us/step - loss: 0.0110 - acc: 1.0000\n",
            "Epoch 36/40\n",
            "600/600 [==============================] - 0s 201us/step - loss: 0.0111 - acc: 0.9983\n",
            "Epoch 37/40\n",
            "600/600 [==============================] - 0s 198us/step - loss: 0.0135 - acc: 0.9950\n",
            "Epoch 38/40\n",
            "600/600 [==============================] - 0s 206us/step - loss: 0.0136 - acc: 0.9950\n",
            "Epoch 39/40\n",
            "600/600 [==============================] - 0s 198us/step - loss: 0.0102 - acc: 0.9967\n",
            "Epoch 40/40\n",
            "600/600 [==============================] - 0s 198us/step - loss: 0.0101 - acc: 0.9983\n",
            "150/150 [==============================] - 0s 582us/step\n",
            "误差值 = 0.07950658390919367\n",
            "准确度 = 0.9799999976158142\n"
          ],
          "name": "stdout"
        }
      ]
    },
    {
      "metadata": {
        "id": "5grM52dREpSu",
        "colab_type": "code",
        "colab": {}
      },
      "cell_type": "code",
      "source": [
        "#网上随便找的图片，侵删\n",
        "#img_path = 'images/smile.jpeg'\n",
        "#\n",
        "#img = image.load_img(img_path, target_size=(64, 64))\n",
        "#imshow(img)\n",
        "#\n",
        "#x = image.img_to_array(img)\n",
        "#x = np.expand_dims(x, axis=0)\n",
        "#x = preprocess_input(x)\n",
        "#\n",
        "#print(happy_model.predict(x))\n"
      ],
      "execution_count": 0,
      "outputs": []
    },
    {
      "metadata": {
        "id": "-LUgnLSeFj0F",
        "colab_type": "code",
        "colab": {}
      },
      "cell_type": "code",
      "source": [
        "# 准确率太低可以调整\n",
        "#X = Conv2D(32, (3, 3), strides = (1, 1), name = 'conv0')(X)\n",
        "#X = BatchNormalization(axis = 3, name = 'bn0')(X)\n",
        "#X = Activation('relu')(X)"
      ],
      "execution_count": 0,
      "outputs": []
    },
    {
      "metadata": {
        "id": "U9YNAJawF0s8",
        "colab_type": "code",
        "outputId": "3d87e4af-7dcd-4294-edc5-59e1086142ed",
        "colab": {
          "base_uri": "https://localhost:8080/",
          "height": 403
        }
      },
      "cell_type": "code",
      "source": [
        "happy_model.summary()"
      ],
      "execution_count": 20,
      "outputs": [
        {
          "output_type": "stream",
          "text": [
            "_________________________________________________________________\n",
            "Layer (type)                 Output Shape              Param #   \n",
            "=================================================================\n",
            "input_3 (InputLayer)         (None, 64, 64, 3)         0         \n",
            "_________________________________________________________________\n",
            "zero_padding2d_3 (ZeroPaddin (None, 70, 70, 3)         0         \n",
            "_________________________________________________________________\n",
            "conv0 (Conv2D)               (None, 64, 64, 32)        4736      \n",
            "_________________________________________________________________\n",
            "bn0 (BatchNormalization)     (None, 64, 64, 32)        128       \n",
            "_________________________________________________________________\n",
            "activation_2 (Activation)    (None, 64, 64, 32)        0         \n",
            "_________________________________________________________________\n",
            "max_pool (MaxPooling2D)      (None, 32, 32, 32)        0         \n",
            "_________________________________________________________________\n",
            "flatten_2 (Flatten)          (None, 32768)             0         \n",
            "_________________________________________________________________\n",
            "fc (Dense)                   (None, 1)                 32769     \n",
            "=================================================================\n",
            "Total params: 37,633\n",
            "Trainable params: 37,569\n",
            "Non-trainable params: 64\n",
            "_________________________________________________________________\n"
          ],
          "name": "stdout"
        }
      ]
    },
    {
      "metadata": {
        "id": "ohQUz4-BGKlx",
        "colab_type": "code",
        "outputId": "c4e6b4df-555b-4c82-bd39-1cf0e1425d61",
        "colab": {
          "base_uri": "https://localhost:8080/",
          "height": 762
        }
      },
      "cell_type": "code",
      "source": [
        "# 绘制布局图\n",
        "%matplotlib inline\n",
        "plot_model(happy_model, to_file = 'happy_model.png')\n",
        "SVG(model_to_dot(happy_model).create(prog = 'dot', format = 'svg'))"
      ],
      "execution_count": 21,
      "outputs": [
        {
          "output_type": "execute_result",
          "data": {
            "text/plain": [
              "<IPython.core.display.SVG object>"
            ],
            "image/svg+xml": "<svg height=\"556pt\" viewBox=\"0.00 0.00 234.00 556.00\" width=\"234pt\" xmlns=\"http://www.w3.org/2000/svg\" xmlns:xlink=\"http://www.w3.org/1999/xlink\">\n<g class=\"graph\" id=\"graph0\" transform=\"scale(1 1) rotate(0) translate(4 552)\">\n<title>G</title>\n<polygon fill=\"#ffffff\" points=\"-4,4 -4,-552 230,-552 230,4 -4,4\" stroke=\"transparent\"/>\n<!-- 139895973527336 -->\n<g class=\"node\" id=\"node1\">\n<title>139895973527336</title>\n<polygon fill=\"none\" points=\"46.5,-511.5 46.5,-547.5 179.5,-547.5 179.5,-511.5 46.5,-511.5\" stroke=\"#000000\"/>\n<text fill=\"#000000\" font-family=\"Times,serif\" font-size=\"14.00\" text-anchor=\"middle\" x=\"113\" y=\"-525.8\">input_3: InputLayer</text>\n</g>\n<!-- 139895973526720 -->\n<g class=\"node\" id=\"node2\">\n<title>139895973526720</title>\n<polygon fill=\"none\" points=\"0,-438.5 0,-474.5 226,-474.5 226,-438.5 0,-438.5\" stroke=\"#000000\"/>\n<text fill=\"#000000\" font-family=\"Times,serif\" font-size=\"14.00\" text-anchor=\"middle\" x=\"113\" y=\"-452.8\">zero_padding2d_3: ZeroPadding2D</text>\n</g>\n<!-- 139895973527336&#45;&gt;139895973526720 -->\n<g class=\"edge\" id=\"edge1\">\n<title>139895973527336-&gt;139895973526720</title>\n<path d=\"M113,-511.4551C113,-503.3828 113,-493.6764 113,-484.6817\" fill=\"none\" stroke=\"#000000\"/>\n<polygon fill=\"#000000\" points=\"116.5001,-484.5903 113,-474.5904 109.5001,-484.5904 116.5001,-484.5903\" stroke=\"#000000\"/>\n</g>\n<!-- 139895973526328 -->\n<g class=\"node\" id=\"node3\">\n<title>139895973526328</title>\n<polygon fill=\"none\" points=\"58,-365.5 58,-401.5 168,-401.5 168,-365.5 58,-365.5\" stroke=\"#000000\"/>\n<text fill=\"#000000\" font-family=\"Times,serif\" font-size=\"14.00\" text-anchor=\"middle\" x=\"113\" y=\"-379.8\">conv0: Conv2D</text>\n</g>\n<!-- 139895973526720&#45;&gt;139895973526328 -->\n<g class=\"edge\" id=\"edge2\">\n<title>139895973526720-&gt;139895973526328</title>\n<path d=\"M113,-438.4551C113,-430.3828 113,-420.6764 113,-411.6817\" fill=\"none\" stroke=\"#000000\"/>\n<polygon fill=\"#000000\" points=\"116.5001,-411.5903 113,-401.5904 109.5001,-411.5904 116.5001,-411.5903\" stroke=\"#000000\"/>\n</g>\n<!-- 139895690676992 -->\n<g class=\"node\" id=\"node4\">\n<title>139895690676992</title>\n<polygon fill=\"none\" points=\"32.5,-292.5 32.5,-328.5 193.5,-328.5 193.5,-292.5 32.5,-292.5\" stroke=\"#000000\"/>\n<text fill=\"#000000\" font-family=\"Times,serif\" font-size=\"14.00\" text-anchor=\"middle\" x=\"113\" y=\"-306.8\">bn0: BatchNormalization</text>\n</g>\n<!-- 139895973526328&#45;&gt;139895690676992 -->\n<g class=\"edge\" id=\"edge3\">\n<title>139895973526328-&gt;139895690676992</title>\n<path d=\"M113,-365.4551C113,-357.3828 113,-347.6764 113,-338.6817\" fill=\"none\" stroke=\"#000000\"/>\n<polygon fill=\"#000000\" points=\"116.5001,-338.5903 113,-328.5904 109.5001,-338.5904 116.5001,-338.5903\" stroke=\"#000000\"/>\n</g>\n<!-- 139895690948280 -->\n<g class=\"node\" id=\"node5\">\n<title>139895690948280</title>\n<polygon fill=\"none\" points=\"36,-219.5 36,-255.5 190,-255.5 190,-219.5 36,-219.5\" stroke=\"#000000\"/>\n<text fill=\"#000000\" font-family=\"Times,serif\" font-size=\"14.00\" text-anchor=\"middle\" x=\"113\" y=\"-233.8\">activation_2: Activation</text>\n</g>\n<!-- 139895690676992&#45;&gt;139895690948280 -->\n<g class=\"edge\" id=\"edge4\">\n<title>139895690676992-&gt;139895690948280</title>\n<path d=\"M113,-292.4551C113,-284.3828 113,-274.6764 113,-265.6817\" fill=\"none\" stroke=\"#000000\"/>\n<polygon fill=\"#000000\" points=\"116.5001,-265.5903 113,-255.5904 109.5001,-265.5904 116.5001,-265.5903\" stroke=\"#000000\"/>\n</g>\n<!-- 139895973586872 -->\n<g class=\"node\" id=\"node6\">\n<title>139895973586872</title>\n<polygon fill=\"none\" points=\"26.5,-146.5 26.5,-182.5 199.5,-182.5 199.5,-146.5 26.5,-146.5\" stroke=\"#000000\"/>\n<text fill=\"#000000\" font-family=\"Times,serif\" font-size=\"14.00\" text-anchor=\"middle\" x=\"113\" y=\"-160.8\">max_pool: MaxPooling2D</text>\n</g>\n<!-- 139895690948280&#45;&gt;139895973586872 -->\n<g class=\"edge\" id=\"edge5\">\n<title>139895690948280-&gt;139895973586872</title>\n<path d=\"M113,-219.4551C113,-211.3828 113,-201.6764 113,-192.6817\" fill=\"none\" stroke=\"#000000\"/>\n<polygon fill=\"#000000\" points=\"116.5001,-192.5903 113,-182.5904 109.5001,-192.5904 116.5001,-192.5903\" stroke=\"#000000\"/>\n</g>\n<!-- 139895973587880 -->\n<g class=\"node\" id=\"node7\">\n<title>139895973587880</title>\n<polygon fill=\"none\" points=\"56.5,-73.5 56.5,-109.5 169.5,-109.5 169.5,-73.5 56.5,-73.5\" stroke=\"#000000\"/>\n<text fill=\"#000000\" font-family=\"Times,serif\" font-size=\"14.00\" text-anchor=\"middle\" x=\"113\" y=\"-87.8\">flatten_2: Flatten</text>\n</g>\n<!-- 139895973586872&#45;&gt;139895973587880 -->\n<g class=\"edge\" id=\"edge6\">\n<title>139895973586872-&gt;139895973587880</title>\n<path d=\"M113,-146.4551C113,-138.3828 113,-128.6764 113,-119.6817\" fill=\"none\" stroke=\"#000000\"/>\n<polygon fill=\"#000000\" points=\"116.5001,-119.5903 113,-109.5904 109.5001,-119.5904 116.5001,-119.5903\" stroke=\"#000000\"/>\n</g>\n<!-- 139895689538696 -->\n<g class=\"node\" id=\"node8\">\n<title>139895689538696</title>\n<polygon fill=\"none\" points=\"78,-.5 78,-36.5 148,-36.5 148,-.5 78,-.5\" stroke=\"#000000\"/>\n<text fill=\"#000000\" font-family=\"Times,serif\" font-size=\"14.00\" text-anchor=\"middle\" x=\"113\" y=\"-14.8\">fc: Dense</text>\n</g>\n<!-- 139895973587880&#45;&gt;139895689538696 -->\n<g class=\"edge\" id=\"edge7\">\n<title>139895973587880-&gt;139895689538696</title>\n<path d=\"M113,-73.4551C113,-65.3828 113,-55.6764 113,-46.6817\" fill=\"none\" stroke=\"#000000\"/>\n<polygon fill=\"#000000\" points=\"116.5001,-46.5903 113,-36.5904 109.5001,-46.5904 116.5001,-46.5903\" stroke=\"#000000\"/>\n</g>\n</g>\n</svg>"
          },
          "metadata": {
            "tags": []
          },
          "execution_count": 21
        }
      ]
    },
    {
      "metadata": {
        "id": "PpODwd3dGyii",
        "colab_type": "code",
        "outputId": "2e31ff4a-43c5-4505-cee8-87af44fd6b93",
        "colab": {
          "base_uri": "https://localhost:8080/",
          "height": 34
        }
      },
      "cell_type": "code",
      "source": [
        "import numpy as np\n",
        "import tensorflow as tf\n",
        "\n",
        "from keras import layers\n",
        "from keras.layers import Input, Add, Dense, Activation, ZeroPadding2D, BatchNormalization, Flatten, Conv2D, AveragePooling2D, MaxPooling2D, GlobalMaxPooling2D\n",
        "from keras.models import Model, load_model\n",
        "from keras.preprocessing import image\n",
        "from keras.utils import layer_utils\n",
        "from keras.utils.data_utils import get_file\n",
        "from keras.applications.imagenet_utils import preprocess_input\n",
        "from keras.utils.vis_utils import model_to_dot\n",
        "from keras.utils import plot_model\n",
        "from keras.initializers import glorot_uniform\n",
        "\n",
        "import pydot\n",
        "from IPython.display import SVG\n",
        "import scipy.misc\n",
        "from matplotlib.pyplot import imshow\n",
        "import keras.backend as K\n",
        "K.set_image_data_format('channels_last')\n",
        "K.set_learning_phase(1)\n",
        "\n",
        "import resnets_utils \n",
        "import importlib\n",
        "importlib.reload(resnets_utils)"
      ],
      "execution_count": 22,
      "outputs": [
        {
          "output_type": "execute_result",
          "data": {
            "text/plain": [
              "<module 'resnets_utils' from '/content/gdrive/My Drive/DL-GPU/DeepLearning/Course 4 - Week 2 作业/resnets_utils.py'>"
            ]
          },
          "metadata": {
            "tags": []
          },
          "execution_count": 22
        }
      ]
    },
    {
      "metadata": {
        "id": "-mgJF4_cHdtc",
        "colab_type": "code",
        "colab": {}
      },
      "cell_type": "code",
      "source": [
        "def identity_block(X, f, filters, stage, block):\n",
        "    \"\"\"\n",
        "    实现图3的恒等块\n",
        "\n",
        "    参数：\n",
        "        X - 输入的tensor类型的数据，维度为( m, n_H_prev, n_W_prev, n_H_prev )\n",
        "        f - 整数，指定主路径中间的CONV窗口的维度\n",
        "        filters - 整数列表，定义了主路径每层的卷积层的过滤器数量\n",
        "        stage - 整数，根据每层的位置来命名每一层，与block参数一起使用。\n",
        "        block - 字符串，据每层的位置来命名每一层，与stage参数一起使用。\n",
        "\n",
        "    返回：\n",
        "        X - 恒等块的输出，tensor类型，维度为(n_H, n_W, n_C)\n",
        "\n",
        "    \"\"\"\n",
        "\n",
        "    #定义命名规则\n",
        "    conv_name_base = \"res\" + str(stage) + block + \"_branch\"\n",
        "    bn_name_base   = \"bn\"  + str(stage) + block + \"_branch\"\n",
        "\n",
        "    #获取过滤器\n",
        "    F1, F2, F3 = filters\n",
        "\n",
        "    #保存输入数据，将会用于为主路径添加捷径\n",
        "    X_shortcut = X\n",
        "\n",
        "    #主路径的第一部分\n",
        "    ##卷积层\n",
        "    X = Conv2D(filters=F1, kernel_size=(1,1), strides=(1,1) ,padding=\"valid\",\n",
        "               name=conv_name_base+\"2a\", kernel_initializer=glorot_uniform(seed=0))(X)\n",
        "    ##归一化\n",
        "    X = BatchNormalization(axis=3,name=bn_name_base+\"2a\")(X)\n",
        "    ##使用ReLU激活函数\n",
        "    X = Activation(\"relu\")(X)\n",
        "\n",
        "    #主路径的第二部分\n",
        "    ##卷积层\n",
        "    X = Conv2D(filters=F2, kernel_size=(f,f),strides=(1,1), padding=\"same\",\n",
        "               name=conv_name_base+\"2b\", kernel_initializer=glorot_uniform(seed=0))(X)\n",
        "    ##归一化\n",
        "    X = BatchNormalization(axis=3,name=bn_name_base+\"2b\")(X)\n",
        "    ##使用ReLU激活函数\n",
        "    X = Activation(\"relu\")(X)\n",
        "\n",
        "\n",
        "    #主路径的第三部分\n",
        "    ##卷积层\n",
        "    X = Conv2D(filters=F3, kernel_size=(1,1), strides=(1,1), padding=\"valid\",\n",
        "               name=conv_name_base+\"2c\", kernel_initializer=glorot_uniform(seed=0))(X)\n",
        "    ##归一化\n",
        "    X = BatchNormalization(axis=3,name=bn_name_base+\"2c\")(X)\n",
        "    ##没有ReLU激活函数\n",
        "\n",
        "    #最后一步：\n",
        "    ##将捷径与输入加在一起\n",
        "    X = Add()([X,X_shortcut])\n",
        "    ##使用ReLU激活函数\n",
        "    X = Activation(\"relu\")(X)\n",
        "\n",
        "    return X"
      ],
      "execution_count": 0,
      "outputs": []
    },
    {
      "metadata": {
        "id": "syimsEobH_bL",
        "colab_type": "code",
        "colab": {}
      },
      "cell_type": "code",
      "source": [
        "#tf.reset_default_graph()\n",
        "#with tf.Session() as test:\n",
        "#    np.random.seed(1)\n",
        "#    A_prev = tf.placeholder(\"float\",[3,4,4,6])\n",
        "#    X = np.random.randn(3,4,4,6)\n",
        "#    A = identity_block(A_prev,f=2,filters=[2,4,6],stage=1,block=\"a\")\n",
        "#\n",
        "#    test.run(tf.global_variables_initializer())\n",
        "#    out = test.run([A],feed_dict={A_prev:X,K.learning_phase():0})\n",
        "#    print(\"out = \" + str(out[0][1][1][0]))\n",
        "#\n",
        "#    test.close()"
      ],
      "execution_count": 0,
      "outputs": []
    },
    {
      "metadata": {
        "id": "cE20Kak2INLB",
        "colab_type": "code",
        "colab": {}
      },
      "cell_type": "code",
      "source": [
        "def convolutional_block(X, f, filters, stage, block, s=2):\n",
        "    \"\"\"\n",
        "    实现图5的卷积块\n",
        "\n",
        "    参数：\n",
        "        X - 输入的tensor类型的变量，维度为( m, n_H_prev, n_W_prev, n_C_prev)\n",
        "        f - 整数，指定主路径中间的CONV窗口的维度\n",
        "        filters - 整数列表，定义了主路径每层的卷积层的过滤器数量\n",
        "        stage - 整数，根据每层的位置来命名每一层，与block参数一起使用。\n",
        "        block - 字符串，据每层的位置来命名每一层，与stage参数一起使用。\n",
        "        s - 整数，指定要使用的步幅\n",
        "\n",
        "    返回：\n",
        "        X - 卷积块的输出，tensor类型，维度为(n_H, n_W, n_C)\n",
        "    \"\"\"\n",
        "\n",
        "    #定义命名规则\n",
        "    conv_name_base = \"res\" + str(stage) + block + \"_branch\"\n",
        "    bn_name_base   = \"bn\"  + str(stage) + block + \"_branch\"\n",
        "\n",
        "    #获取过滤器数量\n",
        "    F1, F2, F3 = filters\n",
        "\n",
        "    #保存输入数据\n",
        "    X_shortcut = X\n",
        "\n",
        "    #主路径\n",
        "    ##主路径第一部分\n",
        "    X = Conv2D(filters=F1, kernel_size=(1,1), strides=(s,s), padding=\"valid\",\n",
        "               name=conv_name_base+\"2a\", kernel_initializer=glorot_uniform(seed=0))(X)\n",
        "    X = BatchNormalization(axis=3,name=bn_name_base+\"2a\")(X)\n",
        "    X = Activation(\"relu\")(X)\n",
        "\n",
        "    ##主路径第二部分\n",
        "    X = Conv2D(filters=F2, kernel_size=(f,f), strides=(1,1), padding=\"same\",\n",
        "               name=conv_name_base+\"2b\", kernel_initializer=glorot_uniform(seed=0))(X)\n",
        "    X = BatchNormalization(axis=3,name=bn_name_base+\"2b\")(X)\n",
        "    X = Activation(\"relu\")(X)\n",
        "\n",
        "    ##主路径第三部分\n",
        "    X = Conv2D(filters=F3, kernel_size=(1,1), strides=(1,1), padding=\"valid\",\n",
        "               name=conv_name_base+\"2c\", kernel_initializer=glorot_uniform(seed=0))(X)\n",
        "    X = BatchNormalization(axis=3,name=bn_name_base+\"2c\")(X)\n",
        "\n",
        "    #捷径\n",
        "    X_shortcut = Conv2D(filters=F3, kernel_size=(1,1), strides=(s,s), padding=\"valid\",\n",
        "               name=conv_name_base+\"1\", kernel_initializer=glorot_uniform(seed=0))(X_shortcut)\n",
        "    X_shortcut = BatchNormalization(axis=3,name=bn_name_base+\"1\")(X_shortcut)\n",
        "\n",
        "    #最后一步\n",
        "    X = Add()([X,X_shortcut])\n",
        "    X = Activation(\"relu\")(X)\n",
        "\n",
        "    return X"
      ],
      "execution_count": 0,
      "outputs": []
    },
    {
      "metadata": {
        "id": "hWLpX1mGIZ8t",
        "colab_type": "code",
        "colab": {}
      },
      "cell_type": "code",
      "source": [
        "#tf.reset_default_graph()\n",
        "#\n",
        "#with tf.Session() as test:\n",
        "#    np.random.seed(1)\n",
        "#    A_prev = tf.placeholder(\"float\",[3,4,4,6])\n",
        "#    X = np.random.randn(3,4,4,6)\n",
        "#\n",
        "#    A = convolutional_block(A_prev,f=2,filters=[2,4,6],stage=1,block=\"a\")\n",
        "#    test.run(tf.global_variables_initializer())\n",
        "#\n",
        "#    out = test.run([A],feed_dict={A_prev:X,K.learning_phase():0})\n",
        "#    print(\"out = \" + str(out[0][1][1][0]))\n",
        "#\n",
        "#    test.close()"
      ],
      "execution_count": 0,
      "outputs": []
    },
    {
      "metadata": {
        "id": "OD94Qyd2Ic4t",
        "colab_type": "code",
        "colab": {}
      },
      "cell_type": "code",
      "source": [
        "def ResNet50(input_shape=(64,64,3),classes=6):\n",
        "    \"\"\"\n",
        "    实现ResNet50\n",
        "    CONV2D -> BATCHNORM -> RELU -> MAXPOOL -> CONVBLOCK -> IDBLOCK*2 -> CONVBLOCK -> IDBLOCK*3\n",
        "    -> CONVBLOCK -> IDBLOCK*5 -> CONVBLOCK -> IDBLOCK*2 -> AVGPOOL -> TOPLAYER\n",
        "\n",
        "    参数：\n",
        "        input_shape - 图像数据集的维度\n",
        "        classes - 整数，分类数\n",
        "\n",
        "    返回：\n",
        "        model - Keras框架的模型\n",
        "\n",
        "    \"\"\"\n",
        "\n",
        "    #定义tensor类型的输入数据\n",
        "    X_input = Input(input_shape)\n",
        "\n",
        "    #0填充\n",
        "    X = ZeroPadding2D((3,3))(X_input)\n",
        "\n",
        "    #stage1\n",
        "    X = Conv2D(filters=64, kernel_size=(7,7), strides=(2,2), name=\"conv1\",\n",
        "               kernel_initializer=glorot_uniform(seed=0))(X)\n",
        "    X = BatchNormalization(axis=3, name=\"bn_conv1\")(X)\n",
        "    X = Activation(\"relu\")(X)\n",
        "    X = MaxPooling2D(pool_size=(3,3), strides=(2,2))(X)\n",
        "\n",
        "    #stage2\n",
        "    X = convolutional_block(X, f=3, filters=[64,64,256], stage=2, block=\"a\", s=1)\n",
        "    X = identity_block(X, f=3, filters=[64,64,256], stage=2, block=\"b\")\n",
        "    X = identity_block(X, f=3, filters=[64,64,256], stage=2, block=\"c\")\n",
        "\n",
        "    #stage3\n",
        "    X = convolutional_block(X, f=3, filters=[128,128,512], stage=3, block=\"a\", s=2)\n",
        "    X = identity_block(X, f=3, filters=[128,128,512], stage=3, block=\"b\")\n",
        "    X = identity_block(X, f=3, filters=[128,128,512], stage=3, block=\"c\")\n",
        "    X = identity_block(X, f=3, filters=[128,128,512], stage=3, block=\"d\")\n",
        "\n",
        "    #stage4\n",
        "    X = convolutional_block(X, f=3, filters=[256,256,1024], stage=4, block=\"a\", s=2)\n",
        "    X = identity_block(X, f=3, filters=[256,256,1024], stage=4, block=\"b\")\n",
        "    X = identity_block(X, f=3, filters=[256,256,1024], stage=4, block=\"c\")\n",
        "    X = identity_block(X, f=3, filters=[256,256,1024], stage=4, block=\"d\")\n",
        "    X = identity_block(X, f=3, filters=[256,256,1024], stage=4, block=\"e\")\n",
        "    X = identity_block(X, f=3, filters=[256,256,1024], stage=4, block=\"f\")\n",
        "\n",
        "    #stage5\n",
        "    X = convolutional_block(X, f=3, filters=[512,512,2048], stage=5, block=\"a\", s=2)\n",
        "    X = identity_block(X, f=3, filters=[512,512,2048], stage=5, block=\"b\")\n",
        "    X = identity_block(X, f=3, filters=[512,512,2048], stage=5, block=\"c\")\n",
        "\n",
        "    #均值池化层\n",
        "    X = AveragePooling2D(pool_size=(2,2),padding=\"same\")(X)\n",
        "\n",
        "    #输出层\n",
        "    X = Flatten()(X)\n",
        "    X = Dense(classes, activation=\"softmax\", name=\"fc\"+str(classes),\n",
        "              kernel_initializer=glorot_uniform(seed=0))(X)\n",
        "\n",
        "\n",
        "    #创建模型\n",
        "    model = Model(inputs=X_input, outputs=X, name=\"ResNet50\")\n",
        "\n",
        "    return model"
      ],
      "execution_count": 0,
      "outputs": []
    },
    {
      "metadata": {
        "id": "Lr7ym19GIj_f",
        "colab_type": "code",
        "colab": {}
      },
      "cell_type": "code",
      "source": [
        "model = ResNet50(input_shape=(64,64,3),classes=6)\n",
        "model.compile(optimizer=\"adam\", loss=\"categorical_crossentropy\", metrics=[\"accuracy\"])"
      ],
      "execution_count": 0,
      "outputs": []
    },
    {
      "metadata": {
        "id": "KpVLYBF8LZjM",
        "colab_type": "code",
        "outputId": "980379b0-fecf-4de7-8477-1a298586139c",
        "colab": {
          "base_uri": "https://localhost:8080/",
          "height": 118
        }
      },
      "cell_type": "code",
      "source": [
        "X_train_orig, Y_train_orig, X_test_orig, Y_test_orig, classes = resnets_utils.load_dataset()\n",
        "\n",
        "# Normalize image vectors\n",
        "X_train = X_train_orig / 255.\n",
        "X_test = X_test_orig / 255.\n",
        "\n",
        "# Convert training and test labels to one hot matrices\n",
        "Y_train = resnets_utils.convert_to_one_hot(Y_train_orig, 6).T\n",
        "Y_test = resnets_utils.convert_to_one_hot(Y_test_orig, 6).T\n",
        "\n",
        "print(\"number of training examples = \" + str(X_train.shape[0]))\n",
        "print(\"number of test examples = \" + str(X_test.shape[0]))\n",
        "print(\"X_train shape: \" + str(X_train.shape))\n",
        "print(\"Y_train shape: \" + str(Y_train.shape))\n",
        "print(\"X_test shape: \" + str(X_test.shape))\n",
        "print(\"Y_test shape: \" + str(Y_test.shape))"
      ],
      "execution_count": 29,
      "outputs": [
        {
          "output_type": "stream",
          "text": [
            "number of training examples = 1080\n",
            "number of test examples = 120\n",
            "X_train shape: (1080, 64, 64, 3)\n",
            "Y_train shape: (1080, 6)\n",
            "X_test shape: (120, 64, 64, 3)\n",
            "Y_test shape: (120, 6)\n"
          ],
          "name": "stdout"
        }
      ]
    },
    {
      "metadata": {
        "id": "vq9K8kvmLjYf",
        "colab_type": "code",
        "outputId": "17dc691c-d110-40d2-9cf5-1a32f8395aff",
        "colab": {
          "base_uri": "https://localhost:8080/",
          "height": 706
        }
      },
      "cell_type": "code",
      "source": [
        "model.fit(X_train,Y_train,epochs=20,batch_size=32)"
      ],
      "execution_count": 33,
      "outputs": [
        {
          "output_type": "stream",
          "text": [
            "Epoch 1/20\n",
            "1080/1080 [==============================] - 3s 3ms/step - loss: 0.8116 - acc: 0.7343\n",
            "Epoch 2/20\n",
            "1080/1080 [==============================] - 3s 3ms/step - loss: 0.3888 - acc: 0.8815\n",
            "Epoch 3/20\n",
            "1080/1080 [==============================] - 3s 3ms/step - loss: 0.2096 - acc: 0.9296\n",
            "Epoch 4/20\n",
            "1080/1080 [==============================] - 3s 3ms/step - loss: 0.2011 - acc: 0.9370\n",
            "Epoch 5/20\n",
            "1080/1080 [==============================] - 3s 3ms/step - loss: 0.2929 - acc: 0.9019\n",
            "Epoch 6/20\n",
            "1080/1080 [==============================] - 3s 3ms/step - loss: 0.6018 - acc: 0.8204\n",
            "Epoch 7/20\n",
            "1080/1080 [==============================] - 3s 3ms/step - loss: 0.2740 - acc: 0.9204\n",
            "Epoch 8/20\n",
            "1080/1080 [==============================] - 3s 3ms/step - loss: 0.1400 - acc: 0.9491\n",
            "Epoch 9/20\n",
            "1080/1080 [==============================] - 3s 3ms/step - loss: 0.1280 - acc: 0.9602\n",
            "Epoch 10/20\n",
            "1080/1080 [==============================] - 3s 3ms/step - loss: 0.3630 - acc: 0.8991\n",
            "Epoch 11/20\n",
            "1080/1080 [==============================] - 3s 3ms/step - loss: 0.8211 - acc: 0.8509\n",
            "Epoch 12/20\n",
            "1080/1080 [==============================] - 3s 3ms/step - loss: 1.1164 - acc: 0.6889\n",
            "Epoch 13/20\n",
            "1080/1080 [==============================] - 3s 3ms/step - loss: 0.3934 - acc: 0.8528\n",
            "Epoch 14/20\n",
            "1080/1080 [==============================] - 3s 3ms/step - loss: 0.2477 - acc: 0.9213\n",
            "Epoch 15/20\n",
            "1080/1080 [==============================] - 3s 3ms/step - loss: 0.2925 - acc: 0.9102\n",
            "Epoch 16/20\n",
            "1080/1080 [==============================] - 3s 3ms/step - loss: 0.1693 - acc: 0.9509\n",
            "Epoch 17/20\n",
            "1080/1080 [==============================] - 3s 3ms/step - loss: 0.1260 - acc: 0.9556\n",
            "Epoch 18/20\n",
            "1080/1080 [==============================] - 3s 3ms/step - loss: 0.0738 - acc: 0.9750\n",
            "Epoch 19/20\n",
            "1080/1080 [==============================] - 3s 3ms/step - loss: 0.0411 - acc: 0.9852\n",
            "Epoch 20/20\n",
            "1080/1080 [==============================] - 3s 3ms/step - loss: 0.0535 - acc: 0.9796\n"
          ],
          "name": "stdout"
        },
        {
          "output_type": "execute_result",
          "data": {
            "text/plain": [
              "<keras.callbacks.History at 0x7f3bad30a400>"
            ]
          },
          "metadata": {
            "tags": []
          },
          "execution_count": 33
        }
      ]
    },
    {
      "metadata": {
        "id": "3FmlEbRuLm7Z",
        "colab_type": "code",
        "outputId": "f37d5d12-c4b7-4010-be2d-02acfe0a4c41",
        "colab": {
          "base_uri": "https://localhost:8080/",
          "height": 67
        }
      },
      "cell_type": "code",
      "source": [
        "preds = model.evaluate(X_test,Y_test)\n",
        "\n",
        "print(\"误差值 = \" + str(preds[0]))\n",
        "print(\"准确率 = \" + str(preds[1]))"
      ],
      "execution_count": 34,
      "outputs": [
        {
          "output_type": "stream",
          "text": [
            "120/120 [==============================] - 0s 942us/step\n",
            "误差值 = 0.18069784740606945\n",
            "准确率 = 0.9666666626930237\n"
          ],
          "name": "stdout"
        }
      ]
    },
    {
      "metadata": {
        "id": "dk-ngt8tMEV6",
        "colab_type": "code",
        "colab": {}
      },
      "cell_type": "code",
      "source": [
        "#　测试\n",
        "#from PIL import Image\n",
        "#import numpy as np\n",
        "#import matplotlib.pyplot as plt # plt 用于显示图片\n",
        "#\n",
        "#%matplotlib inline\n",
        "#\n",
        "#img_path = 'images/3.png'\n",
        "#\n",
        "#my_image = image.load_img(img_path, target_size=(64, 64))\n",
        "#my_image = image.img_to_array(my_image)\n",
        "#\n",
        "#my_image = np.expand_dims(my_image,axis=0)\n",
        "#my_image = preprocess_input(my_image)\n",
        "#\n",
        "#print(\"my_image.shape = \" + str(my_image.shape))\n",
        "#\n",
        "#print(\"class prediction vector [p(0), p(1), p(2), p(3), p(4), p(5)] = \")\n",
        "#print(model.predict(my_image))\n",
        "#\n",
        "#my_image = scipy.misc.imread(img_path)\n",
        "#plt.imshow(my_image)\n"
      ],
      "execution_count": 0,
      "outputs": []
    },
    {
      "metadata": {
        "id": "qdaHRY7nto61",
        "colab_type": "code",
        "colab": {}
      },
      "cell_type": "code",
      "source": [
        ""
      ],
      "execution_count": 0,
      "outputs": []
    }
  ]
}