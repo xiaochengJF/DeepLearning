{
  "nbformat": 4,
  "nbformat_minor": 0,
  "metadata": {
    "colab": {
      "name": "Course 4 - Week 4 神经风格转换作业",
      "version": "0.3.2",
      "provenance": [],
      "include_colab_link": true
    },
    "kernelspec": {
      "name": "python3",
      "display_name": "Python 3"
    }
  },
  "cells": [
    {
      "cell_type": "markdown",
      "metadata": {
        "id": "view-in-github",
        "colab_type": "text"
      },
      "source": [
        "<a href=\"https://colab.research.google.com/github/xiaochengJF/DeepLearning/blob/master/Course_4_Week_4_%E7%A5%9E%E7%BB%8F%E9%A3%8E%E6%A0%BC%E8%BD%AC%E6%8D%A2%E4%BD%9C%E4%B8%9A.ipynb\" target=\"_parent\"><img src=\"https://colab.research.google.com/assets/colab-badge.svg\" alt=\"Open In Colab\"/></a>"
      ]
    },
    {
      "metadata": {
        "id": "CPKHgo6F19M-",
        "colab_type": "code",
        "colab": {
          "base_uri": "https://localhost:8080/",
          "height": 54
        },
        "outputId": "eb3b3c93-ad49-4cf1-fc16-f4bc33ce2a12"
      },
      "cell_type": "code",
      "source": [
        "from google.colab import drive\n",
        "drive.mount('/content/gdrive/')"
      ],
      "execution_count": 1,
      "outputs": [
        {
          "output_type": "stream",
          "text": [
            "Drive already mounted at /content/gdrive/; to attempt to forcibly remount, call drive.mount(\"/content/gdrive/\", force_remount=True).\n"
          ],
          "name": "stdout"
        }
      ]
    },
    {
      "metadata": {
        "id": "W7GQUQ1n2ewI",
        "colab_type": "code",
        "colab": {
          "base_uri": "https://localhost:8080/",
          "height": 34
        },
        "outputId": "03989403-d455-4199-f7fa-212ce0d56ebd"
      },
      "cell_type": "code",
      "source": [
        "cd /content/gdrive/My Drive/DL-GPU/DeepLearning/Course 4 - Week 4 作业/神经风格转换/"
      ],
      "execution_count": 2,
      "outputs": [
        {
          "output_type": "stream",
          "text": [
            "/content/gdrive/My Drive/DL-GPU/DeepLearning/Course 4 - Week 4 作业/神经风格转换\n"
          ],
          "name": "stdout"
        }
      ]
    },
    {
      "metadata": {
        "id": "J-IjbnR_26Ff",
        "colab_type": "code",
        "colab": {}
      },
      "cell_type": "code",
      "source": [
        "import time\n",
        "import os\n",
        "import sys\n",
        "import scipy.io\n",
        "import scipy.misc\n",
        "import matplotlib.pyplot as plt\n",
        "from matplotlib.pyplot import imshow\n",
        "from PIL import Image\n",
        "import nst_utils\n",
        "import numpy as np\n",
        "import tensorflow as tf\n",
        "\n",
        "%matplotlib inline"
      ],
      "execution_count": 0,
      "outputs": []
    },
    {
      "metadata": {
        "id": "Gs8tyZBs3FoP",
        "colab_type": "code",
        "colab": {}
      },
      "cell_type": "code",
      "source": [
        "model = nst_utils.load_vgg_model(\"pretrained-model/imagenet-vgg-verydeep-19.mat\")\n",
        "\n",
        "print(model)"
      ],
      "execution_count": 0,
      "outputs": []
    },
    {
      "metadata": {
        "id": "Yntrpq713NiG",
        "colab_type": "code",
        "colab": {}
      },
      "cell_type": "code",
      "source": [
        "#tf.assign函数用法\n",
        "model[\"input\"].assign(image)"
      ],
      "execution_count": 0,
      "outputs": []
    },
    {
      "metadata": {
        "id": "rv3yVnrz3a0A",
        "colab_type": "code",
        "colab": {}
      },
      "cell_type": "code",
      "source": [
        "#访问 4_2 层的激活\n",
        "sess.run(model[\"conv4_2\"])"
      ],
      "execution_count": 0,
      "outputs": []
    },
    {
      "metadata": {
        "id": "euP12At84A61",
        "colab_type": "code",
        "colab": {}
      },
      "cell_type": "code",
      "source": [
        "content_image = scipy.misc.imread(\"images/louvre.jpg\")\n",
        "imshow(content_image)"
      ],
      "execution_count": 0,
      "outputs": []
    },
    {
      "metadata": {
        "id": "oVjywZ0N4EO8",
        "colab_type": "code",
        "colab": {}
      },
      "cell_type": "code",
      "source": [
        "def compute_content_cost(a_C, a_G):\n",
        "    \"\"\"\n",
        "    计算内容代价的函数\n",
        "\n",
        "    参数：\n",
        "        a_C -- tensor类型，维度为(1, n_H, n_W, n_C)，表示隐藏层中图像C的内容的激活值。\n",
        "        a_G -- tensor类型，维度为(1, n_H, n_W, n_C)，表示隐藏层中图像G的内容的激活值。\n",
        "\n",
        "    返回：\n",
        "        J_content -- 实数，用上面的公式1计算的值。\n",
        "\n",
        "    \"\"\"\n",
        "\n",
        "    #获取a_G的维度信息\n",
        "    m, n_H, n_W, n_C = a_G.get_shape().as_list()\n",
        "\n",
        "    #对a_C与a_G从3维降到2维\n",
        "    a_C_unrolled = tf.transpose(tf.reshape(a_C, [n_H * n_W, n_C]))\n",
        "    a_G_unrolled = tf.transpose(tf.reshape(a_G, [n_H * n_W, n_C]))\n",
        "\n",
        "    #计算内容代价\n",
        "    #J_content = (1 / (4 * n_H * n_W * n_C)) * tf.reduce_sum(tf.square(tf.subtract(a_C_unrolled, a_G_unrolled)))\n",
        "    J_content = 1/(4*n_H*n_W*n_C)*tf.reduce_sum(tf.square(tf.subtract(a_C_unrolled, a_G_unrolled)))\n",
        "    return J_content"
      ],
      "execution_count": 0,
      "outputs": []
    },
    {
      "metadata": {
        "id": "pVg3-VkT4MAz",
        "colab_type": "code",
        "colab": {}
      },
      "cell_type": "code",
      "source": [
        "tf.reset_default_graph()\n",
        "\n",
        "with tf.Session() as test:\n",
        "    tf.set_random_seed(1)\n",
        "    a_C = tf.random_normal([1, 4, 4, 3], mean=1, stddev=4)\n",
        "    a_G = tf.random_normal([1, 4, 4, 3], mean=1, stddev=4)\n",
        "    J_content = compute_content_cost(a_C, a_G)\n",
        "    print(\"J_content = \" + str(J_content.eval()))\n",
        "\n",
        "    test.close()"
      ],
      "execution_count": 0,
      "outputs": []
    },
    {
      "metadata": {
        "id": "futtH5tS4RJT",
        "colab_type": "code",
        "colab": {}
      },
      "cell_type": "code",
      "source": [
        "style_image = scipy.misc.imread(\"images/monet_800600.jpg\")\n",
        "\n",
        "imshow(style_image)"
      ],
      "execution_count": 0,
      "outputs": []
    },
    {
      "metadata": {
        "id": "DCNkdUYZ4X0t",
        "colab_type": "code",
        "colab": {}
      },
      "cell_type": "code",
      "source": [
        "def gram_matrix(A):\n",
        "    \"\"\"\n",
        "    计算矩阵A的风格矩阵\n",
        "\n",
        "    参数：\n",
        "        A -- 矩阵，维度为(n_C, n_H * n_W)\n",
        "\n",
        "    返回：\n",
        "        GA -- A的风格矩阵，维度为(n_C, n_C)\n",
        "\n",
        "    \"\"\"\n",
        "    GA = tf.matmul(A, A, transpose_b = True)\n",
        "\n",
        "    return GA"
      ],
      "execution_count": 0,
      "outputs": []
    },
    {
      "metadata": {
        "id": "bNK1Go7s4cwh",
        "colab_type": "code",
        "colab": {}
      },
      "cell_type": "code",
      "source": [
        "tf.reset_default_graph()\n",
        "\n",
        "with tf.Session() as test:\n",
        "    tf.set_random_seed(1)\n",
        "    A = tf.random_normal([3, 2*1], mean=1, stddev=4)\n",
        "    GA = gram_matrix(A)\n",
        "\n",
        "    print(\"GA = \" + str(GA.eval()))\n",
        "\n",
        "    test.close()"
      ],
      "execution_count": 0,
      "outputs": []
    },
    {
      "metadata": {
        "id": "RQcxanta4fqI",
        "colab_type": "code",
        "colab": {}
      },
      "cell_type": "code",
      "source": [
        "def compute_layer_style_cost(a_S, a_G):\n",
        "    \"\"\"\n",
        "    计算单隐藏层的风格损失\n",
        "\n",
        "    参数：\n",
        "        a_S -- tensor类型，维度为(1, n_H, n_W, n_C)，表示隐藏层中图像S的风格的激活值。\n",
        "        a_G -- tensor类型，维度为(1, n_H, n_W, n_C)，表示隐藏层中图像G的风格的激活值。\n",
        "\n",
        "    返回：\n",
        "        J_content -- 实数，用上面的公式2计算的值。\n",
        "\n",
        "    \"\"\"\n",
        "    #第1步：从a_G中获取维度信息\n",
        "    m, n_H, n_W, n_C = a_G.get_shape().as_list()\n",
        "\n",
        "    #第2步，将a_S与a_G的维度重构为(n_C, n_H * n_W)\n",
        "    a_S = tf.transpose(tf.reshape(a_S, [n_H * n_W, n_C]))\n",
        "    a_G = tf.transpose(tf.reshape(a_G, [n_H * n_W, n_C]))\n",
        "\n",
        "    #第3步，计算S与G的风格矩阵\n",
        "    GS = gram_matrix(a_S)\n",
        "    GG = gram_matrix(a_G)\n",
        "\n",
        "    #第4步：计算风格损失\n",
        "    #J_style_layer = (1/(4 * np.square(n_C) * np.square(n_H * n_W))) * (tf.reduce_sum(tf.square(tf.subtract(GS, GG))))\n",
        "    J_style_layer = 1/(4*n_C*n_C*n_H*n_H*n_W*n_W)*tf.reduce_sum(tf.square(tf.subtract(GS, GG)))\n",
        "\n",
        "    return J_style_layer"
      ],
      "execution_count": 0,
      "outputs": []
    },
    {
      "metadata": {
        "id": "sWndCgMk4lZi",
        "colab_type": "code",
        "colab": {}
      },
      "cell_type": "code",
      "source": [
        "tf.reset_default_graph()\n",
        "\n",
        "with tf.Session() as test:\n",
        "    tf.set_random_seed(1)\n",
        "    a_S = tf.random_normal([1, 4, 4, 3], mean=1, stddev=4)\n",
        "    a_G = tf.random_normal([1, 4, 4, 3], mean=1, stddev=4)\n",
        "    J_style_layer = compute_layer_style_cost(a_S, a_G)\n",
        "\n",
        "    print(\"J_style_layer = \" + str(J_style_layer.eval()))\n",
        "\n",
        "    test.close()"
      ],
      "execution_count": 0,
      "outputs": []
    },
    {
      "metadata": {
        "id": "WvxNn_Hn4uNK",
        "colab_type": "code",
        "colab": {}
      },
      "cell_type": "code",
      "source": [
        "STYLE_LAYERS = [\n",
        "    ('conv1_1', 0.2),\n",
        "    ('conv2_1', 0.2),\n",
        "    ('conv3_1', 0.2),\n",
        "    ('conv4_1', 0.2),\n",
        "    ('conv5_1', 0.2)]"
      ],
      "execution_count": 0,
      "outputs": []
    },
    {
      "metadata": {
        "id": "a07reYna4vKt",
        "colab_type": "code",
        "colab": {}
      },
      "cell_type": "code",
      "source": [
        "def compute_style_cost(model, STYLE_LAYERS):\n",
        "    \"\"\"\n",
        "    计算几个选定层的总体风格成本\n",
        "\n",
        "    参数：\n",
        "        model -- 加载了的tensorflow模型\n",
        "        STYLE_LAYERS -- 字典，包含了：\n",
        "                        - 我们希望从中提取风格的层的名称\n",
        "                        - 每一层的系数（coeff）\n",
        "    返回：\n",
        "        J_style - tensor类型，实数，由公式(2)定义的成本计算方式来计算的值。\n",
        "\n",
        "    \"\"\"\n",
        "    # 初始化所有的成本值\n",
        "    J_style = 0\n",
        "\n",
        "    for layer_name, coeff in STYLE_LAYERS:\n",
        "\n",
        "        #选择当前选定层的输出\n",
        "        out = model[layer_name]\n",
        "\n",
        "        #运行会话，将a_S设置为我们选择的隐藏层的激活值\n",
        "        a_S = sess.run(out)\n",
        "\n",
        "        # 将a_G设置为来自同一图层的隐藏层激活,这里a_G引用model[layer_name]，并且还没有计算，\n",
        "        # 在后面的代码中，我们将图像G指定为模型输入，这样当我们运行会话时，\n",
        "        # 这将是以图像G作为输入，从隐藏层中获取的激活值。\n",
        "        a_G = out \n",
        "\n",
        "        #计算当前层的风格成本\n",
        "        J_style_layer = compute_layer_style_cost(a_S,a_G)\n",
        "\n",
        "        # 计算总风格成本，同时考虑到系数。\n",
        "        J_style += coeff * J_style_layer\n",
        "\n",
        "    return J_style"
      ],
      "execution_count": 0,
      "outputs": []
    },
    {
      "metadata": {
        "id": "CurhQrh14vId",
        "colab_type": "code",
        "colab": {}
      },
      "cell_type": "code",
      "source": [
        "def total_cost(J_content, J_style, alpha = 10, beta = 40):\n",
        "    \"\"\"\n",
        "    计算总成本\n",
        "\n",
        "    参数：\n",
        "        J_content -- 内容成本函数的输出\n",
        "        J_style -- 风格成本函数的输出\n",
        "        alpha -- 超参数，内容成本的权值\n",
        "        beta -- 超参数，风格成本的权值\n",
        "\n",
        "    \"\"\"\n",
        "\n",
        "    J = alpha * J_content + beta * J_style\n",
        "\n",
        "    return J"
      ],
      "execution_count": 0,
      "outputs": []
    },
    {
      "metadata": {
        "id": "aFdr8qlr40J3",
        "colab_type": "code",
        "colab": {}
      },
      "cell_type": "code",
      "source": [
        "tf.reset_default_graph()\n",
        "\n",
        "with tf.Session() as test:\n",
        "    np.random.seed(3)\n",
        "    J_content = np.random.randn()    \n",
        "    J_style = np.random.randn()\n",
        "    J = total_cost(J_content, J_style)\n",
        "    print(\"J = \" + str(J))\n",
        "\n",
        "    test.close()"
      ],
      "execution_count": 0,
      "outputs": []
    },
    {
      "metadata": {
        "id": "rZbH8-Po48uj",
        "colab_type": "code",
        "colab": {}
      },
      "cell_type": "code",
      "source": [
        "#重设图\n",
        "tf.reset_default_graph()\n",
        "\n",
        "#第1步：创建交互会话\n",
        "sess = tf.InteractiveSession()\n",
        "\n",
        "#第2步：加载内容图像(卢浮宫博物馆图片),并归一化图像\n",
        "content_image = scipy.misc.imread(\"images/louvre_small.jpg\")\n",
        "content_image = nst_utils.reshape_and_normalize_image(content_image)\n",
        "\n",
        "#第3步：加载风格图像(印象派的风格),并归一化图像\n",
        "style_image = scipy.misc.imread(\"images/monet.jpg\")\n",
        "style_image = nst_utils.reshape_and_normalize_image(style_image)\n",
        "\n",
        "#第4步：随机初始化生成的图像,通过在内容图像中添加随机噪声来产生噪声图像\n",
        "generated_image = nst_utils.generate_noise_image(content_image)\n",
        "imshow(generated_image[0])\n",
        "\n",
        "#第5步：加载VGG16模型\n",
        "model = nst_utils.load_vgg_model(\"pretrained-model/imagenet-vgg-verydeep-19.mat\")"
      ],
      "execution_count": 0,
      "outputs": []
    },
    {
      "metadata": {
        "id": "LcWKT_1y5DAy",
        "colab_type": "code",
        "colab": {}
      },
      "cell_type": "code",
      "source": [
        "#第6步：构建TensorFlow图：\n",
        "\n",
        "##将内容图像作为VGG模型的输入。\n",
        "sess.run(model[\"input\"].assign(content_image))\n",
        "\n",
        "## 获取conv4_2层的输出\n",
        "out = model[\"conv4_2\"]\n",
        "\n",
        "## 将a_C设置为“conv4_2”隐藏层的激活值。\n",
        "a_C = sess.run(out)\n",
        "\n",
        "## 将a_G设置为来自同一图层的隐藏层激活,这里a_G引用model[\"conv4_2\"]，并且还没有计算，\n",
        "## 在后面的代码中，我们将图像G指定为模型输入，这样当我们运行会话时，\n",
        "## 这将是以图像G作为输入，从隐藏层中获取的激活值。\n",
        "a_G = out\n",
        "\n",
        "## 计算内容成本\n",
        "J_content = compute_content_cost(a_C, a_G)\n",
        "\n",
        "## 将风格图像作为VGG模型的输入\n",
        "sess.run(model[\"input\"].assign(style_image))\n",
        "\n",
        "## 计算风格成本\n",
        "J_style = compute_style_cost(model, STYLE_LAYERS)\n",
        "\n",
        "## 计算总成本\n",
        "J = total_cost(J_content, J_style, alpha = 10, beta = 40)\n",
        "\n",
        "## 定义优化器,设置学习率为2.0\n",
        "optimizer = tf.train.AdamOptimizer(2.0)\n",
        "\n",
        "## 定义学习目标：最小化成本\n",
        "train_step = optimizer.minimize(J)"
      ],
      "execution_count": 0,
      "outputs": []
    },
    {
      "metadata": {
        "id": "Y_U3jdK45HjS",
        "colab_type": "code",
        "colab": {}
      },
      "cell_type": "code",
      "source": [
        "# 第7步：初始化TensorFlow图，进行多次迭代，每次迭代更新生成的图像。\n",
        "def model_nn(sess, input_image, num_iterations = 200, is_print_info = True, \n",
        "             is_plot = True, is_save_process_image = True, \n",
        "             save_last_image_to = \"output/generated_image.jpg\"):\n",
        "    #初始化全局变量\n",
        "    sess.run(tf.global_variables_initializer())\n",
        "\n",
        "    #运行带噪声的输入图像\n",
        "    sess.run(model[\"input\"].assign(input_image))\n",
        "\n",
        "    for i in range(num_iterations):\n",
        "        #运行最小化的目标：\n",
        "        sess.run(train_step)\n",
        "\n",
        "        #产生把数据输入模型后生成的图像\n",
        "        generated_image = sess.run(model[\"input\"])\n",
        "\n",
        "        if is_print_info and i % 20 == 0:\n",
        "            Jt, Jc, Js = sess.run([J, J_content, J_style])\n",
        "            print(\"第 \" + str(i) + \"轮训练,\" + \n",
        "                  \"  总成本为:\"+ str(Jt) + \n",
        "                  \"  内容成本为：\" + str(Jc) + \n",
        "                  \"  风格成本为：\" + str(Js))\n",
        "        if is_save_process_image: \n",
        "            nst_utils.save_image(\"output/\" + str(i) + \".png\", generated_image)\n",
        "\n",
        "    nst_utils.save_image(save_last_image_to, generated_image)\n",
        "\n",
        "    return generated_image"
      ],
      "execution_count": 0,
      "outputs": []
    },
    {
      "metadata": {
        "id": "s1ZrxF-t5OpI",
        "colab_type": "code",
        "colab": {}
      },
      "cell_type": "code",
      "source": [
        "#开始时间\n",
        "start_time = time.clock()\n",
        "\n",
        "#非GPU版本,约25-30min\n",
        "#generated_image = model_nn(sess, generated_image)\n",
        "\n",
        "\n",
        "#使用GPU，约1-2min\n",
        "with tf.device(\"/gpu:0\"):\n",
        "    generated_image = model_nn(sess, generated_image)\n",
        "\n",
        "#结束时间\n",
        "end_time = time.clock()\n",
        "\n",
        "#计算时差\n",
        "minium = end_time - start_time\n",
        "\n",
        "print(\"执行了：\" + str(int(minium / 60)) + \"分\" + str(int(minium%60)) + \"秒\")"
      ],
      "execution_count": 0,
      "outputs": []
    },
    {
      "metadata": {
        "id": "iTOJxY4s5Up-",
        "colab_type": "code",
        "colab": {}
      },
      "cell_type": "code",
      "source": [
        "#content_image = scipy.misc.imread(\"images/my_content_image.jpg\")\n",
        "#style_image = scipy.misc.imread(\"images/my_style_image.jpg\")"
      ],
      "execution_count": 0,
      "outputs": []
    }
  ]
}